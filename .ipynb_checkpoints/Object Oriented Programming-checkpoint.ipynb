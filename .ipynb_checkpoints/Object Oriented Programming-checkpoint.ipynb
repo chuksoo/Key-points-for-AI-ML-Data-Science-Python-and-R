{
 "cells": [
  {
   "cell_type": "code",
   "execution_count": null,
   "id": "d3a3927c-62d7-4be9-91d5-bf5b7f5be504",
   "metadata": {},
   "outputs": [],
   "source": []
  }
 ],
 "metadata": {
  "kernelspec": {
   "display_name": "Python 3 (ipykernel)",
   "language": "python",
   "name": "python3"
  },
  "language_info": {
   "codemirror_mode": {
    "name": "ipython",
    "version": 3
   },
   "file_extension": ".py",
   "mimetype": "text/x-python",
   "name": "python",
   "nbconvert_exporter": "python",
   "pygments_lexer": "ipython3",
   "version": "3.8.13"
  }
 },
 "nbformat": 4,
 "nbformat_minor": 5
}
