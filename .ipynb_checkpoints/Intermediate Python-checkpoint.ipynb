{
 "cells": [
  {
   "cell_type": "markdown",
   "id": "a9b12140-c776-4c0b-a008-a83f4df74d37",
   "metadata": {},
   "source": [
    "# Intermediate Python"
   ]
  },
  {
   "cell_type": "markdown",
   "id": "f2b5b6d5-de96-4a43-9bdc-417d84886f86",
   "metadata": {},
   "source": [
    "## Function Arguments"
   ]
  },
  {
   "cell_type": "markdown",
   "id": "816ed7cc-8696-467c-963a-e5dab9922820",
   "metadata": {},
   "source": [
    "### Mutable Default Arguments"
   ]
  },
  {
   "cell_type": "code",
   "execution_count": 10,
   "id": "a1ca0655-63db-4610-acd4-56cac01875ef",
   "metadata": {},
   "outputs": [
    {
     "name": "stdout",
     "output_type": "stream",
     "text": [
      "[5]\n",
      "[5, 7]\n",
      "[5, 7, 2]\n"
     ]
    },
    {
     "data": {
      "text/plain": [
       "[5, 7, 2]"
      ]
     },
     "execution_count": 10,
     "metadata": {},
     "output_type": "execute_result"
    }
   ],
   "source": [
    "# Here, an empty list is used as a default argument of the function.\n",
    "def append(number, number_list=[]):\n",
    "    number_list.append(number)\n",
    "    print(number_list)\n",
    "    return number_list\n",
    " \n",
    "# Below are 3 calls to the `append` function and their expected and actual outputs:\n",
    "append(5) # expecting: [5], actual: [5]\n",
    "append(7) # expecting: [7], actual: [5, 7]\n",
    "append(2) # expecting: [2], actual: [5, 7, 2]"
   ]
  },
  {
   "cell_type": "markdown",
   "id": "c2de07f6-9aa0-4740-8842-cfc6b6142afd",
   "metadata": {},
   "source": [
    "### Function Keyword Arguments\n",
    "\n",
    "When function arguments are passed using their names, they are referred to as keyword arguments. If the function is invoked without a value for a specific argument, the default value will be used."
   ]
  },
  {
   "cell_type": "code",
   "execution_count": 11,
   "id": "b2a4f2ef-2c84-4116-a58c-db92e5e2772e",
   "metadata": {},
   "outputs": [
    {
     "name": "stdout",
     "output_type": "stream",
     "text": [
      "Length = 1\n",
      "Width = 2\n",
      "Depth = 3\n",
      "Length = 5\n",
      "Width = 4\n",
      "Depth = 2\n",
      "Length = 2\n",
      "Width = 4\n",
      "Depth = 3\n"
     ]
    },
    {
     "data": {
      "text/plain": [
       "24"
      ]
     },
     "execution_count": 11,
     "metadata": {},
     "output_type": "execute_result"
    }
   ],
   "source": [
    "def findvolume(length=1, width=1, depth=1):\n",
    "    print(\"Length = \" + str(length))\n",
    "    print(\"Width = \" + str(width))\n",
    "    print(\"Depth = \" + str(depth))\n",
    "    return length * width * depth;\n",
    " \n",
    "findvolume(1, 2, 3)\n",
    "findvolume(length=5, depth=2, width=4)\n",
    "findvolume(2, depth=3, width=4)"
   ]
  },
  {
   "cell_type": "markdown",
   "id": "0b2e1018-f877-4343-83dc-f35e4ecd1cd9",
   "metadata": {},
   "source": [
    "### Default argument\n",
    "\n",
    "A default parameter is defined with a fallback value as a default argument. If no argument is provided, the default value is used, and if an argument is provided, it will overwrite the default value."
   ]
  },
  {
   "cell_type": "code",
   "execution_count": 12,
   "id": "1437720f-3582-42b4-a8c9-9e828bf6e634",
   "metadata": {},
   "outputs": [
    {
     "name": "stdout",
     "output_type": "stream",
     "text": [
      "Hello  Ankit, How do you do?\n",
      "Hello  Ankit, How are you doing?\n"
     ]
    }
   ],
   "source": [
    "def greet(name, msg=\"How do you do?\"):\n",
    "    print(\"Hello \", name + ', ' + msg)\n",
    "\n",
    "greet(\"Ankit\")\n",
    "greet(\"Ankit\", \"How are you doing?\")"
   ]
  },
  {
   "cell_type": "markdown",
   "id": "d6e73c13-9ebe-43d4-a01d-a9325af76a23",
   "metadata": {},
   "source": [
    "### Variable number of arguments: *args\n",
    "\n",
    "The `unpacking operator (*)` allows us to give our functions a variable number of arguments by performing what’s known as positional argument packing."
   ]
  },
  {
   "cell_type": "code",
   "execution_count": 13,
   "id": "ffb03653-b05a-4369-8813-39aa5999437e",
   "metadata": {},
   "outputs": [
    {
     "name": "stdout",
     "output_type": "stream",
     "text": [
      "('Arg1', 245, False)\n"
     ]
    }
   ],
   "source": [
    "# usage\n",
    "def my_function(*args):\n",
    "    print(args)\n",
    "    \n",
    "my_function('Arg1', 245, False)"
   ]
  },
  {
   "cell_type": "code",
   "execution_count": 14,
   "id": "0da454d3-e421-48f0-a1e3-dcfb2796c90e",
   "metadata": {},
   "outputs": [
    {
     "name": "stdout",
     "output_type": "stream",
     "text": [
      "('Orange Juice', 'Apple Juice', 'Scrambled Eggs', 'Pancakes')\n"
     ]
    }
   ],
   "source": [
    "# usage \n",
    "def print_order(*order_items):\n",
    "    print(order_items)\n",
    "\n",
    "# calling function\n",
    "print_order('Orange Juice', 'Apple Juice', 'Scrambled Eggs', 'Pancakes')"
   ]
  },
  {
   "cell_type": "markdown",
   "id": "78c83e9f-8a33-4fcb-86aa-f7e4a0b275fd",
   "metadata": {},
   "source": [
    "### Working with *args"
   ]
  },
  {
   "cell_type": "code",
   "execution_count": 15,
   "id": "26931efc-6ba7-4cc4-b0dc-901b094c9388",
   "metadata": {},
   "outputs": [
    {
     "name": "stdout",
     "output_type": "stream",
     "text": [
      "WORKING ON\n",
      "LEARNING\n",
      "ARGUMENT UNPACKING!\n"
     ]
    }
   ],
   "source": [
    "def shout_strings(*args):\n",
    "    for argument in args:\n",
    "        print(argument.upper())\n",
    "\n",
    "shout_strings('Working on', 'learning', 'argument unpacking!')"
   ]
  },
  {
   "cell_type": "markdown",
   "id": "60c61cef-e5e8-417d-bebd-bf12ac9a4930",
   "metadata": {},
   "source": [
    "### Variable number of arguments: **kwargs\n",
    "\n",
    "Kwargs is a keyword argument that gives us the power to define functions with unlimited keyword arguments. "
   ]
  },
  {
   "cell_type": "code",
   "execution_count": null,
   "id": "c842392e-a0a8-4c85-880b-5f0affd58f31",
   "metadata": {},
   "outputs": [],
   "source": []
  },
  {
   "cell_type": "code",
   "execution_count": null,
   "id": "14eca4b8-4d3a-4d0c-87f3-2582341836b0",
   "metadata": {},
   "outputs": [],
   "source": []
  },
  {
   "cell_type": "code",
   "execution_count": null,
   "id": "60812a0f-90da-442c-adbc-93db9d672677",
   "metadata": {},
   "outputs": [],
   "source": []
  },
  {
   "cell_type": "code",
   "execution_count": null,
   "id": "43e833e0-74f1-490a-833c-712dbd1be65e",
   "metadata": {},
   "outputs": [],
   "source": []
  },
  {
   "cell_type": "code",
   "execution_count": null,
   "id": "4abb1d20-9515-41be-8730-20147b2715bf",
   "metadata": {},
   "outputs": [],
   "source": []
  },
  {
   "cell_type": "code",
   "execution_count": null,
   "id": "cfdcee17-9d7e-4d5b-a1cc-56675deeb309",
   "metadata": {},
   "outputs": [],
   "source": []
  },
  {
   "cell_type": "code",
   "execution_count": null,
   "id": "ade577e0-defc-4df2-8170-68aba4a6518a",
   "metadata": {},
   "outputs": [],
   "source": []
  }
 ],
 "metadata": {
  "kernelspec": {
   "display_name": "Python 3 (ipykernel)",
   "language": "python",
   "name": "python3"
  },
  "language_info": {
   "codemirror_mode": {
    "name": "ipython",
    "version": 3
   },
   "file_extension": ".py",
   "mimetype": "text/x-python",
   "name": "python",
   "nbconvert_exporter": "python",
   "pygments_lexer": "ipython3",
   "version": "3.8.13"
  }
 },
 "nbformat": 4,
 "nbformat_minor": 5
}
