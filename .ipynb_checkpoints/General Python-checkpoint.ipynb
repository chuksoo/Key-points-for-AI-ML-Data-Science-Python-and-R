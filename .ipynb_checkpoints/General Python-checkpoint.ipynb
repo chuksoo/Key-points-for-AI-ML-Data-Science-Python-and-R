{
 "cells": [
  {
   "cell_type": "markdown",
   "id": "e0e9ea2d-44a1-4854-a8de-045a7f20c4ef",
   "metadata": {},
   "source": [
    "# General Python"
   ]
  },
  {
   "cell_type": "markdown",
   "id": "573ddc31-9a6a-45a0-8c2b-81198f2e2a63",
   "metadata": {},
   "source": [
    "This notebook contain key points for programming in python. This notebook will serve as a reference or quick glance material for general python idea."
   ]
  },
  {
   "cell_type": "markdown",
   "id": "318481bc",
   "metadata": {},
   "source": [
    "<hr>\n",
    "\n",
    " ## Table of contents\n",
    "\n",
    "<div class=\"alert alert-block alert-info\" style=\"margin-top: 20px\">\n",
    "    <ol>\n",
    "        <li><a href=\"#control_structure\">Control Structures</a></li>\n",
    "            <ol><a href=\"#conditionals\">Conditionals</a></ol>\n",
    "            <ol><a href=\"#loops\">Loops</a></ol>\n",
    "            <ol><a href=\"#functions\">Functions</a></ol>\n",
    "            <ol><a href=\"#error_handling\">Error Handling</a></ol>\n",
    "        <li><a href=\"#data_structure\">Data Structures</a></li>\n",
    "            <ol><a href=\"#strings\">Strings</a></ol>\n",
    "            <ol><a href=\"#lists\">Lists</a></ol>\n",
    "            <ol><a href=\"#file_input_output\">File Input and Output</a></ol>\n",
    "            <ol><a href=\"#dictionaries\">Dictionaries</a></ol>\n",
    "        <li><a href=\"#objects_algorithms\">Objects &amp; Algorithms</a></li>\n",
    "            <ol><a href=\"#objects\">Objects</a></ol>\n",
    "            <ol><a href=\"#algorithms\">Algorithms</a></ol>\n",
    "    </ol>\n",
    "</div>\n",
    "<br>\n",
    "<hr>"
   ]
  },
  {
   "cell_type": "markdown",
   "id": "1d108c3f",
   "metadata": {},
   "source": [
    "<div id=\"control_structure\">\n",
    "    <h1>Control Structures</h1> \n",
    "</div>"
   ]
  },
  {
   "cell_type": "markdown",
   "id": "9c69333c-fa17-4dbf-9c81-3a66e49dee19",
   "metadata": {},
   "source": [
    "<div id=\"conditionals\">\n",
    "    <h2>Conditionals</h2> \n",
    "</div>\n",
    "\n",
    "\n",
    "**Conditional Statements:** Programming statements that control what code is executed based on certain conditions; usually of the form “if”, “else if”, and “else”."
   ]
  },
  {
   "cell_type": "markdown",
   "id": "f480b20f-57bf-4736-aa59-9439f3f1b844",
   "metadata": {},
   "source": [
    "#### if Statement"
   ]
  },
  {
   "cell_type": "code",
   "execution_count": 1,
   "id": "8085fbce-896e-49ea-95bb-fda624356cfe",
   "metadata": {},
   "outputs": [
    {
     "name": "stdout",
     "output_type": "stream",
     "text": [
      "This code is executed!\n",
      "Program continues at this point.\n"
     ]
    }
   ],
   "source": [
    "# if Statement\n",
    " \n",
    "test_value = 100\n",
    " \n",
    "if test_value > 1:\n",
    "  # Expression evaluates to True\n",
    "  print(\"This code is executed!\")\n",
    "    \n",
    "if test_value > 1000:\n",
    "  # Expression evaluates to False\n",
    "  print(\"This code is NOT executed!\")\n",
    "    \n",
    "print(\"Program continues at this point.\")"
   ]
  },
  {
   "cell_type": "markdown",
   "id": "9ba7610c-2a9b-4505-8442-8e56c0b982dd",
   "metadata": {},
   "source": [
    "#### else Statement"
   ]
  },
  {
   "cell_type": "code",
   "execution_count": 2,
   "id": "0293b98c-50c8-4caa-9e98-46c3b32db603",
   "metadata": {},
   "outputs": [
    {
     "name": "stdout",
     "output_type": "stream",
     "text": [
      "Value is >= 1\n",
      "String equals something else!\n"
     ]
    }
   ],
   "source": [
    "# else Statement\n",
    "test_value = 50\n",
    " \n",
    "if test_value < 1:\n",
    "    print(\"Value is < 1\")\n",
    "else:\n",
    "    print(\"Value is >= 1\")\n",
    "    \n",
    "test_string = \"VALID\"\n",
    " \n",
    "if test_string == \"NOT_VALID\":\n",
    "    print(\"String equals NOT_VALID\")\n",
    "else:\n",
    "    print(\"String equals something else!\")"
   ]
  },
  {
   "cell_type": "markdown",
   "id": "0eade2bd-ad56-47a9-a85c-308752201b41",
   "metadata": {},
   "source": [
    "#### elif Statement"
   ]
  },
  {
   "cell_type": "code",
   "execution_count": 3,
   "id": "256b7da9-7d76-4c75-a35d-4fdfaf8181f5",
   "metadata": {},
   "outputs": [
    {
     "name": "stdout",
     "output_type": "stream",
     "text": [
      "You have a fish\n"
     ]
    }
   ],
   "source": [
    "# elif Statement\n",
    " \n",
    "pet_type = \"fish\"\n",
    " \n",
    "if pet_type == \"dog\":\n",
    "    print(\"You have a dog.\")\n",
    "elif pet_type == \"cat\":\n",
    "    print(\"You have a cat.\")\n",
    "elif pet_type == \"fish\":\n",
    "    # this is performed\n",
    "    print(\"You have a fish\")\n",
    "else:\n",
    "    print(\"Not sure!\")"
   ]
  },
  {
   "cell_type": "markdown",
   "id": "2f65c4bd",
   "metadata": {},
   "source": [
    "#### Nested Conditionals"
   ]
  },
  {
   "cell_type": "code",
   "execution_count": 4,
   "id": "0b2922d7",
   "metadata": {},
   "outputs": [
    {
     "name": "stdout",
     "output_type": "stream",
     "text": [
      "Purchase not approved; untrusted vendor.\n",
      "Done!\n"
     ]
    }
   ],
   "source": [
    "balance = 20.0\n",
    "salesTax = 1.08\n",
    "cardholderName = \"David Joyner\"\n",
    "trustedVendors = [\"Maria's\", \"Bob's\", \"Vrushali's\", \"Ling's\", \"Tia's\"]\n",
    "\n",
    "purchasePrice = 19.0\n",
    "customerName = \"David Joyner\"\n",
    "vendor = \"Freddy's\"\n",
    "overdraftProtection = True\n",
    "\n",
    "# This nested conditional checks whether the balance is less than or\n",
    "# equal to the total price and overdraft protection is not available;\n",
    "# otherwise, whether the cardholder is not also the customer; and\n",
    "# otherwise, whether the vendor is not trusted.\n",
    "if balance <= purchasePrice * salesTax and not overdraftProtection:\n",
    "    print(\"Purchase not approved; no funds or overdraft protection.\")\n",
    "else:\n",
    "    if not cardholderName == customerName:\n",
    "        print(\"Purchase not approved; invalid customer.\")\n",
    "    else:\n",
    "        if not vendor in trustedVendors:\n",
    "            print(\"Purchase not approved; untrusted vendor.\")\n",
    "        else:\n",
    "            print(\"Purchase approved!\")\n",
    "print(\"Done!\")\n"
   ]
  },
  {
   "cell_type": "markdown",
   "id": "1b961770-807c-45da-89da-4a24fb691798",
   "metadata": {},
   "source": [
    "#### or Operator"
   ]
  },
  {
   "cell_type": "code",
   "execution_count": 5,
   "id": "9bc7002c-58d9-4c19-9dda-494739856910",
   "metadata": {},
   "outputs": [
    {
     "data": {
      "text/plain": [
       "True"
      ]
     },
     "execution_count": 5,
     "metadata": {},
     "output_type": "execute_result"
    }
   ],
   "source": [
    "True or True      # Evaluates to True\n",
    "True or False     # Evaluates to True\n",
    "False or False    # Evaluates to False\n",
    "1 < 2 or 3 < 1    # Evaluates to True\n",
    "3 < 1 or 1 > 6    # Evaluates to False\n",
    "1 == 1 or 1 < 2   # Evaluates to True"
   ]
  },
  {
   "cell_type": "markdown",
   "id": "121806ad-f043-4a6c-8673-f23f571ed6ec",
   "metadata": {},
   "source": [
    "#### Equal Operator =="
   ]
  },
  {
   "cell_type": "code",
   "execution_count": 6,
   "id": "efdab096-f09b-4c3d-a4c4-246971252763",
   "metadata": {},
   "outputs": [
    {
     "name": "stdout",
     "output_type": "stream",
     "text": [
      "They are equal\n",
      "Both expressions give the same result\n",
      "They are not equal\n"
     ]
    }
   ],
   "source": [
    "# Equal operator\n",
    " \n",
    "if 'Yes' == 'Yes':\n",
    "  # evaluates to True\n",
    "  print('They are equal')\n",
    "\n",
    "if (2 > 1) == (5 < 10):\n",
    "  # evaluates to True\n",
    "  print('Both expressions give the same result')\n",
    "\n",
    "c = '2'\n",
    "d = 2\n",
    " \n",
    "if c == d:\n",
    "    print('They are equal')\n",
    "else:\n",
    "    print('They are not equal')"
   ]
  },
  {
   "cell_type": "markdown",
   "id": "845de36b-26d0-4d8b-a9f1-28a7737bf3ea",
   "metadata": {},
   "source": [
    "#### Not Equals Operator !="
   ]
  },
  {
   "cell_type": "code",
   "execution_count": 7,
   "id": "e9291a5c-3ada-444a-9348-cf17af23a461",
   "metadata": {},
   "outputs": [
    {
     "name": "stdout",
     "output_type": "stream",
     "text": [
      "They are NOT equal\n",
      "They are NOT equal\n",
      "They are NOT equal\n"
     ]
    }
   ],
   "source": [
    "# Not Equals Operator\n",
    " \n",
    "if \"Yes\" != \"No\":\n",
    "  # evaluates to True\n",
    "  print(\"They are NOT equal\")\n",
    "\n",
    "val1 = 10\n",
    "val2 = 20\n",
    " \n",
    "if val1 != val2:\n",
    "    print(\"They are NOT equal\")\n",
    "    \n",
    "if (10 > 1) != (10 > 1000):\n",
    "    # True != False\n",
    "    print(\"They are NOT equal\")"
   ]
  },
  {
   "cell_type": "markdown",
   "id": "0e57ff4d-cd27-4bd1-8a79-e0f1e2ba0110",
   "metadata": {},
   "source": [
    "#### Comparison Operators"
   ]
  },
  {
   "cell_type": "code",
   "execution_count": 8,
   "id": "519260f3-7619-4761-ad15-1d70c5f5c3c8",
   "metadata": {},
   "outputs": [
    {
     "data": {
      "text/plain": [
       "True"
      ]
     },
     "execution_count": 8,
     "metadata": {},
     "output_type": "execute_result"
    }
   ],
   "source": [
    "a = 2\n",
    "b = 3\n",
    "a < b  # evaluates to True\n",
    "a > b  # evaluates to False\n",
    "a >= b # evaluates to False\n",
    "a <= b # evaluates to True\n",
    "a <= a # evaluates to True"
   ]
  },
  {
   "cell_type": "markdown",
   "id": "2b1b51f9-9cb4-41e9-96fe-340688e650f9",
   "metadata": {},
   "source": [
    "#### and Operator"
   ]
  },
  {
   "cell_type": "code",
   "execution_count": 9,
   "id": "933a5d8e-e5c9-4fb2-adb1-59b7e74aa2c3",
   "metadata": {},
   "outputs": [
    {
     "data": {
      "text/plain": [
       "100"
      ]
     },
     "execution_count": 9,
     "metadata": {},
     "output_type": "execute_result"
    }
   ],
   "source": [
    "True and True     # Evaluates to True\n",
    "True and False    # Evaluates to False\n",
    "False and False   # Evaluates to False\n",
    "1 == 1 and 1 < 2  # Evaluates to True\n",
    "1 < 2 and 3 < 1   # Evaluates to False\n",
    "\"Yes\" and 100     # Evaluates to True"
   ]
  },
  {
   "cell_type": "markdown",
   "id": "8fe9d3c3-25ea-4314-ade7-e5e171a01ed1",
   "metadata": {},
   "source": [
    "#### Boolean Values"
   ]
  },
  {
   "cell_type": "code",
   "execution_count": 10,
   "id": "f124e9a7-8160-42fa-ab16-c84131c75435",
   "metadata": {},
   "outputs": [
    {
     "name": "stdout",
     "output_type": "stream",
     "text": [
      "<class 'bool'>\n"
     ]
    }
   ],
   "source": [
    "is_true = True\n",
    "is_false = False\n",
    " \n",
    "print(type(is_true)) \n",
    "# will output: <class 'bool'>"
   ]
  },
  {
   "cell_type": "markdown",
   "id": "58e12b8d-2d68-4dd5-b073-1a903472458e",
   "metadata": {},
   "source": [
    "#### not Operator"
   ]
  },
  {
   "cell_type": "code",
   "execution_count": 11,
   "id": "8f84b5fb-b5c7-452f-aa29-2f4e43b18919",
   "metadata": {},
   "outputs": [
    {
     "data": {
      "text/plain": [
       "False"
      ]
     },
     "execution_count": 11,
     "metadata": {},
     "output_type": "execute_result"
    }
   ],
   "source": [
    "not True     # Evaluates to False\n",
    "not False    # Evaluates to True\n",
    "1 > 2        # Evaluates to False\n",
    "not 1 > 2    # Evaluates to True\n",
    "1 == 1       # Evaluates to True\n",
    "not 1 == 1   # Evaluates to False"
   ]
  },
  {
   "cell_type": "code",
   "execution_count": null,
   "id": "dc4e9dc6-48aa-4bec-9583-5da0c769afa1",
   "metadata": {},
   "outputs": [],
   "source": []
  },
  {
   "cell_type": "markdown",
   "id": "abe9e374-ce31-4699-b6f6-8ff6c697547c",
   "metadata": {},
   "source": [
    "<div id=\"loops\">\n",
    "    <h2>Loops</h2> \n",
    "</div>\n",
    "\n",
    "**Loop:** A programming control structure that executes a segment of code multiple times."
   ]
  },
  {
   "cell_type": "markdown",
   "id": "ad968ff0-ecb6-4675-aace-ec667e3cb8ae",
   "metadata": {},
   "source": [
    "#### For Loop\n",
    "\n",
    "A `for` loop is used to \"iterate\", or do something repeatedly, over an **iterable**. \n",
    "\n",
    "An **iterable** is an object that can return one of its elements at a time. This can include sequence types, such as strings, lists, and tuples, as well as non-sequence types, such as dictionaries and files.\n"
   ]
  },
  {
   "cell_type": "code",
   "execution_count": 12,
   "id": "6cef3005-78ad-480a-9d37-3547eed04c9c",
   "metadata": {},
   "outputs": [
    {
     "name": "stdout",
     "output_type": "stream",
     "text": [
      "['New York City', 'Mountain View', 'Chicago', 'Los Angeles']\n"
     ]
    }
   ],
   "source": [
    "# loop through and capitalize each city\n",
    "cities = ['new york city', 'mountain view', 'chicago', 'los angeles']\n",
    "\n",
    "capitalized_cities = []\n",
    "\n",
    "for city in cities:\n",
    "    capitalized_cities.append(city.title())\n",
    "print(capitalized_cities)"
   ]
  },
  {
   "cell_type": "code",
   "execution_count": 13,
   "id": "2801bc34-c6c9-4a66-b36d-e5d5bab3b54b",
   "metadata": {},
   "outputs": [
    {
     "name": "stdout",
     "output_type": "stream",
     "text": [
      "1\n",
      "2\n",
      "3\n",
      "4\n",
      "5\n"
     ]
    }
   ],
   "source": [
    "#for <temporary variable> in <list variable>:\n",
    "#  <action statement>\n",
    "#  <action statement>\n",
    " \n",
    "# each num in nums will be printed below\n",
    "nums = [1,2,3,4,5]\n",
    "for num in nums: \n",
    "    print(num)"
   ]
  },
  {
   "cell_type": "code",
   "execution_count": 14,
   "id": "79368d17-8dda-498c-b236-cb14adfd7dbe",
   "metadata": {},
   "outputs": [
    {
     "name": "stdout",
     "output_type": "stream",
     "text": [
      "120\n"
     ]
    }
   ],
   "source": [
    "mystery_int = 5\n",
    "\n",
    "#In math, factorial is a mathematical operation where an integer is multipled by every number between itself and 1.\n",
    "#For example, 5 factorial is 5 * 4 * 3 * 2 * 1, or 120. Factorial is represented by an exclamation point: 5!\n",
    "#\n",
    "#Use a for loop to calculate the factorial of the number given by mystery_int above. Then, print the result.\n",
    "#\n",
    "#Hint: Running a loop from 1 to mystery_int will give you all the integers you need to multiply together. You'll need\n",
    "#to track the total product using a variable declared before starting the loop, though!\n",
    "\n",
    "# factorial\n",
    "factorial = 1\n",
    "for i in range(mystery_int, 0, -1):\n",
    "    factorial *= i\n",
    "print(factorial)"
   ]
  },
  {
   "cell_type": "markdown",
   "id": "09d67ecf-ec31-41c5-9f8e-26337db6f4f7",
   "metadata": {},
   "source": [
    "#### Loops with `range()`\n",
    "\n",
    "`range()` is a built-in function used to create an iterable sequence of numbers. \n",
    "\n",
    "`range(start=0, stop, step=1)`\n",
    "- The 'start' argument is the first number of the sequence. If unspecified, 'start' defaults to 0.\n",
    "- The 'stop' argument is 1 more than the last number of the sequence. This argument must be specified.\n",
    "- The 'step' argument is the difference between each number in the sequence. If unspecified, 'step' defaults to 1."
   ]
  },
  {
   "cell_type": "code",
   "execution_count": 15,
   "id": "f80ee8d7-1c02-4128-b1e0-c9652bc4c8c8",
   "metadata": {},
   "outputs": [
    {
     "data": {
      "image/jpeg": "[encoded data removed]",
      "text/plain": [
       "<IPython.core.display.Image object>"
      ]
     },
     "execution_count": 15,
     "metadata": {},
     "output_type": "execute_result"
    }
   ],
   "source": [
    "from IPython import display\n",
    "display.Image('C:/Users/hotty/Documents/Cheat Sheet for AI, ML, Data Science, Python and R/Image/for_loop.JPG')"
   ]
  },
  {
   "cell_type": "code",
   "execution_count": 16,
   "id": "ce220a61-4329-4760-b8df-46918dc92e91",
   "metadata": {},
   "outputs": [
    {
     "name": "stdout",
     "output_type": "stream",
     "text": [
      "['joey_tribbiani', 'monica_geller', 'chandler_bing', 'phoebe_buffay']\n"
     ]
    }
   ],
   "source": [
    "# Modify Usernames with Range\n",
    "usernames = [\"Joey Tribbiani\", \"Monica Geller\", \"Chandler Bing\", \"Phoebe Buffay\"]\n",
    "\n",
    "# write your for loop here\n",
    "usernames = [usernames[x].lower().replace(' ', '_') for x in range(len(usernames))]\n",
    "\n",
    "print(usernames)"
   ]
  },
  {
   "cell_type": "code",
   "execution_count": 17,
   "id": "74bf385d-95f6-412a-b219-cfb4461fcfae",
   "metadata": {},
   "outputs": [
    {
     "name": "stdout",
     "output_type": "stream",
     "text": [
      "0\n",
      "1\n",
      "2\n",
      "WARNING\n",
      "WARNING\n",
      "WARNING\n"
     ]
    }
   ],
   "source": [
    "# Print the numbers 0, 1, 2:\n",
    "for i in range(3):\n",
    "    print(i)\n",
    "\n",
    "    # Print \"WARNING\" 3 times:\n",
    "for i in range(3):\n",
    "    print(\"WARNING\")"
   ]
  },
  {
   "cell_type": "markdown",
   "id": "fd93f23c-44ab-4771-a2c2-cfc24318d13f",
   "metadata": {},
   "source": [
    "#### While Loops\n",
    "\n",
    "Imagine you decide you need to go on a certain number of trips to the dollar store every month to buy what you need. Every time you go, you always buy the same items, and each item costs \\$ $1 \\$ (you're at the dollar store!). The diagram above/below is a visual representation of this pattern as a nested for loop, with the outer loop representing each trip you make to the dollar store and the inner loop representing the cost of all the items you buy on each trip. In this case, you need to go the dollar store twice a month. Once you start your first trip, you go to the inner loop, which represents you buying those 5 items you need every time. The important thing to note in this example is that the inner loop must run ENTIRELY (you must buy all the $1 items that you need) before you go back to the outer loop (the next shopping trip)."
   ]
  },
  {
   "cell_type": "code",
   "execution_count": 18,
   "id": "1a08bbd4-4ccd-4dad-b493-adb9844d2117",
   "metadata": {},
   "outputs": [
    {
     "data": {
      "image/jpeg": "[encoded data removed]",
      "text/plain": [
       "<IPython.core.display.Image object>"
      ]
     },
     "execution_count": 18,
     "metadata": {},
     "output_type": "execute_result"
    }
   ],
   "source": [
    "from IPython import display\n",
    "display.Image('C:/Users/hotty/Documents/Cheat Sheet for AI, ML, Data Science, Python and R/Image/nested_for_loop.JPG')"
   ]
  },
  {
   "cell_type": "code",
   "execution_count": 19,
   "id": "9d2fb43d-31b7-4a6e-a22c-7395ee2796ca",
   "metadata": {},
   "outputs": [
    {
     "name": "stdout",
     "output_type": "stream",
     "text": [
      "Time to eat!\n",
      "1\n",
      "2\n",
      "3\n",
      "4\n",
      "5\n"
     ]
    }
   ],
   "source": [
    "# This loop will only run 1 time\n",
    "hungry = True\n",
    "while hungry:\n",
    "    print(\"Time to eat!\")\n",
    "    hungry = False\n",
    "\n",
    "# This loop will run 5 times\n",
    "i = 1\n",
    "while i < 6:\n",
    "    print(i)\n",
    "    i = i + 1"
   ]
  },
  {
   "cell_type": "markdown",
   "id": "1730c5a5-86c4-4cd8-a26c-448607a951e3",
   "metadata": {},
   "source": [
    "#### Nested Loops"
   ]
  },
  {
   "cell_type": "code",
   "execution_count": 20,
   "id": "5a6bef84-176f-4bc7-82c3-310751eef324",
   "metadata": {},
   "outputs": [
    {
     "name": "stdout",
     "output_type": "stream",
     "text": [
      "Jobs\n",
      "Gates\n",
      "Newton\n",
      "Euclid\n",
      "Einstein\n",
      "Feynman\n"
     ]
    }
   ],
   "source": [
    "groups = [[\"Jobs\", \"Gates\"], [\"Newton\", \"Euclid\"], [\"Einstein\", \"Feynman\"]]\n",
    " \n",
    "# This outer loop will iterate over each list in the groups list\n",
    "for group in groups:\n",
    "  # This inner loop will go through each name in each list\n",
    "  for name in group:\n",
    "    print(name)"
   ]
  },
  {
   "cell_type": "markdown",
   "id": "03862fc9-cd38-420a-abf4-e21fd4ef8249",
   "metadata": {},
   "source": [
    "#### Nested For Loops"
   ]
  },
  {
   "cell_type": "code",
   "execution_count": 21,
   "id": "fa458728-3902-4463-a200-c90ccd13fa40",
   "metadata": {},
   "outputs": [
    {
     "name": "stdout",
     "output_type": "stream",
     "text": [
      "There are 25 words in these strings.\n"
     ]
    }
   ],
   "source": [
    "listOfStrings = [\"This is the first string\", \"This is the second string\",\n",
    "                 \"This is the third string\", \"This is the fourth string\",\n",
    "                 \"This is the fifth string\"]\n",
    "numSpaces = 0\n",
    "# Loops over each string in listOfStrings\n",
    "for currentString in listOfStrings: \n",
    "    # Loops over each character in currentString\n",
    "    for currentCharacter in currentString:  \n",
    "        # Checks if the current character is a space\n",
    "        if currentCharacter == \" \": \n",
    "            numSpaces += 1\n",
    "\n",
    "numWords = numSpaces + len(listOfStrings)  \n",
    "print(\"There are\", numWords, \"words in these strings.\")"
   ]
  },
  {
   "cell_type": "code",
   "execution_count": 22,
   "id": "b2adbff9-187b-4385-86f2-3342b04a0ede",
   "metadata": {},
   "outputs": [
    {
     "name": "stdout",
     "output_type": "stream",
     "text": [
      "5 4 3 2 1 \n",
      "4 3 2 1 \n",
      "3 2 1 \n",
      "2 1 \n",
      "1 \n"
     ]
    }
   ],
   "source": [
    "# while loop\n",
    "i = 5\n",
    "while i > 0:\n",
    "    j = i\n",
    "    while j > 0:\n",
    "        print(j, end=' ')\n",
    "        j -= 1\n",
    "    i -= 1\n",
    "    print('')\n"
   ]
  },
  {
   "cell_type": "markdown",
   "id": "08431709-66c3-4b5e-a688-7ddf440f6d59",
   "metadata": {},
   "source": [
    "#### Keywords and Scope\n",
    "The three advanced loop keywords we'll cover are:\n",
    "\n",
    "- **continue:** Skip the rest of the current iteration of the loop and continue with the next iteration of the loop (if there is a next iteration).\n",
    "- **break:** Skip the rest of the current iteration of the loop and break out of the loop altogether, skipping any later iterations, too.\n",
    "- **pass:** Designate an 'empty' body for a control structure."
   ]
  },
  {
   "cell_type": "markdown",
   "id": "c1afbd5f-14ff-4c21-8b6b-e795a5efa818",
   "metadata": {},
   "source": [
    "#### continue Keyword"
   ]
  },
  {
   "cell_type": "code",
   "execution_count": 23,
   "id": "d3ac9e8e-2cbf-42d6-8bf5-86dee9a938d0",
   "metadata": {},
   "outputs": [
    {
     "name": "stdout",
     "output_type": "stream",
     "text": [
      "1 is odd.\n",
      "3 is odd.\n",
      "5 is odd.\n",
      "7 is odd.\n",
      "9 is odd.\n",
      "11 is odd.\n",
      "13 is odd.\n",
      "15 is odd.\n",
      "17 is odd.\n",
      "19 is odd.\n",
      "Done!\n"
     ]
    }
   ],
   "source": [
    "# runs this loop 20 times\n",
    "for i in range(1, 21):  \n",
    "    # checks if i is even\n",
    "    if i % 2 == 0:  \n",
    "        # skips the rest of the code block if so\n",
    "        continue\n",
    "    # prints that i is odd\n",
    "    print(i, \"is odd.\")  \n",
    "print(\"Done!\")"
   ]
  },
  {
   "cell_type": "code",
   "execution_count": 24,
   "id": "c67ed3b1-9e50-4aa0-9627-5d52f2b49789",
   "metadata": {},
   "outputs": [
    {
     "name": "stdout",
     "output_type": "stream",
     "text": [
      "1\n",
      "2\n",
      "4\n",
      "5\n",
      "2\n"
     ]
    }
   ],
   "source": [
    "big_number_list = [1, 2, -1, 4, -5, 5, 2, -9]\n",
    " \n",
    "# Print only positive numbers:\n",
    "for i in big_number_list:\n",
    "    if i < 0:\n",
    "        continue\n",
    "    print(i)"
   ]
  },
  {
   "cell_type": "markdown",
   "id": "9dda6117-b47f-4e32-b6d5-e39587f3bd18",
   "metadata": {},
   "source": [
    "#### break Keyword"
   ]
  },
  {
   "cell_type": "code",
   "execution_count": 25,
   "id": "55fe1966-ea4b-4c38-9474-2ee932263115",
   "metadata": {},
   "outputs": [
    {
     "name": "stdout",
     "output_type": "stream",
     "text": [
      "0\n",
      "254\n",
      "2\n",
      "Negative number detected!\n"
     ]
    }
   ],
   "source": [
    "numbers = [0, 254, 2, -1, 3]\n",
    " \n",
    "for num in numbers:\n",
    "    if (num < 0):\n",
    "        print(\"Negative number detected!\")\n",
    "        break\n",
    "    print(num)\n",
    "    \n",
    "# 0\n",
    "# 254\n",
    "# 2\n",
    "# Negative number detected!"
   ]
  },
  {
   "cell_type": "markdown",
   "id": "ed7f782d-5224-4007-a42f-d671a7f36f25",
   "metadata": {},
   "source": [
    "#### For Loops Vs. While Loops"
   ]
  },
  {
   "cell_type": "markdown",
   "id": "63b715e2-8cd6-4fdc-aaf6-bf6c746bf7d6",
   "metadata": {},
   "source": [
    "Now that you are familiar with both `for` and `while` loops, let's consider when it's most helpful to use each of them.\n",
    "\n",
    "**`for`** loops are ideal when the **number of iterations is known or finite**.\n",
    "\n",
    "Examples:\n",
    "\n",
    " - When you have an iterable collection (list, string, set, tuple, dictionary)\n",
    "    - `for name in names:`\n",
    " - When you want to iterate through a loop for a definite number of times, using `range()`\n",
    "    - `for i in range(5):`\n",
    "**`while`** loops are ideal when the **iterations need to continue until a condition is met**.\n",
    "\n",
    "Examples:\n",
    "\n",
    " - When you want to use comparison operators\n",
    "    - `while count <= 100:`\n",
    " - When you want to loop based on receiving specific user input.\n",
    "    - `while user_input == 'y':`"
   ]
  },
  {
   "cell_type": "code",
   "execution_count": null,
   "id": "9230b5f8-0ee8-4150-8541-e6163fd2dde0",
   "metadata": {},
   "outputs": [],
   "source": []
  },
  {
   "cell_type": "markdown",
   "id": "c8173c08-c596-48fd-8359-332eadb6bfc7",
   "metadata": {},
   "source": [
    "<div id=\"functions\">\n",
    "    <h2>Functions</h2> \n",
    "</div>"
   ]
  },
  {
   "cell_type": "markdown",
   "id": "cdbb4071-062c-4ef2-b743-ca34de02e599",
   "metadata": {},
   "source": [
    "#### Function Parameters"
   ]
  },
  {
   "cell_type": "code",
   "execution_count": 26,
   "id": "945befb1-f1c3-4b9b-a4ec-d682c7220cad",
   "metadata": {},
   "outputs": [],
   "source": [
    "def write_a_book(character, setting, special_skill):\n",
    "    print(character + \" is in \" + \n",
    "        setting + \" practicing her \" + \n",
    "        special_skill)"
   ]
  },
  {
   "cell_type": "markdown",
   "id": "b891a54f-0cde-43c3-bc29-aff60c86fb60",
   "metadata": {},
   "source": [
    "#### Multiple Parameters"
   ]
  },
  {
   "cell_type": "code",
   "execution_count": 27,
   "id": "bf87f517-67a9-4c3c-8003-6563b5be5679",
   "metadata": {},
   "outputs": [],
   "source": [
    "def ready_for_school(backpack, pencil_case):\n",
    "    if (backpack == 'full' and pencil_case == 'full'):\n",
    "        print (\"I'm ready for school!\")"
   ]
  },
  {
   "cell_type": "markdown",
   "id": "6a02246e-bcea-4e00-83f0-8fe1cd27c31e",
   "metadata": {},
   "source": [
    "#### Returning Value from Function"
   ]
  },
  {
   "cell_type": "code",
   "execution_count": 28,
   "id": "e948d64b-7992-4eb4-a0a0-485adb10a043",
   "metadata": {},
   "outputs": [
    {
     "name": "stdout",
     "output_type": "stream",
     "text": [
      "2018 is not a leap year.\n"
     ]
    }
   ],
   "source": [
    "def check_leap_year(year): \n",
    "    if year % 4 == 0:\n",
    "        return str(year) + \" is a leap year.\"\n",
    "    else:\n",
    "        return str(year) + \" is not a leap year.\"\n",
    "\n",
    "year_to_check = 2018\n",
    "returned_value = check_leap_year(year_to_check)\n",
    "print(returned_value) # 2018 is not a leap year."
   ]
  },
  {
   "cell_type": "code",
   "execution_count": 29,
   "id": "24f986ae-8fb0-409d-8181-b7703df479c1",
   "metadata": {},
   "outputs": [
    {
     "name": "stdout",
     "output_type": "stream",
     "text": [
      "You have caught no Pokemon, NewGamer98\n",
      "You are getting better, PokeMASTER222\n",
      "You are the very best, like no one ever was, GaryFOak\n"
     ]
    }
   ],
   "source": [
    "def poke_go(name, number_of_pokemon=0):\n",
    "    if number_of_pokemon == 0:\n",
    "        return \"You have caught no Pokemon, \" + name\n",
    "    elif number_of_pokemon < 5:\n",
    "        return \"You are just starting out, \" + name\n",
    "    elif number_of_pokemon < 250:\n",
    "        return \"You are getting better, \" + name\n",
    "    else:\n",
    "        return \"You are the very best, like no one ever was, \" + name\n",
    "print(poke_go(\"NewGamer98\"))\n",
    "print(poke_go(\"PokeMASTER222\", number_of_pokemon=100))\n",
    "print(poke_go(\"GaryFOak\", 250))"
   ]
  },
  {
   "cell_type": "markdown",
   "id": "b7d486cf-7c7e-4922-8ac5-b4f4d6050fd0",
   "metadata": {},
   "source": [
    "#### Lambda Expressions \n",
    "\n",
    "\n",
    "You can use lambda expressions to create anonymous functions. That is, functions that don’t have a name. They are helpful for creating quick functions that aren’t needed later in your code. This can be especially useful for higher order functions, or functions that take in other functions as arguments.\n",
    "\n",
    "With a lambda expression, this function:\n",
    "```python\n",
    "def multiply(x, y):\n",
    "    return x * y\n",
    "```\n",
    "\n",
    "can be reduced to:\n",
    "```python\n",
    "multiply = lambda x, y: x * y\n",
    "```\n",
    "Both of these functions are used in the same way. In either case, we can call `multiply` like this:\n",
    "```python\n",
    "multiply(4, 7)\n",
    "```\n",
    "This returns 28.\n",
    "\n",
    "**Components of a Lambda Function**\n",
    "\n",
    "- The `lambda` keyword is used to indicate that this is a lambda expression.\n",
    "- Following `lambda` are one or more arguments for the anonymous function separated by commas, followed by a colon `:`. Similar to functions, the way the arguments are named in a lambda expression is arbitrary.\n",
    "- Last is an expression that is evaluated and returned in this function. This is a lot like an expression you might see as a return statement in a function.\n",
    "\n",
    "With this structure, lambda expressions aren’t ideal for complex functions, but can be very useful for short, simple functions.\n",
    "\n"
   ]
  },
  {
   "cell_type": "code",
   "execution_count": 30,
   "id": "4daeff8b-78ab-4fdd-b6a6-020c91d37689",
   "metadata": {},
   "outputs": [
    {
     "data": {
      "text/plain": [
       "28"
      ]
     },
     "execution_count": 30,
     "metadata": {},
     "output_type": "execute_result"
    }
   ],
   "source": [
    "multiply = lambda x, y: x * y\n",
    "multiply(4, 7)"
   ]
  },
  {
   "cell_type": "markdown",
   "id": "d8bd2644-9595-444a-8d05-c32701cd570d",
   "metadata": {},
   "source": [
    "#### Lambda with Map\n",
    "\n",
    "`map()` is a higher-order built-in function that takes a function and iterable as inputs, and returns an iterator that applies the function to each element of the iterable. The code below uses `map()` to find the mean of each list in `numbers` to create the list `averages`."
   ]
  },
  {
   "cell_type": "code",
   "execution_count": 31,
   "id": "1050ba84-26be-41ab-ae9d-6e29b78cd186",
   "metadata": {},
   "outputs": [
    {
     "name": "stdout",
     "output_type": "stream",
     "text": [
      "[57.0, 58.2, 50.6, 27.2]\n"
     ]
    }
   ],
   "source": [
    "numbers = [\n",
    "              [34, 63, 88, 71, 29],\n",
    "              [90, 78, 51, 27, 45],\n",
    "              [63, 37, 85, 46, 22],\n",
    "              [51, 22, 34, 11, 18]\n",
    "           ]\n",
    "\n",
    "#def mean(num_list):\n",
    "#    return sum(num_list) / len(num_list)\n",
    "\n",
    "mean = lambda x: sum(x)/len(x)\n",
    "\n",
    "averages = list(map(mean, numbers))\n",
    "print(averages)"
   ]
  },
  {
   "cell_type": "markdown",
   "id": "5aa44223-9d20-446f-ac33-8f1ab83df64c",
   "metadata": {},
   "source": [
    "#### Lambda with Filter\n",
    "\n",
    "`filter()` is a higher-order built-in function that takes a function and iterable as inputs and returns an iterator with the elements from the iterable for which the function returns True. The code below uses `filter()` to get the names in `cities` that are fewer than 10 characters long to create the list `short_cities`. "
   ]
  },
  {
   "cell_type": "code",
   "execution_count": 32,
   "id": "4b7e4f49-7ba3-416f-abf7-f9cf178aed27",
   "metadata": {},
   "outputs": [
    {
     "name": "stdout",
     "output_type": "stream",
     "text": [
      "['Chicago', 'Denver', 'Boston']\n"
     ]
    }
   ],
   "source": [
    "cities = [\"New York City\", \"Los Angeles\", \"Chicago\", \"Mountain View\", \"Denver\", \"Boston\"]\n",
    "\n",
    "#def is_short(name):\n",
    "#    return len(name) < 10\n",
    "\n",
    "is_short = lambda x: len(x) < 10\n",
    "\n",
    "short_cities = list(filter(is_short, cities))\n",
    "print(short_cities)"
   ]
  },
  {
   "cell_type": "code",
   "execution_count": null,
   "id": "47f7d97f-6827-4e94-ac05-4da1f5ebaafe",
   "metadata": {},
   "outputs": [],
   "source": []
  },
  {
   "cell_type": "markdown",
   "id": "74f647d5",
   "metadata": {},
   "source": [
    "<div id=\"error_handling\">\n",
    "    <h2>Error Handling</h2> \n",
    "</div>\n",
    "\n",
    "- The **Try** statement marks a block of code to attempt, but in which we anticipate an error might arise.\n",
    "- The **Catch** statement names the errors to anticipate, and marks a block of code to run if an anticipated error arises. (Python often refers to this as the **Except** block as well.)\n",
    "- The **Finally** statement marks a block of code to run after the above two blocks no matter what."
   ]
  },
  {
   "cell_type": "code",
   "execution_count": 33,
   "id": "793b8629-7be9-4075-bd1a-6c969740a899",
   "metadata": {},
   "outputs": [
    {
     "name": "stdout",
     "output_type": "stream",
     "text": [
      "An input error occurred!\n"
     ]
    }
   ],
   "source": [
    "# file input with try, except and else\n",
    "try:\n",
    "    # open InputFile.txt in read_only mode\n",
    "    inputFile = open(\"InputFile.txt\", mode = \"r\")\n",
    "# catch an IOError\n",
    "except IOError as error:\n",
    "    print(\"An input error occurred!\")\n",
    "else:\n",
    "    # for each line in the file\n",
    "    for line in inputFile:\n",
    "        # print the line\n",
    "        print(line)\n",
    "    # close the file\n",
    "    inputFile.close()"
   ]
  },
  {
   "cell_type": "markdown",
   "id": "6f53d628-7141-414d-9818-49b494fc3d2c",
   "metadata": {},
   "source": [
    "```python\n",
    "# file input with try, except, else and finally\n",
    "\n",
    "# open InputFile.txt in read_only mode\n",
    "inputFile = open(\"InputFile.txt\", mode=\"r\")\n",
    "try:\n",
    "    # for each line in the file\n",
    "    for line in inputFile:\n",
    "        # print the line\n",
    "        print(int(line))\n",
    "# catch an IOError\n",
    "except ValueError as error:\n",
    "    print(\"A value error occurred!\")\n",
    "else:\n",
    "    print(\"No errors occurred!\")\n",
    "finally:\n",
    "    # close the file\n",
    "    inputFile.close()\n",
    "```"
   ]
  },
  {
   "cell_type": "code",
   "execution_count": 34,
   "id": "249256b0",
   "metadata": {},
   "outputs": [
    {
     "name": "stdout",
     "output_type": "stream",
     "text": [
      "An error occurred reading the file!\n"
     ]
    }
   ],
   "source": [
    "# reading file with nested TryCatchElseFinally\n",
    "try:\n",
    "    # Open NumberFile.txt in read-only mode\n",
    "    input_file = open(\"NumberFile.txt\", mode=\"r\")\n",
    "    try:\n",
    "        # For each line in the file\n",
    "        for line in input_file:\n",
    "            # Print the line\n",
    "            print(int(line))\n",
    "    # Catch a ValueError\n",
    "    except ValueError as error:\n",
    "        print(\"A value error occurred!\")\n",
    "    else:\n",
    "        print(\"No errors occurred converting the file!\")\n",
    "    finally:\n",
    "        # Close the file\n",
    "        input_file.close()\n",
    "# Catch an IOError\n",
    "except IOError as error:\n",
    "    print(\"An error occurred reading the file!\")\n"
   ]
  },
  {
   "cell_type": "code",
   "execution_count": 35,
   "id": "279c87f7",
   "metadata": {},
   "outputs": [
    {
     "name": "stdout",
     "output_type": "stream",
     "text": [
      "Starting...\n",
      "Checking !\n",
      "! is not a vowel, returning False\n"
     ]
    },
    {
     "data": {
      "text/plain": [
       "False"
      ]
     },
     "execution_count": 35,
     "metadata": {},
     "output_type": "execute_result"
    }
   ],
   "source": [
    "def has_a_vowel(a_str):\n",
    "    print(\"Starting...\")\n",
    "    for letter in a_str:\n",
    "        print(\"Checking\", letter)\n",
    "        if letter in \"aeiou\":\n",
    "            print(letter, \"is a vowel, returning True\")\n",
    "            return True\n",
    "        else:\n",
    "            print(letter, \"is not a vowel, returning False\")\n",
    "            return False\n",
    "    print(\"Done!\")\n",
    "     \n",
    "\n",
    "has_a_vowel(\"!@#$?!?!\")"
   ]
  },
  {
   "cell_type": "code",
   "execution_count": null,
   "id": "e03ce2e9-480c-417b-a565-302e7f477e09",
   "metadata": {},
   "outputs": [],
   "source": []
  },
  {
   "cell_type": "markdown",
   "id": "918bd4bc-d651-4951-9b88-ac921e83380b",
   "metadata": {},
   "source": [
    "<div id=\"data_structure\">\n",
    "    <h1>Data Structures</h1> \n",
    "</div>"
   ]
  },
  {
   "cell_type": "markdown",
   "id": "b6c62d78-1ab9-4e53-a48b-677975a6f054",
   "metadata": {},
   "source": [
    "<div id=\"strings\">\n",
    "    <h2>Strings</h2> \n",
    "</div>\n",
    "\n",
    "Sequence of character contained within a pair or `'single quotes'` or `\"double quotes\"`. String are immutable i.e. you can't modify elements in a string."
   ]
  },
  {
   "cell_type": "markdown",
   "id": "1d698b7a-0685-4e35-872b-ca8500faeca1",
   "metadata": {},
   "source": [
    "#### Escaping Characters"
   ]
  },
  {
   "cell_type": "code",
   "execution_count": 36,
   "id": "28c1e5ea-c98b-4a32-8bf6-cb4b9790f8e7",
   "metadata": {},
   "outputs": [
    {
     "name": "stdout",
     "output_type": "stream",
     "text": [
      "She said \"Never let go\".\n"
     ]
    }
   ],
   "source": [
    "# escaping characters\n",
    "txt = \"She said \\\"Never let go\\\".\"\n",
    "print(txt) # She said \"Never let go\"."
   ]
  },
  {
   "cell_type": "markdown",
   "id": "22576560-58cc-4601-8118-2372a78d2097",
   "metadata": {},
   "source": [
    "#### The `in` Syntax\n",
    "\n",
    "Used to determine if a letter or a substring is in a string"
   ]
  },
  {
   "cell_type": "code",
   "execution_count": 37,
   "id": "cf6165c8-ec79-4292-8a55-36751cb394dc",
   "metadata": {},
   "outputs": [
    {
     "name": "stdout",
     "output_type": "stream",
     "text": [
      "True\n",
      "False\n"
     ]
    }
   ],
   "source": [
    "game = \"Popular Nintendo Game: Mario Kart\"\n",
    " \n",
    "print(\"l\" in game) # Prints: True\n",
    "print(\"x\" in game) # Prints: False"
   ]
  },
  {
   "cell_type": "code",
   "execution_count": 38,
   "id": "5a81fd44-f1f5-49ab-9899-a4eb1b764d4b",
   "metadata": {},
   "outputs": [
    {
     "name": "stdout",
     "output_type": "stream",
     "text": [
      "i\n",
      "a\n"
     ]
    }
   ],
   "source": [
    "# check for vowels in a word\n",
    "vowels = ['a', 'e', 'i', 'o', 'u']\n",
    "word = \"Milliways\"\n",
    "found = []\n",
    "for letter in word:\n",
    "    if letter in vowels:\n",
    "        if letter not in found:\n",
    "            found.append(letter)\n",
    "for vowel in found:\n",
    "    print(vowel)"
   ]
  },
  {
   "cell_type": "markdown",
   "id": "a90d13f7-29ef-4352-983d-2cc702faefd0",
   "metadata": {},
   "source": [
    "#### Indexing and Slicing Strings"
   ]
  },
  {
   "cell_type": "code",
   "execution_count": 39,
   "id": "d00f2cbf-6869-4c55-968b-2e82294a3e98",
   "metadata": {},
   "outputs": [
    {
     "data": {
      "text/plain": [
       "'lla'"
      ]
     },
     "execution_count": 39,
     "metadata": {},
     "output_type": "execute_result"
    }
   ],
   "source": [
    "str = 'umbrella'\n",
    "str[1]     # => 'm'\n",
    "str[-1]    # => 'a'\n",
    "str[4:6]   # => 'el'\n",
    "str[:4]    # => 'umbr'\n",
    "str[-3:]   # => 'lla'"
   ]
  },
  {
   "cell_type": "markdown",
   "id": "95d460f4-eb35-4674-8c6a-6eefda3672c3",
   "metadata": {},
   "source": [
    "#### Iterate String"
   ]
  },
  {
   "cell_type": "code",
   "execution_count": 40,
   "id": "0b5e0b61-6fe0-470e-aef4-6f625ec403db",
   "metadata": {},
   "outputs": [
    {
     "name": "stdout",
     "output_type": "stream",
     "text": [
      "u\n",
      "p\n",
      "d\n",
      "a\n",
      "t\n",
      "e\n"
     ]
    }
   ],
   "source": [
    "string = 'update'\n",
    "for alphabet in string:\n",
    "    print(alphabet)"
   ]
  },
  {
   "cell_type": "markdown",
   "id": "4f1e299d-91f7-4585-8ce6-5746d8aeaaa1",
   "metadata": {},
   "source": [
    "#### Built-in Function len()"
   ]
  },
  {
   "cell_type": "code",
   "execution_count": 41,
   "id": "9f5372aa-1eb6-4354-8979-eaf4092c033d",
   "metadata": {},
   "outputs": [
    {
     "name": "stdout",
     "output_type": "stream",
     "text": [
      "5\n",
      "3\n"
     ]
    }
   ],
   "source": [
    "length = len(\"Hello\")\n",
    "print(length)\n",
    "# Output: 5\n",
    " \n",
    "colors = ['red', 'yellow', 'green']\n",
    "print(len(colors))\n",
    "# Output: 3"
   ]
  },
  {
   "cell_type": "markdown",
   "id": "2eb65ce1-63d0-4a41-8000-e490b48e5866",
   "metadata": {},
   "source": [
    "#### String Concatenation"
   ]
  },
  {
   "cell_type": "code",
   "execution_count": 42,
   "id": "42b61369-f820-48e4-8ddc-8b73f00a4fe1",
   "metadata": {},
   "outputs": [
    {
     "name": "stdout",
     "output_type": "stream",
     "text": [
      "JulBle\n"
     ]
    }
   ],
   "source": [
    "first_name = \"Julie\"\n",
    "last_name = \"Blevins\"\n",
    "\n",
    "def account_generator(first_name, last_name):\n",
    "    account_name = first_name[0:3] + last_name[0:3]\n",
    "    return account_name\n",
    "\n",
    "new_account = account_generator('Julie', 'Blevins')\n",
    "print(new_account)"
   ]
  },
  {
   "cell_type": "markdown",
   "id": "541f3c4a-375f-4b89-867b-750150bd308a",
   "metadata": {},
   "source": [
    "#### String Methods"
   ]
  },
  {
   "cell_type": "markdown",
   "id": "d805c638-359f-4877-9996-186cd078c67b",
   "metadata": {},
   "source": [
    "The syntax for string methods is: `string_name.string_method(arguments)`. Unlike `len()` which is called with an argument, a string method is called at the end of a string with its own specific arguments.\n",
    "\n",
    "- `string_name.isascii()` -- returns True if the string is empty or all characters in the string are ASCII, False otherwise. \n",
    "- `string_name.isalpha()` -- returns True if all characters in the string are alphabetic\n",
    "- `string_name.isdigit()` -- check if a string is digit and returns True if its digit else False\n",
    "- `string_name.isdecimal()` -- checks if string is decimal and returns True else False\n",
    "- `string_name.isupper()` -- checks if a string is uppercase. It returns True if all the letters in the string are uppercase, False if any of them aren't.\n",
    "- `string_name.startswith(prefix)` -- returns True if the string starts with the value of prefix, False if not.\n",
    "- `string_name.find(substring)` -- returns index where substring is found. Returns -1 if not found.\n",
    "    - find(text, [start], [end]) - used to mark where to search in the string\n",
    "- `string_name.split([separator])` -- splits a string to *list* of smaller strings based the separator given. If seperator is not given, string is split by spaces.\n",
    "\n",
    "- `string.lower(), string.upper()` -- returns the lowercase or uppercase version of the string\n",
    "- `string.strip()` -- returns a string with whitespace removed from the start and end\n",
    "- `string.isalpha()/string.isdigit()/string.isspace()...` -- tests if all the string chars are in the various character classes\n",
    "- `string.startswith('other'), string.endswith('other')` -- tests if the string starts or ends with the given other string\n",
    "- `string.find('other')` -- searches for the given other string (not a regular expression) within s, and returns the first index where it begins or -1 if not found\n",
    "- `string.replace('old', 'new')` -- returns a string where all occurrences of 'old' have been replaced by 'new'\n",
    "- `string.split('delim')` -- returns a list of substrings separated by the given delimiter. The delimiter is not a regular expression, it's just text. 'aaa,bbb,ccc'.split(',') -> ['aaa', 'bbb', 'ccc']. As a convenient special case string.split() (with no arguments) splits on all whitespace chars.\n",
    "- `string.join(list)` -- opposite of split(), joins the elements in the given list together using the string as the delimiter. e.g. '---'.join(['aaa', 'bbb', 'ccc']) -> aaa---bbb---ccc"
   ]
  },
  {
   "cell_type": "code",
   "execution_count": 43,
   "id": "3ff81c40-7133-4cc4-8e10-5a912686ec88",
   "metadata": {},
   "outputs": [
    {
     "name": "stdout",
     "output_type": "stream",
     "text": [
      "This is my text. it   has   thirteen words! \n",
      "this is my text. it   has   thirteen words! \n",
      "THIS IS MY TEXT. IT   HAS   THIRTEEN WORDS! \n",
      "This Is My Text. It   Has   Thirteen Words! \n",
      "This is my text. It   has   thirteen words!\n",
      "This is YOUR text. It   has   thirteen words! \n",
      "\n",
      "This-is-my-text.-It-has-thirteen-words!\n",
      "['This', 'is', 'my', 'text.', 'It', 'has', 'thirteen', 'words!']\n"
     ]
    }
   ],
   "source": [
    "# examples of other string methods\n",
    "myString = 'This is my text. It   has   thirteen words! '\n",
    "print(myString.capitalize())\n",
    "print(myString.lower())\n",
    "print(myString.upper())\n",
    "print(myString.title())\n",
    "print(myString.strip())\n",
    "print(myString.replace('my', 'YOUR'))\n",
    "\n",
    "print()\n",
    "print(\"-\".join(myString.split()))\n",
    "print(myString.split())"
   ]
  },
  {
   "cell_type": "markdown",
   "id": "e911b7fe-0287-4886-bc06-33d6b5c07fe3",
   "metadata": {},
   "source": [
    "#### Formatting methods\n",
    " - #### string.lower()"
   ]
  },
  {
   "cell_type": "code",
   "execution_count": 44,
   "id": "62b3cac4-c487-41a1-9260-4f582dcbaded",
   "metadata": {},
   "outputs": [
    {
     "name": "stdout",
     "output_type": "stream",
     "text": [
      "smooth\n"
     ]
    }
   ],
   "source": [
    "# .lower()\n",
    "favorite_song = 'SmOoTH'\n",
    "favorite_song_lowercase = favorite_song.lower()\n",
    "print(favorite_song_lowercase)"
   ]
  },
  {
   "cell_type": "markdown",
   "id": "3deb1e05-51b4-4540-b043-18c41db50d9e",
   "metadata": {},
   "source": [
    " - #### string.upper()"
   ]
  },
  {
   "cell_type": "code",
   "execution_count": 45,
   "id": "a6ead34e-ebe0-4029-94ad-d45c07a3544e",
   "metadata": {},
   "outputs": [
    {
     "name": "stdout",
     "output_type": "stream",
     "text": [
      "T-REX\n"
     ]
    }
   ],
   "source": [
    "# .upper()\n",
    "dinosaur = \"T-Rex\"\n",
    " \n",
    "print(dinosaur.upper()) \n",
    "# Prints: T-REX"
   ]
  },
  {
   "cell_type": "markdown",
   "id": "f043ebb5-0c57-4818-87f6-d519b43d31b1",
   "metadata": {},
   "source": [
    "- #### string.title()"
   ]
  },
  {
   "cell_type": "code",
   "execution_count": 46,
   "id": "1a1e3eef-fe63-4080-8a6d-d2af1bf26428",
   "metadata": {},
   "outputs": [
    {
     "name": "stdout",
     "output_type": "stream",
     "text": [
      "Dark Knight\n"
     ]
    }
   ],
   "source": [
    "# .title()\n",
    "my_var = \"dark knight\"\n",
    "print(my_var.title()) \n",
    " \n",
    "# Prints: Dark Knight"
   ]
  },
  {
   "cell_type": "markdown",
   "id": "c18c3e8e-7d1c-4e8b-9d78-e95a717a717f",
   "metadata": {},
   "source": [
    "- #### string.format()"
   ]
  },
  {
   "cell_type": "code",
   "execution_count": 47,
   "id": "a0691dbb-a5a0-44ad-8f9d-ab25aa2341ff",
   "metadata": {},
   "outputs": [
    {
     "data": {
      "text/plain": [
       "'Fred tickled a fluffy hamster.'"
      ]
     },
     "execution_count": 47,
     "metadata": {},
     "output_type": "execute_result"
    }
   ],
   "source": [
    "# # .format()\n",
    "msg1 = 'Fred scored {} out of {} points.'\n",
    "msg1.format(3, 10)\n",
    "# => 'Fred scored 3 out of 10 points.'\n",
    " \n",
    "msg2 = 'Fred {verb} a {adjective} {noun}.'\n",
    "msg2.format(adjective='fluffy', verb='tickled', noun='hamster')\n",
    "# => 'Fred tickled a fluffy hamster.'"
   ]
  },
  {
   "cell_type": "markdown",
   "id": "d5724a07-d280-42eb-814c-915f045a992a",
   "metadata": {},
   "source": [
    "- #### string.strip()"
   ]
  },
  {
   "cell_type": "code",
   "execution_count": 48,
   "id": "755efdf3-550a-4494-a8fa-c9f4f415d107",
   "metadata": {},
   "outputs": [
    {
     "data": {
      "text/plain": [
       "'lemons and limes'"
      ]
     },
     "execution_count": 48,
     "metadata": {},
     "output_type": "execute_result"
    }
   ],
   "source": [
    "# .strip()\n",
    "text1 = '   apples and oranges   '\n",
    "text1.strip()       # => 'apples and oranges'\n",
    " \n",
    "text2 = '...+...lemons and limes...-...'\n",
    " \n",
    "# Here we strip just the \".\" characters\n",
    "text2.strip('.')    # => '+...lemons and limes...-'\n",
    " \n",
    "# Here we strip both \".\" and \"+\" characters\n",
    "text2.strip('.+')   # => 'lemons and limes...-'\n",
    " \n",
    "# Here we strip \".\", \"+\", and \"-\" characters\n",
    "text2.strip('.+-')  # => 'lemons and limes'"
   ]
  },
  {
   "cell_type": "markdown",
   "id": "5348ca9f-04f7-424b-b4b7-943c1a2f154b",
   "metadata": {},
   "source": [
    "- #### string.replace()"
   ]
  },
  {
   "cell_type": "code",
   "execution_count": 49,
   "id": "593462d8-0e25-4c35-ac90-3195f07bf683",
   "metadata": {},
   "outputs": [
    {
     "name": "stdout",
     "output_type": "stream",
     "text": [
      "StRawbeRRy\n"
     ]
    }
   ],
   "source": [
    "# .replace()\n",
    "fruit = \"Strawberry\"\n",
    "print(fruit.replace('r', 'R'))\n",
    " \n",
    "# StRawbeRRy"
   ]
  },
  {
   "cell_type": "markdown",
   "id": "ba57b5e6-e838-4590-9bc7-0dca8e74e708",
   "metadata": {},
   "source": [
    "- #### string.split()"
   ]
  },
  {
   "cell_type": "code",
   "execution_count": 50,
   "id": "8b3b0ec3-b287-4bb0-b20d-e7c071a7f2ec",
   "metadata": {},
   "outputs": [
    {
     "name": "stdout",
     "output_type": "stream",
     "text": [
      "['Silicon', 'Valley']\n",
      "['S', 'l', 'con Valley']\n"
     ]
    }
   ],
   "source": [
    "# .split()\n",
    "text = \"Silicon Valley\"\n",
    " \n",
    "print(text.split())     \n",
    "# Prints: ['Silicon', 'Valley']\n",
    " \n",
    "print(text.split('i'))  \n",
    "# Prints: ['S', 'l', 'con Valley']"
   ]
  },
  {
   "cell_type": "code",
   "execution_count": 51,
   "id": "2c7e566d-8e39-46f2-b7da-c40de7c490d2",
   "metadata": {},
   "outputs": [
    {
     "name": "stdout",
     "output_type": "stream",
     "text": [
      "['Audre Lorde', 'Gabriela Mistral', 'Jean Toomer', 'An Qi', 'Walt Whitman', 'Shel Silverstein', 'Carmen Boullosa', 'Kamala Suraiyya', 'Langston Hughes', 'Adrienne Rich', 'Nikki Giovanni']\n",
      "['Lorde', 'Mistral', 'Toomer', 'Qi', 'Whitman', 'Silverstein', 'Boullosa', 'Suraiyya', 'Hughes', 'Rich', 'Giovanni']\n"
     ]
    }
   ],
   "source": [
    "# .split()\n",
    "authors = \"Audre Lorde,Gabriela Mistral,Jean Toomer,An Qi,Walt Whitman,Shel Silverstein,Carmen Boullosa,Kamala Suraiyya,Langston Hughes,Adrienne Rich,Nikki Giovanni\"\n",
    "\n",
    "author_names = authors.split(',')\n",
    "\n",
    "print(author_names)\n",
    "\n",
    "author_last_names = []\n",
    "for name in author_names:\n",
    "    author_last_names.append(name.split()[-1])\n",
    "print(author_last_names)"
   ]
  },
  {
   "cell_type": "markdown",
   "id": "71038611-a8d3-4b33-9f15-9d6fc1699ae2",
   "metadata": {},
   "source": [
    "- #### string.join()\n",
    "The syntax of `.join()` is `'delimiter'.join(list_you_want_to_join)`"
   ]
  },
  {
   "cell_type": "code",
   "execution_count": 52,
   "id": "84d1feab-f39d-4831-bc34-6289a2f9fc2c",
   "metadata": {},
   "outputs": [
    {
     "name": "stdout",
     "output_type": "stream",
     "text": [
      "Black reapers with the sound of steel on stones\n"
     ]
    }
   ],
   "source": [
    "reapers_line_one_words = [\"Black\", \"reapers\", \"with\", \"the\", \"sound\", \"of\", \"steel\", \"on\", \"stones\"]\n",
    "\n",
    "reapers_line_one = ' '.join(reapers_line_one_words)\n",
    "print(reapers_line_one)"
   ]
  },
  {
   "cell_type": "markdown",
   "id": "898d1af9-a3ae-405b-8ed5-d67c37517567",
   "metadata": {},
   "source": [
    "- #### string.find()"
   ]
  },
  {
   "cell_type": "code",
   "execution_count": 53,
   "id": "daf08ca0-491f-4f66-b60a-144abee33b14",
   "metadata": {},
   "outputs": [
    {
     "name": "stdout",
     "output_type": "stream",
     "text": [
      "DEF found at index 3!\n",
      "GHI was not found within ABCDEF!\n"
     ]
    }
   ],
   "source": [
    "#Write a function called fancy_find. fancy_find should have two parameters: search_within and search_for.\n",
    "#\n",
    "#fancy_find should check if search_for is found within the string search_within. If it is, it should print the message\n",
    "#\"[search_for] found at index [index]!\", with [search_for] and [index] replaced by the value of search_for and the\n",
    "#index at which it is found. If search_for is not found within search_within, it should print, \"[search_for] was\n",
    "#not found within [search_within]!\", again with the values of search_for and search_within.\n",
    "\n",
    "#  fancy_find(\"ABCDEF\", \"DEF\") -> \"DEF found at index 3!\"\n",
    "#  fancy_find(\"ABCDEF\", \"GHI\") -> \"GHI was not found within ABCDEF!\"\n",
    "\n",
    "# fancy find\n",
    "def fancy_find(search_within, search_for):\n",
    "    if search_for in search_within:\n",
    "        index = search_within.find(search_for)\n",
    "        return \"{} found at index {}!\".format(search_for, index)\n",
    "    else:\n",
    "        return \"{} was not found within {}!\".format(search_for, search_within)\n",
    "        \n",
    "#If your function works correctly, this will originally\n",
    "#print:\n",
    "#DEF found at index 3!\n",
    "#GHI was not found within ABCDEF!\n",
    "\n",
    "print(fancy_find(\"ABCDEF\", \"DEF\"))\n",
    "print(fancy_find(\"ABCDEF\", \"GHI\"))"
   ]
  },
  {
   "cell_type": "markdown",
   "id": "d0677f42-ad09-4fe8-a959-dd6050418610",
   "metadata": {},
   "source": [
    "- #### String Interpolation with %\n",
    " \n",
    "Here are the conversion rules:\n",
    "   - %s:  string\n",
    "   - %d:  decimal integer\n",
    "   - %x:  hex integer\n",
    "   - %o:  octal integer\n",
    "   - %f:  decimal float\n",
    "   - %e:  exponential float\n",
    "   - %g:  decimal or exponential float\n",
    "   - %%:  a literal\n"
   ]
  },
  {
   "cell_type": "code",
   "execution_count": 54,
   "id": "8333282d-a6c5-4b50-9e84-8c4749d72393",
   "metadata": {},
   "outputs": [
    {
     "data": {
      "text/plain": [
       "'6 Easy Pieces of 3.140000'"
      ]
     },
     "execution_count": 54,
     "metadata": {},
     "output_type": "execute_result"
    }
   ],
   "source": [
    "# example usage\n",
    "\"%d %s %s %s %f\" % (6, 'Easy', 'Pieces', 'of', 3.14)"
   ]
  },
  {
   "cell_type": "markdown",
   "id": "8f8d87b6-b926-458f-a0da-8ae2bd42e54d",
   "metadata": {},
   "source": [
    "<div id=\"lists\">\n",
    "    <h2>Lists</h2> \n",
    "</div>"
   ]
  },
  {
   "cell_type": "markdown",
   "id": "5d281d53",
   "metadata": {},
   "source": [
    "*List* is an ordered mutable collection of objects. Lists are **mutable**, in that you can change a list at any time by adding, removing, or changing objects. "
   ]
  },
  {
   "cell_type": "markdown",
   "id": "35e6fcf7-9461-49ac-be93-3018710ab20c",
   "metadata": {},
   "source": [
    "#### Adding Lists Together"
   ]
  },
  {
   "cell_type": "code",
   "execution_count": 55,
   "id": "8a763245-521e-4f80-9e9e-eb4923c6ba98",
   "metadata": {},
   "outputs": [
    {
     "name": "stdout",
     "output_type": "stream",
     "text": [
      "['cake', 'cookie', 'bread', 'biscuit', 'tart']\n"
     ]
    }
   ],
   "source": [
    "items = ['cake', 'cookie', 'bread']\n",
    "total_items = items + ['biscuit', 'tart']\n",
    "print(total_items)\n",
    "# Result: ['cake', 'cookie', 'bread', 'biscuit', 'tart']"
   ]
  },
  {
   "cell_type": "markdown",
   "id": "e210d626-bc94-4c72-b530-2e5e597b9794",
   "metadata": {},
   "source": [
    "#### Python Lists: Data Types"
   ]
  },
  {
   "cell_type": "code",
   "execution_count": 56,
   "id": "452862f3-f810-40d0-966e-0cdf357b8de9",
   "metadata": {},
   "outputs": [],
   "source": [
    "numbers = [1, 2, 3, 4, 10]\n",
    "names = ['Jenny', 'Sam', 'Alexis']\n",
    "mixed = ['Jenny', 1, 2]\n",
    "list_of_lists = [['a', 1], ['b', 2]]"
   ]
  },
  {
   "cell_type": "markdown",
   "id": "5dcf3cfd-dc91-4aa8-a227-6404d95d5b50",
   "metadata": {},
   "source": [
    "#### List Indices"
   ]
  },
  {
   "cell_type": "code",
   "execution_count": 57,
   "id": "5bc6e17f-35dd-44d3-96b5-6e42eb673ed5",
   "metadata": {},
   "outputs": [
    {
     "data": {
      "text/plain": [
       "'raspberry'"
      ]
     },
     "execution_count": 57,
     "metadata": {},
     "output_type": "execute_result"
    }
   ],
   "source": [
    "berries = [\"blueberry\", \"cranberry\", \"raspberry\"]\n",
    " \n",
    "berries[0]   # \"blueberry\"\n",
    "berries[2]   # \"raspberry\""
   ]
  },
  {
   "cell_type": "markdown",
   "id": "539d5128-83d5-446b-9091-ef4fa88f5759",
   "metadata": {},
   "source": [
    "#### Negative List Indices"
   ]
  },
  {
   "cell_type": "code",
   "execution_count": 58,
   "id": "7d1d41dd-22d3-4897-b156-3b3b8ce75442",
   "metadata": {},
   "outputs": [
    {
     "data": {
      "text/plain": [
       "['minestrone', 'lentil']"
      ]
     },
     "execution_count": 58,
     "metadata": {},
     "output_type": "execute_result"
    }
   ],
   "source": [
    "soups = ['minestrone', 'lentil', 'pho', 'laksa']\n",
    "soups[-1]   # 'laksa'\n",
    "soups[-3:]  # 'lentil', 'pho', 'laksa'\n",
    "soups[:-2]  # 'minestrone', 'lentil'"
   ]
  },
  {
   "cell_type": "markdown",
   "id": "85935175-3ce2-49f3-98b0-ccb39c0a9135",
   "metadata": {},
   "source": [
    "#### Modifying 2D Lists"
   ]
  },
  {
   "cell_type": "code",
   "execution_count": 59,
   "id": "995ee78a-cc00-4219-a0cf-629875f806c4",
   "metadata": {},
   "outputs": [
    {
     "name": "stdout",
     "output_type": "stream",
     "text": [
      "[['Jenny', 'Meditation'], ['Alexus', 'Photography'], ['Grace', 'Soccer']]\n"
     ]
    }
   ],
   "source": [
    "# A 2D list of names and hobbies\n",
    "class_name_hobbies = [[\"Jenny\", \"Breakdancing\"], [\"Alexus\", \"Photography\"], [\"Grace\", \"Soccer\"]]\n",
    " \n",
    "# The sublist of Jenny is at index 0. The hobby is at index 1 of the sublist. \n",
    "class_name_hobbies[0][1] = \"Meditation\"\n",
    "print(class_name_hobbies)\n",
    " \n",
    "# Output\n",
    "# [[\"Jenny\", \"Meditation\"], [\"Alexus\", \"Photography\"], [\"Grace\", \"Soccer\"]]"
   ]
  },
  {
   "cell_type": "markdown",
   "id": "cd3a44c8-5092-4706-b78b-ad337e07f9bc",
   "metadata": {},
   "source": [
    "#### Accessing 2D Lists"
   ]
  },
  {
   "cell_type": "code",
   "execution_count": 60,
   "id": "0ecc101c-3da2-459b-b983-999628e83d3a",
   "metadata": {},
   "outputs": [
    {
     "name": "stdout",
     "output_type": "stream",
     "text": [
      "61\n"
     ]
    }
   ],
   "source": [
    "# 2D list of people's heights\n",
    "heights = [[\"Noelle\", 61], [\"Ali\", 70], [\"Sam\", 67]]\n",
    "# Access the sublist at index 0, and then access the 1st index of that sublist. \n",
    "noelles_height = heights[0][1] \n",
    "print(noelles_height)\n",
    " \n",
    "# Output\n",
    "# 61"
   ]
  },
  {
   "cell_type": "markdown",
   "id": "66694822-a880-43e2-8c2b-c8e2c0fca573",
   "metadata": {},
   "source": [
    "#### Tuples in Python\n",
    "\n",
    "**Tuple:** An immutable form of a list-like structure in Python."
   ]
  },
  {
   "cell_type": "code",
   "execution_count": 61,
   "id": "0ffe9dce-ecf0-4cb8-a574-2f8a038b9fa0",
   "metadata": {},
   "outputs": [
    {
     "name": "stdout",
     "output_type": "stream",
     "text": [
      "('c', 'b', 'a')\n",
      "('h', 'g', 'f')\n",
      "('k', 'j', 'i')\n"
     ]
    }
   ],
   "source": [
    "#Write a function called unpack_and_reverse that will accept one parameter, a tuple with at least three items.\n",
    "#The function should return a new tuple with only the first three items, but listed in reverse order.\n",
    "#\n",
    "#For example:\n",
    "#\n",
    "# a_tuple = (\"a\", \"b\", \"c\", \"d\", \"e\")\n",
    "# unpack_and_reverse(a_tuple) -> (\"c\", \"b\", \"a\")\n",
    "#\n",
    "\n",
    "# PackRat function\n",
    "def unpack_and_reverse(a_tuple):\n",
    "    return a_tuple[:3][::-1]\n",
    "\n",
    "#If your function works correctly, this will originally\n",
    "#print:\n",
    "#('c', 'b', 'a')\n",
    "#('h', 'g', 'f')\n",
    "#('k', 'j', 'i')\n",
    "print(unpack_and_reverse((\"a\", \"b\", \"c\", \"d\", \"e\")))\n",
    "print(unpack_and_reverse((\"f\", \"g\", \"h\")))\n",
    "print(unpack_and_reverse((\"i\", \"j\", \"k\", \"l\", \"m\", \"n\", \"o\", \"p\", \"q\", \"r\")))"
   ]
  },
  {
   "cell_type": "code",
   "execution_count": 62,
   "id": "6f46a006",
   "metadata": {},
   "outputs": [
    {
     "name": "stdout",
     "output_type": "stream",
     "text": [
      "[['Finding Dory', 'Captain America: Civil War', 'Deadpool', 'Zootopia', 'Rogue One', 'The Secret Life of Pets', 'Batman v Superman', 'Sing', 'Suicide Squad', 'The Jungle Book'], [486, 408, 363, 341, 529, 368, 330, 268, 325, 364]]\n"
     ]
    }
   ],
   "source": [
    "# unzipping a list of tuples to a list of lists\n",
    "def unzipping_tuple_to_list(list_tuple):\n",
    "\n",
    "    # using list comprehension to\n",
    "    # perform Unzipping\n",
    "    new_list = [[i for i, j in list_tuple], [j for i, j in list_tuple]]\n",
    "    return new_list\n",
    "\n",
    "\n",
    "movie_list = [(\"Finding Dory\", 486), (\"Captain America: Civil War\", 408), (\"Deadpool\", 363), (\"Zootopia\", 341), (\"Rogue One\", 529),\n",
    "              (\"The Secret Life of Pets\", 368), (\"Batman v Superman\", 330), (\"Sing\", 268), (\"Suicide Squad\", 325), (\"The Jungle Book\", 364)]\n",
    "print(unzipping_tuple_to_list(movie_list))\n"
   ]
  },
  {
   "cell_type": "code",
   "execution_count": 63,
   "id": "a1067dff",
   "metadata": {},
   "outputs": [
    {
     "name": "stdout",
     "output_type": "stream",
     "text": [
      "Rogue One\n"
     ]
    }
   ],
   "source": [
    "# find index of maximum value in one list \n",
    "def find_max_sales(list_tuple):\n",
    "    # unpack into list of lists\n",
    "    list_unzip = unzipping_tuple_to_list(list_tuple)\n",
    "    # find max sales in target list\n",
    "    max_sales = max(list_unzip[1])\n",
    "    # find location of max sales\n",
    "    max_sales_position = list_unzip[1].index(max(list_unzip[1]))\n",
    "    # return movie with max sales\n",
    "    return list_unzip[0][max_sales_position]\n",
    "\n",
    "\n",
    "movie_list = [(\"Finding Dory\", 486), (\"Captain America: Civil War\", 408), (\"Deadpool\", 363), (\"Zootopia\", 341), (\"Rogue One\", 529),\n",
    "              (\"The Secret Life of Pets\", 368), (\"Batman v Superman\", 330), (\"Sing\", 268), (\"Suicide Squad\", 325), (\"The Jungle Book\", 364)]\n",
    "print(find_max_sales(movie_list))"
   ]
  },
  {
   "cell_type": "markdown",
   "id": "616a7c84-3ad9-424b-a6bb-8615044e98dd",
   "metadata": {},
   "source": [
    "#### Lists Methods"
   ]
  },
  {
   "cell_type": "markdown",
   "id": "0ce9bc56-df45-4e11-8074-de7e52eed376",
   "metadata": {},
   "source": [
    "Here are some other common list methods.\n",
    "\n",
    " - `list.append(elem)` -- adds a single element to the end of the list. Common error: does not return the new list, just modifies the original.\n",
    " - `list.insert(index, elem)` -- inserts the element at the given index, shifting elements to the right.\n",
    " - `list.extend(list2)` adds the elements in list2 to the end of the list. Using + or += on a list is similar to using extend().\n",
    " - `list.index(elem)` -- searches for the given element from the start of the list and returns its index. Throws a ValueError if the element does not appear (use \"in\" to check without a ValueError).\n",
    " - `list.remove(elem)` -- searches for the first instance of the given element and removes it (throws ValueError if not present)\n",
    " - `list.sort()` -- sorts the list in place (does not return it). (The sorted() function shown later is preferred.)\n",
    " - `list.reverse()` -- reverses the list in place (does not return it)\n",
    " - `list.pop(index)` -- removes and returns the element at the given index. Returns the rightmost element if index is omitted (roughly the opposite of append()).\n",
    " \n",
    "Notice that these are *methods* on a list object, while len() is a function that takes the list (or string or whatever) as an argument."
   ]
  },
  {
   "cell_type": "code",
   "execution_count": 64,
   "id": "726222b0-6e80-4407-99d4-405c21d4d213",
   "metadata": {},
   "outputs": [
    {
     "name": "stdout",
     "output_type": "stream",
     "text": [
      "[17, 12, 9, 18, 11, 19, 7, 13, 14, 16, 1, 10, 8, 4, 6, 3, 15, 2, 5, 20] : Original list\n",
      "[1, 2, 3, 4, 5, 6, 7, 8, 9, 10, 11, 12, 13, 14, 15, 16, 17, 18, 19, 20] : After sorting\n",
      "[1, 2, 3, 4, 5, 6, 7, 8, 9, 10, 11, 12, 13, 14, 15, 16, 17, 18, 19, 20, 21] : After appending 21\n",
      "[1, 2, 3, 4, 5, 6, 7, 8, 9, 10, 11, 12, 13, 14, 15, 16, 17, 18, 19, 20, 21, 26, 22, 23, 24] : After extending with myOtherList\n",
      "[1, 2, 3, 4, 5, 6, 7, 8, 9, 10, 11, 12, 13, 14, 15, 25, 16, 17, 18, 19, 20, 21, 26, 22, 23, 24] : After inserting 25 at the index 15\n",
      "[1, 2, 3, 4, 5, 6, 7, 8, 9, 10, 11, 12, 13, 14, 15, 25, 16, 17, 18, 19, 20, 21, 22, 23, 24] : After removing 26\n",
      "[1, 2, 3, 4, 5, 6, 7, 8, 9, 10, 11, 12, 13, 14, 15, 16, 17, 18, 19, 20, 21, 22, 23, 24, 25] : After sorting again\n",
      "[25, 24, 23, 22, 21, 20, 19, 18, 17, 16, 15, 14, 13, 12, 11, 10, 9, 8, 7, 6, 5, 4, 3, 2, 1] : After reversing\n",
      "[25, 24, 23, 22, 21, 20, 19, 18, 17, 16, 15, 14, 13, 12, 11, 10, 9, 8, 7, 6, 5, 4, 3, 2] : After popping\n",
      "[25, 24, 23, 22, 21, 20, 19, 18, 17, 16, 15, 14, 13, 12, 11, 10, 9, 8, 7] : After deleting the last five items\n",
      "2 : Index of 23\n",
      "1 : Count of 15\n",
      "False : 4 in myList\n",
      "True : 25 in myList\n"
     ]
    }
   ],
   "source": [
    "# A list of the numbers 1 through 20\n",
    "myList = [17, 12, 9, 18, 11, 19, 7, 13, 14, 16, 1, 10, 8, 4, 6, 3, 15, 2, 5, 20]\n",
    "print(myList, \": Original list\")\n",
    "myList.sort()\n",
    "print(myList, \": After sorting\")\n",
    "myList.append(21)\n",
    "print(myList, \": After appending 21\")\n",
    "myOtherList = [26, 22, 23, 24]\n",
    "myList.extend(myOtherList)\n",
    "print(myList, \": After extending with myOtherList\")\n",
    "myList.insert(15, 25)\n",
    "print(myList, \": After inserting 25 at the index 15\")\n",
    "myList.remove(26)\n",
    "print(myList, \": After removing 26\")\n",
    "myList.sort()\n",
    "print(myList, \": After sorting again\")\n",
    "myList.reverse()\n",
    "print(myList, \": After reversing\")\n",
    "myList.pop()\n",
    "print(myList, \": After popping\")\n",
    "del myList[-5:]\n",
    "print(myList, \": After deleting the last five items\")\n",
    "print(myList.index(23), \": Index of 23\")\n",
    "print(myList.count(15), \": Count of 15\")\n",
    "print(4 in myList, \": 4 in myList\")\n",
    "print(25 in myList, \": 25 in myList\")"
   ]
  },
  {
   "cell_type": "code",
   "execution_count": 65,
   "id": "34a0317e-4b8d-4c71-911d-a96980040183",
   "metadata": {},
   "outputs": [
    {
     "name": "stdout",
     "output_type": "stream",
     "text": [
      "[178, 81, 75.0, 4, 3.141592653589793, 3]\n"
     ]
    }
   ],
   "source": [
    "#Write a function called modify_list. modify_list will take one parameter, a list. It should then modify the list in the following ways, in this order:\n",
    "#\n",
    "# - Sort the list (using the default sort method).\n",
    "# - Reverse the order of the list.\n",
    "# - Delete the last three items of the list.\n",
    "# - Removes one instance the integer 7 from the list, if it's present.\n",
    "# - Double the values of the first and third items in the list.\n",
    "#\n",
    "#It should then return the resulting list. You may assume the list will start with at least six items.\n",
    "#\n",
    "#Hint: Remember Python is 0-indexed. The second item does not have an index of 2.\n",
    "#\n",
    "#Hint 2: Remember, the list.remove() function removes items by value, not by index. Note also that if the item you're\n",
    "#trying to remove is not found in the list, remove() will throw an error: so, you'll want to avoid that one way or another!\n",
    "\n",
    "#Write your code here!\n",
    "def modify_list(mylist):\n",
    "    mylist.sort()\n",
    "    mylist.reverse()\n",
    "    del mylist[-3:]\n",
    "    if 7 in mylist:\n",
    "        mylist.remove(7) \n",
    "    mylist[0] = mylist[0] * 2\n",
    "    mylist[2] = mylist[2] * 2\n",
    "    return mylist\n",
    "\n",
    "#print:\n",
    "#[178, 81, 75.0, 4, 3.141592653589793, 3]\n",
    "import math\n",
    "print(modify_list([7, 4, 3, 2.0, 81, 37.5, 89, math.pi, -2, math.e]))"
   ]
  },
  {
   "cell_type": "markdown",
   "id": "10a0e704-e898-444e-be69-8524ac2b2c04",
   "metadata": {},
   "source": [
    "#### List Method .remove()"
   ]
  },
  {
   "cell_type": "code",
   "execution_count": 66,
   "id": "bd4dfe00-8dcb-467e-9453-37cc5c993ed5",
   "metadata": {},
   "outputs": [
    {
     "name": "stdout",
     "output_type": "stream",
     "text": [
      "['Cole', 'Kip', 'Sylvana', 'Chris']\n"
     ]
    }
   ],
   "source": [
    "# Create a list\n",
    "shopping_line = [\"Cole\", \"Kip\", \"Chris\", \"Sylvana\", \"Chris\"]\n",
    " \n",
    "# Removes the first occurance of \"Chris\"\n",
    "shopping_line.remove(\"Chris\")\n",
    "print(shopping_line)\n",
    " \n",
    "# Output\n",
    "# [\"Cole\", \"Kip\", \"Sylvana\", \"Chris\"]"
   ]
  },
  {
   "cell_type": "markdown",
   "id": "e1182a6f-b8ec-45c4-9754-611a21ee9013",
   "metadata": {},
   "source": [
    "#### List Method .count()"
   ]
  },
  {
   "cell_type": "code",
   "execution_count": 67,
   "id": "52798473-73fd-46d4-857e-c093824035b9",
   "metadata": {},
   "outputs": [
    {
     "name": "stdout",
     "output_type": "stream",
     "text": [
      "3\n"
     ]
    }
   ],
   "source": [
    "backpack = ['pencil', 'pen', 'notebook', 'textbook', 'pen', 'highlighter', 'pen']\n",
    "numPen = backpack.count('pen')\n",
    " \n",
    "print(numPen)\n",
    "# Output: 3"
   ]
  },
  {
   "cell_type": "markdown",
   "id": "6ed4ef56-6b43-4893-937f-0ea5e24a026f",
   "metadata": {},
   "source": [
    "#### Determining List Length with len()"
   ]
  },
  {
   "cell_type": "code",
   "execution_count": 68,
   "id": "4e9f21e6-4c95-4283-9b1a-ea8d6fc0c69d",
   "metadata": {},
   "outputs": [
    {
     "name": "stdout",
     "output_type": "stream",
     "text": [
      "5\n"
     ]
    }
   ],
   "source": [
    "knapsack = [2, 4, 3, 7, 10]\n",
    "size = len(knapsack)\n",
    "print(size) \n",
    "# Output: 5"
   ]
  },
  {
   "cell_type": "markdown",
   "id": "5687cac0-6108-4884-a547-0053eb4d1d5d",
   "metadata": {},
   "source": [
    "#### List Method .sort()"
   ]
  },
  {
   "cell_type": "code",
   "execution_count": 69,
   "id": "36b43d6d-2a2e-47e5-bcb1-a55f786f7f35",
   "metadata": {},
   "outputs": [
    {
     "name": "stdout",
     "output_type": "stream",
     "text": [
      "[1, 2, 3, 4]\n"
     ]
    }
   ],
   "source": [
    "exampleList = [4, 2, 1, 3]\n",
    "exampleList.sort()\n",
    "print(exampleList)\n",
    "# Output: [1, 2, 3, 4]"
   ]
  },
  {
   "cell_type": "markdown",
   "id": "01694ec1-699b-4b56-aa21-d346ae7877d2",
   "metadata": {},
   "source": [
    "#### List Slicing"
   ]
  },
  {
   "cell_type": "code",
   "execution_count": 70,
   "id": "391e8fe9-7b40-4d05-85a2-f69f9ff22dac",
   "metadata": {},
   "outputs": [
    {
     "name": "stdout",
     "output_type": "stream",
     "text": [
      "['pen', 'hammer', 'lever']\n"
     ]
    }
   ],
   "source": [
    "tools = ['pen', 'hammer', 'lever']\n",
    "tools_slice = tools[1:3] # ['hammer', 'lever']\n",
    "tools_slice[0] = 'nail'\n",
    " \n",
    "# Original list is unaltered:\n",
    "print(tools) # ['pen', 'hammer', 'lever']"
   ]
  },
  {
   "cell_type": "markdown",
   "id": "e6acba0c-e8a6-45a1-a102-e10e7ac7020a",
   "metadata": {},
   "source": [
    "#### sorted() Function"
   ]
  },
  {
   "cell_type": "code",
   "execution_count": 71,
   "id": "549789fc-38e2-4096-9c38-000ed252c4f5",
   "metadata": {},
   "outputs": [
    {
     "name": "stdout",
     "output_type": "stream",
     "text": [
      "[1, 2, 3, 4]\n"
     ]
    }
   ],
   "source": [
    "unsortedList = [4, 2, 1, 3]\n",
    "sortedList = sorted(unsortedList)\n",
    "print(sortedList)\n",
    "# Output: [1, 2, 3, 4]"
   ]
  },
  {
   "cell_type": "markdown",
   "id": "baedaff8-46d4-4f7a-a1ad-32c4ca8fe0ed",
   "metadata": {},
   "source": [
    "#### List Method .insert()"
   ]
  },
  {
   "cell_type": "code",
   "execution_count": 72,
   "id": "77b2778f-c27d-4a57-98cc-6e6bdbfa6dee",
   "metadata": {},
   "outputs": [
    {
     "name": "stdout",
     "output_type": "stream",
     "text": [
      "['Karla', 'Maxium', 'Vikor', 'Martim', 'Isabella']\n"
     ]
    }
   ],
   "source": [
    "# Here is a list representing a line of people at a store\n",
    "store_line = [\"Karla\", \"Maxium\", \"Martim\", \"Isabella\"]\n",
    " \n",
    "# Here is how to insert \"Vikor\" after \"Maxium\" and before \"Martim\"\n",
    "store_line.insert(2, \"Vikor\")\n",
    " \n",
    "print(store_line) \n",
    "# Output: ['Karla', 'Maxium', 'Vikor', 'Martim', 'Isabella']"
   ]
  },
  {
   "cell_type": "markdown",
   "id": "09a8a7ce-020e-417d-9f43-fdeeef0cca83",
   "metadata": {},
   "source": [
    "#### List Method .pop()"
   ]
  },
  {
   "cell_type": "code",
   "execution_count": 73,
   "id": "18095da6-afe5-4ec8-bd96-0727195e4d5c",
   "metadata": {},
   "outputs": [
    {
     "name": "stdout",
     "output_type": "stream",
     "text": [
      "['Python', 'Data Structures', 'Balloon Making', 'Algorithms']\n",
      "Clowns 101\n",
      "['Python', 'Data Structures', 'Algorithms']\n"
     ]
    }
   ],
   "source": [
    "cs_topics = [\"Python\", \"Data Structures\", \"Balloon Making\", \"Algorithms\", \"Clowns 101\"]\n",
    " \n",
    "# Pop the last element\n",
    "removed_element = cs_topics.pop()\n",
    " \n",
    "print(cs_topics)\n",
    "print(removed_element)\n",
    " \n",
    "# Output:\n",
    "# ['Python', 'Data Structures', 'Balloon Making', 'Algorithms']\n",
    "# 'Clowns 101'\n",
    " \n",
    "# Pop the element \"Baloon Making\"\n",
    "cs_topics.pop(2)\n",
    "print(cs_topics)\n",
    " \n",
    "# Output:\n",
    "# ['Python', 'Data Structures', 'Algorithms']"
   ]
  },
  {
   "cell_type": "markdown",
   "id": "553683df-85e7-42a2-b35d-310e75345c17",
   "metadata": {},
   "source": [
    "#### List Method .append()"
   ]
  },
  {
   "cell_type": "code",
   "execution_count": 74,
   "id": "6411ff8b-918e-4beb-a012-578b6b8741ae",
   "metadata": {},
   "outputs": [
    {
     "name": "stdout",
     "output_type": "stream",
     "text": [
      "['This', 'is', 'an', 'example', 'list']\n"
     ]
    }
   ],
   "source": [
    "append_example = [ 'This', 'is', 'an', 'example']\n",
    "append_example.append('list')\n",
    " \n",
    "print(append_example)"
   ]
  },
  {
   "cell_type": "markdown",
   "id": "89de4eb1-1ad9-465e-80b9-aeaaad0b9c6a",
   "metadata": {},
   "source": [
    "#### List Comprehension"
   ]
  },
  {
   "cell_type": "code",
   "execution_count": 75,
   "id": "110a2c21-4d03-48cc-ae79-3f2a9b3bbfdf",
   "metadata": {},
   "outputs": [
    {
     "name": "stdout",
     "output_type": "stream",
     "text": [
      "0\n",
      "1\n",
      "2\n",
      "3\n",
      "4\n",
      "5\n",
      "6\n",
      "7\n",
      "8\n",
      "9\n",
      "[0, 1, 4, 9, 16, 25, 36, 49, 64, 81]\n",
      "[0, 1, 8, 27, 64, 125, 216, 343, 512, 729]\n"
     ]
    }
   ],
   "source": [
    "single_digits = [0, 1, 2, 3, 4, 5, 6, 7, 8, 9]\n",
    "squares = []\n",
    "for value in single_digits:\n",
    "    print(value)\n",
    "    squares.append(value ** 2)\n",
    "print(squares)\n",
    "\n",
    "# create cubes using list comprehension\n",
    "cubes = [cube**3 for cube in single_digits]\n",
    "print(cubes)"
   ]
  },
  {
   "cell_type": "code",
   "execution_count": 76,
   "id": "f26f17f7-6139-49f9-9992-0bbb2c80ddc3",
   "metadata": {},
   "outputs": [
    {
     "name": "stdout",
     "output_type": "stream",
     "text": [
      "[0, 4, 16, 36, 64]\n"
     ]
    }
   ],
   "source": [
    "# List comprehension for the squares of all even numbers between 0 and 9\n",
    "result = [x**2 for x in range(10) if x % 2 == 0]\n",
    " \n",
    "print(result)\n",
    "# [0, 4, 16, 36, 64]"
   ]
  },
  {
   "cell_type": "markdown",
   "id": "5bf919b7-48b9-44db-ab68-5a9f34c4f58a",
   "metadata": {},
   "source": [
    "If you would like to add `else`, you have to move the conditionals to the beginning of the listcomp, right after the expression, like this."
   ]
  },
  {
   "cell_type": "code",
   "execution_count": 77,
   "id": "e4c78a8f-0275-4a54-b3b1-8f53c479b3ee",
   "metadata": {},
   "outputs": [
    {
     "name": "stdout",
     "output_type": "stream",
     "text": [
      "[0, 4, 4, 6, 16, 8, 36, 10, 64]\n"
     ]
    }
   ],
   "source": [
    "# list comprehension with if...else\n",
    "squares = [x**2 if x % 2 == 0 else x + 3 for x in range(9)]\n",
    "print(squares)"
   ]
  },
  {
   "cell_type": "code",
   "execution_count": 78,
   "id": "6dc5c1c5-9b86-4d06-93f8-47ce9362ab97",
   "metadata": {},
   "outputs": [
    {
     "name": "stdout",
     "output_type": "stream",
     "text": [
      "aedi dab a si sihT\n"
     ]
    }
   ],
   "source": [
    "# reverse a string using while loop\n",
    "my_list = 'This is a bad idea'\n",
    "i = len(my_list) - 1\n",
    "reversed_list = \"\"\n",
    "while i >= 0:\n",
    "    reversed_list += my_list[i]\n",
    "    i -= 1\n",
    "print(reversed_list)"
   ]
  },
  {
   "cell_type": "markdown",
   "id": "fbf63e7c-5aba-43b6-ab30-b6bd14a7db8a",
   "metadata": {},
   "source": [
    "#### Zip and Enumerate"
   ]
  },
  {
   "cell_type": "markdown",
   "id": "5340262e-2c0b-4f3f-8350-9be2f636c31f",
   "metadata": {},
   "source": [
    "**Zip**\n",
    "\n",
    "`zip` returns an iterator that combines multiple iterables into one sequence of tuples. Each tuple contains the elements in that position from all the iterables. For example, printing\n",
    "\n",
    "`list(zip(['a', 'b', 'c'], [1, 2, 3]))` would output `[('a', 1), ('b', 2), ('c', 3)]`.\n",
    "\n",
    "Like we did for `range()` we need to convert it to a list or iterate through it with a loop to see the elements. You could unpack each tuple in a `for` loop like this."
   ]
  },
  {
   "cell_type": "code",
   "execution_count": 79,
   "id": "1cdbf220-06bb-428b-b8ce-72caaf178093",
   "metadata": {},
   "outputs": [
    {
     "name": "stdout",
     "output_type": "stream",
     "text": [
      "a: 1\n",
      "b: 2\n",
      "c: 3\n"
     ]
    }
   ],
   "source": [
    "letters = ['a', 'b', 'c']\n",
    "nums = [1, 2, 3]\n",
    "\n",
    "for letter, num in zip(letters, nums):\n",
    "    print(\"{}: {}\".format(letter, num))"
   ]
  },
  {
   "cell_type": "code",
   "execution_count": 80,
   "id": "d676c2f5-9f75-4534-8337-6b8f463dc23d",
   "metadata": {},
   "outputs": [
    {
     "name": "stdout",
     "output_type": "stream",
     "text": [
      "('bananas', 15)\n",
      "('mattresses', 34)\n",
      "('dog kennels', 42)\n",
      "('machine', 120)\n",
      "('cheeses', 5)\n"
     ]
    }
   ],
   "source": [
    "items = ['bananas', 'mattresses', 'dog kennels', 'machine', 'cheeses']\n",
    "weights = [15, 34, 42, 120, 5]\n",
    "\n",
    "for item, weight in zip(items, weights):\n",
    "    print(tuple([item, weight]))"
   ]
  },
  {
   "cell_type": "markdown",
   "id": "24fa0b7d-a209-4560-9b0d-e4a032d8a58c",
   "metadata": {},
   "source": [
    "In addition to zipping two lists together, you can also unzip a list into tuples using an asterisk.\n",
    "\n",
    "**Unzipping into two list with asterisk**"
   ]
  },
  {
   "cell_type": "code",
   "execution_count": 81,
   "id": "ad8a4fd5-283f-4f85-b4b1-3a39d7fd715f",
   "metadata": {},
   "outputs": [
    {
     "name": "stdout",
     "output_type": "stream",
     "text": [
      "['a', 'b', 'c']\n",
      "[1, 2, 3]\n"
     ]
    }
   ],
   "source": [
    "some_list = [('a', 1), ('b', 2), ('c', 3)]\n",
    "letters, nums = zip(*some_list)\n",
    "print(list(letters))\n",
    "print(list(nums))"
   ]
  },
  {
   "cell_type": "code",
   "execution_count": 82,
   "id": "6d002554-4f8a-41d5-acae-726a7f037dfe",
   "metadata": {},
   "outputs": [
    {
     "name": "stdout",
     "output_type": "stream",
     "text": [
      "('bananas', 'mattresses', 'dog kennels', 'machine', 'cheeses')\n",
      "(15, 34, 42, 120, 5)\n"
     ]
    }
   ],
   "source": [
    "manifest = [('bananas', 15), ('mattresses', 34), ('dog kennels', 42), ('machine', 120), ('cheeses', 5)]\n",
    "\n",
    "items, weights = zip(*manifest)\n",
    "print(items)\n",
    "print(weights)"
   ]
  },
  {
   "cell_type": "markdown",
   "id": "7387c058-e036-4715-bbe7-8089c64ac5f7",
   "metadata": {},
   "source": [
    "**Enumerate**\n",
    "\n",
    "`enumerate` is a built in function that returns an iterator of tuples containing indices and values of a list. You'll often use this when you want the index along with each element of an iterable in a loop."
   ]
  },
  {
   "cell_type": "code",
   "execution_count": 83,
   "id": "1f4e3d57-44a6-4e2c-863c-3099a078b6fb",
   "metadata": {},
   "outputs": [
    {
     "name": "stdout",
     "output_type": "stream",
     "text": [
      "0 a\n",
      "1 b\n",
      "2 c\n",
      "3 d\n",
      "4 e\n"
     ]
    }
   ],
   "source": [
    "letters = ['a', 'b', 'c', 'd', 'e']\n",
    "for i, letter in enumerate(letters):\n",
    "    print(i, letter)"
   ]
  },
  {
   "cell_type": "code",
   "execution_count": 84,
   "id": "ef65a067-3146-4920-8881-82022f5dc9c8",
   "metadata": {},
   "outputs": [
    {
     "name": "stdout",
     "output_type": "stream",
     "text": [
      "0 bananas\n",
      "1 mattresses\n",
      "2 dog kennels\n",
      "3 machine\n",
      "4 cheeses\n"
     ]
    }
   ],
   "source": [
    "items = ('bananas', 'mattresses', 'dog kennels', 'machine', 'cheeses')\n",
    "for i, item in zip(range(len(items)), items):\n",
    "    print(i, item)"
   ]
  },
  {
   "cell_type": "code",
   "execution_count": 85,
   "id": "60073357-e207-4adf-98af-9eaaf298d708",
   "metadata": {},
   "outputs": [
    {
     "name": "stdout",
     "output_type": "stream",
     "text": [
      "0 bananas\n",
      "1 mattresses\n",
      "2 dog kennels\n",
      "3 machine\n",
      "4 cheeses\n"
     ]
    }
   ],
   "source": [
    "items = ('bananas', 'mattresses', 'dog kennels', 'machine', 'cheeses')\n",
    "for i, item in enumerate(items):\n",
    "    print(i, item)"
   ]
  },
  {
   "cell_type": "code",
   "execution_count": 91,
   "id": "33696455-5117-4ef2-a048-700824e9fab8",
   "metadata": {},
   "outputs": [
    {
     "name": "stdout",
     "output_type": "stream",
     "text": [
      "['Barney Stinson 72', 'Robin Scherbatsky 68', 'Ted Mosby 72', 'Lily Aldrin 66', 'Marshall Eriksen 76']\n"
     ]
    }
   ],
   "source": [
    "# Use `enumerate` to modify the `cast` list so that each element contains the name followed by the character's corresponding height. \n",
    "# For example, the first element of `cast` should change from `\"Barney Stinson\"` to `\"Barney Stinson 72\"`.\n",
    "\n",
    "cast = [\"Barney Stinson\", \"Robin Scherbatsky\", \"Ted Mosby\", \"Lily Aldrin\", \"Marshall Eriksen\"]\n",
    "heights = [72, 68, 72, 66, 76]\n",
    "heights_in_strings = [\"{}\".format(x) for x in heights]\n",
    "\n",
    "# write your for loop here\n",
    "for i, character in enumerate(cast):\n",
    "    cast[i] = character + \" \" + heights_in_strings[i]\n",
    "print(cast)"
   ]
  },
  {
   "cell_type": "markdown",
   "id": "4953acb8-ce0b-4dc7-b31f-c361475ac31f",
   "metadata": {},
   "source": [
    "#### check if all elements of a list are digit"
   ]
  },
  {
   "cell_type": "code",
   "execution_count": 88,
   "id": "6d744367-3d26-422c-8d35-071ad52d0bdf",
   "metadata": {},
   "outputs": [
    {
     "name": "stdout",
     "output_type": "stream",
     "text": [
      "The list contains only digits.\n"
     ]
    }
   ],
   "source": [
    "my_list = ['1', '2', '3', '4']\n",
    "\n",
    "# Check if all elements in the list are digits\n",
    "if all(element.isdigit() for element in my_list):\n",
    "    print('The list contains only digits.')\n",
    "else:\n",
    "    print('The list contains non-digit elements.')"
   ]
  },
  {
   "cell_type": "markdown",
   "id": "4a480ca4-9c40-40b7-a8a3-dfa1be6c42ef",
   "metadata": {},
   "source": [
    "To check if any element in a list is digit, use the map() function to convert all the elements in the list to strings before calling the isdigit() method on them."
   ]
  },
  {
   "cell_type": "code",
   "execution_count": 93,
   "id": "fdcbba35-dd35-48a7-ad77-bc887a078a65",
   "metadata": {},
   "outputs": [
    {
     "name": "stdout",
     "output_type": "stream",
     "text": [
      "1 2 3 4 5 6\n",
      "The list contains non-digit elements.\n"
     ]
    }
   ],
   "source": [
    "aList = ['1', 2, '3', 4, 5, 6]\n",
    "\n",
    "# change list to string if it is digit\n",
    "aList_to_str = ' '.join([\"{}\".format(x) for x in aList])\n",
    "print(aList_to_str)\n",
    "\n",
    "if any(isinstance(element, int) and element.isdigit() for element in aList_to_str):\n",
    "    print('The list contains only digits.')\n",
    "else:\n",
    "    print('The list contains non-digit elements.')       "
   ]
  },
  {
   "cell_type": "code",
   "execution_count": 94,
   "id": "0d3c15df-d616-49e0-8206-86eebaa45d5a",
   "metadata": {},
   "outputs": [
    {
     "data": {
      "text/plain": [
       "[['6', '2', '3'], ['4', '5', '9']]"
      ]
     },
     "execution_count": 94,
     "metadata": {},
     "output_type": "execute_result"
    }
   ],
   "source": [
    "# unzipping a list of tuples to a list of lists\n",
    "def unzipping_tuple_to_list(list_tuple):\n",
    "    \n",
    "    # using list comprehension to perform Unzipping\n",
    "    new_list = [[i for i, j in list_tuple], [j for i, j in list_tuple]]\n",
    "    return new_list\n",
    "\n",
    "aList =[('6', '4'), ('2', '5'), ('3', '9')]\n",
    "unzipping_tuple_to_list(aList)"
   ]
  },
  {
   "cell_type": "markdown",
   "id": "ab9e7d90-9efa-4352-9acd-10e5932567d6",
   "metadata": {},
   "source": [
    "#### Zip two list to list of lists"
   ]
  },
  {
   "cell_type": "code",
   "execution_count": 95,
   "id": "3eb981ec-873a-4310-b03b-eafdcd4ff5ec",
   "metadata": {},
   "outputs": [
    {
     "name": "stdout",
     "output_type": "stream",
     "text": [
      "[['Peter', 41], ['Lois', 40], ['Meg', 16], ['Chris', 17], ['Stewie', 1], ['Brian', 18]]\n"
     ]
    }
   ],
   "source": [
    "names = [\"Peter\", \"Lois\", \"Meg\", \"Chris\", \"Stewie\", \"Brian\"]\n",
    "ages = [41, 40, 16, 17, 1, 18]\n",
    "# Assume that the ages in ages correpond to the names in names by index. Write a Python module which:\n",
    "\n",
    "# zip two list to list of lists\n",
    "def zip_two_list_to_listoflists(list_1, list_2):\n",
    "    '''create list of lists from two list'''\n",
    "    new_family_list = [list(x) for x in zip(list_1, list_2)]   \n",
    "    return new_family_list \n",
    "\n",
    "# test\n",
    "print(zip_two_list_to_listoflists(names, ages))  "
   ]
  },
  {
   "cell_type": "markdown",
   "id": "e3b50744-b902-42e2-9ea4-79363aca9b23",
   "metadata": {},
   "source": [
    "#### Zip two list to list of tuples"
   ]
  },
  {
   "cell_type": "code",
   "execution_count": 96,
   "id": "841b9895-bf33-48b0-94b6-803bc5cea8ac",
   "metadata": {},
   "outputs": [
    {
     "name": "stdout",
     "output_type": "stream",
     "text": [
      "[('Peter', 41), ('Lois', 40), ('Meg', 16), ('Chris', 17), ('Stewie', 1), ('Brian', 18)]\n"
     ]
    }
   ],
   "source": [
    "names = [\"Peter\", \"Lois\", \"Meg\", \"Chris\", \"Stewie\", \"Brian\"]\n",
    "ages = [41, 40, 16, 17, 1, 18]\n",
    "# Assume that the ages in ages correpond to the names in names by index. Write a Python module which:\n",
    "\n",
    "# Assigns to the variable family a list of tuples in which the first element of each tuple is a name and the second element is the associated age.\n",
    "def two_list_to_listoftuples1(list_1, list_2):\n",
    "    '''create list of tuple from two list'''\n",
    "    family = []\n",
    "    for i, j in zip(list_1, list_2):\n",
    "        family.append((i, j))    \n",
    "    return family \n",
    "\n",
    "# test\n",
    "print(two_list_to_listoftuples1(names, ages))    "
   ]
  },
  {
   "cell_type": "code",
   "execution_count": 97,
   "id": "a585e99d-3dcf-47ce-82aa-bdc4f90cfdb3",
   "metadata": {},
   "outputs": [
    {
     "name": "stdout",
     "output_type": "stream",
     "text": [
      "[('Peter', 41), ('Lois', 40), ('Meg', 16), ('Chris', 17), ('Stewie', 1), ('Brian', 18)]\n"
     ]
    }
   ],
   "source": [
    "names = [\"Peter\", \"Lois\", \"Meg\", \"Chris\", \"Stewie\", \"Brian\"]\n",
    "ages = [41, 40, 16, 17, 1, 18]\n",
    "# Assume that the ages in ages correpond to the names in names by index. Write a Python module which:\n",
    "\n",
    "# Assigns to the variable family a list of tuples in which the first element of each tuple is a name and the second element is the associated age.\n",
    "def zip_two_list_to_listoftuples2(list_1, list_2):\n",
    "    '''create list of tuple from two list'''\n",
    "    new_family = list(zip(list_1, list_2))    \n",
    "    return new_family \n",
    "\n",
    "# test\n",
    "print(zip_two_list_to_listoftuples2(names, ages))    "
   ]
  },
  {
   "cell_type": "markdown",
   "id": "e32d124c-ecba-4410-99b1-cad6e0c9daa0",
   "metadata": {},
   "source": [
    "#### Sorted list of tuples with Lambda function"
   ]
  },
  {
   "cell_type": "code",
   "execution_count": 98,
   "id": "eb1cc3e1-67aa-4b85-9cce-9dc8fc99e403",
   "metadata": {},
   "outputs": [
    {
     "name": "stdout",
     "output_type": "stream",
     "text": [
      "The sorted list of tuples are: \n",
      "[('Peter', 41), ('Lois', 40), ('Brian', 18), ('Chris', 17), ('Meg', 16), ('Stewie', 1)]\n",
      "\n"
     ]
    }
   ],
   "source": [
    "# Sort list of tuples 1\n",
    "# Assigns to the variable family a list of tuples in which the first element of each tuple is a name and the second element is the associated age.\n",
    "def two_list_to_listoftuples(list_1, list_2):\n",
    "    '''create list of tuple from two list'''\n",
    "    family = []\n",
    "    for i, j in zip(list_1, list_2):\n",
    "        family.append((i, j))    \n",
    "    return family \n",
    "\n",
    "# Assigns to the variable sorted_family the elements of family sorted by age.\n",
    "def sort_listoftuples(list_of_tuples):\n",
    "    '''sort list of tuples by second element'''\n",
    "    list_of_tuples.sort(key = lambda i: i[1], reverse = True)\n",
    "    return list_of_tuples\n",
    "\n",
    "# test sorted list of tuples\n",
    "list_of_tuples = two_list_to_listoftuples(names, ages)\n",
    "print('The sorted list of tuples are: ')\n",
    "print(sort_listoftuples(list_of_tuples))\n",
    "print()"
   ]
  },
  {
   "cell_type": "markdown",
   "id": "7e3e7cc6-ff81-482e-95ce-18a431bf757c",
   "metadata": {},
   "source": [
    "#### Sorted list of tuples with a key"
   ]
  },
  {
   "cell_type": "code",
   "execution_count": 99,
   "id": "93ceaf5a-6dee-45f6-bf27-03619f19a412",
   "metadata": {},
   "outputs": [
    {
     "name": "stdout",
     "output_type": "stream",
     "text": [
      "[('Stan', 2.5, 'ISyE'), ('Kyle', 2.2, 'CS'), ('Cartman', 2.4, 'CmpE'), ('Kenny', 4.0, 'ME')]\n",
      "\n",
      "The sorted list of tuples are: \n",
      "[('Kyle', 2.2, 'CS'), ('Cartman', 2.4, 'CmpE'), ('Stan', 2.5, 'ISyE'), ('Kenny', 4.0, 'ME')]\n"
     ]
    }
   ],
   "source": [
    "# Sort list of tuples 2\n",
    "student_course_grades = [(\"Stan\", 2.5 , \"ISyE\") , (\"Kyle\", 2.2 , \"CS\") , (\"Cartman\", 2.4 , \"CmpE\") , (\"Kenny\", 4.0 , \"ME\")]\n",
    "\n",
    "def by_gpa (student_course_grades):\n",
    "    '''sort list of tuples by key'''\n",
    "    return student_course_grades[1]\n",
    "\n",
    "print(student_course_grades)\n",
    "print()\n",
    "print('The sorted list of tuples are: ')\n",
    "print(sorted(student_course_grades, key = by_gpa))"
   ]
  },
  {
   "cell_type": "markdown",
   "id": "18192a39-2629-43d8-b60a-59bf53b301ca",
   "metadata": {},
   "source": [
    "#### Map list of tuples to list of lists"
   ]
  },
  {
   "cell_type": "code",
   "execution_count": 100,
   "id": "622572d4-2474-43d6-a46d-48c2cc62faae",
   "metadata": {},
   "outputs": [
    {
     "name": "stdout",
     "output_type": "stream",
     "text": [
      "[[6, 4], [2, 5], [3, 9]]\n"
     ]
    }
   ],
   "source": [
    "# convert list of tuples to list of list\n",
    "list_of_tuples = [(6, 4), (2, 5), (3, 9)]\n",
    "list_of_lists = list(map(list, list_of_tuples))\n",
    "print(list_of_lists)"
   ]
  },
  {
   "cell_type": "markdown",
   "id": "4fb3bda8-7686-461e-bb1e-37d6c76b3e7a",
   "metadata": {},
   "source": [
    "#### Map list of lists to list of tuples"
   ]
  },
  {
   "cell_type": "code",
   "execution_count": 101,
   "id": "efb1e1a9-49da-4520-ae7c-36b7cea3ae44",
   "metadata": {},
   "outputs": [
    {
     "name": "stdout",
     "output_type": "stream",
     "text": [
      "[(6, 4), (2, 5), (3, 9)]\n"
     ]
    }
   ],
   "source": [
    "# convert the list of lists to a list of tuples using the map function\n",
    "#list_of_tuples = list(map(lambda x: (x[0], x[1]), list_of_lists))\n",
    "\n",
    "# convert the list of lists to a list of tuples using map + list\n",
    "list_of_tuples = list(map(tuple, list_of_lists)) # best used function\n",
    "print(list_of_tuples)"
   ]
  },
  {
   "cell_type": "markdown",
   "id": "82728394-5de0-472e-95ef-5a9e7f79d0ec",
   "metadata": {},
   "source": [
    "#### Convert tuple string to tuple int in nested list"
   ]
  },
  {
   "cell_type": "code",
   "execution_count": 102,
   "id": "2898bfdd-6ee4-49e9-a6eb-39fa3b1f61b7",
   "metadata": {},
   "outputs": [
    {
     "name": "stdout",
     "output_type": "stream",
     "text": [
      "[(6, 4), (2, 5), (3, 9)]\n",
      "<class 'int'>\n",
      "<class 'int'>\n",
      "<class 'int'>\n",
      "<class 'int'>\n",
      "<class 'int'>\n",
      "<class 'int'>\n"
     ]
    }
   ],
   "source": [
    "# given a tuple ---> aList =[('6', '4'), ('2', '5'), ('3', '9')]\n",
    "# \n",
    "aList =[('6', '4'), ('2', '5'), ('3', '9')]\n",
    "# perform conversion tuple string to tuple int in nested list\n",
    "tuple_list = [tuple(map(int, x)) for x in aList]\n",
    "    \n",
    "print(tuple_list)\n",
    "for i in tuple_list:\n",
    "    for j in i:\n",
    "        print(type(j))"
   ]
  },
  {
   "cell_type": "markdown",
   "id": "53a8d594-8203-487a-aca4-06e2269ff001",
   "metadata": {},
   "source": [
    "#### Check if input string is float, boolean, int or string"
   ]
  },
  {
   "cell_type": "code",
   "execution_count": 103,
   "id": "77ca036b-d189-432a-8306-864e82679315",
   "metadata": {},
   "outputs": [
    {
     "name": "stdout",
     "output_type": "stream",
     "text": [
      "string\n",
      "boolean\n",
      "float\n",
      "integer\n"
     ]
    }
   ],
   "source": [
    "# check if string is float\n",
    "def isfloat(str):\n",
    "    s1 = str.lstrip(' ')\n",
    "    s2 = s1.split('.')\n",
    "    return all(n.isdigit() for n in s2) and len(s2) <= 2\n",
    "\n",
    "# check if input string is float, boolean, int or string\n",
    "def input_type(a_string):\n",
    "    if a_string.isdigit():\n",
    "        return \"integer\"\n",
    "    elif a_string.isalpha():\n",
    "        return \"boolean\"\n",
    "    elif isfloat(a_string):\n",
    "        return \"float\"\n",
    "    else: \n",
    "        return \"string\"\n",
    "\n",
    "print(input_type(\"\"))\n",
    "print(input_type(\"False\"))\n",
    "print(input_type(\"7.432621\"))\n",
    "print(input_type(\"2788\"))"
   ]
  },
  {
   "cell_type": "markdown",
   "id": "be60fcc7-218a-468c-aa14-feb3a1d141a3",
   "metadata": {},
   "source": [
    "#### Search for a string and index inside a list of strings"
   ]
  },
  {
   "cell_type": "code",
   "execution_count": 104,
   "id": "6de6548c-dc0a-49b9-8930-e1ca66728bbb",
   "metadata": {},
   "outputs": [
    {
     "name": "stdout",
     "output_type": "stream",
     "text": [
      "[0, 1, 4]\n",
      "[2, 3]\n",
      "[1, 4]\n",
      "[4]\n",
      "[]\n"
     ]
    }
   ],
   "source": [
    "# search for a substring in a list of strings\n",
    "def inside_search(list_to_search, search_string):\n",
    "    result = []\n",
    "    for i, word in enumerate(list_to_search):\n",
    "        if search_string in word:\n",
    "            result.append(i)\n",
    "    return result\n",
    "   \n",
    "# using list comprehension\n",
    "# [i for i, w in enumerate(my_list) if sub_string in w]\n",
    "    \n",
    "cats_and_dogs_list = [\"cat\", \"cats\", \"dog\", \"dogs\", \"catsup\"]\n",
    "print(inside_search(cats_and_dogs_list, \"cat\"))        # returns [0, 1, 4]\n",
    "print(inside_search(cats_and_dogs_list, \"dog\"))        # returns [2, 3]\n",
    "print(inside_search(cats_and_dogs_list, \"cats\"))       # returns [1, 4]\n",
    "print(inside_search(cats_and_dogs_list, \"sup\"))        # returns [4]\n",
    "print(inside_search(cats_and_dogs_list, \"aardvark\"))   # returns []"
   ]
  },
  {
   "cell_type": "code",
   "execution_count": null,
   "id": "db599395-b87f-400e-a8a6-c348b9ab2de6",
   "metadata": {},
   "outputs": [],
   "source": []
  },
  {
   "cell_type": "markdown",
   "id": "40203dfa-39b1-4221-bb04-9dab05d95766",
   "metadata": {},
   "source": [
    "<div id=\"file_input_output\">\n",
    "    <h2>File Input and Output</h2> \n",
    "</div>"
   ]
  },
  {
   "cell_type": "markdown",
   "id": "d7f3275e-ad31-4fac-8feb-620e904cc135",
   "metadata": {},
   "source": [
    "#### Python Read Method\n",
    "\n",
    "```python\n",
    "with open('mystery.txt') as text_file:\n",
    "    text_data = text_file.read()\n",
    "print(text_data)\n",
    "```\n",
    "\n",
    "#### Python Readline Method\n",
    "\n",
    "To read only one line instead of multiple lines in a Python file, use the method `.readline()` on a file object that is returned from the `open()` function.\n",
    "\n",
    "```python\n",
    "with open('story.txt') as story_object:\n",
    "    print(story_object.readline())\n",
    "```\n",
    "\n",
    "```python\n",
    "with open('lines.txt') as file_object:\n",
    "    file_data = file_object.readlines()\n",
    "print(file_data)\n",
    "```\n",
    "\n",
    "#### Class csv.DictWriter\n",
    "\n",
    "```python\n",
    "# An example of csv.DictWriter\n",
    "import csv\n",
    " \n",
    "with open('companies.csv', 'w') as csvfile:\n",
    "    fieldnames = ['name', 'type']\n",
    "    writer = csv.DictWriter(csvfile, fieldnames=fieldnames)\n",
    "    writer.writeheader()\n",
    "    writer.writerow({'name': 'Codecademy', 'type': 'Learning'})\n",
    "    writer.writerow({'name': 'Google', 'type': 'Search'})\n",
    " \n",
    "\"\"\"\n",
    "After running the above code, companies.csv will contain the following information:\n",
    " \n",
    "name,type\n",
    "Codecademy,Learning\n",
    "Google,Search\n",
    "\"\"\"\n",
    "```\n",
    "\n",
    "#### Parsing JSON files to dictionary\n",
    "\n",
    "Use json.load with an opened file object to read the contents into a Python dictionary.\n",
    " \n",
    "Contents of file.json\n",
    "{ 'userId': 10 }\n",
    "```python \n",
    "import json\n",
    "with open('file.json') as json_file:\n",
    "    python_dict = json.load(json_file)\n",
    "\n",
    "print(python_dict.get('userId'))\n",
    "# Prints 10\n",
    "```\n",
    "\n",
    "#### Python Append To File\n",
    "\n",
    "```python\n",
    "with open('shopping.txt', 'a') as shop:\n",
    "    shop.write('Tomatoes, cucumbers, celery\\n')\n",
    "```\n",
    "\n",
    "#### Python Write To File\n",
    "\n",
    "```python\n",
    "with open('diary.txt','w') as diary:\n",
    "    diary.write('Special events for today')\n",
    "```\n"
   ]
  },
  {
   "cell_type": "markdown",
   "id": "a7e094f9-5ac0-45d1-b86b-45484538ad08",
   "metadata": {},
   "source": [
    "### Writing to files\n",
    "\n",
    "Use 'w' for write, 'r' for read or 'a' for append\n",
    "- Write will overwrite the current content of the file, append will add to the end of the file, and read will just read from the file without actually changing its contents.\n",
    "- First convert the data we are writing to a string and then append it with a line break at the end \"\\n\""
   ]
  },
  {
   "cell_type": "code",
   "execution_count": null,
   "id": "9ce5956d-db10-4161-b298-801027f2dc24",
   "metadata": {},
   "outputs": [],
   "source": [
    "# method 1 for outputing a number of variables\n",
    "myInt1 = 12\n",
    "myInt2 = 23\n",
    "myInt3 = 34\n",
    "\n",
    "# open OutputFile.txt in write mode\n",
    "outputFile = open(\"OutputFile.txt\", \"w\")\n",
    "\n",
    "# write myInt1 to outputFile\n",
    "outputFile.write(str(myInt1) + \"\\n\")\n",
    "# write myInt1 to outputFile\n",
    "outputFile.write(str(myInt2) + \"\\n\")\n",
    "# write myInt1 to outputFile\n",
    "outputFile.write(str(myInt3) + \"\\n\")\n",
    "#close outputFile\n",
    "outputFile.close()"
   ]
  },
  {
   "cell_type": "code",
   "execution_count": 106,
   "id": "5d6cc14d-2e8f-4667-bdb1-28e47b052722",
   "metadata": {},
   "outputs": [],
   "source": [
    "# method 2 for outputing a list using a loop\n",
    "\n",
    "myList = [\"David\", \"Lucy\", \"Vrushali\", \"Ping\", \"Natalie\", \"Dana\", \"Addison\", \"Jasmine\"]\n",
    "\n",
    "# open OutputFile.txt in write mode\n",
    "outputFile = open(\"OutputFile.txt\", \"w\")\n",
    "\n",
    "# for each name in myList\n",
    "for name in myList:\n",
    "    # write name to file on its own line\n",
    "    outputFile.write(name + \"\\n\")\n",
    "outputFile.close()"
   ]
  },
  {
   "cell_type": "code",
   "execution_count": 107,
   "id": "b9b8ce58-850e-4fa6-8bee-6ff89134de5e",
   "metadata": {},
   "outputs": [],
   "source": [
    "# method 3 using join method\n",
    "myList = [\"David\", \"Lucy\", \"Vrushali\", \"Ping\", \"Natalie\", \"Dana\", \"Addison\", \"Jasmine\"]\n",
    "\n",
    "# open OutputFile.txt in write mode\n",
    "outputFile = open(\"OutputFile.txt\", \"w\")\n",
    "\n",
    "# joins myList using \\n, then writes it to a file\n",
    "outputFile.write(\"\\n\".join(myList))\n",
    "outputFile.close()"
   ]
  },
  {
   "cell_type": "code",
   "execution_count": 108,
   "id": "d7e587fd",
   "metadata": {},
   "outputs": [],
   "source": [
    "# method 4  - another way to output file using print()\n",
    "myList = [\"David\", \"Lucy\", \"Vrushali\", \"Ping\",\n",
    "          \"Natalie\", \"Dana\", \"Addison\", \"Jasmine\"]\n",
    "\n",
    "# open OutputFile.txt in write mode\n",
    "outputFile = open(\"OutputFile.txt\", \"w\")\n",
    "for name in myList:\n",
    "    # write name to file on its own line\n",
    "    print(name, file=outputFile)\n",
    "outputFile.close()\n"
   ]
  },
  {
   "cell_type": "code",
   "execution_count": 109,
   "id": "b814c58b-2389-4829-861e-670bd858251a",
   "metadata": {},
   "outputs": [],
   "source": [
    "# Write a function called \"write_file\" that accepts two parameters: a filename and some data that will either be an integer or a string to write. The function \n",
    "# should open the file and write the data to the file.\n",
    "#\n",
    "# Hints:\n",
    "# - Don't forget to close the file when you're done!\n",
    "# - If the data isn't a string already, you may need to convert it, depending on the approach you choose.\n",
    "# - Remember, this code has no print statements, so when you run it, don't expect to see any output on the right! You could add print statements if you want a confirmation the code is done running.\n",
    "\n",
    "# write to file function\n",
    "def write_file(filename, data):\n",
    "    # open OutputFile.txt in write mode\n",
    "    with open(filename, 'w') as outputFile:\n",
    "        outputFile.write(data)\n",
    "    # close outputFile\n",
    "    outputFile.close()  \n",
    "\n",
    "# If your function works correctly, this will originally print nothing. However, if you open WriteFileOutput.txt in the top left after running it, the contents of the file should be 1301.\n",
    "write_file(\"WriteFileOutput.txt\", '1301')"
   ]
  },
  {
   "cell_type": "markdown",
   "id": "b4bbb8d5-c0b6-412d-bc6e-76fe0d3466ae",
   "metadata": {},
   "source": [
    "### Appending to files"
   ]
  },
  {
   "cell_type": "code",
   "execution_count": null,
   "id": "87d5764d-57b2-4143-8812-f267cd32b7b3",
   "metadata": {},
   "outputs": [],
   "source": [
    "# method 1 for appending a number of variables\n",
    "myInt1 = 12\n",
    "myInt2 = 23\n",
    "myInt3 = 34\n",
    "\n",
    "# open OutputFile.txt in write mode\n",
    "outputFile = open(\"OutputFile.txt\", \"a\")\n",
    "\n",
    "# write myInt1 to outputFile\n",
    "outputFile.write(str(myInt1) + \"\\n\")\n",
    "# write myInt1 to outputFile\n",
    "outputFile.write(str(myInt2) + \"\\n\")\n",
    "# write myInt1 to outputFile\n",
    "outputFile.write(str(myInt3) + \"\\n\")\n",
    "#close outputFile\n",
    "outputFile.close()"
   ]
  },
  {
   "cell_type": "code",
   "execution_count": 111,
   "id": "85c8df33-400f-4af0-9ef7-1a066d81f3a1",
   "metadata": {},
   "outputs": [],
   "source": [
    "myList = [\"David\", \"Lucy\", \"Vrushali\", \"Ping\",\n",
    "          \"Natalie\", \"Dana\", \"Addison\", \"Jasmine\"]\n",
    "\n",
    "# open OutputFile.txt in append mode\n",
    "outputFile = open(\"OutputFile.txt\", \"a\")\n",
    "\n",
    "# for each name in myList\n",
    "for name in myList:\n",
    "    # write the name to the file on its own line\n",
    "    print(name, file = outputFile)\n",
    "# close file\n",
    "outputFile.close()"
   ]
  },
  {
   "cell_type": "code",
   "execution_count": 112,
   "id": "550908e6-db85-47b6-b04a-e945ea976b6f",
   "metadata": {},
   "outputs": [],
   "source": [
    "# Write a function called \"append_to_file\" that accepts two parameters: a filename and some data that will be an integer or a string to write. The function should open the file and add the data to the end of\n",
    "# the file. Each new call to append_to_file should add the new contents on a new line.\n",
    "#\n",
    "# Hints:\n",
    "# - Don't forget to close the file when you're done!\n",
    "# - If the data isn't a string already, you may need to convert it.\n",
    "# - Remember, this code has no print statements, so when you run it, don't expect to see any output on the right! You could add print statements if you want a confirmation the code is done running.\n",
    "\n",
    "# append to file function\n",
    "def append_to_file(filename, data):\n",
    "    # open OutputFile.txt in write mode\n",
    "    outputFile = open(filename, \"a\")\n",
    "    if type(data) == int:\n",
    "        # write myInt3 to outputFile\n",
    "        outputFile.write(str(data) + \"\\n\")    \n",
    "    else:\n",
    "        outputFile.write(data + \"\\n\")  \n",
    "    # close outputFile\n",
    "    outputFile.close()  \n",
    "    \n",
    "# If your function works correctly, this will originally print nothing. However, if you open AppendToFileOutput.txt in the top left after running it, the contents of the file should be another instance of 1234567.\n",
    "append_to_file(\"WriteFileOutput.txt\", '1234567')"
   ]
  },
  {
   "cell_type": "markdown",
   "id": "2252bc62-6bce-4205-9ea4-79ebc002d664",
   "metadata": {},
   "source": [
    "### Reading files in Python"
   ]
  },
  {
   "cell_type": "code",
   "execution_count": 113,
   "id": "21085922-8e9e-4aef-a035-a666b9d0befd",
   "metadata": {},
   "outputs": [
    {
     "name": "stdout",
     "output_type": "stream",
     "text": [
      "David\n",
      "Lucy\n",
      "Vrushali\n"
     ]
    }
   ],
   "source": [
    "# method 1 for reading a file\n",
    "inputFile = open(\"OutputFile.txt\", \"r\")\n",
    "\n",
    "# print the next line of inputFile\n",
    "print(inputFile.readline().strip()) \n",
    "# print the next line of inputFile\n",
    "print(inputFile.readline().strip()) \n",
    "# print the next line of inputFile\n",
    "print(inputFile.readline().strip()) \n",
    "\n",
    "inputFile.close()"
   ]
  },
  {
   "cell_type": "code",
   "execution_count": 114,
   "id": "0a15fbfb-a419-460c-9861-c23baf2c3d4a",
   "metadata": {},
   "outputs": [
    {
     "name": "stdout",
     "output_type": "stream",
     "text": [
      "['David', 'Lucy', 'Vrushali', 'Ping', 'Natalie', 'Dana', 'Addison', 'Jasmine', 'David', 'Lucy', 'Vrushali', 'Ping', 'Natalie', 'Dana', 'Addison', 'Jasmine']\n"
     ]
    }
   ],
   "source": [
    "# loading into lists\n",
    "myList = []\n",
    "\n",
    "# open OutputFile.txt in read mode\n",
    "inputFile = open(\"OutputFile.txt\", \"r\")    \n",
    "\n",
    "# for each line in the file\n",
    "for line in inputFile:  \n",
    "    # add the line to myList, stripping out whitespace\n",
    "    myList.append(line.strip()) \n",
    "\n",
    "print(myList)\n",
    "\n",
    "inputFile.close()"
   ]
  },
  {
   "cell_type": "code",
   "execution_count": 115,
   "id": "89570790-51ac-4880-a7b3-4c48a771778f",
   "metadata": {},
   "outputs": [
    {
     "name": "stdout",
     "output_type": "stream",
     "text": [
      "True\n",
      "False\n"
     ]
    }
   ],
   "source": [
    "# Write a function called \"find_coffee\" that expects a filename as a parameter. The function should open the given file and return True if the file contains the word \"coffee\". \n",
    "# Otherwise, the function should return False. Hint: look up the read() method if you want to do this more simply than you might do with readline().\n",
    "\n",
    "# open file function here!\n",
    "def find_coffee(filename):\n",
    "    with open(filename) as text_file:\n",
    "        text_data = text_file.read()\n",
    "    if 'coffee' in text_data:\n",
    "        return True\n",
    "    else:\n",
    "        return False\n",
    "    text_data.close()\n",
    "\n",
    "# test\n",
    "print(find_coffee(\"coffeeful.txt\"))\n",
    "print(find_coffee(\"coffeeless.txt\"))"
   ]
  },
  {
   "cell_type": "code",
   "execution_count": null,
   "id": "db692865-8d40-46a6-ab0d-c1b1bf21e59e",
   "metadata": {},
   "outputs": [],
   "source": []
  },
  {
   "cell_type": "markdown",
   "id": "ad036e53-d475-4c2e-a1f2-ec3e825b1a04",
   "metadata": {},
   "source": [
    "<div id=\"dictionaries\">\n",
    "    <h2>Dictionaries</h2> \n",
    "</div>"
   ]
  },
  {
   "cell_type": "markdown",
   "id": "cac6adbe-48c5-43a0-a62f-a05055fc536f",
   "metadata": {},
   "source": [
    "#### Creating and Accessing dictionary\n",
    "\n",
    "- **Syntax**\n",
    "```python\n",
    "myDictionary = {\"[key]\": [value], \"[key]\": [value], \"[key]\": [value], \"[key]\": [value]}\n",
    "```"
   ]
  },
  {
   "cell_type": "code",
   "execution_count": 116,
   "id": "6756253e-9b34-4459-8705-fc77b661b70a",
   "metadata": {},
   "outputs": [
    {
     "name": "stdout",
     "output_type": "stream",
     "text": [
      "{'sprockets': 5, 'widgets': 11, 'cogs': 3, 'gizmos': 15}\n",
      "\n",
      "Estranged\n"
     ]
    }
   ],
   "source": [
    "# creating dictionary\n",
    "myDictionary = {\"sprockets\": 5, \"widgets\": 11, \"cogs\": 3, \"gizmos\": 15}\n",
    "my_dictionary = {\"song\": \"Estranged\", \"artist\": \"Guns N' Roses\"}\n",
    "print(myDictionary)\n",
    "print()\n",
    "print(my_dictionary[\"song\"])"
   ]
  },
  {
   "cell_type": "code",
   "execution_count": 117,
   "id": "8a4997c6-74ca-47a3-9a29-baad7e20c5bc",
   "metadata": {},
   "outputs": [
    {
     "name": "stdout",
     "output_type": "stream",
     "text": [
      "Paradise City\n"
     ]
    }
   ],
   "source": [
    "# updating values of a dictionary\n",
    "my_dictionary[\"song\"] = \"Paradise City\"\n",
    "print(my_dictionary[\"song\"])"
   ]
  },
  {
   "cell_type": "markdown",
   "id": "307dfbd2-0398-445f-b0e4-552bdc7c0878",
   "metadata": {},
   "source": [
    "#### Dictionaries Methods\n",
    "\n",
    " - `values()`: A method of the dictionary type that returns a list of all the values of that dictionary.\n",
    " - `keys()`: A method of a dictionary type that returns a list of all the keys in that dictionary.\n",
    " - `items()`: A method of a dictionary type that returns a list of (key, value) tuples in that dictionary."
   ]
  },
  {
   "cell_type": "code",
   "execution_count": 118,
   "id": "4167a8bb-c732-4fd8-8011-53d12cbec5ce",
   "metadata": {},
   "outputs": [
    {
     "data": {
      "text/plain": [
       "dict_items([('a', 'anteater'), ('b', 'bumblebee'), ('c', 'cheetah')])"
      ]
     },
     "execution_count": 118,
     "metadata": {},
     "output_type": "execute_result"
    }
   ],
   "source": [
    "ex_dict = {\"a\": \"anteater\", \"b\": \"bumblebee\", \"c\": \"cheetah\"}\n",
    " \n",
    "ex_dict.keys()\n",
    "# dict_keys([\"a\",\"b\",\"c\"])\n",
    " \n",
    "ex_dict.values()\n",
    "# dict_values([\"anteater\", \"bumblebee\", \"cheetah\"])\n",
    " \n",
    "ex_dict.items()\n",
    "# dict_items([(\"a\",\"anteater\"),(\"b\",\"bumblebee\"),(\"c\",\"cheetah\")])"
   ]
  },
  {
   "cell_type": "markdown",
   "id": "24bd4263-8418-4a6d-9d1e-c3c0a617c02c",
   "metadata": {},
   "source": [
    "#### Adding to and Removing from dictionary"
   ]
  },
  {
   "cell_type": "code",
   "execution_count": 119,
   "id": "2fcbbf06-e3ff-40cc-b46c-b0d188e1a083",
   "metadata": {},
   "outputs": [
    {
     "name": "stdout",
     "output_type": "stream",
     "text": [
      "{'sprockets': 5, 'widgets': 11, 'cogs': 3, 'gizmos': 15}\n",
      "{'sprockets': 5, 'widgets': 11, 'cogs': 3, 'gizmos': 15, 'gadgets': 1}\n",
      "{'sprockets': 5, 'widgets': 11, 'cogs': 3, 'gizmos': 15}\n"
     ]
    }
   ],
   "source": [
    "# create dictionary\n",
    "myDictionary = {\"sprockets\": 5, \"widgets\": 11, \"cogs\": 3, \"gizmos\": 15}\n",
    "print(myDictionary)\n",
    "\n",
    "# check if \"gadgets\" key is present and add if absent\n",
    "if \"gadgets\" in myDictionary:\n",
    "    print(\"gadgets is already in myDictionary\")\n",
    "    myDictionary[\"gadgets1\"] = 1\n",
    "else:\n",
    "    myDictionary[\"gadgets\"] = 1\n",
    "print(myDictionary)\n",
    "\n",
    "# deleting from a dictionary using `del`\n",
    "del myDictionary[\"gadgets\"]\n",
    "print(myDictionary)"
   ]
  },
  {
   "cell_type": "code",
   "execution_count": 120,
   "id": "ef3938c7-5c38-47d3-9178-f83b2f648740",
   "metadata": {},
   "outputs": [
    {
     "name": "stdout",
     "output_type": "stream",
     "text": [
      "{'Turquoise': '#40E0D0', 'Red': '#990000'}\n"
     ]
    }
   ],
   "source": [
    "# Create a function called tup_to_dict. tup_to_dict should take one parameter: a list of tuples. You can assume each tuple in the list has exactly two values.\n",
    "#The function should return a dictionary where the first item in each tuple is the key, and the second item in each tuple is the corresponding value.\n",
    "#\n",
    "#For example:\n",
    "# colors = [(\"turquoise\", \"#40E0D0\"), (\"red\", \"#990000\")]\n",
    "# tup_to_dict(colors) -> {\"turquoise\":\"#40E0D0\", \"red\":\"#990000\"}\n",
    "\n",
    "# Tuples to dictionary function\n",
    "def tup_to_dict(colors):\n",
    "    colors_dict = dict((key, value) for key, value in colors)\n",
    "    return colors_dict\n",
    "\n",
    "#If your function works correctly, this will originally\n",
    "#print:  {'Turquoise':'#40E0D0', 'Red':'#990000'}\n",
    "print(tup_to_dict([(\"Turquoise\", \"#40E0D0\"), (\"Red\", \"#990000\")]))"
   ]
  },
  {
   "cell_type": "markdown",
   "id": "c3c879d3-f13e-422e-9b47-eba34cfd80e5",
   "metadata": {},
   "source": [
    "#### Merging dictionaries with the .update() method in Python"
   ]
  },
  {
   "cell_type": "code",
   "execution_count": 121,
   "id": "742eeab6-4f51-4cab-8c03-771a2f922154",
   "metadata": {},
   "outputs": [],
   "source": [
    "dict1 = {'color': 'blue', 'shape': 'circle'}\n",
    "dict2 = {'color': 'red', 'number': 42}\n",
    " \n",
    "dict1.update(dict2)\n",
    " \n",
    "# dict1 is now {'color': 'red', 'shape': 'circle', 'number': 42}"
   ]
  },
  {
   "cell_type": "markdown",
   "id": "dbb17d8d-15d1-42b8-8012-56f086ca6349",
   "metadata": {},
   "source": [
    "#### Using conditionals with Dictionary"
   ]
  },
  {
   "cell_type": "code",
   "execution_count": 122,
   "id": "99953d1a-da18-41ce-bb9c-64972cfe87de",
   "metadata": {},
   "outputs": [
    {
     "name": "stdout",
     "output_type": "stream",
     "text": [
      "Cinderella wears blue\n",
      "Belle wears yellow\n",
      "Mulan wears red\n",
      "Tiana wears green\n",
      "\n",
      "Cinderella wears blue\n",
      "Belle wears yellow\n",
      "Mulan wears red\n",
      "Tiana wears green\n"
     ]
    }
   ],
   "source": [
    "my_dictionary = {'Cinderella':'blue', 'Belle':'yellow', 'Mulan':'red', 'Tiana':'green'}\n",
    "for princess_name in my_dictionary: # iterate over keys only, not key-value pairs\n",
    "    print(princess_name, \"wears\", my_dictionary[princess_name])\n",
    "    \n",
    "print()\n",
    "for (princess_name, princess_dress) in my_dictionary.items(): # return a tuple after iteration over keys and values together\n",
    "    print(princess_name, \"wears\", princess_dress)"
   ]
  },
  {
   "cell_type": "code",
   "execution_count": 123,
   "id": "5228f6e1-ddfb-4047-a787-4bbe91f132a9",
   "metadata": {},
   "outputs": [
    {
     "name": "stdout",
     "output_type": "stream",
     "text": [
      "{'David': 2, 'Brenton': 2, 'Nicol': 1, 'Shelba': 5, 'Maren': 1}\n"
     ]
    }
   ],
   "source": [
    "#Write a function called name_counts. name_counts will take as input a list of full names. Each name will be two words separated by a space, like \"David Joyner\".\n",
    "#The function should return a dictionary. The keys to the dictionary will be the first names from the list, and the values should be the number of times that first name appeared.\n",
    "\n",
    "# Add your function here!\n",
    "def name_counts(aList):\n",
    "    first_name = []\n",
    "    name_dict = {}\n",
    "    for items in aList:\n",
    "        first_name.append(items.split()[0])\n",
    "    for name in first_name:\n",
    "        if name in name_dict:\n",
    "            name_dict[name] += 1\n",
    "        else:\n",
    "            name_dict[name] = 1\n",
    "    return name_dict\n",
    "\n",
    "#If your function works correctly, this will originally print (although the order of the keys may vary): {'Shelba': 5, 'Maren': 1, 'Nicol': 1, 'David': 2, 'Brenton': 2}\n",
    "name_list = [\"David Joyner\", \"David Zuber\", \"Brenton Joyner\",\n",
    "             \"Brenton Zuber\", \"Nicol Barthel\", \"Shelba Barthel\",\n",
    "             \"Shelba Crowley\", \"Shelba Fernald\", \"Shelba Odle\",\n",
    "             \"Shelba Fry\", \"Maren Fry\"]\n",
    "print(name_counts(name_list))"
   ]
  },
  {
   "cell_type": "code",
   "execution_count": 124,
   "id": "469c9940-a6a4-4ab8-80d8-1fd2ee16a865",
   "metadata": {},
   "outputs": [
    {
     "name": "stdout",
     "output_type": "stream",
     "text": [
      "{'David': ['David Joyner', 'David Zuber'], 'Brenton': ['Brenton Joyner', 'Brenton Zuber'], 'Nicol': ['Nicol Barthel'], 'Shelba': ['Shelba Barthel', 'Shelba Crowley', 'Shelba Fernald', 'Shelba Fry', 'Shelba Odle'], 'Maren': ['Maren Fry']}\n"
     ]
    }
   ],
   "source": [
    "#Modify the previous code such that instead of having a count as the value, you instead have a list of the full names that had that first name. So, each key in the dictionary would still\n",
    "#be a first name, but the values would be lists of names. Make sure to sort the list of names, too. Name this new function name_lists.\n",
    "\n",
    "#Add your function here!\n",
    "def name_lists(name_list):\n",
    "    name_dict = {}\n",
    "  \n",
    "    # Loop through the list of names\n",
    "    for name in name_list:\n",
    "        # Split the name into first and last name\n",
    "        first, last = name.split()\n",
    "            \n",
    "        # If the first name is not in the dictionary, add it as a key\n",
    "        # with an empty list as the value\n",
    "        if first not in name_dict:\n",
    "            name_dict[first] = []\n",
    "      \n",
    "        # Add the full name to the list of names for the corresponding first name\n",
    "        name_dict[first].append(name)\n",
    "  \n",
    "    # Sort the lists of names for each first name\n",
    "    for first_name in name_dict:\n",
    "        name_dict[first_name] = sorted(name_dict[first_name])\n",
    "  \n",
    "    # Return the dictionary\n",
    "    return name_dict\n",
    "\n",
    "#If your function works correctly, this will originally print (although the order of the keys may vary): \n",
    "#{'Shelba': ['Shelba Barthel', 'Shelba Crowley', 'Shelba Fernald', 'Shelba Fry', 'Shelba Odle'],\n",
    "#'David': ['David Joyner', 'David Zuber'], 'Brenton': ['Brenton Joyner', 'Brenton Zuber'],\n",
    "#'Maren': ['Maren Fry'], 'Nicol': ['Nicol Barthel']}\n",
    "\n",
    "name_list = [\"David Joyner\", \"David Zuber\", \"Brenton Joyner\",\n",
    "             \"Brenton Zuber\", \"Nicol Barthel\", \"Shelba Barthel\",\n",
    "             \"Shelba Crowley\", \"Shelba Fernald\", \"Shelba Odle\",\n",
    "             \"Shelba Fry\", \"Maren Fry\"]\n",
    "print(name_lists(name_list))"
   ]
  },
  {
   "cell_type": "markdown",
   "id": "64a0a305-a98b-4dc9-957b-207aef7a586a",
   "metadata": {},
   "source": [
    "#### get() Method for Dictionary"
   ]
  },
  {
   "cell_type": "code",
   "execution_count": 125,
   "id": "94ef83df-a665-4241-a6df-5def85a05b49",
   "metadata": {},
   "outputs": [
    {
     "data": {
      "text/plain": [
       "'nickname is not a key'"
      ]
     },
     "execution_count": 125,
     "metadata": {},
     "output_type": "execute_result"
    }
   ],
   "source": [
    "# without default\n",
    "{\"name\": \"Victor\"}.get(\"name\")\n",
    "# returns \"Victor\"\n",
    " \n",
    "{\"name\": \"Victor\"}.get(\"nickname\")\n",
    "# returns None\n",
    " \n",
    "# with default\n",
    "{\"name\": \"Victor\"}.get(\"nickname\", \"nickname is not a key\")\n",
    "# returns \"nickname is not a key\""
   ]
  },
  {
   "cell_type": "markdown",
   "id": "ef6c05dc-8129-452d-a392-7ef1e67c963a",
   "metadata": {},
   "source": [
    "#### The .pop() Method for Dictionaries in Python"
   ]
  },
  {
   "cell_type": "code",
   "execution_count": 126,
   "id": "cc49cf17-c929-4913-8844-53952da192ab",
   "metadata": {},
   "outputs": [
    {
     "name": "stdout",
     "output_type": "stream",
     "text": [
      "{'Washington': 'Smithsonian Institution', 'Paris': 'Le Louvre'}\n"
     ]
    }
   ],
   "source": [
    "famous_museums = {'Washington': 'Smithsonian Institution', 'Paris': 'Le Louvre', 'Athens': 'The Acropolis Museum'}\n",
    "famous_museums.pop('Athens')\n",
    "print(famous_museums) # {'Washington': 'Smithsonian Institution', 'Paris': 'Le Louvre'}"
   ]
  },
  {
   "cell_type": "markdown",
   "id": "9d7094fc-365c-40bb-b78b-7f14e257c819",
   "metadata": {},
   "source": [
    "#### Tuples to Dictionary"
   ]
  },
  {
   "cell_type": "code",
   "execution_count": 127,
   "id": "f9a89dc7-4b5b-4564-ad84-bbac4dcd3b4b",
   "metadata": {},
   "outputs": [
    {
     "name": "stdout",
     "output_type": "stream",
     "text": [
      "{'Barney': 72, 'Robin': 68, 'Ted': 72, 'Lily': 66, 'Marshall': 76}\n"
     ]
    }
   ],
   "source": [
    "# Tuples to dictionary function\n",
    "tuple_list = [('Barney', 72), ('Robin', 68), ('Ted', 72), ('Lily', 66), ('Marshall', 76)]\n",
    "\n",
    "def tup_to_dict(tuple_list):\n",
    "    tuple_dict = dict((key, value) for key, value in tuple_list)\n",
    "    return tuple_dict\n",
    "\n",
    "print(tup_to_dict(tuple_list))"
   ]
  },
  {
   "cell_type": "markdown",
   "id": "cb20bfca-44bb-4c26-918b-3c3c155fce76",
   "metadata": {},
   "source": [
    "#### Zip Lists to a Dictionary"
   ]
  },
  {
   "cell_type": "code",
   "execution_count": 128,
   "id": "134a308d-db4d-4177-9ba5-a52aa8072ba4",
   "metadata": {},
   "outputs": [
    {
     "name": "stdout",
     "output_type": "stream",
     "text": [
      "{'Barney': 72, 'Robin': 68, 'Ted': 72, 'Lily': 66, 'Marshall': 76}\n"
     ]
    }
   ],
   "source": [
    "# Use zip to create a dictionary cast that uses names as keys and heights as values.\n",
    "cast_names = [\"Barney\", \"Robin\", \"Ted\", \"Lily\", \"Marshall\"]\n",
    "cast_heights = [72, 68, 72, 66, 76]\n",
    "\n",
    "cast = dict(zip(cast_names, cast_heights))\n",
    "print(cast)"
   ]
  },
  {
   "cell_type": "markdown",
   "id": "1e2f491e-85af-4a4f-a946-13e956edc710",
   "metadata": {},
   "source": [
    "#### Unzip Dictionary to Tuple"
   ]
  },
  {
   "cell_type": "code",
   "execution_count": 129,
   "id": "09338ce7-f037-4490-b112-e626308ce961",
   "metadata": {},
   "outputs": [
    {
     "name": "stdout",
     "output_type": "stream",
     "text": [
      "[('Barney', 72), ('Robin', 68), ('Ted', 72), ('Lily', 66), ('Marshall', 76)]\n"
     ]
    }
   ],
   "source": [
    "# Unzip dictionary to tuple\n",
    "convert_to_list = zip(cast.keys(), cast.values()) # convert to zip object\n",
    "converted_list = list(convert_to_list)            # converted zip object to list\n",
    "print(converted_list)"
   ]
  },
  {
   "cell_type": "markdown",
   "id": "4d8a35de-d6a3-4edb-8df9-b40093048510",
   "metadata": {},
   "source": [
    "#### Unzip Dictionary to List"
   ]
  },
  {
   "cell_type": "code",
   "execution_count": 130,
   "id": "928913c5-0f5e-4566-a9c6-bcdac3949b30",
   "metadata": {},
   "outputs": [
    {
     "name": "stdout",
     "output_type": "stream",
     "text": [
      "['Barney', 'Robin', 'Ted', 'Lily', 'Marshall']\n",
      "[72, 68, 72, 66, 76]\n"
     ]
    }
   ],
   "source": [
    "# dictionary to list\n",
    "cast_names1 = list(cast.keys())\n",
    "cast_heights1 = list(cast.values())\n",
    "print(cast_names1)\n",
    "print(cast_heights1)"
   ]
  },
  {
   "cell_type": "markdown",
   "id": "dd5f6635-d8da-4301-b57f-cf24323aabad",
   "metadata": {},
   "source": [
    "#### Unzip Tuples to List"
   ]
  },
  {
   "cell_type": "code",
   "execution_count": 131,
   "id": "9ef1d45c-2ec6-4bab-8efc-d9c2eb1fc3a6",
   "metadata": {},
   "outputs": [
    {
     "name": "stdout",
     "output_type": "stream",
     "text": [
      "('Barney', 'Robin', 'Ted', 'Lily', 'Marshall')\n",
      "(72, 68, 72, 66, 76)\n"
     ]
    }
   ],
   "source": [
    "# Unzip tuples \n",
    "new_cast_name, new_cast_height = zip(*converted_list)\n",
    "print(new_cast_name)\n",
    "print(new_cast_height)"
   ]
  },
  {
   "cell_type": "code",
   "execution_count": 132,
   "id": "7177440a-6aee-40ee-ba3e-0e6fb5690e22",
   "metadata": {},
   "outputs": [
    {
     "name": "stdout",
     "output_type": "stream",
     "text": [
      "{'Peter': 41, 'Lois': 40, 'Meg': 16, 'Chris': 17, 'Stewie': 1, 'Brian': 18}\n"
     ]
    }
   ],
   "source": [
    "# Assigns to the variable name2age a dictionary mapping names to ages.\n",
    "def two_list_to_dictionary(list_1, list_2):\n",
    "    '''create dictionary from two list'''\n",
    "    name2age = dict(zip(list_1, list_2))\n",
    "    return name2age\n",
    "\n",
    "# test\n",
    "print(two_list_to_dictionary(names, ages)) "
   ]
  },
  {
   "cell_type": "code",
   "execution_count": null,
   "id": "d5b265a4-6af3-4ad0-8a9d-746f5b37b469",
   "metadata": {},
   "outputs": [],
   "source": []
  },
  {
   "cell_type": "markdown",
   "id": "53d1861a-9475-4845-ab7f-abc1758541c3",
   "metadata": {},
   "source": [
    "## Modules"
   ]
  },
  {
   "cell_type": "markdown",
   "id": "7dbcc0ae-1562-4f39-b83c-00b2a903092c",
   "metadata": {},
   "source": [
    "A module is a collection of Python declarations intended broadly to be used as a tool. Modules are also often referred to as “libraries” or “packages” — a package is really a directory that holds a collection of modules."
   ]
  },
  {
   "cell_type": "markdown",
   "id": "986a6487-f819-4cf7-b0c9-3661b9226f7e",
   "metadata": {},
   "source": [
    "#### Date and Time in Python"
   ]
  },
  {
   "cell_type": "code",
   "execution_count": 133,
   "id": "6576aba4-5131-4eb3-ba0a-560e821181d8",
   "metadata": {},
   "outputs": [
    {
     "name": "stdout",
     "output_type": "stream",
     "text": [
      "2019-02-16\n",
      "13:48:05\n",
      "2019-02-16 13:48:05\n"
     ]
    }
   ],
   "source": [
    "import datetime\n",
    "feb_16_2019 = datetime.date(year=2019, month=2, day=16)\n",
    "feb_16_2019 = datetime.date(2019, 2, 16)\n",
    "print(feb_16_2019) #2019-02-16\n",
    " \n",
    "time_13_48min_5sec = datetime.time(hour=13, minute=48, second=5)\n",
    "time_13_48min_5sec = datetime.time(13, 48, 5)\n",
    "print(time_13_48min_5sec) #13:48:05\n",
    " \n",
    "timestamp= datetime.datetime(year=2019, month=2, day=16, hour=13, minute=48, second=5)\n",
    "timestamp = datetime.datetime(2019, 2, 16, 13, 48, 5)\n",
    "print (timestamp) #2019-01-02 13:48:05"
   ]
  },
  {
   "cell_type": "markdown",
   "id": "6856f7e2-7f78-482d-873d-ad45252f84e6",
   "metadata": {},
   "source": [
    "#### Aliasing with ‘as’ keyword"
   ]
  },
  {
   "cell_type": "code",
   "execution_count": 134,
   "id": "d78a7e37-f0ae-44c3-aaca-7852860362c6",
   "metadata": {},
   "outputs": [
    {
     "name": "stdout",
     "output_type": "stream",
     "text": [
      "January\n"
     ]
    },
    {
     "data": {
      "image/png": "[encoded data removed]",
      "text/plain": [
       "<Figure size 432x288 with 1 Axes>"
      ]
     },
     "metadata": {
      "needs_background": "light"
     },
     "output_type": "display_data"
    }
   ],
   "source": [
    "#!pip install matplotlib\n",
    "import matplotlib.pyplot as plt\n",
    "x = [0, 1, 2, 3, 4]\n",
    "y = [2, 4, 6, 8, 10]\n",
    "\n",
    "# Aliasing matplotlib.pyplot as plt\n",
    "plt.plot(x, y)\n",
    " \n",
    "# Aliasing calendar as c\n",
    "import calendar as c\n",
    "print(c.month_name[1])"
   ]
  },
  {
   "cell_type": "markdown",
   "id": "b42f3451-4acd-47e3-b009-01c54ab6255b",
   "metadata": {},
   "source": [
    "#### Import Python Modules"
   ]
  },
  {
   "cell_type": "markdown",
   "id": "7d67d6db-001f-433a-b33e-33ae27737cf7",
   "metadata": {},
   "source": [
    "##### Three different ways to import modules:\n",
    "- First way\n",
    "```python\n",
    "import module\n",
    "module.function()\n",
    "```\n",
    "___\n",
    " \n",
    "- Second way\n",
    "```python\n",
    "from module import function\n",
    "function()\n",
    "```\n",
    "___\n",
    "- Third way\n",
    "```python\n",
    "from module import *\n",
    "function()\n",
    "```"
   ]
  },
  {
   "cell_type": "markdown",
   "id": "9203689d-fefc-4c86-93d7-890a1a23dd4d",
   "metadata": {},
   "source": [
    "#### random.randint() and random.choice()"
   ]
  },
  {
   "cell_type": "code",
   "execution_count": 135,
   "id": "8d86dc52-76d8-4d01-883d-45875ae859a0",
   "metadata": {},
   "outputs": [
    {
     "name": "stdout",
     "output_type": "stream",
     "text": [
      "5\n",
      "c\n"
     ]
    }
   ],
   "source": [
    "# Returns a random integer N in a given range, such that start <= N <= end\n",
    "# random.randint(start, end)\n",
    "import random\n",
    "r1 = random.randint(0, 10)  \n",
    "print(r1) # Random integer where 0 <= r1 <= 10\n",
    " \n",
    "# Prints a random element from a sequence\n",
    "seq = [\"a\", \"b\", \"c\", \"d\", \"e\"]\n",
    "r2 = random.choice(seq)\n",
    "print(r2) # Random element in the sequence"
   ]
  },
  {
   "cell_type": "markdown",
   "id": "53fdcc72-2395-496a-bdb3-36195ddad5b4",
   "metadata": {},
   "source": [
    "#### Module importing"
   ]
  },
  {
   "cell_type": "code",
   "execution_count": 136,
   "id": "c8da61da-e984-4edb-8d66-73cad20144e7",
   "metadata": {},
   "outputs": [
    {
     "data": {
      "text/plain": [
       "'Hello World'"
      ]
     },
     "execution_count": 136,
     "metadata": {},
     "output_type": "execute_result"
    }
   ],
   "source": [
    "# file1 content\n",
    "def f1_function():\n",
    "    pass\n",
    "    return \"Hello World\"\n",
    " \n",
    "# file2\n",
    "import pandas\n",
    " \n",
    "# Now we can use f1_function, because we imported file1\n",
    "f1_function()"
   ]
  },
  {
   "cell_type": "markdown",
   "id": "4ab82aea-033d-4c0d-8e52-5b3c25a6857f",
   "metadata": {},
   "source": []
  },
  {
   "cell_type": "markdown",
   "id": "d7d91230-0ef2-496d-8a95-70edea2f88cb",
   "metadata": {},
   "source": [
    "<div id=\"objects_algorithms\">\n",
    "    <h1>Objects &amp; Algorithms</h1> \n",
    "</div>"
   ]
  },
  {
   "cell_type": "markdown",
   "id": "231cede6-625a-48cf-919d-1d52b2fcbcfc",
   "metadata": {},
   "source": [
    "<div id=\"objects\">\n",
    "    <h2>Objects</h2> \n",
    "</div>"
   ]
  },
  {
   "cell_type": "markdown",
   "id": "d8caae0e-5678-4669-b6f1-284315a84b1f",
   "metadata": {},
   "source": [
    "- *Object:* An object is a custom data structure that organizes and encapsulates variables and methods into a single data type. It is used near-interchangeably with “instance.”\n",
    "\n",
    "- *Class:* A custom data type comprised of multiple variables and/or methods. Instances or objects are created based on the template provided by the class.\n",
    "\n",
    "- *Instance:* A single set of values of a particular class. Classes may be comprised of multiple variables; an instance is a set of values for these variables. The term “instance” is often used interchangeably with the term “object”.\n",
    "\n",
    "- *Encapsulation:* The ability to combine variables and methods into class definitions in object-oriented programming. It helps avoid modification or misuse of data by other functions or programs."
   ]
  },
  {
   "cell_type": "markdown",
   "id": "27b517df-b595-4770-98b3-fab585520664",
   "metadata": {},
   "source": [
    "### Object Oriented Programming"
   ]
  },
  {
   "cell_type": "markdown",
   "id": "29a1c1d7-3eb8-4662-b5fd-ca5427e1ab17",
   "metadata": {},
   "source": [
    "### Classes\n",
    "\n",
    "#### Python class\n",
    "In Python, a class is a template for a data type. A class can be defined using the `class` keyword.\n",
    "\n",
    "```python\n",
    "# Defining a class\n",
    "class Animal:\n",
    "    def __init__(self, name, number_of_legs):\n",
    "        self.name = name\n",
    "        self.number_of_legs = number_of_legs\n",
    "```"
   ]
  },
  {
   "cell_type": "markdown",
   "id": "d724d75d-1c60-4f2e-a94e-516a4d60acbb",
   "metadata": {},
   "source": [
    "#### Python init method\n",
    "In Python, the `.__init__()` method is used to initialize a newly created object. It is called every time the class is instantiated.\n",
    "```python\n",
    "class Animal:\n",
    "    def __init__(self, voice):\n",
    "        self.voice = voice\n",
    "\n",
    "# When a class instance is created, the instance variable\n",
    "# 'voice' is created and set to the input value.\n",
    "cat = Animal('Meow')\n",
    "print(cat.voice) # Output: Meow\n",
    " \n",
    "dog = Animal('Woof') \n",
    "print(dog.voice) # Output: Woof\n",
    "```"
   ]
  },
  {
   "cell_type": "markdown",
   "id": "da5e3631-c146-4702-9eb8-c61becdf8b9d",
   "metadata": {},
   "source": [
    "#### Python repr method\n",
    "\n",
    "The Python `__repr__()` method is used to tell Python what the *string representation* of the class should be. It can only have one parameter, `self`, and it should return a string.\n",
    "```python\n",
    "# Define the class Employee\n",
    "class Employee:\n",
    "    def __init__(self, name):\n",
    "        self.name = name\n",
    " \n",
    "    def __repr__(self):\n",
    "        return self.name\n",
    "\n",
    "# define instance of Employee class\n",
    "john = Employee('John')\n",
    "print(john) # John\n",
    "```"
   ]
  },
  {
   "cell_type": "markdown",
   "id": "859e12da-ad0d-4bab-9ed2-dec1183e7d70",
   "metadata": {},
   "source": [
    "#### Python class methods\n",
    "\n",
    "In Python, *methods* are functions that are defined as part of a class. It is common practice that the first argument of any method that is part of a class is the actual object calling the method. This argument is usually called `self`.\n",
    "```python\n",
    "# Define the class Dog\n",
    "class Dog:\n",
    "    # Define the class \"Method\"\n",
    "    def bark(self):\n",
    "    print(\"Ham-Ham\")\n",
    "    \n",
    "# Create instance of the Dog class\n",
    "charlie = Dog()\n",
    " \n",
    "# Call the class method\n",
    "charlie.bark()\n",
    "# This will output \"Ham-Ham\"\n",
    "```"
   ]
  },
  {
   "cell_type": "markdown",
   "id": "e3579ea2-dfc3-4d38-b5e9-396ee30a6f97",
   "metadata": {},
   "source": [
    "#### Instantiate Python Class\n",
    "\n",
    "In Python, a class needs to be instantiated before use. As an analogy, a class can be thought of as a blueprint (Car), and an instance is an actual implementation of the blueprint (Ferrari).\n",
    "```python\n",
    "class Car:\n",
    "  \"This is an empty class\"\n",
    "  pass\n",
    " \n",
    "# Class Instantiation a.k.a. creating instance of the class\n",
    "ferrari = Car()\n",
    "```"
   ]
  },
  {
   "cell_type": "markdown",
   "id": "fe48dc61-749a-4e1f-bb88-db7e6ce565a2",
   "metadata": {},
   "source": [
    "#### Python Class Variables\n",
    "```python\n",
    "# define the Student class\n",
    "class Student:\n",
    "    # create a new instance of Student\n",
    "    def __init__(self):\n",
    "        # define the class variables\n",
    "        self.studentName = \"\"\n",
    "        self.GPA = 0.0\n",
    "        self.creditHours = 0\n",
    "        self.enrolled = True\n",
    "        self.classes = []\n",
    "        \n",
    "```\n",
    "The variables of the class are `studentName`, `GPA`, `creditHours`, `enrolled` and `classes`.  **attribute** is another common word for *instance variable*."
   ]
  },
  {
   "cell_type": "markdown",
   "id": "235b45cc-6181-4c3a-8698-18e86f3a2959",
   "metadata": {},
   "source": [
    "#### Encapsulating Methods in Classes\n",
    "\n",
    " - **Constructor:** A common type of method in writing classes that specifies some code to run whenever a new instance of the class is created. The constructor often has parameters that provide values to initialize the variables defined by the class.\n",
    "\n",
    " - **Destructor:** A common type of method in writing classes that specifies how the instance of a class is to be destroyed, such as releasing its memory back to the computer.\n",
    " \n",
    " - **Getter:** A common type of method in writing classes that returns the value of a variable contained within the class. They are commonly used to allow other processing to occur whenever the variable is accessed, like logging.\n",
    "\n",
    " - **Setter:** A common type of method in writing classes that sets a variable contained within the class to a new value. They are commonly used\n",
    "to allow other processing to occur whenever the variable is changed, like logging."
   ]
  },
  {
   "cell_type": "markdown",
   "id": "ba3152e0-5cd6-4518-9a98-098e6d6977ae",
   "metadata": {},
   "source": [
    "```python\n",
    "# Define class BankAccount\n",
    "class BankAccount:\n",
    "    # Initialize balance to 0\n",
    "    def __init__(self, name, balance = 0.0):\n",
    "        self.log(\"Account created!\")\n",
    "        self.name = name\n",
    "        self.balance = balance\n",
    "\n",
    "    def getBalance(self): # Getter for balance\n",
    "        self.log(\"Balance checked at \" + str(self.balance))\n",
    "        return self.balance\n",
    "\n",
    "    def setBalance(self, newBalance): # Setter for balance\n",
    "        self.log(\"Balance changed to \" + str(newBalance))\n",
    "        self.balance = newBalance\n",
    "\n",
    "    def log(self, message): # Logging method\n",
    "        myLog = open(\"Log.txt\", \"a\")\n",
    "        print(message, file = myLog)\n",
    "        myLog.close()\n",
    "\n",
    "myBankAccount = BankAccount(\"David Joyner\")\n",
    "myBankAccount.setBalance(20.0)\n",
    "print(myBankAccount.getBalance())\n",
    "```"
   ]
  },
  {
   "cell_type": "markdown",
   "id": "0f92f87e-9687-4d65-b375-ffd17064c813",
   "metadata": {},
   "source": [
    "#### Python dir() function\n",
    "In Python, the built-in `dir()` function, without any argument, returns a list of all the attributes in the current scope. With an object as argument, `dir()` tries to return all valid object attributes.\n",
    "```python\n",
    "class Employee:\n",
    "  def __init__(self, name):\n",
    "    self.name = name\n",
    " \n",
    "  def print_name(self):\n",
    "    print(\"Hi, I'm \" + self.name)\n",
    " \n",
    " \n",
    "print(dir())\n",
    "# ['Employee', '__builtins__', '__doc__', '__file__', '__name__', '__package__', 'new_employee']\n",
    " \n",
    "print(dir(Employee))\n",
    "# ['__doc__', '__init__', '__module__', 'print_name']\n",
    "```"
   ]
  },
  {
   "cell_type": "markdown",
   "id": "6e219560-e98d-4f37-9962-04e065346320",
   "metadata": {},
   "source": [
    "#### `__main__` in Python\n",
    "In Python, `__main__` is an identifier used to reference the current file context. When a module is read from standard input, a script, or from an interactive prompt, its `__name__` is set equal to `__main__`."
   ]
  },
  {
   "cell_type": "markdown",
   "id": "0dd93738-6d50-40bf-95fa-fb01adda5d33",
   "metadata": {},
   "source": [
    "**Note:** Any persistent variable in a class should be preceded by self. Any variable in a method that is not preceded by self ceases to exist when the method ends."
   ]
  },
  {
   "cell_type": "code",
   "execution_count": null,
   "id": "3f5783ed-bbee-42a8-9d4e-d6a525e14e89",
   "metadata": {},
   "outputs": [],
   "source": []
  },
  {
   "cell_type": "markdown",
   "id": "c197f475-f855-4b44-b341-c4342450be3f",
   "metadata": {},
   "source": [
    "<div id=\"algorithms\">\n",
    "    <h2>Algorithms</h2> \n",
    "</div>\n",
    "\n",
    "Technically, a collection of steps that transforms input into output; commonly, a complex set of lots of steps that is only feasible to perform with the efficiency of a computer."
   ]
  },
  {
   "cell_type": "markdown",
   "id": "53c36672-fe4e-4424-a29a-48e1158b18d8",
   "metadata": {},
   "source": [
    "*Complexity:* The rate at which the number of operations requires to run an algorithm grows based on the value of the input on which it operates.\n",
    "\n",
    "*Big O Notation:* A notation for expressing the worst-case efficiency of an algorithm in terms of the size of the input.\n",
    "\n",
    "*Recursion:* A programming method characterized by functions that, during their operation, call additional copies of themselves; see also, recursion. Recursion involves breaking down a problem into smaller instances recursively until each of them can be independently solved. Solutions to these smaller instances combine to form the solution for the original problem."
   ]
  },
  {
   "cell_type": "code",
   "execution_count": 2,
   "id": "3221e96e-a342-4a46-bbca-3bc7607d0aa7",
   "metadata": {},
   "outputs": [
    {
     "data": {
      "text/plain": [
       "120"
      ]
     },
     "execution_count": 2,
     "metadata": {},
     "output_type": "execute_result"
    }
   ],
   "source": [
    "# example of recursive algorithms is factorial\n",
    "def factorial(n):\n",
    "    if n > 1:\n",
    "        return n * factorial(n - 1)\n",
    "    else: \n",
    "        return 1\n",
    "factorial(5)"
   ]
  },
  {
   "cell_type": "code",
   "execution_count": 7,
   "id": "1b2f4605-0e58-429a-b77e-32c64a9745bb",
   "metadata": {},
   "outputs": [
    {
     "data": {
      "text/plain": [
       "5"
      ]
     },
     "execution_count": 7,
     "metadata": {},
     "output_type": "execute_result"
    }
   ],
   "source": [
    "# calculate the nth Fibonacci number\n",
    "def fibonacci(n):\n",
    "    if n == 1 or n == 2:\n",
    "        return 1\n",
    "    else:\n",
    "        return fibonacci(n - 1) + fibonacci(n - 2)\n",
    "fibonacci(5)    "
   ]
  },
  {
   "cell_type": "code",
   "execution_count": null,
   "id": "19d4183b-c431-4506-bb09-f4e7e4018760",
   "metadata": {},
   "outputs": [],
   "source": []
  },
  {
   "cell_type": "code",
   "execution_count": null,
   "id": "fbc426d1-a1f9-436f-acc8-d5e73c206bba",
   "metadata": {},
   "outputs": [],
   "source": []
  },
  {
   "cell_type": "markdown",
   "id": "3483293a-a9e1-4860-876a-f95319cb9b2e",
   "metadata": {},
   "source": [
    "### Timing code in Python"
   ]
  },
  {
   "cell_type": "code",
   "execution_count": 139,
   "id": "423e5b8e-7b45-46c8-94c1-08e92beebb7a",
   "metadata": {},
   "outputs": [
    {
     "name": "stdout",
     "output_type": "stream",
     "text": [
      "The slowest run took 52.93 times longer than the fastest. This could mean that an intermediate result is being cached.\n",
      "27.6 µs ± 16.4 µs per loop (mean ± std. dev. of 100 runs, 1,000 loops each)\n"
     ]
    }
   ],
   "source": [
    "# Insert 100,000 values at the front of the list (index=0)\n",
    "c0 = []\n",
    "t_insert = %timeit -o -n1000 -r100 c0.insert(0, 'a')"
   ]
  },
  {
   "cell_type": "code",
   "execution_count": 140,
   "id": "5a405107-8f79-44a8-968f-a5c21a5df076",
   "metadata": {},
   "outputs": [
    {
     "name": "stdout",
     "output_type": "stream",
     "text": [
      "70.8 ns ± 21.1 ns per loop (mean ± std. dev. of 100 runs, 1,000 loops each)\n"
     ]
    }
   ],
   "source": [
    "# Append 100,000 values at the end of the list\n",
    "c1 = []\n",
    "t_append = %timeit -o -n1000 -r100 c1.append('a')"
   ]
  },
  {
   "cell_type": "code",
   "execution_count": null,
   "id": "b712cade-75b8-4e2b-b252-7fdb4096979e",
   "metadata": {},
   "outputs": [],
   "source": []
  },
  {
   "cell_type": "markdown",
   "id": "c3ef1a12-fbb9-4ea0-a7b2-f8e022b98133",
   "metadata": {},
   "source": [
    "##### Beyond Limit technical\n",
    "Q. How to define similarity between two arrays?\n",
    "\n",
    "There are several ways to define similarity between two arrays, depending on the context and the type of data in the arrays. Some common methods include:\n",
    "\n",
    "- Euclidean distance: This measures the straight-line distance between two arrays, and is often used for continuous numerical data.\n",
    "- Cosine similarity: This measures the cosine of the angle between two arrays and is often used for discrete or sparse data such as text data.\n",
    "- Jaccard similarity: This measures the size of the intersection of two arrays divided by the size of the union of the two arrays. It is often used for binary or categorical data.\n",
    "- Hamming distance: This measures the number of positions at which two arrays differ, and is often used for arrays of binary or categorical data.\n",
    "- Manhattan distance : This measures the absolute differences of the coordinates and sum them up. It is often used for continuous numerical data.\n",
    "\n",
    "All of these measures range between 0 and 1, with 1 indicating that the arrays are identical and 0 indicating that the arrays are completely different.\n",
    "\n",
    "- To define the similarity between two arrays, you would need to choose a similarity measure that is appropriate for the type of data in the arrays. For example, if the arrays contained numerical data, you could use the Euclidean distance or Manhattan distance.\n",
    "\n",
    "    + Euclidean distance: Euclidean distance between two arrays [1, 2, 3] and [4, 5, 6] can be calculated as: √((4-1)^2 + (5-2)^2 + (6-3)^2) = √(9+9+9) = √27 = 5.196\n",
    "    + Manhattan distance: Manhattan distance between two arrays [1, 2, 3] and [4, 5, 6] can be calculated as: |4-1| + |5-2| + |6-3| = 3+3+3 = 9. \n",
    "    \n",
    "- If the arrays contained categorical or binary data, you could use Jaccard similarity or Hamming distance.\n",
    "\n",
    "    - Jaccard similarity: Jaccard similarity between two arrays [1, 2, 3] and [4, 5, 6] would be 0, as there are no common elements between the two arrays.\n",
    "    - Hamming distance: Hamming distance between two arrays [1, 2, 3] and [4, 5, 6] can be calculated as the number of positions at which the elements of the two arrays differ, which in this case is 3.\n",
    "\n",
    "Keep in mind that there are different similarity measures that may be more appropriate depending on the specific context and the type of data. So, you will have to choose the appropriate one based on your use case."
   ]
  },
  {
   "cell_type": "code",
   "execution_count": null,
   "id": "c8aea6f5-9f87-44b2-8eae-5be48fd2ba84",
   "metadata": {},
   "outputs": [],
   "source": [
    "# Imagine we have array =[1, 2, 3], input_matrix =[[4,5,6], [4,5,6], [4,5,6]] return K closest array\n",
    "# To return the k closest arrays from an input matrix to a given array, you can use the chosen similarity measure \n",
    "# to calculate the similarity between the given array and each array in the input matrix, then sort the input matrix \n",
    "# based on the similarity scores, and finally return the top k arrays with the highest similarity scores.\n",
    "\n",
    "# Here is an example implementation using Euclidean distance as the similarity measure:\n",
    "import numpy as np\n",
    "\n",
    "def find_k_closest(array, input_matrix, k):\n",
    "    similarities = []\n",
    "    for i in range(len(input_matrix)):\n",
    "        distance = np.linalg.norm(array-input_matrix[i])\n",
    "        similarities.append((distance, input_matrix[i]))\n",
    "    similarities.sort()\n",
    "    return similarities[:k]\n",
    "\n",
    "array = [1, 2, 3]\n",
    "input_matrix = [[4, 5, 6], [4, 5, 6], [4, 5, 6]]\n",
    "k = 2\n",
    "print(find_k_closest(array, input_matrix, k))\n",
    "\n",
    "# This will output the two closest arrays in the input matrix to the given array:\n",
    "# [(5.196152422706632, [4, 5, 6]), (5.196152422706632, [4, 5, 6])]"
   ]
  },
  {
   "cell_type": "code",
   "execution_count": null,
   "id": "f4f50d5e-cf30-4171-9b7c-bf399b29f68e",
   "metadata": {},
   "outputs": [],
   "source": [
    "# let's build the algorithm to support customized distance in future\n",
    "\n",
    "# For example, you can use the following custom distance function, which is the Manhattan distance:\n",
    "def manhattan_distance(a, b):\n",
    "    return sum(abs(x-y) for x,y in zip(a,b))\n",
    "\n",
    "def find_k_closest(array, input_matrix, k, manhattan_distance):\n",
    "    similarities = []\n",
    "    for i in range(len(input_matrix)):\n",
    "        distance = manhattan_distance(array, input_matrix[i])\n",
    "        similarities.append((distance, input_matrix[i]))\n",
    "    similarities.sort()\n",
    "    return similarities[:k]\n",
    "\n",
    "array = [1, 2, 3]\n",
    "input_matrix = [[4, 5, 6], [4, 5, 6], [4, 5, 6]]\n",
    "k = 2\n",
    "print(find_k_closest(array, input_matrix, k, manhattan_distance))\n",
    "\n",
    "# This way, you can easily use any custom distance function that you need, as long as it takes \n",
    "# two arrays as input and returns a scalar value indicating the distance between the two arrays."
   ]
  },
  {
   "cell_type": "markdown",
   "id": "48794d7d-2b93-420b-8026-becfbc9ab16d",
   "metadata": {},
   "source": [
    "##### Eccalon ML Engineer Interview"
   ]
  },
  {
   "cell_type": "markdown",
   "id": "8c0a241a-5ba5-4f02-9b98-937caa018e71",
   "metadata": {},
   "source": [
    "Given weights and values of n items, put these items in a knapsack of capacity W to get the maximum total value in the knapsack. In other words, given two integer arrays val[0..n-1] and wt[0..n-1] which represent values and weights associated with n items respectively. Also given an integer W which represents knapsack capacity, find out the maximum value subset of val[] such that sum of the weights of this subset is smaller than or equal to W. You cannot break an item, either pick the complete item or don’t pick it.\n",
    "\n",
    "- Solution\n",
    "\n",
    "This problem can be solved using the dynamic programming approach known as the knapsack problem. The basic idea is to create a 2D array dp[n+1][W+1] such that dp[i][j] represents the maximum value that can be obtained by picking items from the first i items and having a knapsack capacity of j. The recursive equation for this problem is as follows:\n",
    "\n",
    "$dp[i][j] = max(dp[i-1][j], val[i-1] + dp[i-1][j-wt[i-1]]) if wt[i-1] <= j$\n",
    "\n",
    "$dp[i][j] = dp[i-1][j] if wt[i-1] > j$\n",
    "\n",
    "The base case for this problem is $dp[0][j] = 0$, where $0 <= j <= W$.\n",
    "\n",
    "The final answer will be $dp[n][W]$. This approach has a time complexity of O(nW) and a space complexity of O(nW)."
   ]
  },
  {
   "cell_type": "code",
   "execution_count": 1,
   "id": "d5737184-5765-4ea1-8109-08921f679641",
   "metadata": {},
   "outputs": [
    {
     "name": "stdout",
     "output_type": "stream",
     "text": [
      "2\n"
     ]
    }
   ],
   "source": [
    "# implementation of the knapsack problem in Python\n",
    "def knapsack(W, wt, val, n):\n",
    "    dp = [[0 for x in range(W+1)] for x in range(n+1)]\n",
    "    \n",
    "    for i in range(n+1):\n",
    "        for w in range(W+1):\n",
    "            if i == 0 or w == 0:\n",
    "                dp[i][w] = 0\n",
    "            elif wt[i-1] <= w:\n",
    "                dp[i][w] = max(val[i-1] + dp[i-1][w-wt[i-1]], dp[i-1][w])\n",
    "            else:\n",
    "                dp[i][w] = dp[i-1][w]\n",
    "    return dp[n][W]\n",
    "\n",
    "W = 2\n",
    "wt = [1, 2, 3]\n",
    "val = [1, 2, 3]\n",
    "n = len(wt)\n",
    "print(knapsack(W, wt, val, n))"
   ]
  },
  {
   "cell_type": "markdown",
   "id": "55030a51-fc22-4f7e-a8d3-16b221c30bc2",
   "metadata": {},
   "source": [
    "This function takes in 4 parameters: the knapsack capacity W, the weight array wt, the value array val, and the number of items n. It creates a 2D array dp[n+1][W+1] and uses the recursive equation mentioned earlier to fill the array. The final answer will be dp[n][W], which is returned by the function.\n",
    "\n",
    "In this example with W = 2, wt = { 1, 2, 3} and Val = {1, 2, 3} the function will return 3, which is the maximum total value of the knapsack."
   ]
  },
  {
   "cell_type": "code",
   "execution_count": null,
   "id": "64919372-7874-4d5b-9a00-6e73de82fdd2",
   "metadata": {},
   "outputs": [],
   "source": []
  }
 ],
 "metadata": {
  "kernelspec": {
   "display_name": "Python 3 (ipykernel)",
   "language": "python",
   "name": "python3"
  },
  "language_info": {
   "codemirror_mode": {
    "name": "ipython",
    "version": 3
   },
   "file_extension": ".py",
   "mimetype": "text/x-python",
   "name": "python",
   "nbconvert_exporter": "python",
   "pygments_lexer": "ipython3",
   "version": "3.8.13"
  },
  "vscode": {
   "interpreter": {
    "hash": "cb04027a75e8ad62ae5c9de6360fef5897d4eeff837cdd88b44a9f87bf03cb75"
   }
  }
 },
 "nbformat": 4,
 "nbformat_minor": 5
}
