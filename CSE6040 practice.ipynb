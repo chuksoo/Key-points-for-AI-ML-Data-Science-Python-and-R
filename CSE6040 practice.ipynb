{
 "cells": [
  {
   "cell_type": "markdown",
   "id": "04be5f5d-57cd-4950-93ed-2ce51d41b217",
   "metadata": {},
   "source": [
    "## Problem 2: DNA Sequence Analysis"
   ]
  },
  {
   "cell_type": "code",
   "execution_count": 1,
   "id": "eaf799e3-6354-4796-9f11-48def7598dfe",
   "metadata": {},
   "outputs": [],
   "source": [
    "import re # You'll need this module"
   ]
  },
  {
   "cell_type": "markdown",
   "id": "d46b2eaf-bc00-4f8f-b5ee-9eb29d9cbe0d",
   "metadata": {},
   "source": [
    "### DNA Sequence Analysis\n",
    "\n",
    "Your friend is a biologist who is studying a particular DNA sequence. The sequence is a string built from an alphabet of four possible letters, `A`, `G`, `C`, and `T`. Biologists refer to each of these letters a _base_. \n",
    "Here is an example of a DNA fragment as a string of bases."
   ]
  },
  {
   "cell_type": "code",
   "execution_count": 2,
   "id": "2bb03a99-fba6-4267-80eb-53bb43a0ccb1",
   "metadata": {},
   "outputs": [
    {
     "name": "stdout",
     "output_type": "stream",
     "text": [
      "=== Sequence (Number of bases: 2012) ===\n",
      "\n",
      "ATGGCAATAACCCCCCGTTTCTACTTCTAGAGGAGAAAAGTATTGACATGAGCGCTCCCGGCACAAGGGCCAAAGAAGTCTCCAATTTCTTATTTCCGAATGACATGCGTCTCCTTGCGGGTAAATCACCGACCGCAATTCATAGAAGCCTGGGGGAACAGATAGGTCTAATTAGCTTAAGAGAGTAAATCCTGGGATCATTCAGTAGTAACCATAAACTTACGCTGGGGCTTCTTCGGCGGATTTTTACAGTTACCAACCAGGAGATTTGAAGTAAATCAGTTGAGGATTTAGCCGCGCTATCCGGTAATCTCCAAATTAAAACATACCGTTCCATGAAGGCTAGAATTACTTACCGGCCTTTTCCATGCCTGCGCTATACCCCCCCACTCTCCCGCTTATCCGTCCGAGCGGAGGCAGTGCGATCCTCCGTTAAGATATTCTTACGTGTGACGTAGCTATGTATTTTGCAGAGCTGGCGAACGCGTTGAACACTTCACAGATGGTAGGGATTCGGGTAAAGGGCGTATAATTGGGGACTAACATAGGCGTAGACTACGATGGCGCCAACTCAATCGCAGCTCGAGCGCCCTGAATAACGTACTCATCTCAACTCATTCTCGGCAATCTACCGAGCGACTCGATTATCAACGGCTGTCTAGCAGTTCTAATCTTTTGCCAGCATCGTAATAGCCTCCAAGAGATTGATGATAGCTATCGGCACAGAACTGAGACGGCGCCGATGGATAGCGGACTTTCGGTCAACCACAATTCCCCACGGGACAGGTCCTGCGGTGCGCATCACTCTGAATGTACAAGCAACCCAAGTGGGCCGAGCCTGGACTCAGCTGGTTCCTGCGTGAGCTCGAGACTCGGGATGACAGCTCTTTAAACATAGAGCGGGGGCGTCGAACGGTCGAGAAAGTCATAGTACCTCGGGTACCAACTTACTCAGGTTATTGCTTGAAGCTGTACTATTTTAGGGGGGGAGCGCTGAAGGTCTCTTCTTCTCATGACTGAACTCGCGAGGGTCGTGAAGTCGGTTCCTTCAATGGTTAAAAAACAAAGGCTTACTGTGCGCAGAGGAACGCCCATCTAGCGGCTGGCGTCTTGAATGCTCGGTCCCCTTTGTCATTCCGGATTAATCCATTTCCCTCATTCACGAGCTTGCGAAGTCTACATTGGTATATGAATGCGACCTAGAAGAGGGCGCTTAAAATTGGCAGTGGTTGATGCTCTAAACTCCATTTGGTTTACTCGTGCATCACCGCGATAGGCTGACAAAGGTTTAACATTGAATAGCAAGGCACTTCCGGTCTCAATGAACGGCCGGGAAAGGTACGCGCGCGGTATGGGAGGATCAAGGGGCCAATAGAGAGGCTCCTCTCTCACTCGCTAGGAGGCAAATGTAAAACAATGGTTACTGCATCGATACATAAAACATGTCCATCGGTTGCCCAAAGTGTTAAGTGTCTATCACCCCTAGGGCCGTTTCCCGCATATAAACGCCAGGTTGTATCCGCATTTGATGCTACCGTGGATGAGTCTGCGTCGAGCGCGCCGCACGAATGTTGCAATGTATTGCATGAGTAGGGTTGACTAAGAGCCGTTAGATGCGTCGCTGTACTAATAGTTGTCGACAGACCGTCGAGATTAGAAAATGGTACCAGCATTTTCGGAGGTTCTCTAACTAGTATGGATTGCGGTGTCTTCACTGTGCTGCGGCTACCCATCGCCTGAAATCCAGCTGGTGTCAAGCCATCCCCTCTCCGGGACGCCGCATGTAGTGAAACATATACGTTGCACGGGTTCACCGCGGTCCGTTCTGAGTCGACCAAGGACACAATCGAGCTCCGATCCGTACCCTCGACAAACTTGTACCCGACCCCCGGAGCTTGCCAGCTCCTCGGGTATCATGGAGCCTGTGGTTCATCGCGTCCGATATCAAACTTCGTCATGATAAAGTCCCCCCCTCGGGAGTACCAGAGAAGATGACTACTGAGTTGTGCGAT\n"
     ]
    }
   ],
   "source": [
    "dna_seq = 'ATGGCAATAACCCCCCGTTTCTACTTCTAGAGGAGAAAAGTATTGACATGAGCGCTCCCGGCACAAGGGCCAAAGAAGTCTCCAATTTCTTATTTCCGAATGACATGCGTCTCCTTGCGGGTAAATCACCGACCGCAATTCATAGAAGCCTGGGGGAACAGATAGGTCTAATTAGCTTAAGAGAGTAAATCCTGGGATCATTCAGTAGTAACCATAAACTTACGCTGGGGCTTCTTCGGCGGATTTTTACAGTTACCAACCAGGAGATTTGAAGTAAATCAGTTGAGGATTTAGCCGCGCTATCCGGTAATCTCCAAATTAAAACATACCGTTCCATGAAGGCTAGAATTACTTACCGGCCTTTTCCATGCCTGCGCTATACCCCCCCACTCTCCCGCTTATCCGTCCGAGCGGAGGCAGTGCGATCCTCCGTTAAGATATTCTTACGTGTGACGTAGCTATGTATTTTGCAGAGCTGGCGAACGCGTTGAACACTTCACAGATGGTAGGGATTCGGGTAAAGGGCGTATAATTGGGGACTAACATAGGCGTAGACTACGATGGCGCCAACTCAATCGCAGCTCGAGCGCCCTGAATAACGTACTCATCTCAACTCATTCTCGGCAATCTACCGAGCGACTCGATTATCAACGGCTGTCTAGCAGTTCTAATCTTTTGCCAGCATCGTAATAGCCTCCAAGAGATTGATGATAGCTATCGGCACAGAACTGAGACGGCGCCGATGGATAGCGGACTTTCGGTCAACCACAATTCCCCACGGGACAGGTCCTGCGGTGCGCATCACTCTGAATGTACAAGCAACCCAAGTGGGCCGAGCCTGGACTCAGCTGGTTCCTGCGTGAGCTCGAGACTCGGGATGACAGCTCTTTAAACATAGAGCGGGGGCGTCGAACGGTCGAGAAAGTCATAGTACCTCGGGTACCAACTTACTCAGGTTATTGCTTGAAGCTGTACTATTTTAGGGGGGGAGCGCTGAAGGTCTCTTCTTCTCATGACTGAACTCGCGAGGGTCGTGAAGTCGGTTCCTTCAATGGTTAAAAAACAAAGGCTTACTGTGCGCAGAGGAACGCCCATCTAGCGGCTGGCGTCTTGAATGCTCGGTCCCCTTTGTCATTCCGGATTAATCCATTTCCCTCATTCACGAGCTTGCGAAGTCTACATTGGTATATGAATGCGACCTAGAAGAGGGCGCTTAAAATTGGCAGTGGTTGATGCTCTAAACTCCATTTGGTTTACTCGTGCATCACCGCGATAGGCTGACAAAGGTTTAACATTGAATAGCAAGGCACTTCCGGTCTCAATGAACGGCCGGGAAAGGTACGCGCGCGGTATGGGAGGATCAAGGGGCCAATAGAGAGGCTCCTCTCTCACTCGCTAGGAGGCAAATGTAAAACAATGGTTACTGCATCGATACATAAAACATGTCCATCGGTTGCCCAAAGTGTTAAGTGTCTATCACCCCTAGGGCCGTTTCCCGCATATAAACGCCAGGTTGTATCCGCATTTGATGCTACCGTGGATGAGTCTGCGTCGAGCGCGCCGCACGAATGTTGCAATGTATTGCATGAGTAGGGTTGACTAAGAGCCGTTAGATGCGTCGCTGTACTAATAGTTGTCGACAGACCGTCGAGATTAGAAAATGGTACCAGCATTTTCGGAGGTTCTCTAACTAGTATGGATTGCGGTGTCTTCACTGTGCTGCGGCTACCCATCGCCTGAAATCCAGCTGGTGTCAAGCCATCCCCTCTCCGGGACGCCGCATGTAGTGAAACATATACGTTGCACGGGTTCACCGCGGTCCGTTCTGAGTCGACCAAGGACACAATCGAGCTCCGATCCGTACCCTCGACAAACTTGTACCCGACCCCCGGAGCTTGCCAGCTCCTCGGGTATCATGGAGCCTGTGGTTCATCGCGTCCGATATCAAACTTCGTCATGATAAAGTCCCCCCCTCGGGAGTACCAGAGAAGATGACTACTGAGTTGTGCGAT'\n",
    "print(\"=== Sequence (Number of bases: {}) ===\\n\\n{}\".format(len(dna_seq), dna_seq))"
   ]
  },
  {
   "cell_type": "markdown",
   "id": "d89f40b5-3ca0-4084-a388-1c52fad1a8df",
   "metadata": {},
   "source": [
    "**Exercise 0** (2 point). Complete the function, `count_bases(s)`. It takes as input a DNA sequence as a string, `s`. It should compute the number of occurrences of each base (i.e., `'A'`, `'C'`, `'G'`, and `'T'`) in `s`. It should then return these counts in a dictionary whose keys are the bases."
   ]
  },
  {
   "cell_type": "code",
   "execution_count": 3,
   "id": "d706234c-2de2-43aa-974a-08a931f28054",
   "metadata": {},
   "outputs": [],
   "source": [
    "def count_bases(s):\n",
    "    assert type(s) is str\n",
    "    assert all([b in ['A', 'C', 'G', 'T'] for b in s])\n",
    "    # counting items in a dictionary\n",
    "    from collections import Counter\n",
    "    s_dict = dict(Counter(s))\n",
    "    return s_dict"
   ]
  },
  {
   "cell_type": "code",
   "execution_count": 4,
   "id": "f0bfcafb-e98d-4937-8721-44d3649ee079",
   "metadata": {},
   "outputs": [
    {
     "name": "stdout",
     "output_type": "stream",
     "text": [
      "Your result: {'A': 501, 'T': 496, 'G': 508, 'C': 507}\n",
      "\n",
      "(Passed!)\n"
     ]
    }
   ],
   "source": [
    "# Test cell: `exercise_0_test`\n",
    "\n",
    "base_counts = count_bases(dna_seq)\n",
    "print(\"Your result:\", base_counts)\n",
    "\n",
    "assert type(base_counts) is dict, \"`base_counts` is of type `{}`, not `dict`.\".format(type(base_counts))\n",
    "assert len(base_counts) <= 4, \"There can be at most 4 bases.\"\n",
    "for b, c in [('A', 501), ('C', 507), ('G', 508), ('T', 496)]:\n",
    "    assert base_counts[b] == c, \"Base '{}' has a count of {} when it should be {}.\".format(b, base_counts[b], c)\n",
    "    \n",
    "print(\"\\n(Passed!)\")"
   ]
  },
  {
   "cell_type": "markdown",
   "id": "8a1755c5-28ca-44f8-b621-bdf458ffec6f",
   "metadata": {},
   "source": [
    "**A biologist's notation.** Your friend does not know about regular expressions. Instead, she uses a [special notation](https://en.wikipedia.org/wiki/Nucleic_acid_sequence) that other biologists use to describe base patterns. These are \"extra letters\" that have a special meaning.\n",
    "\n",
    "For example, the special letter `N` denotes any base, i.e., any single occurrence of an `A`, `C`, `G`, or `T`. Therefore, when a biologist writes, `ANT`, that means `AAT`, `ACT`, `AGT`, or `ATT`.\n",
    "\n",
    "Here is the complete set of special letters:\n",
    "\n",
    "* `R`: Either `G` or `A`\n",
    "* `Y`: Either `T` or `C`\n",
    "* `K`: Either `G` or `T`\n",
    "* `M`: Either `A` or `C`\n",
    "* `S`: Either `G` or `C`\n",
    "* `W`: Either `A` or `T`\n",
    "* `B`: Anything but `A` (i.e., `G`, `T`, or `C`)\n",
    "* `D`: Anything but `C`\n",
    "* `H`: Anything but `G`\n",
    "* `V`: Anything but `T`\n",
    "* `N`: Anything, i.e., `A`, `C`, `G`, or `T`"
   ]
  },
  {
   "cell_type": "markdown",
   "id": "5462805e-685b-4dd6-a6eb-9ababd4335cb",
   "metadata": {},
   "source": [
    "**Exercise 1** (4 points). Given a string in the biologist's notation, complete the function `bio_to_regex(pattern_bio)` so that it returns an equivalent pattern in Python's regular expression language.\n",
    "\n",
    "If your function is correct, then the following code would also work:\n",
    "\n",
    "```python\n",
    "  assert re.search(bio_to_regex('ANT'), 'AGATTA') is not None\n",
    "```\n",
    "\n",
    "That's because `ANT` matches `ATT`, which is contained in `AGATTA`."
   ]
  },
  {
   "cell_type": "code",
   "execution_count": 5,
   "id": "3d19c5a2-9a39-4124-9d5c-0e86c3cede53",
   "metadata": {},
   "outputs": [
    {
     "name": "stdout",
     "output_type": "stream",
     "text": [
      "GA[^A]AT\n"
     ]
    }
   ],
   "source": [
    "def bio_to_regex(pattern_bio):\n",
    "    # conversion table\n",
    "    translation_table = {'R': '[GA]', 'Y': '[TC]', 'K': '[GT]', 'M': '[AC]', 'S': '[GC]', 'W': '[AT]', \n",
    "                        'B': '[^A]', 'D': '[^C]', 'H': '[^G]', 'V': '[^T]', 'N': '.'}\n",
    "    regex_pattern = ''\n",
    "    for c in pattern_bio:\n",
    "        if c in translation_table:\n",
    "            regex_pattern += translation_table[c]\n",
    "        else:\n",
    "            regex_pattern += c\n",
    "    return regex_pattern\n",
    "            \n",
    "pattern_bio = 'GABAT'\n",
    "print(bio_to_regex(pattern_bio))"
   ]
  },
  {
   "cell_type": "code",
   "execution_count": 6,
   "id": "fb39b3ee-5ca4-4e23-9981-64a5a3e9d396",
   "metadata": {},
   "outputs": [
    {
     "name": "stdout",
     "output_type": "stream",
     "text": [
      "\n",
      "(Passed first group of tests!)\n"
     ]
    }
   ],
   "source": [
    "# Test cell: `exercise_1_test_0`\n",
    "\n",
    "assert re.search(bio_to_regex('ANT'), 'AGATTA') is not None\n",
    "assert set(re.findall(bio_to_regex('ANTAAT'), dna_seq)) == {'ATTAAT', 'ACTAAT'}\n",
    "assert set(re.findall(bio_to_regex('GCRWTG'), dna_seq)) == {'GCGTTG', 'GCAATG'}\n",
    "assert len(re.findall(bio_to_regex('CDCHA'), dna_seq)) == 18\n",
    "\n",
    "print(\"\\n(Passed first group of tests!)\")"
   ]
  },
  {
   "cell_type": "code",
   "execution_count": 7,
   "id": "248c9dd0-dad1-45f4-b8cc-9bb57d3fd0b7",
   "metadata": {},
   "outputs": [
    {
     "name": "stdout",
     "output_type": "stream",
     "text": [
      "\n",
      "(Passed second set of tests!)\n"
     ]
    }
   ],
   "source": [
    "# Test cell: `exercise_1_test_1`\n",
    "if False:\n",
    "    for c in {'Y', 'K', 'M', 'S', 'B', 'D', 'V'}:\n",
    "        from random import sample\n",
    "        x = ''.join([sample('ACGT', 1)[0] for _ in range(2)])\n",
    "        y = ''.join([sample('ACGT', 1)[0] for _ in range(2)])\n",
    "        pattern = '{}{}{}'.format(x, c, y)\n",
    "        ans = set(re.findall(bio_to_regex(pattern), dna_seq))\n",
    "        print(\"assert set(re.findall(bio_to_regex('{}'), dna_seq)) == {}\".format(pattern, ans))\n",
    "        \n",
    "assert set(re.findall(bio_to_regex('GABAT'), dna_seq)) == {'GACAT', 'GAGAT', 'GATAT'}\n",
    "assert set(re.findall(bio_to_regex('GAVCA'), dna_seq)) == {'GACCA', 'GAACA'}\n",
    "assert set(re.findall(bio_to_regex('TGYGG'), dna_seq)) == {'TGTGG', 'TGCGG'}\n",
    "assert set(re.findall(bio_to_regex('GCKAA'), dna_seq)) == {'GCGAA'}\n",
    "assert set(re.findall(bio_to_regex('ATSCA'), dna_seq)) == {'ATCCA'}\n",
    "assert set(re.findall(bio_to_regex('GCMTT'), dna_seq)) == {'GCCTT', 'GCATT'}\n",
    "assert set(re.findall(bio_to_regex('AGDCC'), dna_seq)) == {'AGTCC', 'AGACC'}\n",
    "\n",
    "print(\"\\n(Passed second set of tests!)\")"
   ]
  },
  {
   "cell_type": "markdown",
   "id": "8e7e9323-cbad-4484-abfb-7d34af090753",
   "metadata": {},
   "source": [
    "**Restriction sites.** When an enzyme cuts the string, it does it in a certain location with respect to the target pattern. This information is encoded as a _restriction site_.\n",
    "\n",
    "The way a biologist specifies the restriction site is with a special notation that embeds the cut in the pattern. For example, there is one enzyme that has a restriction site of the form, `ANT|AAT`, where the vertical bar, `'|'`, shows where the enzyme will split the sequence. So, if the input DNA sequence were\n",
    "\n",
    "```\n",
    "   GCATAGTAATGTATTAATGGC\n",
    "```\n",
    "\n",
    "then there would two matches:\n",
    "\n",
    "```\n",
    "   GCATAGTAATGTATTAATGGC\n",
    "       ^^^^^^  ^^^^^^\n",
    "       match!  match!\n",
    "```\n",
    "\n",
    "Furthermore, there would be two cuts, since this enzyme splits its pattern in the middle (between `ANT` and `AAT`):\n",
    "\n",
    "```\n",
    "   GCATAGT|AATGTATT|AATGGC\n",
    "       ^^^ ^^^  ^^^ ^^^\n",
    "```\n",
    "\n",
    "That would result in three fragments: `GCATAGT`, `AATGTATT`, and `AATGGC`."
   ]
  },
  {
   "cell_type": "markdown",
   "id": "44c4465b-be7d-45ae-be80-50ba33ddc75f",
   "metadata": {},
   "source": [
    "**Exercise 3** (5 points). Complete the function, `sim_cuts(site_pattern, s)`, below. The first argument, `site_pattern`, is the biologist's restriction site pattern, e.g., `ANT|AAT`, where there may be an embedded cut. The second argument, `s`, is the DNA sequence to cut. The function should return the fragments in the sequence order.\n",
    "\n",
    "For the preceding example,\n",
    "\n",
    "```python\n",
    "  sim_cuts('ANT|AAT', 'GCATAGTAATGTATTAATGGC') == ['GCATAGT', 'AATGTATT', 'AATGGC']\n",
    "```\n",
    "\n",
    "> **Note.** There are *two* test cells, below. Both must pass for full credit, but if only one passes, you'll at least get some partial credit."
   ]
  },
  {
   "cell_type": "code",
   "execution_count": 8,
   "id": "3bc6169a-90b6-47d4-a9b9-395608495706",
   "metadata": {},
   "outputs": [
    {
     "name": "stdout",
     "output_type": "stream",
     "text": [
      "['GCATAGT', 'AATGTATT', 'AATGGC']\n"
     ]
    }
   ],
   "source": [
    "def sim_cuts(site_pattern, s):\n",
    "    # find location of cuts within 'site pattern'\n",
    "    cut_parts = site_pattern.split('|')\n",
    "    pure_bio_parts = ['(' + p + ')' for p in cut_parts]    \n",
    "    pure_bio_pattern = ''.join(pure_bio_parts)    \n",
    "    regex_pattern = bio_to_regex(pure_bio_pattern)   \n",
    "    repl_parts = [r'\\{}'.format(i+1) for i in range(len(cut_parts))]\n",
    "    repl_pattern = '|'.join(repl_parts)\n",
    "    s_with_cuts = re.sub(regex_pattern, repl_pattern, s)\n",
    "    return s_with_cuts.split('|')\n",
    "\n",
    "    \n",
    "print(sim_cuts('ANT|AAT', 'GCATAGTAATGTATTAATGGC'))"
   ]
  },
  {
   "cell_type": "code",
   "execution_count": 9,
   "id": "2b65fcdf-1fff-4480-a327-9b09fb829d62",
   "metadata": {},
   "outputs": [
    {
     "name": "stdout",
     "output_type": "stream",
     "text": [
      "\n",
      "Checking: 'ANT|AAT'...\n",
      "   Your result (3 fragments): ['GCATAGT', 'AATGTATT', 'AATGGC']\n",
      "   True result (3): ['GCATAGT', 'AATGTATT', 'AATGGC']\n",
      "   ==> Matched!\n",
      "\n",
      "(Passed first test of Exercise 3; two more to go in the next cell.)\n"
     ]
    }
   ],
   "source": [
    "# Test cell: `exercise_3_test_0`\n",
    "\n",
    "def check_sim_cuts(bio_pattern, s, true_cuts):\n",
    "    print(\"\\nChecking: '{}'...\".format(bio_pattern))\n",
    "    your_cuts = sim_cuts(bio_pattern, s)\n",
    "    print(\"   Your result ({} fragments): {}\".format(len(your_cuts), your_cuts))\n",
    "    print(\"   True result ({}): {}\".format(len(true_cuts), true_cuts))\n",
    "    assert your_cuts == true_cuts, \"Did not match!\"\n",
    "    print(\"   ==> Matched!\")\n",
    "\n",
    "# Check a simple case:\n",
    "check_sim_cuts('ANT|AAT', 'GCATAGTAATGTATTAATGGC', ['GCATAGT', 'AATGTATT', 'AATGGC'])\n",
    "\n",
    "print(\"\\n(Passed first test of Exercise 3; two more to go in the next cell.)\")"
   ]
  },
  {
   "cell_type": "code",
   "execution_count": 10,
   "id": "bb403a49-8d43-47a9-bb88-51aa0e1569d9",
   "metadata": {},
   "outputs": [
    {
     "name": "stdout",
     "output_type": "stream",
     "text": [
      "\n",
      "Checking: 'ANT|AAT'...\n",
      "   Your result (3 fragments): ['ATGGCAATAACCCCCCGTTTCTACTTCTAGAGGAGAAAAGTATTGACATGAGCGCTCCCGGCACAAGGGCCAAAGAAGTCTCCAATTTCTTATTTCCGAATGACATGCGTCTCCTTGCGGGTAAATCACCGACCGCAATTCATAGAAGCCTGGGGGAACAGATAGGTCTAATTAGCTTAAGAGAGTAAATCCTGGGATCATTCAGTAGTAACCATAAACTTACGCTGGGGCTTCTTCGGCGGATTTTTACAGTTACCAACCAGGAGATTTGAAGTAAATCAGTTGAGGATTTAGCCGCGCTATCCGGTAATCTCCAAATTAAAACATACCGTTCCATGAAGGCTAGAATTACTTACCGGCCTTTTCCATGCCTGCGCTATACCCCCCCACTCTCCCGCTTATCCGTCCGAGCGGAGGCAGTGCGATCCTCCGTTAAGATATTCTTACGTGTGACGTAGCTATGTATTTTGCAGAGCTGGCGAACGCGTTGAACACTTCACAGATGGTAGGGATTCGGGTAAAGGGCGTATAATTGGGGACTAACATAGGCGTAGACTACGATGGCGCCAACTCAATCGCAGCTCGAGCGCCCTGAATAACGTACTCATCTCAACTCATTCTCGGCAATCTACCGAGCGACTCGATTATCAACGGCTGTCTAGCAGTTCTAATCTTTTGCCAGCATCGTAATAGCCTCCAAGAGATTGATGATAGCTATCGGCACAGAACTGAGACGGCGCCGATGGATAGCGGACTTTCGGTCAACCACAATTCCCCACGGGACAGGTCCTGCGGTGCGCATCACTCTGAATGTACAAGCAACCCAAGTGGGCCGAGCCTGGACTCAGCTGGTTCCTGCGTGAGCTCGAGACTCGGGATGACAGCTCTTTAAACATAGAGCGGGGGCGTCGAACGGTCGAGAAAGTCATAGTACCTCGGGTACCAACTTACTCAGGTTATTGCTTGAAGCTGTACTATTTTAGGGGGGGAGCGCTGAAGGTCTCTTCTTCTCATGACTGAACTCGCGAGGGTCGTGAAGTCGGTTCCTTCAATGGTTAAAAAACAAAGGCTTACTGTGCGCAGAGGAACGCCCATCTAGCGGCTGGCGTCTTGAATGCTCGGTCCCCTTTGTCATTCCGGATT', 'AATCCATTTCCCTCATTCACGAGCTTGCGAAGTCTACATTGGTATATGAATGCGACCTAGAAGAGGGCGCTTAAAATTGGCAGTGGTTGATGCTCTAAACTCCATTTGGTTTACTCGTGCATCACCGCGATAGGCTGACAAAGGTTTAACATTGAATAGCAAGGCACTTCCGGTCTCAATGAACGGCCGGGAAAGGTACGCGCGCGGTATGGGAGGATCAAGGGGCCAATAGAGAGGCTCCTCTCTCACTCGCTAGGAGGCAAATGTAAAACAATGGTTACTGCATCGATACATAAAACATGTCCATCGGTTGCCCAAAGTGTTAAGTGTCTATCACCCCTAGGGCCGTTTCCCGCATATAAACGCCAGGTTGTATCCGCATTTGATGCTACCGTGGATGAGTCTGCGTCGAGCGCGCCGCACGAATGTTGCAATGTATTGCATGAGTAGGGTTGACTAAGAGCCGTTAGATGCGTCGCTGTACT', 'AATAGTTGTCGACAGACCGTCGAGATTAGAAAATGGTACCAGCATTTTCGGAGGTTCTCTAACTAGTATGGATTGCGGTGTCTTCACTGTGCTGCGGCTACCCATCGCCTGAAATCCAGCTGGTGTCAAGCCATCCCCTCTCCGGGACGCCGCATGTAGTGAAACATATACGTTGCACGGGTTCACCGCGGTCCGTTCTGAGTCGACCAAGGACACAATCGAGCTCCGATCCGTACCCTCGACAAACTTGTACCCGACCCCCGGAGCTTGCCAGCTCCTCGGGTATCATGGAGCCTGTGGTTCATCGCGTCCGATATCAAACTTCGTCATGATAAAGTCCCCCCCTCGGGAGTACCAGAGAAGATGACTACTGAGTTGTGCGAT']\n",
      "   True result (3): ['ATGGCAATAACCCCCCGTTTCTACTTCTAGAGGAGAAAAGTATTGACATGAGCGCTCCCGGCACAAGGGCCAAAGAAGTCTCCAATTTCTTATTTCCGAATGACATGCGTCTCCTTGCGGGTAAATCACCGACCGCAATTCATAGAAGCCTGGGGGAACAGATAGGTCTAATTAGCTTAAGAGAGTAAATCCTGGGATCATTCAGTAGTAACCATAAACTTACGCTGGGGCTTCTTCGGCGGATTTTTACAGTTACCAACCAGGAGATTTGAAGTAAATCAGTTGAGGATTTAGCCGCGCTATCCGGTAATCTCCAAATTAAAACATACCGTTCCATGAAGGCTAGAATTACTTACCGGCCTTTTCCATGCCTGCGCTATACCCCCCCACTCTCCCGCTTATCCGTCCGAGCGGAGGCAGTGCGATCCTCCGTTAAGATATTCTTACGTGTGACGTAGCTATGTATTTTGCAGAGCTGGCGAACGCGTTGAACACTTCACAGATGGTAGGGATTCGGGTAAAGGGCGTATAATTGGGGACTAACATAGGCGTAGACTACGATGGCGCCAACTCAATCGCAGCTCGAGCGCCCTGAATAACGTACTCATCTCAACTCATTCTCGGCAATCTACCGAGCGACTCGATTATCAACGGCTGTCTAGCAGTTCTAATCTTTTGCCAGCATCGTAATAGCCTCCAAGAGATTGATGATAGCTATCGGCACAGAACTGAGACGGCGCCGATGGATAGCGGACTTTCGGTCAACCACAATTCCCCACGGGACAGGTCCTGCGGTGCGCATCACTCTGAATGTACAAGCAACCCAAGTGGGCCGAGCCTGGACTCAGCTGGTTCCTGCGTGAGCTCGAGACTCGGGATGACAGCTCTTTAAACATAGAGCGGGGGCGTCGAACGGTCGAGAAAGTCATAGTACCTCGGGTACCAACTTACTCAGGTTATTGCTTGAAGCTGTACTATTTTAGGGGGGGAGCGCTGAAGGTCTCTTCTTCTCATGACTGAACTCGCGAGGGTCGTGAAGTCGGTTCCTTCAATGGTTAAAAAACAAAGGCTTACTGTGCGCAGAGGAACGCCCATCTAGCGGCTGGCGTCTTGAATGCTCGGTCCCCTTTGTCATTCCGGATT', 'AATCCATTTCCCTCATTCACGAGCTTGCGAAGTCTACATTGGTATATGAATGCGACCTAGAAGAGGGCGCTTAAAATTGGCAGTGGTTGATGCTCTAAACTCCATTTGGTTTACTCGTGCATCACCGCGATAGGCTGACAAAGGTTTAACATTGAATAGCAAGGCACTTCCGGTCTCAATGAACGGCCGGGAAAGGTACGCGCGCGGTATGGGAGGATCAAGGGGCCAATAGAGAGGCTCCTCTCTCACTCGCTAGGAGGCAAATGTAAAACAATGGTTACTGCATCGATACATAAAACATGTCCATCGGTTGCCCAAAGTGTTAAGTGTCTATCACCCCTAGGGCCGTTTCCCGCATATAAACGCCAGGTTGTATCCGCATTTGATGCTACCGTGGATGAGTCTGCGTCGAGCGCGCCGCACGAATGTTGCAATGTATTGCATGAGTAGGGTTGACTAAGAGCCGTTAGATGCGTCGCTGTACT', 'AATAGTTGTCGACAGACCGTCGAGATTAGAAAATGGTACCAGCATTTTCGGAGGTTCTCTAACTAGTATGGATTGCGGTGTCTTCACTGTGCTGCGGCTACCCATCGCCTGAAATCCAGCTGGTGTCAAGCCATCCCCTCTCCGGGACGCCGCATGTAGTGAAACATATACGTTGCACGGGTTCACCGCGGTCCGTTCTGAGTCGACCAAGGACACAATCGAGCTCCGATCCGTACCCTCGACAAACTTGTACCCGACCCCCGGAGCTTGCCAGCTCCTCGGGTATCATGGAGCCTGTGGTTCATCGCGTCCGATATCAAACTTCGTCATGATAAAGTCCCCCCCTCGGGAGTACCAGAGAAGATGACTACTGAGTTGTGCGAT']\n",
      "   ==> Matched!\n",
      "\n",
      "Checking: 'GCRW|TG'...\n",
      "   Your result (3 fragments): ['ATGGCAATAACCCCCCGTTTCTACTTCTAGAGGAGAAAAGTATTGACATGAGCGCTCCCGGCACAAGGGCCAAAGAAGTCTCCAATTTCTTATTTCCGAATGACATGCGTCTCCTTGCGGGTAAATCACCGACCGCAATTCATAGAAGCCTGGGGGAACAGATAGGTCTAATTAGCTTAAGAGAGTAAATCCTGGGATCATTCAGTAGTAACCATAAACTTACGCTGGGGCTTCTTCGGCGGATTTTTACAGTTACCAACCAGGAGATTTGAAGTAAATCAGTTGAGGATTTAGCCGCGCTATCCGGTAATCTCCAAATTAAAACATACCGTTCCATGAAGGCTAGAATTACTTACCGGCCTTTTCCATGCCTGCGCTATACCCCCCCACTCTCCCGCTTATCCGTCCGAGCGGAGGCAGTGCGATCCTCCGTTAAGATATTCTTACGTGTGACGTAGCTATGTATTTTGCAGAGCTGGCGAACGCGT', 'TGAACACTTCACAGATGGTAGGGATTCGGGTAAAGGGCGTATAATTGGGGACTAACATAGGCGTAGACTACGATGGCGCCAACTCAATCGCAGCTCGAGCGCCCTGAATAACGTACTCATCTCAACTCATTCTCGGCAATCTACCGAGCGACTCGATTATCAACGGCTGTCTAGCAGTTCTAATCTTTTGCCAGCATCGTAATAGCCTCCAAGAGATTGATGATAGCTATCGGCACAGAACTGAGACGGCGCCGATGGATAGCGGACTTTCGGTCAACCACAATTCCCCACGGGACAGGTCCTGCGGTGCGCATCACTCTGAATGTACAAGCAACCCAAGTGGGCCGAGCCTGGACTCAGCTGGTTCCTGCGTGAGCTCGAGACTCGGGATGACAGCTCTTTAAACATAGAGCGGGGGCGTCGAACGGTCGAGAAAGTCATAGTACCTCGGGTACCAACTTACTCAGGTTATTGCTTGAAGCTGTACTATTTTAGGGGGGGAGCGCTGAAGGTCTCTTCTTCTCATGACTGAACTCGCGAGGGTCGTGAAGTCGGTTCCTTCAATGGTTAAAAAACAAAGGCTTACTGTGCGCAGAGGAACGCCCATCTAGCGGCTGGCGTCTTGAATGCTCGGTCCCCTTTGTCATTCCGGATTAATCCATTTCCCTCATTCACGAGCTTGCGAAGTCTACATTGGTATATGAATGCGACCTAGAAGAGGGCGCTTAAAATTGGCAGTGGTTGATGCTCTAAACTCCATTTGGTTTACTCGTGCATCACCGCGATAGGCTGACAAAGGTTTAACATTGAATAGCAAGGCACTTCCGGTCTCAATGAACGGCCGGGAAAGGTACGCGCGCGGTATGGGAGGATCAAGGGGCCAATAGAGAGGCTCCTCTCTCACTCGCTAGGAGGCAAATGTAAAACAATGGTTACTGCATCGATACATAAAACATGTCCATCGGTTGCCCAAAGTGTTAAGTGTCTATCACCCCTAGGGCCGTTTCCCGCATATAAACGCCAGGTTGTATCCGCATTTGATGCTACCGTGGATGAGTCTGCGTCGAGCGCGCCGCACGAATGTTGCAA', 'TGTATTGCATGAGTAGGGTTGACTAAGAGCCGTTAGATGCGTCGCTGTACTAATAGTTGTCGACAGACCGTCGAGATTAGAAAATGGTACCAGCATTTTCGGAGGTTCTCTAACTAGTATGGATTGCGGTGTCTTCACTGTGCTGCGGCTACCCATCGCCTGAAATCCAGCTGGTGTCAAGCCATCCCCTCTCCGGGACGCCGCATGTAGTGAAACATATACGTTGCACGGGTTCACCGCGGTCCGTTCTGAGTCGACCAAGGACACAATCGAGCTCCGATCCGTACCCTCGACAAACTTGTACCCGACCCCCGGAGCTTGCCAGCTCCTCGGGTATCATGGAGCCTGTGGTTCATCGCGTCCGATATCAAACTTCGTCATGATAAAGTCCCCCCCTCGGGAGTACCAGAGAAGATGACTACTGAGTTGTGCGAT']\n",
      "   True result (3): ['ATGGCAATAACCCCCCGTTTCTACTTCTAGAGGAGAAAAGTATTGACATGAGCGCTCCCGGCACAAGGGCCAAAGAAGTCTCCAATTTCTTATTTCCGAATGACATGCGTCTCCTTGCGGGTAAATCACCGACCGCAATTCATAGAAGCCTGGGGGAACAGATAGGTCTAATTAGCTTAAGAGAGTAAATCCTGGGATCATTCAGTAGTAACCATAAACTTACGCTGGGGCTTCTTCGGCGGATTTTTACAGTTACCAACCAGGAGATTTGAAGTAAATCAGTTGAGGATTTAGCCGCGCTATCCGGTAATCTCCAAATTAAAACATACCGTTCCATGAAGGCTAGAATTACTTACCGGCCTTTTCCATGCCTGCGCTATACCCCCCCACTCTCCCGCTTATCCGTCCGAGCGGAGGCAGTGCGATCCTCCGTTAAGATATTCTTACGTGTGACGTAGCTATGTATTTTGCAGAGCTGGCGAACGCGT', 'TGAACACTTCACAGATGGTAGGGATTCGGGTAAAGGGCGTATAATTGGGGACTAACATAGGCGTAGACTACGATGGCGCCAACTCAATCGCAGCTCGAGCGCCCTGAATAACGTACTCATCTCAACTCATTCTCGGCAATCTACCGAGCGACTCGATTATCAACGGCTGTCTAGCAGTTCTAATCTTTTGCCAGCATCGTAATAGCCTCCAAGAGATTGATGATAGCTATCGGCACAGAACTGAGACGGCGCCGATGGATAGCGGACTTTCGGTCAACCACAATTCCCCACGGGACAGGTCCTGCGGTGCGCATCACTCTGAATGTACAAGCAACCCAAGTGGGCCGAGCCTGGACTCAGCTGGTTCCTGCGTGAGCTCGAGACTCGGGATGACAGCTCTTTAAACATAGAGCGGGGGCGTCGAACGGTCGAGAAAGTCATAGTACCTCGGGTACCAACTTACTCAGGTTATTGCTTGAAGCTGTACTATTTTAGGGGGGGAGCGCTGAAGGTCTCTTCTTCTCATGACTGAACTCGCGAGGGTCGTGAAGTCGGTTCCTTCAATGGTTAAAAAACAAAGGCTTACTGTGCGCAGAGGAACGCCCATCTAGCGGCTGGCGTCTTGAATGCTCGGTCCCCTTTGTCATTCCGGATTAATCCATTTCCCTCATTCACGAGCTTGCGAAGTCTACATTGGTATATGAATGCGACCTAGAAGAGGGCGCTTAAAATTGGCAGTGGTTGATGCTCTAAACTCCATTTGGTTTACTCGTGCATCACCGCGATAGGCTGACAAAGGTTTAACATTGAATAGCAAGGCACTTCCGGTCTCAATGAACGGCCGGGAAAGGTACGCGCGCGGTATGGGAGGATCAAGGGGCCAATAGAGAGGCTCCTCTCTCACTCGCTAGGAGGCAAATGTAAAACAATGGTTACTGCATCGATACATAAAACATGTCCATCGGTTGCCCAAAGTGTTAAGTGTCTATCACCCCTAGGGCCGTTTCCCGCATATAAACGCCAGGTTGTATCCGCATTTGATGCTACCGTGGATGAGTCTGCGTCGAGCGCGCCGCACGAATGTTGCAA', 'TGTATTGCATGAGTAGGGTTGACTAAGAGCCGTTAGATGCGTCGCTGTACTAATAGTTGTCGACAGACCGTCGAGATTAGAAAATGGTACCAGCATTTTCGGAGGTTCTCTAACTAGTATGGATTGCGGTGTCTTCACTGTGCTGCGGCTACCCATCGCCTGAAATCCAGCTGGTGTCAAGCCATCCCCTCTCCGGGACGCCGCATGTAGTGAAACATATACGTTGCACGGGTTCACCGCGGTCCGTTCTGAGTCGACCAAGGACACAATCGAGCTCCGATCCGTACCCTCGACAAACTTGTACCCGACCCCCGGAGCTTGCCAGCTCCTCGGGTATCATGGAGCCTGTGGTTCATCGCGTCCGATATCAAACTTCGTCATGATAAAGTCCCCCCCTCGGGAGTACCAGAGAAGATGACTACTGAGTTGTGCGAT']\n",
      "   ==> Matched!\n",
      "\n",
      "(Passed second tests of Exercise 3!)\n"
     ]
    }
   ],
   "source": [
    "# Test cell: `exercise_2_test_1`\n",
    "\n",
    "check_sim_cuts('ANT|AAT', dna_seq, ['ATGGCAATAACCCCCCGTTTCTACTTCTAGAGGAGAAAAGTATTGACATGAGCGCTCCCGGCACAAGGGCCAAAGAAGTCTCCAATTTCTTATTTCCGAATGACATGCGTCTCCTTGCGGGTAAATCACCGACCGCAATTCATAGAAGCCTGGGGGAACAGATAGGTCTAATTAGCTTAAGAGAGTAAATCCTGGGATCATTCAGTAGTAACCATAAACTTACGCTGGGGCTTCTTCGGCGGATTTTTACAGTTACCAACCAGGAGATTTGAAGTAAATCAGTTGAGGATTTAGCCGCGCTATCCGGTAATCTCCAAATTAAAACATACCGTTCCATGAAGGCTAGAATTACTTACCGGCCTTTTCCATGCCTGCGCTATACCCCCCCACTCTCCCGCTTATCCGTCCGAGCGGAGGCAGTGCGATCCTCCGTTAAGATATTCTTACGTGTGACGTAGCTATGTATTTTGCAGAGCTGGCGAACGCGTTGAACACTTCACAGATGGTAGGGATTCGGGTAAAGGGCGTATAATTGGGGACTAACATAGGCGTAGACTACGATGGCGCCAACTCAATCGCAGCTCGAGCGCCCTGAATAACGTACTCATCTCAACTCATTCTCGGCAATCTACCGAGCGACTCGATTATCAACGGCTGTCTAGCAGTTCTAATCTTTTGCCAGCATCGTAATAGCCTCCAAGAGATTGATGATAGCTATCGGCACAGAACTGAGACGGCGCCGATGGATAGCGGACTTTCGGTCAACCACAATTCCCCACGGGACAGGTCCTGCGGTGCGCATCACTCTGAATGTACAAGCAACCCAAGTGGGCCGAGCCTGGACTCAGCTGGTTCCTGCGTGAGCTCGAGACTCGGGATGACAGCTCTTTAAACATAGAGCGGGGGCGTCGAACGGTCGAGAAAGTCATAGTACCTCGGGTACCAACTTACTCAGGTTATTGCTTGAAGCTGTACTATTTTAGGGGGGGAGCGCTGAAGGTCTCTTCTTCTCATGACTGAACTCGCGAGGGTCGTGAAGTCGGTTCCTTCAATGGTTAAAAAACAAAGGCTTACTGTGCGCAGAGGAACGCCCATCTAGCGGCTGGCGTCTTGAATGCTCGGTCCCCTTTGTCATTCCGGATT',\n",
    " 'AATCCATTTCCCTCATTCACGAGCTTGCGAAGTCTACATTGGTATATGAATGCGACCTAGAAGAGGGCGCTTAAAATTGGCAGTGGTTGATGCTCTAAACTCCATTTGGTTTACTCGTGCATCACCGCGATAGGCTGACAAAGGTTTAACATTGAATAGCAAGGCACTTCCGGTCTCAATGAACGGCCGGGAAAGGTACGCGCGCGGTATGGGAGGATCAAGGGGCCAATAGAGAGGCTCCTCTCTCACTCGCTAGGAGGCAAATGTAAAACAATGGTTACTGCATCGATACATAAAACATGTCCATCGGTTGCCCAAAGTGTTAAGTGTCTATCACCCCTAGGGCCGTTTCCCGCATATAAACGCCAGGTTGTATCCGCATTTGATGCTACCGTGGATGAGTCTGCGTCGAGCGCGCCGCACGAATGTTGCAATGTATTGCATGAGTAGGGTTGACTAAGAGCCGTTAGATGCGTCGCTGTACT',\n",
    " 'AATAGTTGTCGACAGACCGTCGAGATTAGAAAATGGTACCAGCATTTTCGGAGGTTCTCTAACTAGTATGGATTGCGGTGTCTTCACTGTGCTGCGGCTACCCATCGCCTGAAATCCAGCTGGTGTCAAGCCATCCCCTCTCCGGGACGCCGCATGTAGTGAAACATATACGTTGCACGGGTTCACCGCGGTCCGTTCTGAGTCGACCAAGGACACAATCGAGCTCCGATCCGTACCCTCGACAAACTTGTACCCGACCCCCGGAGCTTGCCAGCTCCTCGGGTATCATGGAGCCTGTGGTTCATCGCGTCCGATATCAAACTTCGTCATGATAAAGTCCCCCCCTCGGGAGTACCAGAGAAGATGACTACTGAGTTGTGCGAT'])\n",
    "check_sim_cuts('GCRW|TG', dna_seq, ['ATGGCAATAACCCCCCGTTTCTACTTCTAGAGGAGAAAAGTATTGACATGAGCGCTCCCGGCACAAGGGCCAAAGAAGTCTCCAATTTCTTATTTCCGAATGACATGCGTCTCCTTGCGGGTAAATCACCGACCGCAATTCATAGAAGCCTGGGGGAACAGATAGGTCTAATTAGCTTAAGAGAGTAAATCCTGGGATCATTCAGTAGTAACCATAAACTTACGCTGGGGCTTCTTCGGCGGATTTTTACAGTTACCAACCAGGAGATTTGAAGTAAATCAGTTGAGGATTTAGCCGCGCTATCCGGTAATCTCCAAATTAAAACATACCGTTCCATGAAGGCTAGAATTACTTACCGGCCTTTTCCATGCCTGCGCTATACCCCCCCACTCTCCCGCTTATCCGTCCGAGCGGAGGCAGTGCGATCCTCCGTTAAGATATTCTTACGTGTGACGTAGCTATGTATTTTGCAGAGCTGGCGAACGCGT',\n",
    " 'TGAACACTTCACAGATGGTAGGGATTCGGGTAAAGGGCGTATAATTGGGGACTAACATAGGCGTAGACTACGATGGCGCCAACTCAATCGCAGCTCGAGCGCCCTGAATAACGTACTCATCTCAACTCATTCTCGGCAATCTACCGAGCGACTCGATTATCAACGGCTGTCTAGCAGTTCTAATCTTTTGCCAGCATCGTAATAGCCTCCAAGAGATTGATGATAGCTATCGGCACAGAACTGAGACGGCGCCGATGGATAGCGGACTTTCGGTCAACCACAATTCCCCACGGGACAGGTCCTGCGGTGCGCATCACTCTGAATGTACAAGCAACCCAAGTGGGCCGAGCCTGGACTCAGCTGGTTCCTGCGTGAGCTCGAGACTCGGGATGACAGCTCTTTAAACATAGAGCGGGGGCGTCGAACGGTCGAGAAAGTCATAGTACCTCGGGTACCAACTTACTCAGGTTATTGCTTGAAGCTGTACTATTTTAGGGGGGGAGCGCTGAAGGTCTCTTCTTCTCATGACTGAACTCGCGAGGGTCGTGAAGTCGGTTCCTTCAATGGTTAAAAAACAAAGGCTTACTGTGCGCAGAGGAACGCCCATCTAGCGGCTGGCGTCTTGAATGCTCGGTCCCCTTTGTCATTCCGGATTAATCCATTTCCCTCATTCACGAGCTTGCGAAGTCTACATTGGTATATGAATGCGACCTAGAAGAGGGCGCTTAAAATTGGCAGTGGTTGATGCTCTAAACTCCATTTGGTTTACTCGTGCATCACCGCGATAGGCTGACAAAGGTTTAACATTGAATAGCAAGGCACTTCCGGTCTCAATGAACGGCCGGGAAAGGTACGCGCGCGGTATGGGAGGATCAAGGGGCCAATAGAGAGGCTCCTCTCTCACTCGCTAGGAGGCAAATGTAAAACAATGGTTACTGCATCGATACATAAAACATGTCCATCGGTTGCCCAAAGTGTTAAGTGTCTATCACCCCTAGGGCCGTTTCCCGCATATAAACGCCAGGTTGTATCCGCATTTGATGCTACCGTGGATGAGTCTGCGTCGAGCGCGCCGCACGAATGTTGCAA',\n",
    " 'TGTATTGCATGAGTAGGGTTGACTAAGAGCCGTTAGATGCGTCGCTGTACTAATAGTTGTCGACAGACCGTCGAGATTAGAAAATGGTACCAGCATTTTCGGAGGTTCTCTAACTAGTATGGATTGCGGTGTCTTCACTGTGCTGCGGCTACCCATCGCCTGAAATCCAGCTGGTGTCAAGCCATCCCCTCTCCGGGACGCCGCATGTAGTGAAACATATACGTTGCACGGGTTCACCGCGGTCCGTTCTGAGTCGACCAAGGACACAATCGAGCTCCGATCCGTACCCTCGACAAACTTGTACCCGACCCCCGGAGCTTGCCAGCTCCTCGGGTATCATGGAGCCTGTGGTTCATCGCGTCCGATATCAAACTTCGTCATGATAAAGTCCCCCCCTCGGGAGTACCAGAGAAGATGACTACTGAGTTGTGCGAT'])\n",
    "\n",
    "print(\"\\n(Passed second tests of Exercise 3!)\")"
   ]
  },
  {
   "cell_type": "markdown",
   "id": "db26f0b8-3bc0-4618-b66d-f4b667be0789",
   "metadata": {},
   "source": [
    "## Problem 7: Hamlet Sentence Generator\n",
    "\n",
    "Who needs Shakespeare when we've got Python? In the following series of exercises, we will create a function that will generate Shakesepearan-sounding phrases. All of the words in our phrase generator come from Act 3, Scene 1 of Shakespeare's Hamlet. \n",
    "\n",
    "But we won't just be stringing random words together. To make our phrases sound (slightly) coherent, every new word in our phrase will be a word that followed the previous word in the original Shakespearean text.\n",
    "\n",
    "We will accomplish this in three steps. First, we will tidy the text of the scene, breaking each sentence into an ordered list of the words in that sentence. Second, we will create a dictionary where the keys are words from the text, and the values are lists of the words that immediately follow the key words in the dialogue. Finally,  we will create a phrase generator that will use that dictionary by starting with a key word, randomly selecting a word from the list of words that follows it, adding that word to our phrase, and repeating the process."
   ]
  },
  {
   "cell_type": "code",
   "execution_count": 11,
   "id": "dad2aeeb-592b-467f-9ed1-6dc3103ba0f0",
   "metadata": {},
   "outputs": [],
   "source": [
    "hamlet_text = \"\"\"\n",
    "\n",
    "And can you by no drift of circumstance Get from him why he puts on this confusion Grating so harshly all his days of \n",
    "quiet With turbulent and dangerous lunacy? He does confess he feels himself distracted. But from what cause he will by \n",
    "no means speak. Nor do we find him forward to be sounded But with a crafty madness keeps aloof When we would bring \n",
    "him on to some confession Of his true state. Did he receive you well? Most like a gentleman. But with much forcing of \n",
    "his disposition. Niggard of question. but of our demands Most free in his reply. Did you assay him? To any pastime? \n",
    "Madam it so fell out that certain players We o'er-raught on the way. of these we told him. And there did seem in him a \n",
    "kind of joy To hear of it. they are about the court And as I think they have already order This night to play before \n",
    "him. 'Tis most true. And he beseech'd me to entreat your majesties To hear and see the matter. With all my heart. and \n",
    "it doth much content me To hear him so inclined. Good gentlemen give him a further edge And drive his purpose on to \n",
    "these delights. We shall my lord. Sweet Gertrude leave us too. For we have closely sent for Hamlet hither That he as \n",
    "'twere by accident may here Affront Ophelia. Her father and myself lawful espials Will so bestow ourselves that seeing \n",
    "unseen We may of their encounter frankly judge And gather by him as he is behaved If 't be the affliction of his love \n",
    "or no That thus he suffers for. I shall obey you. And for your part Ophelia I do wish That your good beauties be the \n",
    "happy cause Of Hamlet's wildness. so shall I hope your virtues Will bring him to his wonted way again To both your \n",
    "honours. Madam I wish it may. Ophelia walk you here. Gracious so please you We will bestow ourselves. Read on this \n",
    "book. That show of such an exercise may colour Your loneliness. We are oft to blame in this 'Tis too much proved that \n",
    "with devotion's visage And pious action we do sugar o'er The devil himself. O 'tis too true! How smart a lash that \n",
    "speech doth give my conscience! The harlot's cheek beautied with plastering art Is not more ugly to the thing that \n",
    "helps it Than is my deed to my most painted word. O heavy burthen! I hear him coming. let's withdraw my lord. To be \n",
    "or not to be. that is the question. Whether 'tis nobler in the mind to suffer The slings and arrows of outrageous \n",
    "fortune Or to take arms against a sea of troubles And by opposing end them? To die. to sleep. No more. and by a sleep \n",
    "to say we end The heart-ache and the thousand natural shocks That flesh is heir to 'tis a consummation Devoutly to be \n",
    "wish'd. To die to sleep. To sleep. perchance to dream. ay there's the rub. For in that sleep of death what dreams may \n",
    "come When we have shuffled off this mortal coil Must give us pause. there's the respect That makes calamity of so long \n",
    "life. For who would bear the whips and scorns of time The oppressor's wrong the proud man's contumely The pangs of \n",
    "despised love the law's delay The insolence of office and the spurns That patient merit of the unworthy takes When he \n",
    "himself might his quietus make With a bare bodkin? who would fardels bear To grunt and sweat under a weary life But \n",
    "that the dread of something after death The undiscover'd country from whose bourn No traveller returns puzzles the \n",
    "will And makes us rather bear those ills we have Than fly to others that we know not of? Thus conscience does make \n",
    "cowards of us all. And thus the native hue of resolution Is sicklied o'er with the pale cast of thought And \n",
    "enterprises of great pith and moment With this regard their currents turn awry And lose the name of action. Soft you \n",
    "now! The fair Ophelia! Nymph in thy orisons Be all my sins remember'd. Good my lord How does your honour for this \n",
    "many a day? I humbly thank you. well well well. My lord I have remembrances of yours That I have longed long to \n",
    "re-deliver. I pray you now receive them. No not I. I never gave you aught. My honour'd lord you know right well you \n",
    "did. And with them words of so sweet breath composed As made the things more rich. their perfume lost Take these \n",
    "again. for to the noble mind Rich gifts wax poor when givers prove unkind. There my lord. Ha ha! are you honest? My \n",
    "lord? Are you fair? What means your lordship? That if you be honest and fair your honesty should admit no discourse \n",
    "to your beauty. Could beauty my lord have better commerce than with honesty? Ay truly. for the power of beauty will \n",
    "sooner transform honesty from what it is to a bawd than the force of honesty can translate beauty into his likeness. \n",
    "this was sometime a paradox but now the time gives it proof. I did love you once. Indeed my lord you made me believe \n",
    "so. You should not have believed me. for virtue cannot so inoculate our old stock but we shall relish of it. I loved \n",
    "you not. I was the more deceived. Get thee to a nunnery. why wouldst thou be a breeder of sinners? I am myself \n",
    "indifferent honest. but yet I could accuse me of such things that it were better my mother had not borne me. I am \n",
    "very proud revengeful ambitious with more offences at my beck than I have thoughts to put them in imagination to give \n",
    "them shape or time to act them in. What should such fellows as I do crawling between earth and heaven? We are arrant \n",
    "knaves all. believe none of us. Go thy ways to a nunnery. Where's your father? At home my lord. Let the doors be shut \n",
    "upon him that he may play the fool no where but in's own house. Farewell. O help him you sweet heavens! If thou dost \n",
    "marry I'll give thee this plague for thy dowry. be thou as chaste as ice as pure as snow thou shalt not escape \n",
    "calumny. Get thee to a nunnery go. farewell. Or if thou wilt needs marry marry a fool. for wise men know well enough \n",
    "what monsters you make of them. To a nunnery go and quickly too. Farewell. O heavenly powers restore him! I have \n",
    "heard of your paintings too well enough. God has given you one face and you make yourselves another. you jig you \n",
    "amble and you lisp and nick-name God's creatures and make your wantonness your ignorance. Go to I'll no more on't. \n",
    "it hath made me mad. I say we will have no more marriages. those that are married already all but one shall live. the \n",
    "rest shall keep as they are. To a nunnery go. O what a noble mind is here o'erthrown! The courtier's soldier's \n",
    "scholar's eye tongue sword. The expectancy and rose of the fair state The glass of fashion and the mould of form The \n",
    "observed of all observers quite quite down! And I of ladies most deject and wretched That suck'd the honey of his \n",
    "music vows Now see that noble and most sovereign reason Like sweet bells jangled out of tune and harsh. That \n",
    "unmatch'd form and feature of blown youth Blasted with ecstasy. O woe is me To have seen what I have seen see what I \n",
    "see! Love! his affections do not that way tend. Nor what he spake though it lack'd form a little Was not like madness. \n",
    "There's something in his soul O'er which his melancholy sits on brood. And I do doubt the hatch and the disclose Will \n",
    "be some danger. which for to prevent I have in quick determination Thus set it down. he shall with speed to England \n",
    "For the demand of our neglected tribute Haply the seas and countries different With variable objects shall expel \n",
    "This something-settled matter in his heart Whereon his brains still beating puts him thus From fashion of himself. \n",
    "What think you on't? It shall do well. but yet do I believe The origin and commencement of his grief Sprung from \n",
    "neglected love. How now Ophelia! You need not tell us what Lord Hamlet said. We heard it all. My lord do as you \n",
    "please. But if you hold it fit after the play Let his queen mother all alone entreat him To show his grief. let her \n",
    "be round with him. And I'll be placed so please you in the ear Of all their conference. If she find him not To England \n",
    "send him or confine him where Your wisdom best shall think. It shall be so. Madness in great ones must not unwatch'd \n",
    "go.\"\"\""
   ]
  },
  {
   "cell_type": "markdown",
   "id": "3b271d39-7a40-41f7-a9df-b65e853932d4",
   "metadata": {},
   "source": [
    "**Exercise 0 (3 pts)**: Create a list of lists, named `hamsplits`, such that `hamsplits[i]` is a list of all the words in the `i`-th sentence of the text. The sentences should be stored in the order that they appear, and so should the words within each sentence.\n",
    "\n",
    "Regarding how to break up the text into sentences and how to store the words, the guidelines are as follows:\n",
    "\n",
    "* Sentences end with `'.'`, `'?'`, and `'!'`.\n",
    "* You should convert all letters to lowercase.\n",
    "* For each word, strip out any punctuation.\n",
    "\n",
    "For instance, in the text above, the first and last sentences would be:\n",
    "\n",
    "```python\n",
    "hamsplits[0] == ['and', 'can', 'you', 'by', ..., 'dangerous', 'lunacy']\n",
    "hamsplits[-1] == ['madness', 'in', 'great', ..., 'not', 'unwatchd', 'go']\n",
    "```"
   ]
  },
  {
   "cell_type": "code",
   "execution_count": 12,
   "id": "e9abdcaa-2e6e-4f06-876c-ae3069759e9c",
   "metadata": {},
   "outputs": [
    {
     "name": "stdout",
     "output_type": "stream",
     "text": [
      "[['and', 'can', 'you', 'by', 'no', 'drift', 'of', 'circumstance', 'get', 'from', 'him', 'why', 'he', 'puts', 'on', 'this', 'confusion', 'grating', 'so', 'harshly', 'all', 'his', 'days', 'of', 'quiet', 'with', 'turbulent', 'and', 'dangerous', 'lunacy'], ['he', 'does', 'confess', 'he', 'feels', 'himself', 'distracted'], ['but', 'from', 'what', 'cause', 'he', 'will', 'by', 'no', 'means', 'speak'], ['nor', 'do', 'we', 'find', 'him', 'forward', 'to', 'be', 'sounded', 'but', 'with', 'a', 'crafty', 'madness', 'keeps', 'aloof', 'when', 'we', 'would', 'bring', 'him', 'on', 'to', 'some', 'confession', 'of', 'his', 'true', 'state'], ['did', 'he', 'receive', 'you', 'well'], ['most', 'like', 'a', 'gentleman'], ['but', 'with', 'much', 'forcing', 'of', 'his', 'disposition'], ['niggard', 'of', 'question'], ['but', 'of', 'our', 'demands', 'most', 'free', 'in', 'his', 'reply'], ['did', 'you', 'assay', 'him'], ['to', 'any', 'pastime'], ['madam', 'it', 'so', 'fell', 'out', 'that', 'certain', 'players', 'we', 'oer-raught', 'on', 'the', 'way'], ['of', 'these', 'we', 'told', 'him'], ['and', 'there', 'did', 'seem', 'in', 'him', 'a', 'kind', 'of', 'joy', 'to', 'hear', 'of', 'it'], ['they', 'are', 'about', 'the', 'court', 'and', 'as', 'i', 'think', 'they', 'have', 'already', 'order', 'this', 'night', 'to', 'play', 'before', 'him'], ['tis', 'most', 'true'], ['and', 'he', 'beseechd', 'me', 'to', 'entreat', 'your', 'majesties', 'to', 'hear', 'and', 'see', 'the', 'matter'], ['with', 'all', 'my', 'heart'], ['and', 'it', 'doth', 'much', 'content', 'me', 'to', 'hear', 'him', 'so', 'inclined'], ['good', 'gentlemen', 'give', 'him', 'a', 'further', 'edge', 'and', 'drive', 'his', 'purpose', 'on', 'to', 'these', 'delights'], ['we', 'shall', 'my', 'lord'], ['sweet', 'gertrude', 'leave', 'us', 'too'], ['for', 'we', 'have', 'closely', 'sent', 'for', 'hamlet', 'hither', 'that', 'he', 'as', 'twere', 'by', 'accident', 'may', 'here', 'affront', 'ophelia'], ['her', 'father', 'and', 'myself', 'lawful', 'espials', 'will', 'so', 'bestow', 'ourselves', 'that', 'seeing', 'unseen', 'we', 'may', 'of', 'their', 'encounter', 'frankly', 'judge', 'and', 'gather', 'by', 'him', 'as', 'he', 'is', 'behaved', 'if', 't', 'be', 'the', 'affliction', 'of', 'his', 'love', 'or', 'no', 'that', 'thus', 'he', 'suffers', 'for'], ['i', 'shall', 'obey', 'you'], ['and', 'for', 'your', 'part', 'ophelia', 'i', 'do', 'wish', 'that', 'your', 'good', 'beauties', 'be', 'the', 'happy', 'cause', 'of', 'hamlets', 'wildness'], ['so', 'shall', 'i', 'hope', 'your', 'virtues', 'will', 'bring', 'him', 'to', 'his', 'wonted', 'way', 'again', 'to', 'both', 'your', 'honours'], ['madam', 'i', 'wish', 'it', 'may'], ['ophelia', 'walk', 'you', 'here'], ['gracious', 'so', 'please', 'you', 'we', 'will', 'bestow', 'ourselves'], ['read', 'on', 'this', 'book'], ['that', 'show', 'of', 'such', 'an', 'exercise', 'may', 'colour', 'your', 'loneliness'], ['we', 'are', 'oft', 'to', 'blame', 'in', 'this', 'tis', 'too', 'much', 'proved', 'that', 'with', 'devotions', 'visage', 'and', 'pious', 'action', 'we', 'do', 'sugar', 'oer', 'the', 'devil', 'himself'], ['o', 'tis', 'too', 'true'], ['how', 'smart', 'a', 'lash', 'that', 'speech', 'doth', 'give', 'my', 'conscience'], ['the', 'harlots', 'cheek', 'beautied', 'with', 'plastering', 'art', 'is', 'not', 'more', 'ugly', 'to', 'the', 'thing', 'that', 'helps', 'it', 'than', 'is', 'my', 'deed', 'to', 'my', 'most', 'painted', 'word'], ['o', 'heavy', 'burthen'], ['i', 'hear', 'him', 'coming'], ['lets', 'withdraw', 'my', 'lord'], ['to', 'be', 'or', 'not', 'to', 'be'], ['that', 'is', 'the', 'question'], ['whether', 'tis', 'nobler', 'in', 'the', 'mind', 'to', 'suffer', 'the', 'slings', 'and', 'arrows', 'of', 'outrageous', 'fortune', 'or', 'to', 'take', 'arms', 'against', 'a', 'sea', 'of', 'troubles', 'and', 'by', 'opposing', 'end', 'them'], ['to', 'die'], ['to', 'sleep'], ['no', 'more'], ['and', 'by', 'a', 'sleep', 'to', 'say', 'we', 'end', 'the', 'heart-ache', 'and', 'the', 'thousand', 'natural', 'shocks', 'that', 'flesh', 'is', 'heir', 'to', 'tis', 'a', 'consummation', 'devoutly', 'to', 'be', 'wishd'], ['to', 'die', 'to', 'sleep'], ['to', 'sleep'], ['perchance', 'to', 'dream'], ['ay', 'theres', 'the', 'rub'], ['for', 'in', 'that', 'sleep', 'of', 'death', 'what', 'dreams', 'may', 'come', 'when', 'we', 'have', 'shuffled', 'off', 'this', 'mortal', 'coil', 'must', 'give', 'us', 'pause'], ['theres', 'the', 'respect', 'that', 'makes', 'calamity', 'of', 'so', 'long', 'life'], ['for', 'who', 'would', 'bear', 'the', 'whips', 'and', 'scorns', 'of', 'time', 'the', 'oppressors', 'wrong', 'the', 'proud', 'mans', 'contumely', 'the', 'pangs', 'of', 'despised', 'love', 'the', 'laws', 'delay', 'the', 'insolence', 'of', 'office', 'and', 'the', 'spurns', 'that', 'patient', 'merit', 'of', 'the', 'unworthy', 'takes', 'when', 'he', 'himself', 'might', 'his', 'quietus', 'make', 'with', 'a', 'bare', 'bodkin'], ['who', 'would', 'fardels', 'bear', 'to', 'grunt', 'and', 'sweat', 'under', 'a', 'weary', 'life', 'but', 'that', 'the', 'dread', 'of', 'something', 'after', 'death', 'the', 'undiscoverd', 'country', 'from', 'whose', 'bourn', 'no', 'traveller', 'returns', 'puzzles', 'the', 'will', 'and', 'makes', 'us', 'rather', 'bear', 'those', 'ills', 'we', 'have', 'than', 'fly', 'to', 'others', 'that', 'we', 'know', 'not', 'of'], ['thus', 'conscience', 'does', 'make', 'cowards', 'of', 'us', 'all'], ['and', 'thus', 'the', 'native', 'hue', 'of', 'resolution', 'is', 'sicklied', 'oer', 'with', 'the', 'pale', 'cast', 'of', 'thought', 'and', 'enterprises', 'of', 'great', 'pith', 'and', 'moment', 'with', 'this', 'regard', 'their', 'currents', 'turn', 'awry', 'and', 'lose', 'the', 'name', 'of', 'action'], ['soft', 'you', 'now'], ['the', 'fair', 'ophelia'], ['nymph', 'in', 'thy', 'orisons', 'be', 'all', 'my', 'sins', 'rememberd'], ['good', 'my', 'lord', 'how', 'does', 'your', 'honour', 'for', 'this', 'many', 'a', 'day'], ['i', 'humbly', 'thank', 'you'], ['well', 'well', 'well'], ['my', 'lord', 'i', 'have', 'remembrances', 'of', 'yours', 'that', 'i', 'have', 'longed', 'long', 'to', 're-deliver'], ['i', 'pray', 'you', 'now', 'receive', 'them'], ['no', 'not', 'i'], ['i', 'never', 'gave', 'you', 'aught'], ['my', 'honourd', 'lord', 'you', 'know', 'right', 'well', 'you', 'did'], ['and', 'with', 'them', 'words', 'of', 'so', 'sweet', 'breath', 'composed', 'as', 'made', 'the', 'things', 'more', 'rich'], ['their', 'perfume', 'lost', 'take', 'these', 'again'], ['for', 'to', 'the', 'noble', 'mind', 'rich', 'gifts', 'wax', 'poor', 'when', 'givers', 'prove', 'unkind'], ['there', 'my', 'lord'], ['ha', 'ha'], ['are', 'you', 'honest'], ['my', 'lord'], ['are', 'you', 'fair'], ['what', 'means', 'your', 'lordship'], ['that', 'if', 'you', 'be', 'honest', 'and', 'fair', 'your', 'honesty', 'should', 'admit', 'no', 'discourse', 'to', 'your', 'beauty'], ['could', 'beauty', 'my', 'lord', 'have', 'better', 'commerce', 'than', 'with', 'honesty'], ['ay', 'truly'], ['for', 'the', 'power', 'of', 'beauty', 'will', 'sooner', 'transform', 'honesty', 'from', 'what', 'it', 'is', 'to', 'a', 'bawd', 'than', 'the', 'force', 'of', 'honesty', 'can', 'translate', 'beauty', 'into', 'his', 'likeness'], ['this', 'was', 'sometime', 'a', 'paradox', 'but', 'now', 'the', 'time', 'gives', 'it', 'proof'], ['i', 'did', 'love', 'you', 'once'], ['indeed', 'my', 'lord', 'you', 'made', 'me', 'believe', 'so'], ['you', 'should', 'not', 'have', 'believed', 'me'], ['for', 'virtue', 'cannot', 'so', 'inoculate', 'our', 'old', 'stock', 'but', 'we', 'shall', 'relish', 'of', 'it'], ['i', 'loved', 'you', 'not'], ['i', 'was', 'the', 'more', 'deceived'], ['get', 'thee', 'to', 'a', 'nunnery'], ['why', 'wouldst', 'thou', 'be', 'a', 'breeder', 'of', 'sinners'], ['i', 'am', 'myself', 'indifferent', 'honest'], ['but', 'yet', 'i', 'could', 'accuse', 'me', 'of', 'such', 'things', 'that', 'it', 'were', 'better', 'my', 'mother', 'had', 'not', 'borne', 'me'], ['i', 'am', 'very', 'proud', 'revengeful', 'ambitious', 'with', 'more', 'offences', 'at', 'my', 'beck', 'than', 'i', 'have', 'thoughts', 'to', 'put', 'them', 'in', 'imagination', 'to', 'give', 'them', 'shape', 'or', 'time', 'to', 'act', 'them', 'in'], ['what', 'should', 'such', 'fellows', 'as', 'i', 'do', 'crawling', 'between', 'earth', 'and', 'heaven'], ['we', 'are', 'arrant', 'knaves', 'all'], ['believe', 'none', 'of', 'us'], ['go', 'thy', 'ways', 'to', 'a', 'nunnery'], ['wheres', 'your', 'father'], ['at', 'home', 'my', 'lord'], ['let', 'the', 'doors', 'be', 'shut', 'upon', 'him', 'that', 'he', 'may', 'play', 'the', 'fool', 'no', 'where', 'but', 'ins', 'own', 'house'], ['farewell'], ['o', 'help', 'him', 'you', 'sweet', 'heavens'], ['if', 'thou', 'dost', 'marry', 'ill', 'give', 'thee', 'this', 'plague', 'for', 'thy', 'dowry'], ['be', 'thou', 'as', 'chaste', 'as', 'ice', 'as', 'pure', 'as', 'snow', 'thou', 'shalt', 'not', 'escape', 'calumny'], ['get', 'thee', 'to', 'a', 'nunnery', 'go'], ['farewell'], ['or', 'if', 'thou', 'wilt', 'needs', 'marry', 'marry', 'a', 'fool'], ['for', 'wise', 'men', 'know', 'well', 'enough', 'what', 'monsters', 'you', 'make', 'of', 'them'], ['to', 'a', 'nunnery', 'go', 'and', 'quickly', 'too'], ['farewell'], ['o', 'heavenly', 'powers', 'restore', 'him'], ['i', 'have', 'heard', 'of', 'your', 'paintings', 'too', 'well', 'enough'], ['god', 'has', 'given', 'you', 'one', 'face', 'and', 'you', 'make', 'yourselves', 'another'], ['you', 'jig', 'you', 'amble', 'and', 'you', 'lisp', 'and', 'nick-name', 'gods', 'creatures', 'and', 'make', 'your', 'wantonness', 'your', 'ignorance'], ['go', 'to', 'ill', 'no', 'more', 'ont'], ['it', 'hath', 'made', 'me', 'mad'], ['i', 'say', 'we', 'will', 'have', 'no', 'more', 'marriages'], ['those', 'that', 'are', 'married', 'already', 'all', 'but', 'one', 'shall', 'live'], ['the', 'rest', 'shall', 'keep', 'as', 'they', 'are'], ['to', 'a', 'nunnery', 'go'], ['o', 'what', 'a', 'noble', 'mind', 'is', 'here', 'oerthrown'], ['the', 'courtiers', 'soldiers', 'scholars', 'eye', 'tongue', 'sword'], ['the', 'expectancy', 'and', 'rose', 'of', 'the', 'fair', 'state', 'the', 'glass', 'of', 'fashion', 'and', 'the', 'mould', 'of', 'form', 'the', 'observed', 'of', 'all', 'observers', 'quite', 'quite', 'down'], ['and', 'i', 'of', 'ladies', 'most', 'deject', 'and', 'wretched', 'that', 'suckd', 'the', 'honey', 'of', 'his', 'music', 'vows', 'now', 'see', 'that', 'noble', 'and', 'most', 'sovereign', 'reason', 'like', 'sweet', 'bells', 'jangled', 'out', 'of', 'tune', 'and', 'harsh'], ['that', 'unmatchd', 'form', 'and', 'feature', 'of', 'blown', 'youth', 'blasted', 'with', 'ecstasy'], ['o', 'woe', 'is', 'me', 'to', 'have', 'seen', 'what', 'i', 'have', 'seen', 'see', 'what', 'i', 'see'], ['love'], ['his', 'affections', 'do', 'not', 'that', 'way', 'tend'], ['nor', 'what', 'he', 'spake', 'though', 'it', 'lackd', 'form', 'a', 'little', 'was', 'not', 'like', 'madness'], ['theres', 'something', 'in', 'his', 'soul', 'oer', 'which', 'his', 'melancholy', 'sits', 'on', 'brood'], ['and', 'i', 'do', 'doubt', 'the', 'hatch', 'and', 'the', 'disclose', 'will', 'be', 'some', 'danger'], ['which', 'for', 'to', 'prevent', 'i', 'have', 'in', 'quick', 'determination', 'thus', 'set', 'it', 'down'], ['he', 'shall', 'with', 'speed', 'to', 'england', 'for', 'the', 'demand', 'of', 'our', 'neglected', 'tribute', 'haply', 'the', 'seas', 'and', 'countries', 'different', 'with', 'variable', 'objects', 'shall', 'expel', 'this', 'something-settled', 'matter', 'in', 'his', 'heart', 'whereon', 'his', 'brains', 'still', 'beating', 'puts', 'him', 'thus', 'from', 'fashion', 'of', 'himself'], ['what', 'think', 'you', 'ont'], ['it', 'shall', 'do', 'well'], ['but', 'yet', 'do', 'i', 'believe', 'the', 'origin', 'and', 'commencement', 'of', 'his', 'grief', 'sprung', 'from', 'neglected', 'love'], ['how', 'now', 'ophelia'], ['you', 'need', 'not', 'tell', 'us', 'what', 'lord', 'hamlet', 'said'], ['we', 'heard', 'it', 'all'], ['my', 'lord', 'do', 'as', 'you', 'please'], ['but', 'if', 'you', 'hold', 'it', 'fit', 'after', 'the', 'play', 'let', 'his', 'queen', 'mother', 'all', 'alone', 'entreat', 'him', 'to', 'show', 'his', 'grief'], ['let', 'her', 'be', 'round', 'with', 'him'], ['and', 'ill', 'be', 'placed', 'so', 'please', 'you', 'in', 'the', 'ear', 'of', 'all', 'their', 'conference'], ['if', 'she', 'find', 'him', 'not', 'to', 'england', 'send', 'him', 'or', 'confine', 'him', 'where', 'your', 'wisdom', 'best', 'shall', 'think'], ['it', 'shall', 'be', 'so'], ['madness', 'in', 'great', 'ones', 'must', 'not', 'unwatchd', 'go']]\n"
     ]
    }
   ],
   "source": [
    "# clean text and convert to list\n",
    "clean_hamlet_text = hamlet_text.lower().replace('?', '.').replace('!', '.').replace(\"'\", '').split('.')\n",
    "clean_hamsplits = [item.split() for item in clean_hamlet_text]\n",
    "hamsplits = [value for value in clean_hamsplits if value != []]\n",
    "        \n",
    "print(hamsplits)"
   ]
  },
  {
   "cell_type": "code",
   "execution_count": 13,
   "id": "006d8fb8-ea42-4f3f-a18d-b917ee1af3a0",
   "metadata": {},
   "outputs": [
    {
     "name": "stdout",
     "output_type": "stream",
     "text": [
      "Sentence 4 has the words ['did', 'he', 'receive', 'you', 'well'] --> Your hamsplits says ['did', 'he', 'receive', 'you', 'well']\n",
      "Sentence 5 has the words ['most', 'like', 'a', 'gentleman'] --> Your hamsplits says ['most', 'like', 'a', 'gentleman']\n",
      "Sentence 21 has the words ['sweet', 'gertrude', 'leave', 'us', 'too'] --> Your hamsplits says ['sweet', 'gertrude', 'leave', 'us', 'too']\n",
      "\n",
      "(Passed!)\n"
     ]
    }
   ],
   "source": [
    "#  Hamsplit test Cell\n",
    "\n",
    "assert type(hamsplits) is list\n",
    "assert len(hamsplits) == 145, \"You found {} sentences instead of 145.\".format(len(hamsplits))\n",
    "for i, w in [(4, ['did', 'he', 'receive', 'you', 'well']),\n",
    "             (5, ['most', 'like', 'a', 'gentleman']),\n",
    "             (21, ['sweet', 'gertrude', 'leave', 'us', 'too'])]:\n",
    "    print('Sentence {} has the words {}'.format(i, w), \"-->\", 'Your hamsplits says {}'.format(hamsplits[i]))\n",
    "    assert hamsplits[i] == w\n",
    "    \n",
    "print(\"\\n(Passed!)\")"
   ]
  },
  {
   "cell_type": "markdown",
   "id": "d4cb2b0e-221d-4094-b166-201e1a52fa1a",
   "metadata": {},
   "source": [
    "**Exercise 1 (3 pts)**: Now create a sequential pairs dictionary, called `hamdict`, with `key` being each word in `hamsplits` and `value` being the list of words that immediately following it. If no words ever follow the given word, then it should not appear as a key in `hamdict`.\n",
    "\n",
    "For example, if `hamsplits == [ ['i', 'love', 'georgia', 'tech'], ['gotta', 'love', 'python'] ]`, then\n",
    "\n",
    "```python\n",
    "    hamdict == {'i': ['love'], 'love': ['georgia', 'python'], 'georgia': ['tech'], 'gotta': ['love']}\n",
    "```\n",
    "\n",
    "Notice that no words ever follow `'tech'` nor `'python'`; therefore, they do not appear as keys in `hamdict`."
   ]
  },
  {
   "cell_type": "code",
   "execution_count": 14,
   "id": "ededbfd6-1b61-4906-9f08-584f7a995c3a",
   "metadata": {},
   "outputs": [
    {
     "name": "stdout",
     "output_type": "stream",
     "text": [
      "{'and': ['can', 'dangerous', 'there', 'as', 'he', 'see', 'it', 'drive', 'myself', 'gather', 'for', 'pious', 'arrows', 'by', 'by', 'the', 'scorns', 'the', 'sweat', 'makes', 'thus', 'enterprises', 'moment', 'lose', 'with', 'fair', 'heaven', 'quickly', 'you', 'you', 'nick-name', 'make', 'rose', 'the', 'i', 'wretched', 'most', 'harsh', 'feature', 'i', 'the', 'countries', 'commencement', 'ill'], 'can': ['you', 'translate'], 'you': ['by', 'well', 'assay', 'here', 'we', 'now', 'now', 'aught', 'know', 'did', 'honest', 'fair', 'be', 'once', 'made', 'should', 'not', 'sweet', 'make', 'one', 'make', 'jig', 'amble', 'lisp', 'ont', 'need', 'please', 'hold', 'in'], 'by': ['no', 'no', 'accident', 'him', 'opposing', 'a'], 'no': ['drift', 'means', 'that', 'more', 'traveller', 'not', 'discourse', 'where', 'more', 'more'], 'drift': ['of'], 'of': ['circumstance', 'quiet', 'his', 'his', 'question', 'our', 'these', 'joy', 'it', 'their', 'his', 'hamlets', 'such', 'outrageous', 'troubles', 'death', 'so', 'time', 'despised', 'office', 'the', 'something', 'us', 'resolution', 'thought', 'great', 'action', 'yours', 'so', 'beauty', 'honesty', 'it', 'sinners', 'such', 'us', 'them', 'your', 'the', 'fashion', 'form', 'all', 'ladies', 'his', 'tune', 'blown', 'our', 'himself', 'his', 'all'], 'circumstance': ['get'], 'get': ['from', 'thee', 'thee'], 'from': ['him', 'what', 'whose', 'what', 'fashion', 'neglected'], 'him': ['why', 'forward', 'on', 'a', 'so', 'a', 'as', 'to', 'coming', 'that', 'you', 'thus', 'to', 'not', 'or', 'where'], 'why': ['he', 'wouldst'], 'he': ['puts', 'does', 'feels', 'will', 'receive', 'beseechd', 'as', 'is', 'suffers', 'himself', 'may', 'spake', 'shall'], 'puts': ['on', 'him'], 'on': ['this', 'to', 'the', 'to', 'this', 'brood'], 'this': ['confusion', 'night', 'book', 'tis', 'mortal', 'regard', 'many', 'was', 'plague', 'something-settled'], 'confusion': ['grating'], 'grating': ['so'], 'so': ['harshly', 'fell', 'inclined', 'bestow', 'shall', 'please', 'long', 'sweet', 'inoculate', 'please'], 'harshly': ['all'], 'all': ['his', 'my', 'my', 'but', 'observers', 'alone', 'their'], 'his': ['days', 'true', 'disposition', 'reply', 'purpose', 'love', 'wonted', 'quietus', 'likeness', 'music', 'affections', 'soul', 'melancholy', 'heart', 'brains', 'grief', 'queen', 'grief'], 'days': ['of'], 'quiet': ['with'], 'with': ['turbulent', 'a', 'much', 'all', 'devotions', 'plastering', 'a', 'the', 'this', 'them', 'honesty', 'more', 'ecstasy', 'speed', 'variable', 'him'], 'turbulent': ['and'], 'dangerous': ['lunacy'], 'does': ['confess', 'make', 'your'], 'confess': ['he'], 'feels': ['himself'], 'himself': ['distracted', 'might'], 'but': ['from', 'with', 'with', 'of', 'that', 'now', 'we', 'yet', 'ins', 'one', 'yet', 'if'], 'what': ['cause', 'dreams', 'means', 'it', 'should', 'monsters', 'a', 'i', 'i', 'he', 'think', 'lord'], 'cause': ['he', 'of'], 'will': ['by', 'so', 'bring', 'bestow', 'and', 'sooner', 'have', 'be'], 'means': ['speak', 'your'], 'nor': ['do', 'what'], 'do': ['we', 'wish', 'sugar', 'crawling', 'not', 'doubt', 'well', 'i', 'as'], 'we': ['find', 'would', 'oer-raught', 'told', 'shall', 'have', 'may', 'will', 'are', 'do', 'end', 'have', 'have', 'know', 'shall', 'are', 'will', 'heard'], 'find': ['him', 'him'], 'forward': ['to'], 'to': ['be', 'some', 'any', 'hear', 'play', 'entreat', 'hear', 'hear', 'these', 'his', 'both', 'blame', 'the', 'my', 'be', 'be', 'suffer', 'take', 'die', 'sleep', 'say', 'tis', 'be', 'die', 'sleep', 'sleep', 'dream', 'grunt', 'others', 're-deliver', 'the', 'your', 'a', 'a', 'put', 'give', 'act', 'a', 'a', 'a', 'ill', 'a', 'have', 'prevent', 'england', 'show', 'england'], 'be': ['sounded', 'the', 'the', 'or', 'wishd', 'all', 'honest', 'a', 'shut', 'thou', 'some', 'round', 'placed', 'so'], 'sounded': ['but'], 'a': ['crafty', 'gentleman', 'kind', 'further', 'lash', 'sea', 'sleep', 'consummation', 'bare', 'weary', 'day', 'bawd', 'paradox', 'nunnery', 'breeder', 'nunnery', 'nunnery', 'fool', 'nunnery', 'nunnery', 'noble', 'little'], 'crafty': ['madness'], 'madness': ['keeps', 'in'], 'keeps': ['aloof'], 'aloof': ['when'], 'when': ['we', 'we', 'he', 'givers'], 'would': ['bring', 'bear', 'fardels'], 'bring': ['him', 'him'], 'some': ['confession', 'danger'], 'confession': ['of'], 'true': ['state'], 'did': ['he', 'you', 'seem', 'love'], 'receive': ['you', 'them'], 'most': ['like', 'free', 'true', 'painted', 'deject', 'sovereign'], 'like': ['a', 'sweet', 'madness'], 'much': ['forcing', 'content', 'proved'], 'forcing': ['of'], 'niggard': ['of'], 'our': ['demands', 'old', 'neglected'], 'demands': ['most'], 'free': ['in'], 'in': ['his', 'him', 'this', 'the', 'that', 'thy', 'imagination', 'his', 'quick', 'his', 'the', 'great'], 'assay': ['him'], 'any': ['pastime'], 'madam': ['it', 'i'], 'it': ['so', 'doth', 'may', 'than', 'is', 'proof', 'were', 'hath', 'lackd', 'down', 'shall', 'all', 'fit', 'shall'], 'fell': ['out'], 'out': ['that', 'of'], 'that': ['certain', 'he', 'seeing', 'thus', 'your', 'show', 'with', 'speech', 'helps', 'is', 'flesh', 'sleep', 'makes', 'patient', 'the', 'we', 'i', 'if', 'it', 'he', 'are', 'suckd', 'noble', 'unmatchd', 'way'], 'certain': ['players'], 'players': ['we'], 'oer-raught': ['on'], 'the': ['way', 'court', 'matter', 'affliction', 'happy', 'devil', 'harlots', 'thing', 'question', 'mind', 'slings', 'heart-ache', 'thousand', 'rub', 'respect', 'whips', 'oppressors', 'proud', 'pangs', 'laws', 'insolence', 'spurns', 'unworthy', 'dread', 'undiscoverd', 'will', 'native', 'pale', 'name', 'fair', 'things', 'noble', 'power', 'force', 'time', 'more', 'doors', 'fool', 'rest', 'courtiers', 'expectancy', 'fair', 'glass', 'mould', 'observed', 'honey', 'hatch', 'disclose', 'demand', 'seas', 'origin', 'play', 'ear'], 'these': ['we', 'delights', 'again'], 'told': ['him'], 'there': ['did', 'my'], 'seem': ['in'], 'kind': ['of'], 'joy': ['to'], 'hear': ['of', 'and', 'him', 'him'], 'they': ['are', 'have', 'are'], 'are': ['about', 'oft', 'you', 'you', 'arrant', 'married'], 'about': ['the'], 'court': ['and'], 'as': ['i', 'twere', 'he', 'made', 'i', 'chaste', 'ice', 'pure', 'snow', 'they', 'you'], 'i': ['think', 'shall', 'do', 'hope', 'wish', 'hear', 'humbly', 'have', 'have', 'pray', 'never', 'did', 'loved', 'was', 'am', 'could', 'am', 'have', 'do', 'have', 'say', 'of', 'have', 'see', 'do', 'have', 'believe'], 'think': ['they', 'you'], 'have': ['already', 'closely', 'shuffled', 'than', 'remembrances', 'longed', 'better', 'believed', 'thoughts', 'heard', 'no', 'seen', 'seen', 'in'], 'already': ['order', 'all'], 'order': ['this'], 'night': ['to'], 'play': ['before', 'the', 'let'], 'before': ['him'], 'tis': ['most', 'too', 'too', 'nobler', 'a'], 'beseechd': ['me'], 'me': ['to', 'to', 'believe', 'of', 'mad', 'to'], 'entreat': ['your', 'him'], 'your': ['majesties', 'part', 'good', 'virtues', 'honours', 'loneliness', 'honour', 'lordship', 'honesty', 'beauty', 'father', 'paintings', 'wantonness', 'ignorance', 'wisdom'], 'majesties': ['to'], 'see': ['the', 'that', 'what'], 'my': ['heart', 'lord', 'conscience', 'deed', 'most', 'lord', 'sins', 'lord', 'lord', 'honourd', 'lord', 'lord', 'lord', 'lord', 'mother', 'beck', 'lord', 'lord'], 'doth': ['much', 'give'], 'content': ['me'], 'good': ['gentlemen', 'beauties', 'my'], 'gentlemen': ['give'], 'give': ['him', 'my', 'us', 'them', 'thee'], 'further': ['edge'], 'edge': ['and'], 'drive': ['his'], 'purpose': ['on'], 'shall': ['my', 'obey', 'i', 'relish', 'live', 'keep', 'with', 'expel', 'do', 'think', 'be'], 'sweet': ['gertrude', 'breath', 'heavens', 'bells'], 'gertrude': ['leave'], 'leave': ['us'], 'us': ['too', 'pause', 'rather', 'all', 'what'], 'for': ['we', 'hamlet', 'your', 'in', 'who', 'this', 'to', 'the', 'virtue', 'thy', 'wise', 'to', 'the'], 'closely': ['sent'], 'sent': ['for'], 'hamlet': ['hither', 'said'], 'hither': ['that'], 'twere': ['by'], 'accident': ['may'], 'may': ['here', 'of', 'colour', 'come', 'play'], 'here': ['affront', 'oerthrown'], 'affront': ['ophelia'], 'her': ['father', 'be'], 'father': ['and'], 'myself': ['lawful', 'indifferent'], 'lawful': ['espials'], 'espials': ['will'], 'bestow': ['ourselves', 'ourselves'], 'ourselves': ['that'], 'seeing': ['unseen'], 'unseen': ['we'], 'their': ['encounter', 'currents', 'perfume', 'conference'], 'encounter': ['frankly'], 'frankly': ['judge'], 'judge': ['and'], 'gather': ['by'], 'is': ['behaved', 'not', 'my', 'the', 'heir', 'sicklied', 'to', 'here', 'me'], 'behaved': ['if'], 'if': ['t', 'you', 'thou', 'thou', 'you', 'she'], 't': ['be'], 'affliction': ['of'], 'love': ['or', 'the', 'you'], 'or': ['no', 'not', 'to', 'time', 'if', 'confine'], 'thus': ['he', 'conscience', 'the', 'set', 'from'], 'suffers': ['for'], 'obey': ['you'], 'part': ['ophelia'], 'ophelia': ['i', 'walk'], 'wish': ['that', 'it'], 'beauties': ['be'], 'happy': ['cause'], 'hamlets': ['wildness'], 'hope': ['your'], 'virtues': ['will'], 'wonted': ['way'], 'way': ['again', 'tend'], 'again': ['to'], 'both': ['your'], 'walk': ['you'], 'gracious': ['so'], 'please': ['you', 'you'], 'read': ['on'], 'show': ['of', 'his'], 'such': ['an', 'things', 'fellows'], 'an': ['exercise'], 'exercise': ['may'], 'colour': ['your'], 'oft': ['to'], 'blame': ['in'], 'too': ['much', 'true', 'well'], 'proved': ['that'], 'devotions': ['visage'], 'visage': ['and'], 'pious': ['action'], 'action': ['we'], 'sugar': ['oer'], 'oer': ['the', 'with', 'which'], 'devil': ['himself'], 'o': ['tis', 'heavy', 'help', 'heavenly', 'what', 'woe'], 'how': ['smart', 'does', 'now'], 'smart': ['a'], 'lash': ['that'], 'speech': ['doth'], 'harlots': ['cheek'], 'cheek': ['beautied'], 'beautied': ['with'], 'plastering': ['art'], 'art': ['is'], 'not': ['more', 'to', 'of', 'i', 'have', 'borne', 'escape', 'that', 'like', 'tell', 'to', 'unwatchd'], 'more': ['ugly', 'rich', 'deceived', 'offences', 'ont', 'marriages'], 'ugly': ['to'], 'thing': ['that'], 'helps': ['it'], 'than': ['is', 'fly', 'with', 'the', 'i'], 'deed': ['to'], 'painted': ['word'], 'heavy': ['burthen'], 'lets': ['withdraw'], 'withdraw': ['my'], 'whether': ['tis'], 'nobler': ['in'], 'mind': ['to', 'rich', 'is'], 'suffer': ['the'], 'slings': ['and'], 'arrows': ['of'], 'outrageous': ['fortune'], 'fortune': ['or'], 'take': ['arms', 'these'], 'arms': ['against'], 'against': ['a'], 'sea': ['of'], 'troubles': ['and'], 'opposing': ['end'], 'end': ['them', 'the'], 'sleep': ['to', 'of'], 'say': ['we', 'we'], 'heart-ache': ['and'], 'thousand': ['natural'], 'natural': ['shocks'], 'shocks': ['that'], 'flesh': ['is'], 'heir': ['to'], 'consummation': ['devoutly'], 'devoutly': ['to'], 'die': ['to'], 'perchance': ['to'], 'ay': ['theres', 'truly'], 'theres': ['the', 'the', 'something'], 'death': ['what', 'the'], 'dreams': ['may'], 'come': ['when'], 'shuffled': ['off'], 'off': ['this'], 'mortal': ['coil'], 'coil': ['must'], 'must': ['give', 'not'], 'respect': ['that'], 'makes': ['calamity', 'us'], 'calamity': ['of'], 'long': ['life', 'to'], 'who': ['would', 'would'], 'bear': ['the', 'to', 'those'], 'whips': ['and'], 'scorns': ['of'], 'time': ['the', 'gives', 'to'], 'oppressors': ['wrong'], 'wrong': ['the'], 'proud': ['mans', 'revengeful'], 'mans': ['contumely'], 'contumely': ['the'], 'pangs': ['of'], 'despised': ['love'], 'laws': ['delay'], 'delay': ['the'], 'insolence': ['of'], 'office': ['and'], 'spurns': ['that'], 'patient': ['merit'], 'merit': ['of'], 'unworthy': ['takes'], 'takes': ['when'], 'might': ['his'], 'quietus': ['make'], 'make': ['with', 'cowards', 'of', 'yourselves', 'your'], 'bare': ['bodkin'], 'fardels': ['bear'], 'grunt': ['and'], 'sweat': ['under'], 'under': ['a'], 'weary': ['life'], 'life': ['but'], 'dread': ['of'], 'something': ['after', 'in'], 'after': ['death', 'the'], 'undiscoverd': ['country'], 'country': ['from'], 'whose': ['bourn'], 'bourn': ['no'], 'traveller': ['returns'], 'returns': ['puzzles'], 'puzzles': ['the'], 'rather': ['bear'], 'those': ['ills', 'that'], 'ills': ['we'], 'fly': ['to'], 'others': ['that'], 'know': ['not', 'right', 'well'], 'conscience': ['does'], 'cowards': ['of'], 'native': ['hue'], 'hue': ['of'], 'resolution': ['is'], 'sicklied': ['oer'], 'pale': ['cast'], 'cast': ['of'], 'thought': ['and'], 'enterprises': ['of'], 'great': ['pith', 'ones'], 'pith': ['and'], 'moment': ['with'], 'regard': ['their'], 'currents': ['turn'], 'turn': ['awry'], 'awry': ['and'], 'lose': ['the'], 'name': ['of'], 'soft': ['you'], 'fair': ['ophelia', 'your', 'state'], 'nymph': ['in'], 'thy': ['orisons', 'ways', 'dowry'], 'orisons': ['be'], 'sins': ['rememberd'], 'lord': ['how', 'i', 'you', 'have', 'you', 'hamlet', 'do'], 'honour': ['for'], 'many': ['a'], 'humbly': ['thank'], 'thank': ['you'], 'well': ['well', 'well', 'you', 'enough', 'enough'], 'remembrances': ['of'], 'yours': ['that'], 'longed': ['long'], 'pray': ['you'], 'now': ['receive', 'the', 'see', 'ophelia'], 'never': ['gave'], 'gave': ['you'], 'honourd': ['lord'], 'right': ['well'], 'them': ['words', 'in', 'shape', 'in'], 'words': ['of'], 'breath': ['composed'], 'composed': ['as'], 'made': ['the', 'me', 'me'], 'things': ['more', 'that'], 'perfume': ['lost'], 'lost': ['take'], 'noble': ['mind', 'mind', 'and'], 'rich': ['gifts'], 'gifts': ['wax'], 'wax': ['poor'], 'poor': ['when'], 'givers': ['prove'], 'prove': ['unkind'], 'ha': ['ha'], 'honest': ['and'], 'honesty': ['should', 'from', 'can'], 'should': ['admit', 'not', 'such'], 'admit': ['no'], 'discourse': ['to'], 'could': ['beauty', 'accuse'], 'beauty': ['my', 'will', 'into'], 'better': ['commerce', 'my'], 'commerce': ['than'], 'power': ['of'], 'sooner': ['transform'], 'transform': ['honesty'], 'bawd': ['than'], 'force': ['of'], 'translate': ['beauty'], 'into': ['his'], 'was': ['sometime', 'the', 'not'], 'sometime': ['a'], 'paradox': ['but'], 'gives': ['it'], 'indeed': ['my'], 'believe': ['so', 'none', 'the'], 'believed': ['me'], 'virtue': ['cannot'], 'cannot': ['so'], 'inoculate': ['our'], 'old': ['stock'], 'stock': ['but'], 'relish': ['of'], 'loved': ['you'], 'thee': ['to', 'this', 'to'], 'wouldst': ['thou'], 'thou': ['be', 'dost', 'as', 'shalt', 'wilt'], 'breeder': ['of'], 'am': ['myself', 'very'], 'indifferent': ['honest'], 'yet': ['i', 'do'], 'accuse': ['me'], 'were': ['better'], 'mother': ['had', 'all'], 'had': ['not'], 'borne': ['me'], 'very': ['proud'], 'revengeful': ['ambitious'], 'ambitious': ['with'], 'offences': ['at'], 'at': ['my', 'home'], 'beck': ['than'], 'thoughts': ['to'], 'put': ['them'], 'imagination': ['to'], 'shape': ['or'], 'act': ['them'], 'fellows': ['as'], 'crawling': ['between'], 'between': ['earth'], 'earth': ['and'], 'arrant': ['knaves'], 'knaves': ['all'], 'none': ['of'], 'go': ['thy', 'and', 'to'], 'ways': ['to'], 'wheres': ['your'], 'home': ['my'], 'let': ['the', 'his', 'her'], 'doors': ['be'], 'shut': ['upon'], 'upon': ['him'], 'fool': ['no'], 'where': ['but', 'your'], 'ins': ['own'], 'own': ['house'], 'help': ['him'], 'dost': ['marry'], 'marry': ['ill', 'marry', 'a'], 'ill': ['give', 'no', 'be'], 'plague': ['for'], 'chaste': ['as'], 'ice': ['as'], 'pure': ['as'], 'snow': ['thou'], 'shalt': ['not'], 'escape': ['calumny'], 'nunnery': ['go', 'go', 'go'], 'wilt': ['needs'], 'needs': ['marry'], 'wise': ['men'], 'men': ['know'], 'enough': ['what'], 'monsters': ['you'], 'quickly': ['too'], 'heavenly': ['powers'], 'powers': ['restore'], 'restore': ['him'], 'heard': ['of', 'it'], 'paintings': ['too'], 'god': ['has'], 'has': ['given'], 'given': ['you'], 'one': ['face', 'shall'], 'face': ['and'], 'yourselves': ['another'], 'jig': ['you'], 'amble': ['and'], 'lisp': ['and'], 'nick-name': ['gods'], 'gods': ['creatures'], 'creatures': ['and'], 'wantonness': ['your'], 'hath': ['made'], 'married': ['already'], 'rest': ['shall'], 'keep': ['as'], 'courtiers': ['soldiers'], 'soldiers': ['scholars'], 'scholars': ['eye'], 'eye': ['tongue'], 'tongue': ['sword'], 'expectancy': ['and'], 'rose': ['of'], 'state': ['the'], 'glass': ['of'], 'fashion': ['and', 'of'], 'mould': ['of'], 'form': ['the', 'and', 'a'], 'observed': ['of'], 'observers': ['quite'], 'quite': ['quite', 'down'], 'ladies': ['most'], 'deject': ['and'], 'wretched': ['that'], 'suckd': ['the'], 'honey': ['of'], 'music': ['vows'], 'vows': ['now'], 'sovereign': ['reason'], 'reason': ['like'], 'bells': ['jangled'], 'jangled': ['out'], 'tune': ['and'], 'unmatchd': ['form'], 'feature': ['of'], 'blown': ['youth'], 'youth': ['blasted'], 'blasted': ['with'], 'woe': ['is'], 'seen': ['what', 'see'], 'affections': ['do'], 'spake': ['though'], 'though': ['it'], 'lackd': ['form'], 'little': ['was'], 'soul': ['oer'], 'which': ['his', 'for'], 'melancholy': ['sits'], 'sits': ['on'], 'doubt': ['the'], 'hatch': ['and'], 'disclose': ['will'], 'prevent': ['i'], 'quick': ['determination'], 'determination': ['thus'], 'set': ['it'], 'speed': ['to'], 'england': ['for', 'send'], 'demand': ['of'], 'neglected': ['tribute', 'love'], 'tribute': ['haply'], 'haply': ['the'], 'seas': ['and'], 'countries': ['different'], 'different': ['with'], 'variable': ['objects'], 'objects': ['shall'], 'expel': ['this'], 'something-settled': ['matter'], 'matter': ['in'], 'heart': ['whereon'], 'whereon': ['his'], 'brains': ['still'], 'still': ['beating'], 'beating': ['puts'], 'origin': ['and'], 'commencement': ['of'], 'grief': ['sprung'], 'sprung': ['from'], 'need': ['not'], 'tell': ['us'], 'hold': ['it'], 'fit': ['after'], 'queen': ['mother'], 'alone': ['entreat'], 'round': ['with'], 'placed': ['so'], 'ear': ['of'], 'she': ['find'], 'send': ['him'], 'confine': ['him'], 'wisdom': ['best'], 'best': ['shall'], 'ones': ['must'], 'unwatchd': ['go']}\n"
     ]
    }
   ],
   "source": [
    "# create empty dictionary\n",
    "hamdict = {}\n",
    "# loop through each list\n",
    "for lst in hamsplits:\n",
    "    # loop through word in list\n",
    "    for i, word in enumerate(lst):\n",
    "        if i < len(lst) - 1:\n",
    "            if word in hamdict:\n",
    "                hamdict[word].append(lst[i + 1])\n",
    "            else:\n",
    "                hamdict[word] = [lst[i + 1]]\n",
    "print(hamdict)"
   ]
  },
  {
   "cell_type": "code",
   "execution_count": 15,
   "id": "94809a05-8739-41b9-aa54-61d1177ba03e",
   "metadata": {},
   "outputs": [
    {
     "name": "stdout",
     "output_type": "stream",
     "text": [
      "\n",
      "(Passed!)\n"
     ]
    }
   ],
   "source": [
    "# Hamdict test cell\n",
    "assert type(hamdict) is dict\n",
    "assert len(hamdict) == 552\n",
    "\n",
    "ans_key = {'some': ['confession', 'danger'],\n",
    "           'thou': ['be', 'dost', 'as', 'shalt', 'wilt'],\n",
    "           'should': ['admit', 'not', 'such']}\n",
    "\n",
    "for k, v in ans_key.items():\n",
    "    assert len(hamdict[k]) == len(v)\n",
    "    assert set(hamdict[k]) == set(v)\n",
    "\n",
    "print (\"\\n(Passed!)\")"
   ]
  },
  {
   "cell_type": "markdown",
   "id": "652d66bf-2383-46db-96d8-f392c03dc5ed",
   "metadata": {},
   "source": [
    "**Exercise 2 (4 pts)**: Now it's time to build your folio! \n",
    "\n",
    "Below, write a function, `hambot`, that takes a starter word from your dictionary and builds a Shakespearean-sounding phrase, returning it as a string. \n",
    "\n",
    "Your function should randomly select one of the words that follows your starter word, add it to your phrase, and then repeat the process with this new word. This process should continue until either your function reaches a word that is not a key in your dictionary, or the phrase reaches the specified length. Your function should then return this phrase as a string (all lowercase, with no punctuation).\n",
    "\n",
    "The function takes two optional parameters, `length` and `starter`. `length` is an integer which is the number of words long your output phrase should be. If the `length` parameter is not supplied, your function should default to attempting to produce a 5-word phrase.\n",
    "\n",
    "`starter` is the first word to start your phrase.  If `starter` is not supplied, your function should choose a word at random from among the keys in your dictionary.\n",
    "\n",
    "As an example, if your function starts with the word \"some,\" the second word in your phrase would be either \"confession\" or \"danger,\" the two words that follow \"some.\" If it selected \"confession,\" the third word would be \"of,\" which is the only word that follows \"confession.\" The fourth word would be randomly chosen from the 38 words that follow \"of.\" In other words,\n",
    "\n",
    "```python\n",
    "hambot(4, \"some\")\n",
    "```\n",
    "\n",
    ".... should return a string like, `\"some confession of circumstance\"`.\n",
    "\n",
    "> Note: A useful Python function for choosing a random element of a list is `random.choice()`."
   ]
  },
  {
   "cell_type": "code",
   "execution_count": 16,
   "id": "5a7048ac-1023-4c24-b44d-ebd381eab963",
   "metadata": {},
   "outputs": [
    {
     "name": "stdout",
     "output_type": "stream",
     "text": [
      "with devotions visage and the\n"
     ]
    }
   ],
   "source": [
    "import random\n",
    "\n",
    "def hambot(length = 5, starter = False):\n",
    "    # if starter is False, choose random keys from hamdict\n",
    "    if starter == False:\n",
    "        starter = random.choice(list(hamdict.keys()))\n",
    "    # keep track of number of words in the generated phrase\n",
    "    counter = length\n",
    "    # store the generated phrase\n",
    "    out_string = str(starter)\n",
    "    # loop as long as counter is greater than 1\n",
    "    while counter > 1:\n",
    "        # return out_string if starter word not in keys of hamdict\n",
    "        if starter not in hamdict.keys():\n",
    "            return out_string\n",
    "        # choose random word from list of words associated with the current starter word\n",
    "        starter = random.choice(hamdict[starter])\n",
    "        # concatenate to the out_string\n",
    "        out_string += \" \" + str(starter)\n",
    "        counter -= 1\n",
    "    # return out_string after loop ends\n",
    "    return out_string\n",
    "\n",
    "print(hambot(length = 5, starter = False))"
   ]
  },
  {
   "cell_type": "code",
   "execution_count": 17,
   "id": "0a933634-840b-42af-a59a-ebbcf956404e",
   "metadata": {},
   "outputs": [
    {
     "name": "stdout",
     "output_type": "stream",
     "text": [
      "\n",
      "First let's see if your function is getting random starter words:\n",
      "Starter word 1: takes\n",
      "Starter word 2: brains\n",
      "\n",
      "Forsooth, your function looks to be correctly choosing random words. Now let's test a few non-random phrases....\n",
      "\n",
      "Huzzah, your function correctly assembled the test phrases.\n"
     ]
    }
   ],
   "source": [
    "## hambot0 test Cell\n",
    "\n",
    "print(\"\\nFirst let's see if your function is getting random starter words:\")\n",
    "\n",
    "randomham1 = hambot().split()[0]\n",
    "randomham2 = hambot().split()[0]\n",
    "\n",
    "print(\"Starter word 1:\", randomham1)\n",
    "print(\"Starter word 2:\", randomham2)\n",
    "\n",
    "if randomham1 == randomham2:\n",
    "    randomham1 = hambot().split()[0]\n",
    "    randomham2 = hambot().split()[0]\n",
    "    \n",
    "    assert randomham1 != randomham2, \"Alas, it doesn't appear your function is producing randomized starting words!\"\n",
    "\n",
    "print(\"\\nForsooth, your function looks to be correctly choosing random words. Now let's test a few non-random phrases....\")\n",
    "    \n",
    "hambot_test1 = hambot(4, \"harlots\")\n",
    "hambot_test2 = hambot(4, \"encounter\")\n",
    "hambot_test3 = hambot(4, \"thousand\")\n",
    "hambot_test4 = hambot(starter = \"rich\")\n",
    "\n",
    "hamanswer1 = 'harlots cheek beautied with'\n",
    "hamanswer2 = 'encounter frankly judge and'\n",
    "hamanswer3 = 'thousand natural shocks that'\n",
    "hamanswer4 = 'rich gifts wax poor when'\n",
    "\n",
    "assert hambot_test1 == hamanswer1, \"Fie, hambot(4, 'harlots') should have produced '\" + hamanswer1 + \"' but produced '\" + str(hambot_test1) + \"' instead.\"\n",
    "assert hambot_test2 == hamanswer2, \"Fie, hambot(4, 'encounter') should have produced '\" + hamanswer2 + \"' but produced '\" + str(hambot_test2) + \"' instead.\"\n",
    "assert hambot_test3 == hamanswer3, \"Fie, hambot(4, 'thousand') should have produced '\" + hamanswer3 + \"' but produced '\" + str(hambot_test3) + \"' instead.\"\n",
    "assert hambot_test4 == hamanswer4, \"Fie, hambot(5, 'rich') should have produced '\" + hamanswer4 + \"' but produced '\" + str(hambot_test4) + \"' instead.\"\n",
    "\n",
    "print('\\nHuzzah, your function correctly assembled the test phrases.')"
   ]
  },
  {
   "cell_type": "code",
   "execution_count": 18,
   "id": "05b0e767-2a43-48b3-82cd-3c0c826625f1",
   "metadata": {},
   "outputs": [
    {
     "name": "stdout",
     "output_type": "stream",
     "text": [
      "\n",
      "As Shakespeare once said, \n",
      "\n",
      "\"bawd than fly to sleep of question.\"\n",
      "\n",
      "(Thou has't most verily passed!)\n"
     ]
    }
   ],
   "source": [
    "## hambot1 test Cell\n",
    "\n",
    "rand_ham = hambot(50)\n",
    "\n",
    "print('\\nAs Shakespeare once said, \\n\\n\"' + rand_ham +'.\"')\n",
    "\n",
    "rand_ham_words = rand_ham.split()\n",
    "\n",
    "assert len(rand_ham_words) <= 50, \"Alas! Your verbosity doth be too much. (You generated more than 50 words.)\"\n",
    "if len(rand_ham_words) < 50:\n",
    "    last_word = rand_ham_words[-1]\n",
    "    assert last_word not in hamdict, \"Your sentence be too short! Valid words, be they any of {}, can follow your last ('{}')\".format(hamdict[last_word], last_word)\n",
    "    \n",
    "if len(rand_ham_words) >= 2:\n",
    "    for word0, word1 in zip(rand_ham_words[:-1], rand_ham_words[1:]):\n",
    "        valid = hamdict[word0]\n",
    "        assert word1 in valid, \"Zounds! {} mustn't follow {}; only these be allowed: {}\".format(word1, word0, valid)    \n",
    "\n",
    "print(\"\\n(Thou has't most verily passed!)\")"
   ]
  },
  {
   "cell_type": "markdown",
   "id": "a83916b5-ecc0-4039-a902-fdb5e180b5c3",
   "metadata": {},
   "source": [
    "## Problem 9: Maximum likelihood and floating-point\n",
    "\n",
    "This problem concerns floating-point arithmetic, motivated by the statistical concept of maximum likelihood estimation. It has four exercises, numbered 0-3, and is worth a total of ten (10) points."
   ]
  },
  {
   "cell_type": "code",
   "execution_count": 19,
   "id": "a7f4aaf2-82d4-4356-a3a9-57b880b0a7c1",
   "metadata": {},
   "outputs": [],
   "source": [
    "# The test cells need these:\n",
    "from random import choice, randint, uniform, shuffle\n",
    "from math import isclose\n",
    "\n",
    "# You'll need these in Exercises 1 & 3:\n",
    "from math import exp, sqrt, pi, log"
   ]
  },
  {
   "cell_type": "markdown",
   "id": "fabdbafe-f3bc-4c5d-8717-a6722932e602",
   "metadata": {},
   "source": [
    "### Products\n",
    "\n",
    "Suppose you are given a collection of $n$ data values, named $x_0$, $x_1$, $\\ldots$, $x_{n-1}$. Mathematically, we denote their sum as\n",
    "\n",
    "$$\n",
    "  x_0 + x_1 + \\cdots + x_{n-1} \\equiv \\sum_{k=0}^{n-1} x_i.\n",
    "$$\n",
    "\n",
    "In Python, it's easy to implement this formula using the `sum()` function, which can sum the elements of any iterable collection, like a list:"
   ]
  },
  {
   "cell_type": "code",
   "execution_count": 20,
   "id": "37d5e494-a1c6-453e-9ebd-000b04d997c5",
   "metadata": {},
   "outputs": [
    {
     "name": "stdout",
     "output_type": "stream",
     "text": [
      "sum([1, 2, 3, 4, 5]) == 15\n"
     ]
    }
   ],
   "source": [
    "x = [1, 2, 3, 4, 5]\n",
    "print(\"sum({}) == {}\".format(x, sum(x)))"
   ]
  },
  {
   "cell_type": "markdown",
   "id": "95969d0e-ba7a-410f-914d-3e4331fa1829",
   "metadata": {},
   "source": [
    "Suppose instead that we wish to compute the _product_ of these values:\n",
    "\n",
    "$$\n",
    "    x_0 \\cdot x_1 \\cdot \\cdots \\cdot x_{n-1} \\equiv \\prod_{k=0}^{n-1} x_i.\n",
    "$$"
   ]
  },
  {
   "cell_type": "markdown",
   "id": "21244345-94c8-43ac-8aee-9c442e622eef",
   "metadata": {},
   "source": [
    "Suppose instead that we wish to compute the _product_ of these values:\n",
    "\n",
    "$$\n",
    "    x_0 \\cdot x_1 \\cdot \\cdots \\cdot x_{n-1} \\equiv \\prod_{k=0}^{n-1} x_i.\n",
    "$$"
   ]
  },
  {
   "cell_type": "markdown",
   "id": "b1bd9c81-7165-4c75-9d15-025f8ec6cb39",
   "metadata": {},
   "source": [
    "**Exercise 0** (3 points). Write a function, `product(x)`, that returns the product of a collection of numbers `x`."
   ]
  },
  {
   "cell_type": "code",
   "execution_count": 22,
   "id": "199ea739-c54b-4453-8894-e05d912604ef",
   "metadata": {},
   "outputs": [
    {
     "name": "stdout",
     "output_type": "stream",
     "text": [
      "product([1, 2, 3, 4, 5]) == 120?\n"
     ]
    }
   ],
   "source": [
    "def product(x):\n",
    "    # product of a list\n",
    "    product = 1\n",
    "    for i in x:\n",
    "        product *= i\n",
    "    return product\n",
    "    \n",
    "# Demo:\n",
    "print(\"product({}) == {}?\".format(x, product(x))) # Should be 120"
   ]
  },
  {
   "cell_type": "code",
   "execution_count": 23,
   "id": "facf188d-6860-47fd-8071-c26801680f0d",
   "metadata": {},
   "outputs": [
    {
     "name": "stdout",
     "output_type": "stream",
     "text": [
      "5 values: [1, 2, 3, 4, 5]\n",
      "  => Your result: 120\n",
      "  => After dividing by input values: 1.0\n",
      "\n",
      "(Passed first test!)\n"
     ]
    }
   ],
   "source": [
    "# Test cell: `product_test0` (1 point)\n",
    "\n",
    "def check_product(x_or_n):\n",
    "    import numpy as np\n",
    "    eps = np.finfo(float).eps\n",
    "    def delim_vals(x, s=', ', fmt=str):\n",
    "        return s.join([fmt(xi) for xi in x])\n",
    "    def gen_val(do_int):\n",
    "        if do_int:\n",
    "            v = randint(-100, 100)\n",
    "            while v == 0:\n",
    "                v = randint(-100, 100)\n",
    "            assert v != 0\n",
    "        else:\n",
    "            v = uniform(-10, 10)\n",
    "        return v\n",
    "    \n",
    "    if type(x_or_n) is int:\n",
    "        n = x_or_n\n",
    "        do_int = choice([False, True])\n",
    "        x = [gen_val(do_int) for _ in range(n)]\n",
    "    else:\n",
    "        x = x_or_n\n",
    "        n = len(x)\n",
    "        \n",
    "    if n > 10:\n",
    "        msg_values = \"{}, ..., {}\".format(n, delim_vals(x[:5]), delim_vals(x[-5:]))\n",
    "    else:\n",
    "        msg_values = delim_vals(x)\n",
    "    msg = \"{} values: [{}]\".format(n, msg_values)\n",
    "    print(msg)\n",
    "    p = product(x)\n",
    "    print(\"  => Your result: {}\".format(p))\n",
    "    \n",
    "    # Check\n",
    "    for xi in x:\n",
    "        p /= xi\n",
    "    abs_err = p - 1.0\n",
    "    print(\"  => After dividing by input values: {}\".format(p))\n",
    "    assert abs(p-1.0) <= (20.0 / n) * eps, \\\n",
    "           \"Dividing your result by the individual values is {}, which is a bit too far from 1.0\".format(abs_err)\n",
    "\n",
    "check_product([1, 2, 3, 4, 5]) == 120\n",
    "print(\"\\n(Passed first test!)\")"
   ]
  },
  {
   "cell_type": "code",
   "execution_count": 24,
   "id": "1d7e4a68-195a-457f-b988-9402f522262a",
   "metadata": {},
   "outputs": [
    {
     "name": "stdout",
     "output_type": "stream",
     "text": [
      "=== Test 0 ===\n",
      "10 values: [-3.9574243609371003, -2.1629521610028757, 7.523954059361859, 5.775157798062532, -6.052976359522779, 8.84033863645611, 7.912494241557898, -5.733300989899714, 2.5583253427773265, -9.767116524513904]\n",
      "  => Your result: -22560446.85452164\n",
      "  => After dividing by input values: 1.0000000000000002\n",
      "\n",
      "=== Test 1 ===\n",
      "10 values: [1.7614496946056661, 0.4519019096527259, 6.492386602512099, 3.95140711098065, -5.337123409985116, 3.6332831265430094, -8.485791689599642, -0.7137897370725597, -3.5064690022078793, -5.9670039476603565]\n",
      "  => Your result: -50184.0899727671\n",
      "  => After dividing by input values: 1.0000000000000002\n",
      "\n",
      "=== Test 2 ===\n",
      "10 values: [-67, 53, -100, -37, 47, -15, 56, 85, -2, 77]\n",
      "  => Your result: -6789990816840000\n",
      "  => After dividing by input values: 1.0\n",
      "\n",
      "=== Test 3 ===\n",
      "10 values: [-9.431552322796747, -3.5989430759212704, -4.215066824175915, 4.32282073537122, -1.8340756994135514, -3.0515359347239617, -9.289573179943794, 2.0304624085481393, -8.657034808600315, -1.5594675665740265]\n",
      "  => Your result: 881458.3896699917\n",
      "  => After dividing by input values: 1.0\n",
      "\n",
      "=== Test 4 ===\n",
      "10 values: [1, 41, 9, 6, 46, 15, -61, 73, 49, 90]\n",
      "  => Your result: -29999774611800\n",
      "  => After dividing by input values: 1.0\n",
      "\n",
      "(Passed second battery of tests!)\n"
     ]
    }
   ],
   "source": [
    "# Test cell: `product_test1` (2 points)\n",
    "for k in range(5):\n",
    "    print(\"=== Test {} ===\".format(k))\n",
    "    check_product(10)\n",
    "    print()\n",
    "print(\"(Passed second battery of tests!)\")"
   ]
  },
  {
   "cell_type": "markdown",
   "id": "7547517d-c768-4ac0-9eb4-2462409e175f",
   "metadata": {},
   "source": [
    "### Gaussian distributions\n",
    "\n",
    "Recall that the probability density of a _normal_ or _Gaussian_ distribution with mean $\\mu$ and variance $\\sigma^2$ is,\n",
    "\n",
    "$$\n",
    "g(x) \\equiv \\frac{1}{\\sigma \\sqrt{2 \\pi}} \\exp\\left[ -\\frac{1}{2} \\left(\\frac{x-\\mu}{\\sigma}\\right)^2 \\right].\n",
    "$$\n",
    "\n",
    "While $\\sigma^2$ denotes the variance, the _standard deviation_ is $\\sigma$. You may assume $\\sigma > 0$."
   ]
  },
  {
   "cell_type": "markdown",
   "id": "8c43b4b4-e9a1-4d54-ac2e-3b7f2af37967",
   "metadata": {},
   "source": [
    "**Exercise 1** (1 point). Write a function `gaussian0(x, mu, sigma)` that returns $g(x)$ given one floating-point value `x`, a mean value `mu`, and standard deviation `sigma`.\n",
    "\n",
    "For example,\n",
    "\n",
    "```python\n",
    "   gaussian0(1.0, 0.0, 1.0)\n",
    "```\n",
    "\n",
    "should return the value $\\frac{1}{\\sqrt{2\\pi}} \\exp(-0.5) \\approx 0.2419707\\ldots$.\n",
    "\n",
    "> In the signature below, `mu` and `sigma` are set to accept default values of 0.0 and 1.0, respectively. But your function should work for any value of `mu` and any `sigma > 0`."
   ]
  },
  {
   "cell_type": "code",
   "execution_count": 27,
   "id": "7748b4bd-f4da-4645-a703-3331d81a1cac",
   "metadata": {},
   "outputs": [
    {
     "name": "stdout",
     "output_type": "stream",
     "text": [
      "0.24197072451914337\n"
     ]
    }
   ],
   "source": [
    "def gaussian0(x, mu=0.0, sigma=1.0):\n",
    "    # gaussian function\n",
    "    gaussian = 1 / (sigma * sqrt(2 * pi))*exp(-0.5*((x - mu)/sigma)**2)\n",
    "    return gaussian\n",
    "\n",
    "print(gaussian0(1.0)) # Should get 0.24197072451914..."
   ]
  },
  {
   "cell_type": "code",
   "execution_count": 28,
   "id": "528f2ae4-ee04-4f7e-b963-96812844d61a",
   "metadata": {},
   "outputs": [
    {
     "name": "stdout",
     "output_type": "stream",
     "text": [
      "Test case #0: x=1.0, mu=0.0, sigma=1.0\n",
      "==> Passed.\n",
      "Test case #1: x=9.261289729595713, mu=4.062791083841022, sigma=8.888364661179741\n",
      "==> Passed.\n",
      "Test case #2: x=8.684424430163823, mu=-3.933614855475289, sigma=3.3909197779529046\n",
      "==> Passed.\n",
      "Test case #3: x=-5.837701884838431, mu=-0.7022956064089296, sigma=9.436108777664609\n",
      "==> Passed.\n",
      "Test case #4: x=-7.618203009007858, mu=-7.275537909099199, sigma=3.641918650825039\n",
      "==> Passed.\n",
      "Test case #5: x=3.361504436749499, mu=6.921737916579794, sigma=6.189995860221028\n",
      "==> Passed.\n",
      "\n",
      "(Passed!)\n"
     ]
    }
   ],
   "source": [
    "# Test cell: `gaussian0_test` (1 point)\n",
    "\n",
    "def check_gaussian0(x=None, mu=None, sigma=None, k=None):       \n",
    "    if x is None:\n",
    "        x = uniform(-10, 10)\n",
    "    if mu is None:\n",
    "        mu = uniform(-10, 10)\n",
    "    if sigma is None:\n",
    "        sigma = uniform(1e-15, 10)\n",
    "    if k is None:\n",
    "        k_str = \"\"\n",
    "    else:\n",
    "        k_str = \" #{}\".format(k)\n",
    "    assert type(x) is float and type(mu) is float and type(sigma) is float\n",
    "    print(\"Test case{}: x={}, mu={}, sigma={}\".format(k_str, x, mu, sigma))\n",
    "    your_result = gaussian0(x, mu, sigma)\n",
    "    log_your_result = log(your_result)\n",
    "    log_true_result = -0.5*((x - mu)/sigma)**2 - log(sigma*sqrt(2*pi))\n",
    "    assert isclose(log_your_result, log_true_result, rel_tol=1e-9), \"Test case failed!\"\n",
    "    print(\"==> Passed.\")\n",
    "    \n",
    "check_gaussian0(x=1.0, mu=0.0, sigma=1.0, k=0)\n",
    "\n",
    "for k in range(1, 6):\n",
    "    check_gaussian0(k=k)\n",
    "    \n",
    "print(\"\\n(Passed!)\")"
   ]
  },
  {
   "cell_type": "markdown",
   "id": "986a10d0-0ea2-40b8-aaa1-f06194e199bb",
   "metadata": {},
   "source": [
    "**Exercise 2** (1 point). Suppose you are now given a _list_ of values, $x_0$, $x_1$, $\\ldots$, $x_{n-1}$. Write a function, `gaussians()`, that returns the collection of $g(x_i)$ values, also as a list, given specific values of $\\mu$ and $\\sigma$.\n",
    "\n",
    "For example:\n",
    "\n",
    "```python\n",
    "gaussian0(-2, 7.0, 1.23) == 7.674273364934753e-13\n",
    "gaussian0(1, 7.0, 1.23) == 2.2075380785334786e-06\n",
    "gaussian0(3.5, 7.0, 1.23) == 0.0056592223086500545\n",
    "```\n",
    "\n",
    "Therefore,\n",
    "\n",
    "```python\n",
    "gaussians([-2, 1, 3.5], 7.0, 1.23) == [7.674273364934753e-13, 2.2075380785334786e-06, 0.0056592223086500545]\n",
    "```"
   ]
  },
  {
   "cell_type": "code",
   "execution_count": 30,
   "id": "debc2a6d-d103-4585-b07f-39764288d68c",
   "metadata": {},
   "outputs": [
    {
     "name": "stdout",
     "output_type": "stream",
     "text": [
      "[7.674273364934753e-13, 2.2075380785334786e-06, 0.0056592223086500545]\n"
     ]
    }
   ],
   "source": [
    "def gaussians(X, mu=0.0, sigma=1.0):\n",
    "    assert type(X) is list\n",
    "    gaussians = [gaussian0(item, mu=mu, sigma=sigma) for item in X]\n",
    "    return gaussians\n",
    "        \n",
    "    \n",
    "print(gaussians([-2, 1, 3.5], 7.0, 1.23))"
   ]
  },
  {
   "cell_type": "code",
   "execution_count": 31,
   "id": "1d18856c-a69b-45b6-bbf5-4e04be2f9a2c",
   "metadata": {},
   "outputs": [
    {
     "name": "stdout",
     "output_type": "stream",
     "text": [
      "\n",
      "(Passed!)\n"
     ]
    }
   ],
   "source": [
    "# Test cell: `gaussians_test` (1 point)\n",
    "\n",
    "mu = uniform(-10, 10)\n",
    "sigma = uniform(1e-15, 10)\n",
    "X = [uniform(-10, 10) for _ in range(10)]\n",
    "g_X = gaussians(X, mu, sigma)\n",
    "for xi, gi in zip(X, g_X):\n",
    "    assert isclose(gi, gaussian0(xi, mu, sigma))\n",
    "\n",
    "print(\"\\n(Passed!)\")"
   ]
  },
  {
   "cell_type": "markdown",
   "id": "168449d5-0ce9-4ace-aa72-0c67517dfb90",
   "metadata": {},
   "source": [
    "### Likelihoods and log-likelihoods\n",
    "\n",
    "In statistics, one technique to fit a function to data is a procedure known as _maximum likelihood estimation (MLE)_. At the heart of this method, one needs to calculate a special function known as the _likelihood function_, or just the _likelihood_. Here is how it is defined.\n",
    "\n",
    "Let $x_0$, $x_1$, $\\ldots$, $x_{n-1}$ denote a set of $n$ input data points. The likelihood of these data, $L(x_0, \\ldots, x_{n-1})$, is defined to be\n",
    "\n",
    "$$\n",
    "L(x_0, \\ldots, x_{n-1}) \\equiv \\prod_{k=0}^{n-1} p(x_i),\n",
    "$$\n",
    "\n",
    "where $p(x_i)$ is some probability density function that you believe is a good model of the data. The MLE procedure tries to choose model parameters that maximize $L(\\ldots)$.\n",
    "\n",
    "In this problem, let's suppose for simplicity that $p(x)$ is a normal or Gaussian distribution with mean $\\mu$ and variance $\\sigma^2$, meaning that $p(x_i) = g(x_i)$. Here is a straightforward way to implement $L(\\ldots)$ in Python."
   ]
  },
  {
   "cell_type": "code",
   "execution_count": 32,
   "id": "09dae881-142f-4955-9960-4be008a87160",
   "metadata": {},
   "outputs": [
    {
     "name": "stdout",
     "output_type": "stream",
     "text": [
      "1.1519989328102467e-14\n"
     ]
    }
   ],
   "source": [
    "def likelihood_gaussian(x, mu=0.0, sigma=1.0):\n",
    "    assert type(x) is list\n",
    "    \n",
    "    g_all = gaussians(x, mu, sigma)\n",
    "    L = product(g_all)\n",
    "    return L\n",
    "\n",
    "print(likelihood_gaussian(x))"
   ]
  },
  {
   "cell_type": "code",
   "execution_count": 33,
   "id": "40472e30-38ad-466c-90e2-5cb1fdd04e93",
   "metadata": {},
   "outputs": [
    {
     "name": "stdout",
     "output_type": "stream",
     "text": [
      "n=1: likelihood ~= 1.976186641242129e-05.\n",
      "n=2: likelihood ~= 2.704076058087281e-07.\n",
      "n=4: likelihood ~= 1.531068577111199e-10.\n",
      "n=8: likelihood ~= 2.116191616343022e-47.\n",
      "n=16: likelihood ~= 1.581795163536397e-99.\n",
      "n=32: likelihood ~= 2.421022132638162e-164.\n",
      "n=64: likelihood ~= 0.0.\n",
      "n=128: likelihood ~= 0.0.\n"
     ]
    }
   ],
   "source": [
    "# Generate many random values\n",
    "N = [int(2**k) for k in range(8)]\n",
    "X = [uniform(-10, 10) for _ in range(max(N))]\n",
    "\n",
    "# Evaluate the likelihood for different numbers of these values:\n",
    "for n in N:\n",
    "    print(\"n={}: likelihood ~= {}.\".format(n, likelihood_gaussian(X[:n])))"
   ]
  },
  {
   "cell_type": "markdown",
   "id": "671a9526-385a-4679-a416-abe84f0f0d97",
   "metadata": {},
   "source": [
    "Recall that the smallest representable value in double-precision floating-point is $\\approx 10^{-308}$. Therefore, if the true exponent falls below that value, we cannot store it. You should see this behavior above.\n",
    "\n",
    "One alternative is to compute the _log-likelihood_, which is defined simply as the (natural) logarithm of the likelihood:\n",
    "\n",
    "$$\n",
    "  \\mathcal{L}(x_0, \\ldots, x_{n-1}) \\equiv \\log L(x_0, \\ldots, x_{n-1}).\n",
    "$$\n",
    "\n",
    "Log-transforming the likelihood has a nice feature: the location of the maximum value will not change. Therefore, maximizing the log-likelihood is equivalent to maximizing the (plain) likelihood.\n",
    "\n",
    "Let's repeat the experiment above but also print the log-likelihood along with the likelihood:"
   ]
  },
  {
   "cell_type": "code",
   "execution_count": 34,
   "id": "ad0a9fc3-eab0-4c6e-8b06-588262083e91",
   "metadata": {},
   "outputs": [
    {
     "name": "stdout",
     "output_type": "stream",
     "text": [
      "n=1: likelihood ~= 1.976186641242129e-05 and log-likelihood ~= -10.831756416035153.\n",
      "n=2: likelihood ~= 2.704076058087281e-07 and log-likelihood ~= -15.123335365182328.\n",
      "n=4: likelihood ~= 1.531068577111199e-10 and log-likelihood ~= -22.599885021902807.\n",
      "n=8: likelihood ~= 2.116191616343022e-47 and log-likelihood ~= -107.47188130489633.\n",
      "n=16: likelihood ~= 1.581795163536397e-99 and log-likelihood ~= -227.49736382488163.\n",
      "n=32: likelihood ~= 2.421022132638162e-164 and log-likelihood ~= -376.7397654311688.\n",
      "n=64: likelihood ~= 0.0 and log-likelihood ~= -inf.\n",
      "n=128: likelihood ~= 0.0 and log-likelihood ~= -inf.\n"
     ]
    }
   ],
   "source": [
    "for n in N:\n",
    "    L_n = likelihood_gaussian(X[:n])\n",
    "    try:\n",
    "        log_L_n = log(L_n)\n",
    "    except ValueError:\n",
    "        from math import inf\n",
    "        log_L_n = -inf\n",
    "    print(\"n={}: likelihood ~= {} and log-likelihood ~= {}.\".format(n, L_n, log_L_n))"
   ]
  },
  {
   "cell_type": "markdown",
   "id": "3d3f70f0-fc5b-4228-ad34-d9116c620a3f",
   "metadata": {},
   "source": [
    "At first, it looks good: the log-likelihood is much smaller than the likelihood. Therefore, you can calculate it for a much larger number of data points.\n",
    "\n",
    "But the problem persists: just taking $\\log L(\\ldots)$ doesn't help. When $L(\\ldots)$ rounds to zero, taking the $\\log$ produces minus infinity. For this last exercise, you need to fix this problem."
   ]
  },
  {
   "cell_type": "markdown",
   "id": "b8c77b72-454c-49c8-ac39-f659e7d8586a",
   "metadata": {},
   "source": [
    "**Exercise 3** (5 points). Using the fact that $\\log$ and $\\exp$ are inverses of one another, i.e., $\\log (\\exp x) = x$, come up with a way to compute the log-likelihood that can handle larger values of `n`.\n",
    "\n",
    "For example, in the case of `n=128`, your function should produce a finite value rather than $-\\infty$.\n",
    "\n",
    "> _Hint._ In addition to the inverse relationship between $\\log$ and $\\exp$, use the algebraic fact that $\\log(a \\cdot b) = \\log a + \\log b$ to derive a different way to comptue log-likelihood."
   ]
  },
  {
   "cell_type": "markdown",
   "id": "53f0bcc6-a660-4d86-a36e-8b81a5ed56d9",
   "metadata": {},
   "source": [
    "Recall $g(x) \\equiv \\frac{1}{\\sigma \\sqrt{2 \\pi}} \\exp\\left[ -\\frac{1}{2} \\left(\\frac{x-\\mu}{\\sigma}\\right)^2 \\right].$ \\\n",
    "Taking log of both sides \\\n",
    "$l = log \\frac{1}{\\sigma \\sqrt{2 \\pi}} + log \\exp\\left[ -\\frac{1}{2} \\left(\\frac{x-\\mu}{\\sigma}\\right)^2 \\right]$ \\\n",
    "$\\therefore l = log ~ 1 - log ~\\sigma \\sqrt{2 \\pi} + log \\exp\\left[ -\\frac{1}{2} \\left(\\frac{x-\\mu}{\\sigma}\\right)^2 \\right]$ \\\n",
    "$\\implies l = - log ~\\sigma \\sqrt{2 \\pi} + \\left[ -\\frac{1}{2} \\left(\\frac{x-\\mu}{\\sigma}\\right)^2 \\right]$ "
   ]
  },
  {
   "cell_type": "code",
   "execution_count": 35,
   "id": "9b231014-d577-4e64-ac99-1b7dc1fec816",
   "metadata": {},
   "outputs": [],
   "source": [
    "def log_likelihood_gaussian(X, mu=0.0, sigma=1.0):\n",
    "    # compute log gaussian function\n",
    "    def log_gaussian(x):\n",
    "        return -log(sigma *sqrt(2 * pi)) + (-0.5 * ((x - mu)/sigma)**2)\n",
    "    log_likelihood = sum([log_gaussian(x) for x in X])\n",
    "    # compute log-likelihood\n",
    "    return log_likelihood"
   ]
  },
  {
   "cell_type": "code",
   "execution_count": 36,
   "id": "9b8c3975-3684-46b3-a9c5-9b4e1caf8b6d",
   "metadata": {},
   "outputs": [
    {
     "name": "stdout",
     "output_type": "stream",
     "text": [
      "n=1: log-likelihood ~= -10.831756416035153.\n",
      "n=2: log-likelihood ~= -15.123335365182328.\n",
      "n=4: log-likelihood ~= -22.599885021902807.\n",
      "n=8: log-likelihood ~= -107.47188130489634.\n",
      "n=16: log-likelihood ~= -227.49736382488163.\n",
      "n=32: log-likelihood ~= -376.7397654311687.\n",
      "n=64: log-likelihood ~= -835.1654132985067.\n",
      "n=128: log-likelihood ~= -2075.3421982324326.\n",
      "\n",
      "(Passed!)\n"
     ]
    }
   ],
   "source": [
    "# Test cell: `log_likelihood_gaussian_test0` (2 points)\n",
    "\n",
    "# Check that the experiment runs to completion (no exceptions)\n",
    "for n in N:\n",
    "    log_L_n = log_likelihood_gaussian(X[:n])\n",
    "    print(\"n={}: log-likelihood ~= {}.\".format(n, log_L_n))\n",
    "    \n",
    "print(\"\\n(Passed!)\")"
   ]
  },
  {
   "cell_type": "code",
   "execution_count": 37,
   "id": "e978609a-8fc9-459b-8e67-30e5be4f711a",
   "metadata": {},
   "outputs": [
    {
     "name": "stdout",
     "output_type": "stream",
     "text": [
      "\n",
      "(Passed!)\n"
     ]
    }
   ],
   "source": [
    "# Test cell: `log_likelihood_gaussian_test1` (3 points)\n",
    "\n",
    "for k in range(100):\n",
    "    mu = uniform(-10, 10)\n",
    "    sigma = uniform(1e-15, 10)\n",
    "    x0 = uniform(-10, 10)\n",
    "    nc = randint(1, 5)\n",
    "    n0s = [randint(1, 16384) for _ in range(nc)]\n",
    "    x0s = [uniform(-10, 10) for _ in range(nc)]\n",
    "    log_L_true = 0.0\n",
    "    X = []\n",
    "    for c, x0, n0 in zip(range(nc), x0s, n0s):\n",
    "        X += [x0] * n0\n",
    "        log_L_true += n0 * (-0.5*((x0 - mu)/sigma)**2 - log(sigma*sqrt(2*pi)))\n",
    "    shuffle(X)\n",
    "    log_L_you = log_likelihood_gaussian(X, mu, sigma)\n",
    "    msg = \"Test case {} failed: mu={}, sigma={}, nc={}, x0s={}, n0s={}, N={}, true={}, you={}\".format(k, mu, sigma, nc, x0s, n0s, len(X), log_L_true, log_L_you)\n",
    "    assert isclose(log_L_you, log_L_true, rel_tol=len(X)*1e-10), msg\n",
    "    \n",
    "print(\"\\n(Passed!)\")"
   ]
  },
  {
   "cell_type": "code",
   "execution_count": null,
   "id": "83f0e351-1295-47eb-8212-cf12b7958bd7",
   "metadata": {},
   "outputs": [],
   "source": []
  }
 ],
 "metadata": {
  "kernelspec": {
   "display_name": "Python 3 (ipykernel)",
   "language": "python",
   "name": "python3"
  },
  "language_info": {
   "codemirror_mode": {
    "name": "ipython",
    "version": 3
   },
   "file_extension": ".py",
   "mimetype": "text/x-python",
   "name": "python",
   "nbconvert_exporter": "python",
   "pygments_lexer": "ipython3",
   "version": "3.8.13"
  }
 },
 "nbformat": 4,
 "nbformat_minor": 5
}
