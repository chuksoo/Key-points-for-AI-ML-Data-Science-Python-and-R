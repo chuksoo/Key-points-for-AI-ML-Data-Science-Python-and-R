{
 "cells": [
  {
   "cell_type": "markdown",
   "id": "e0e9ea2d-44a1-4854-a8de-045a7f20c4ef",
   "metadata": {},
   "source": [
    "# General Python"
   ]
  },
  {
   "cell_type": "markdown",
   "id": "573ddc31-9a6a-45a0-8c2b-81198f2e2a63",
   "metadata": {},
   "source": [
    "This notebook contain key points for programming in python. This notebook will serve as a reference or quick glance material for general python idea."
   ]
  },
  {
   "cell_type": "markdown",
   "id": "9c69333c-fa17-4dbf-9c81-3a66e49dee19",
   "metadata": {},
   "source": [
    "## Control Flow"
   ]
  },
  {
   "cell_type": "markdown",
   "id": "0eade2bd-ad56-47a9-a85c-308752201b41",
   "metadata": {},
   "source": [
    "#### elif Statement"
   ]
  },
  {
   "cell_type": "code",
   "execution_count": 1,
   "id": "256b7da9-7d76-4c75-a35d-4fdfaf8181f5",
   "metadata": {},
   "outputs": [
    {
     "name": "stdout",
     "output_type": "stream",
     "text": [
      "You have a fish\n"
     ]
    }
   ],
   "source": [
    "# elif Statement\n",
    " \n",
    "pet_type = \"fish\"\n",
    " \n",
    "if pet_type == \"dog\":\n",
    "    print(\"You have a dog.\")\n",
    "elif pet_type == \"cat\":\n",
    "    print(\"You have a cat.\")\n",
    "elif pet_type == \"fish\":\n",
    "    # this is performed\n",
    "    print(\"You have a fish\")\n",
    "else:\n",
    "    print(\"Not sure!\")"
   ]
  },
  {
   "cell_type": "markdown",
   "id": "1b961770-807c-45da-89da-4a24fb691798",
   "metadata": {},
   "source": [
    "#### or Operator"
   ]
  },
  {
   "cell_type": "code",
   "execution_count": 2,
   "id": "9bc7002c-58d9-4c19-9dda-494739856910",
   "metadata": {},
   "outputs": [
    {
     "data": {
      "text/plain": [
       "True"
      ]
     },
     "execution_count": 2,
     "metadata": {},
     "output_type": "execute_result"
    }
   ],
   "source": [
    "True or True      # Evaluates to True\n",
    "True or False     # Evaluates to True\n",
    "False or False    # Evaluates to False\n",
    "1 < 2 or 3 < 1    # Evaluates to True\n",
    "3 < 1 or 1 > 6    # Evaluates to False\n",
    "1 == 1 or 1 < 2   # Evaluates to True"
   ]
  },
  {
   "cell_type": "markdown",
   "id": "121806ad-f043-4a6c-8673-f23f571ed6ec",
   "metadata": {},
   "source": [
    "#### Equal Operator =="
   ]
  },
  {
   "cell_type": "code",
   "execution_count": 3,
   "id": "efdab096-f09b-4c3d-a4c4-246971252763",
   "metadata": {},
   "outputs": [
    {
     "name": "stdout",
     "output_type": "stream",
     "text": [
      "They are equal\n",
      "Both expressions give the same result\n",
      "They are not equal\n"
     ]
    }
   ],
   "source": [
    "# Equal operator\n",
    " \n",
    "if 'Yes' == 'Yes':\n",
    "  # evaluates to True\n",
    "  print('They are equal')\n",
    "\n",
    "if (2 > 1) == (5 < 10):\n",
    "  # evaluates to True\n",
    "  print('Both expressions give the same result')\n",
    "\n",
    "c = '2'\n",
    "d = 2\n",
    " \n",
    "if c == d:\n",
    "    print('They are equal')\n",
    "else:\n",
    "    print('They are not equal')"
   ]
  },
  {
   "cell_type": "markdown",
   "id": "845de36b-26d0-4d8b-a9f1-28a7737bf3ea",
   "metadata": {},
   "source": [
    "#### Not Equals Operator !="
   ]
  },
  {
   "cell_type": "code",
   "execution_count": 4,
   "id": "e9291a5c-3ada-444a-9348-cf17af23a461",
   "metadata": {},
   "outputs": [
    {
     "name": "stdout",
     "output_type": "stream",
     "text": [
      "They are NOT equal\n",
      "They are NOT equal\n",
      "They are NOT equal\n"
     ]
    }
   ],
   "source": [
    "# Not Equals Operator\n",
    " \n",
    "if \"Yes\" != \"No\":\n",
    "  # evaluates to True\n",
    "  print(\"They are NOT equal\")\n",
    "\n",
    "val1 = 10\n",
    "val2 = 20\n",
    " \n",
    "if val1 != val2:\n",
    "    print(\"They are NOT equal\")\n",
    "    \n",
    "if (10 > 1) != (10 > 1000):\n",
    "    # True != False\n",
    "    print(\"They are NOT equal\")"
   ]
  },
  {
   "cell_type": "markdown",
   "id": "0e57ff4d-cd27-4bd1-8a79-e0f1e2ba0110",
   "metadata": {},
   "source": [
    "#### Comparison Operators"
   ]
  },
  {
   "cell_type": "code",
   "execution_count": 5,
   "id": "519260f3-7619-4761-ad15-1d70c5f5c3c8",
   "metadata": {},
   "outputs": [
    {
     "data": {
      "text/plain": [
       "True"
      ]
     },
     "execution_count": 5,
     "metadata": {},
     "output_type": "execute_result"
    }
   ],
   "source": [
    "a = 2\n",
    "b = 3\n",
    "a < b  # evaluates to True\n",
    "a > b  # evaluates to False\n",
    "a >= b # evaluates to False\n",
    "a <= b # evaluates to True\n",
    "a <= a # evaluates to True"
   ]
  },
  {
   "cell_type": "markdown",
   "id": "f480b20f-57bf-4736-aa59-9439f3f1b844",
   "metadata": {},
   "source": [
    "#### if Statement"
   ]
  },
  {
   "cell_type": "code",
   "execution_count": 6,
   "id": "8085fbce-896e-49ea-95bb-fda624356cfe",
   "metadata": {},
   "outputs": [
    {
     "name": "stdout",
     "output_type": "stream",
     "text": [
      "This code is executed!\n",
      "Program continues at this point.\n"
     ]
    }
   ],
   "source": [
    "# if Statement\n",
    " \n",
    "test_value = 100\n",
    " \n",
    "if test_value > 1:\n",
    "  # Expression evaluates to True\n",
    "  print(\"This code is executed!\")\n",
    "    \n",
    "if test_value > 1000:\n",
    "  # Expression evaluates to False\n",
    "  print(\"This code is NOT executed!\")\n",
    "    \n",
    "print(\"Program continues at this point.\")"
   ]
  },
  {
   "cell_type": "markdown",
   "id": "9ba7610c-2a9b-4505-8442-8e56c0b982dd",
   "metadata": {},
   "source": [
    "#### else Statement"
   ]
  },
  {
   "cell_type": "code",
   "execution_count": 7,
   "id": "0293b98c-50c8-4caa-9e98-46c3b32db603",
   "metadata": {},
   "outputs": [
    {
     "name": "stdout",
     "output_type": "stream",
     "text": [
      "Value is >= 1\n",
      "String equals something else!\n"
     ]
    }
   ],
   "source": [
    "# else Statement\n",
    "test_value = 50\n",
    " \n",
    "if test_value < 1:\n",
    "    print(\"Value is < 1\")\n",
    "else:\n",
    "    print(\"Value is >= 1\")\n",
    "    \n",
    "test_string = \"VALID\"\n",
    " \n",
    "if test_string == \"NOT_VALID\":\n",
    "    print(\"String equals NOT_VALID\")\n",
    "else:\n",
    "    print(\"String equals something else!\")"
   ]
  },
  {
   "cell_type": "markdown",
   "id": "2b1b51f9-9cb4-41e9-96fe-340688e650f9",
   "metadata": {},
   "source": [
    "#### and Operator"
   ]
  },
  {
   "cell_type": "code",
   "execution_count": 8,
   "id": "933a5d8e-e5c9-4fb2-adb1-59b7e74aa2c3",
   "metadata": {},
   "outputs": [
    {
     "data": {
      "text/plain": [
       "100"
      ]
     },
     "execution_count": 8,
     "metadata": {},
     "output_type": "execute_result"
    }
   ],
   "source": [
    "True and True     # Evaluates to True\n",
    "True and False    # Evaluates to False\n",
    "False and False   # Evaluates to False\n",
    "1 == 1 and 1 < 2  # Evaluates to True\n",
    "1 < 2 and 3 < 1   # Evaluates to False\n",
    "\"Yes\" and 100     # Evaluates to True"
   ]
  },
  {
   "cell_type": "markdown",
   "id": "8fe9d3c3-25ea-4314-ade7-e5e171a01ed1",
   "metadata": {},
   "source": [
    "#### Boolean Values"
   ]
  },
  {
   "cell_type": "code",
   "execution_count": 9,
   "id": "f124e9a7-8160-42fa-ab16-c84131c75435",
   "metadata": {},
   "outputs": [
    {
     "name": "stdout",
     "output_type": "stream",
     "text": [
      "<class 'bool'>\n"
     ]
    }
   ],
   "source": [
    "is_true = True\n",
    "is_false = False\n",
    " \n",
    "print(type(is_true)) \n",
    "# will output: <class 'bool'>"
   ]
  },
  {
   "cell_type": "markdown",
   "id": "58e12b8d-2d68-4dd5-b073-1a903472458e",
   "metadata": {},
   "source": [
    "#### not Operator"
   ]
  },
  {
   "cell_type": "code",
   "execution_count": 10,
   "id": "8f84b5fb-b5c7-452f-aa29-2f4e43b18919",
   "metadata": {},
   "outputs": [
    {
     "data": {
      "text/plain": [
       "False"
      ]
     },
     "execution_count": 10,
     "metadata": {},
     "output_type": "execute_result"
    }
   ],
   "source": [
    "not True     # Evaluates to False\n",
    "not False    # Evaluates to True\n",
    "1 > 2        # Evaluates to False\n",
    "not 1 > 2    # Evaluates to True\n",
    "1 == 1       # Evaluates to True\n",
    "not 1 == 1   # Evaluates to False"
   ]
  },
  {
   "cell_type": "code",
   "execution_count": null,
   "id": "793b8629-7be9-4075-bd1a-6c969740a899",
   "metadata": {},
   "outputs": [],
   "source": []
  },
  {
   "cell_type": "markdown",
   "id": "d175a036-ba57-43ee-b20e-f06b4594031f",
   "metadata": {},
   "source": [
    "## List"
   ]
  },
  {
   "cell_type": "markdown",
   "id": "35e6fcf7-9461-49ac-be93-3018710ab20c",
   "metadata": {},
   "source": [
    "#### Adding Lists Together"
   ]
  },
  {
   "cell_type": "code",
   "execution_count": 11,
   "id": "8a763245-521e-4f80-9e9e-eb4923c6ba98",
   "metadata": {},
   "outputs": [
    {
     "name": "stdout",
     "output_type": "stream",
     "text": [
      "['cake', 'cookie', 'bread', 'biscuit', 'tart']\n"
     ]
    }
   ],
   "source": [
    "items = ['cake', 'cookie', 'bread']\n",
    "total_items = items + ['biscuit', 'tart']\n",
    "print(total_items)\n",
    "# Result: ['cake', 'cookie', 'bread', 'biscuit', 'tart']"
   ]
  },
  {
   "cell_type": "markdown",
   "id": "e210d626-bc94-4c72-b530-2e5e597b9794",
   "metadata": {},
   "source": [
    "#### Python Lists: Data Types"
   ]
  },
  {
   "cell_type": "code",
   "execution_count": 12,
   "id": "452862f3-f810-40d0-966e-0cdf357b8de9",
   "metadata": {},
   "outputs": [],
   "source": [
    "numbers = [1, 2, 3, 4, 10]\n",
    "names = ['Jenny', 'Sam', 'Alexis']\n",
    "mixed = ['Jenny', 1, 2]\n",
    "list_of_lists = [['a', 1], ['b', 2]]"
   ]
  },
  {
   "cell_type": "markdown",
   "id": "5dcf3cfd-dc91-4aa8-a227-6404d95d5b50",
   "metadata": {},
   "source": [
    "#### List Indices"
   ]
  },
  {
   "cell_type": "code",
   "execution_count": 13,
   "id": "5bc6e17f-35dd-44d3-96b5-6e42eb673ed5",
   "metadata": {},
   "outputs": [
    {
     "data": {
      "text/plain": [
       "'raspberry'"
      ]
     },
     "execution_count": 13,
     "metadata": {},
     "output_type": "execute_result"
    }
   ],
   "source": [
    "berries = [\"blueberry\", \"cranberry\", \"raspberry\"]\n",
    " \n",
    "berries[0]   # \"blueberry\"\n",
    "berries[2]   # \"raspberry\""
   ]
  },
  {
   "cell_type": "markdown",
   "id": "539d5128-83d5-446b-9091-ef4fa88f5759",
   "metadata": {},
   "source": [
    "#### Negative List Indices"
   ]
  },
  {
   "cell_type": "code",
   "execution_count": 14,
   "id": "7d1d41dd-22d3-4897-b156-3b3b8ce75442",
   "metadata": {},
   "outputs": [
    {
     "data": {
      "text/plain": [
       "['minestrone', 'lentil']"
      ]
     },
     "execution_count": 14,
     "metadata": {},
     "output_type": "execute_result"
    }
   ],
   "source": [
    "soups = ['minestrone', 'lentil', 'pho', 'laksa']\n",
    "soups[-1]   # 'laksa'\n",
    "soups[-3:]  # 'lentil', 'pho', 'laksa'\n",
    "soups[:-2]  # 'minestrone', 'lentil'"
   ]
  },
  {
   "cell_type": "markdown",
   "id": "85935175-3ce2-49f3-98b0-ccb39c0a9135",
   "metadata": {},
   "source": [
    "#### Modifying 2D Lists"
   ]
  },
  {
   "cell_type": "code",
   "execution_count": 15,
   "id": "995ee78a-cc00-4219-a0cf-629875f806c4",
   "metadata": {},
   "outputs": [
    {
     "name": "stdout",
     "output_type": "stream",
     "text": [
      "[['Jenny', 'Meditation'], ['Alexus', 'Photography'], ['Grace', 'Soccer']]\n"
     ]
    }
   ],
   "source": [
    "# A 2D list of names and hobbies\n",
    "class_name_hobbies = [[\"Jenny\", \"Breakdancing\"], [\"Alexus\", \"Photography\"], [\"Grace\", \"Soccer\"]]\n",
    " \n",
    "# The sublist of Jenny is at index 0. The hobby is at index 1 of the sublist. \n",
    "class_name_hobbies[0][1] = \"Meditation\"\n",
    "print(class_name_hobbies)\n",
    " \n",
    "# Output\n",
    "# [[\"Jenny\", \"Meditation\"], [\"Alexus\", \"Photography\"], [\"Grace\", \"Soccer\"]]"
   ]
  },
  {
   "cell_type": "markdown",
   "id": "cd3a44c8-5092-4706-b78b-ad337e07f9bc",
   "metadata": {},
   "source": [
    "#### Accessing 2D Lists"
   ]
  },
  {
   "cell_type": "code",
   "execution_count": 16,
   "id": "0ecc101c-3da2-459b-b983-999628e83d3a",
   "metadata": {},
   "outputs": [
    {
     "name": "stdout",
     "output_type": "stream",
     "text": [
      "61\n"
     ]
    }
   ],
   "source": [
    "# 2D list of people's heights\n",
    "heights = [[\"Noelle\", 61], [\"Ali\", 70], [\"Sam\", 67]]\n",
    "# Access the sublist at index 0, and then access the 1st index of that sublist. \n",
    "noelles_height = heights[0][1] \n",
    "print(noelles_height)\n",
    " \n",
    "# Output\n",
    "# 61"
   ]
  },
  {
   "cell_type": "markdown",
   "id": "10a0e704-e898-444e-be69-8524ac2b2c04",
   "metadata": {},
   "source": [
    "#### List Method .remove()"
   ]
  },
  {
   "cell_type": "code",
   "execution_count": 17,
   "id": "bd4dfe00-8dcb-467e-9453-37cc5c993ed5",
   "metadata": {},
   "outputs": [
    {
     "name": "stdout",
     "output_type": "stream",
     "text": [
      "['Cole', 'Kip', 'Sylvana', 'Chris']\n"
     ]
    }
   ],
   "source": [
    "# Create a list\n",
    "shopping_line = [\"Cole\", \"Kip\", \"Chris\", \"Sylvana\", \"Chris\"]\n",
    " \n",
    "# Removes the first occurance of \"Chris\"\n",
    "shopping_line.remove(\"Chris\")\n",
    "print(shopping_line)\n",
    " \n",
    "# Output\n",
    "# [\"Cole\", \"Kip\", \"Sylvana\", \"Chris\"]"
   ]
  },
  {
   "cell_type": "markdown",
   "id": "e1182a6f-b8ec-45c4-9754-611a21ee9013",
   "metadata": {},
   "source": [
    "#### List Method .count()"
   ]
  },
  {
   "cell_type": "code",
   "execution_count": 18,
   "id": "52798473-73fd-46d4-857e-c093824035b9",
   "metadata": {},
   "outputs": [
    {
     "name": "stdout",
     "output_type": "stream",
     "text": [
      "3\n"
     ]
    }
   ],
   "source": [
    "backpack = ['pencil', 'pen', 'notebook', 'textbook', 'pen', 'highlighter', 'pen']\n",
    "numPen = backpack.count('pen')\n",
    " \n",
    "print(numPen)\n",
    "# Output: 3"
   ]
  },
  {
   "cell_type": "markdown",
   "id": "6ed4ef56-6b43-4893-937f-0ea5e24a026f",
   "metadata": {},
   "source": [
    "#### Determining List Length with len()"
   ]
  },
  {
   "cell_type": "code",
   "execution_count": 19,
   "id": "4e9f21e6-4c95-4283-9b1a-ea8d6fc0c69d",
   "metadata": {},
   "outputs": [
    {
     "name": "stdout",
     "output_type": "stream",
     "text": [
      "5\n"
     ]
    }
   ],
   "source": [
    "knapsack = [2, 4, 3, 7, 10]\n",
    "size = len(knapsack)\n",
    "print(size) \n",
    "# Output: 5"
   ]
  },
  {
   "cell_type": "markdown",
   "id": "5687cac0-6108-4884-a547-0053eb4d1d5d",
   "metadata": {},
   "source": [
    "#### List Method .sort()"
   ]
  },
  {
   "cell_type": "code",
   "execution_count": 20,
   "id": "36b43d6d-2a2e-47e5-bcb1-a55f786f7f35",
   "metadata": {},
   "outputs": [
    {
     "name": "stdout",
     "output_type": "stream",
     "text": [
      "[1, 2, 3, 4]\n"
     ]
    }
   ],
   "source": [
    "exampleList = [4, 2, 1, 3]\n",
    "exampleList.sort()\n",
    "print(exampleList)\n",
    "# Output: [1, 2, 3, 4]"
   ]
  },
  {
   "cell_type": "markdown",
   "id": "01694ec1-699b-4b56-aa21-d346ae7877d2",
   "metadata": {},
   "source": [
    "#### List Slicing"
   ]
  },
  {
   "cell_type": "code",
   "execution_count": 21,
   "id": "391e8fe9-7b40-4d05-85a2-f69f9ff22dac",
   "metadata": {},
   "outputs": [
    {
     "name": "stdout",
     "output_type": "stream",
     "text": [
      "['pen', 'hammer', 'lever']\n"
     ]
    }
   ],
   "source": [
    "tools = ['pen', 'hammer', 'lever']\n",
    "tools_slice = tools[1:3] # ['hammer', 'lever']\n",
    "tools_slice[0] = 'nail'\n",
    " \n",
    "# Original list is unaltered:\n",
    "print(tools) # ['pen', 'hammer', 'lever']"
   ]
  },
  {
   "cell_type": "markdown",
   "id": "e6acba0c-e8a6-45a1-a102-e10e7ac7020a",
   "metadata": {},
   "source": [
    "#### sorted() Function"
   ]
  },
  {
   "cell_type": "code",
   "execution_count": 22,
   "id": "549789fc-38e2-4096-9c38-000ed252c4f5",
   "metadata": {},
   "outputs": [
    {
     "name": "stdout",
     "output_type": "stream",
     "text": [
      "[1, 2, 3, 4]\n"
     ]
    }
   ],
   "source": [
    "unsortedList = [4, 2, 1, 3]\n",
    "sortedList = sorted(unsortedList)\n",
    "print(sortedList)\n",
    "# Output: [1, 2, 3, 4]"
   ]
  },
  {
   "cell_type": "markdown",
   "id": "baedaff8-46d4-4f7a-a1ad-32c4ca8fe0ed",
   "metadata": {},
   "source": [
    "#### List Method .insert()"
   ]
  },
  {
   "cell_type": "code",
   "execution_count": 23,
   "id": "77b2778f-c27d-4a57-98cc-6e6bdbfa6dee",
   "metadata": {},
   "outputs": [
    {
     "name": "stdout",
     "output_type": "stream",
     "text": [
      "['Karla', 'Maxium', 'Vikor', 'Martim', 'Isabella']\n"
     ]
    }
   ],
   "source": [
    "# Here is a list representing a line of people at a store\n",
    "store_line = [\"Karla\", \"Maxium\", \"Martim\", \"Isabella\"]\n",
    " \n",
    "# Here is how to insert \"Vikor\" after \"Maxium\" and before \"Martim\"\n",
    "store_line.insert(2, \"Vikor\")\n",
    " \n",
    "print(store_line) \n",
    "# Output: ['Karla', 'Maxium', 'Vikor', 'Martim', 'Isabella']"
   ]
  },
  {
   "cell_type": "markdown",
   "id": "09a8a7ce-020e-417d-9f43-fdeeef0cca83",
   "metadata": {},
   "source": [
    "#### List Method .pop()"
   ]
  },
  {
   "cell_type": "code",
   "execution_count": 24,
   "id": "18095da6-afe5-4ec8-bd96-0727195e4d5c",
   "metadata": {},
   "outputs": [
    {
     "name": "stdout",
     "output_type": "stream",
     "text": [
      "['Python', 'Data Structures', 'Balloon Making', 'Algorithms']\n",
      "Clowns 101\n",
      "['Python', 'Data Structures', 'Algorithms']\n"
     ]
    }
   ],
   "source": [
    "cs_topics = [\"Python\", \"Data Structures\", \"Balloon Making\", \"Algorithms\", \"Clowns 101\"]\n",
    " \n",
    "# Pop the last element\n",
    "removed_element = cs_topics.pop()\n",
    " \n",
    "print(cs_topics)\n",
    "print(removed_element)\n",
    " \n",
    "# Output:\n",
    "# ['Python', 'Data Structures', 'Balloon Making', 'Algorithms']\n",
    "# 'Clowns 101'\n",
    " \n",
    "# Pop the element \"Baloon Making\"\n",
    "cs_topics.pop(2)\n",
    "print(cs_topics)\n",
    " \n",
    "# Output:\n",
    "# ['Python', 'Data Structures', 'Algorithms']"
   ]
  },
  {
   "cell_type": "markdown",
   "id": "553683df-85e7-42a2-b35d-310e75345c17",
   "metadata": {},
   "source": [
    "#### List Method .append()"
   ]
  },
  {
   "cell_type": "code",
   "execution_count": 25,
   "id": "6411ff8b-918e-4beb-a012-578b6b8741ae",
   "metadata": {},
   "outputs": [
    {
     "name": "stdout",
     "output_type": "stream",
     "text": [
      "['This', 'is', 'an', 'example', 'list']\n"
     ]
    }
   ],
   "source": [
    "append_example = [ 'This', 'is', 'an', 'example']\n",
    "append_example.append('list')\n",
    " \n",
    "print(append_example)"
   ]
  },
  {
   "cell_type": "markdown",
   "id": "89de4eb1-1ad9-465e-80b9-aeaaad0b9c6a",
   "metadata": {},
   "source": [
    "#### List Comprehension"
   ]
  },
  {
   "cell_type": "code",
   "execution_count": 26,
   "id": "110a2c21-4d03-48cc-ae79-3f2a9b3bbfdf",
   "metadata": {},
   "outputs": [
    {
     "name": "stdout",
     "output_type": "stream",
     "text": [
      "0\n",
      "1\n",
      "2\n",
      "3\n",
      "4\n",
      "5\n",
      "6\n",
      "7\n",
      "8\n",
      "9\n",
      "[0, 1, 4, 9, 16, 25, 36, 49, 64, 81]\n",
      "[0, 1, 8, 27, 64, 125, 216, 343, 512, 729]\n"
     ]
    }
   ],
   "source": [
    "single_digits = [0, 1, 2, 3, 4, 5, 6, 7, 8, 9]\n",
    "squares = []\n",
    "for value in single_digits:\n",
    "    print(value)\n",
    "    squares.append(value ** 2)\n",
    "print(squares)\n",
    "\n",
    "# create cubes using list comprehension\n",
    "cubes = [cube**3 for cube in single_digits]\n",
    "print(cubes)"
   ]
  },
  {
   "cell_type": "code",
   "execution_count": null,
   "id": "f26f17f7-6139-49f9-9992-0bbb2c80ddc3",
   "metadata": {},
   "outputs": [],
   "source": []
  },
  {
   "cell_type": "markdown",
   "id": "b23e0abc-2882-496b-847a-a82efae5d3af",
   "metadata": {},
   "source": [
    "## Loop"
   ]
  },
  {
   "cell_type": "markdown",
   "id": "5ca5b739-5034-42da-a3ba-be7441fb070c",
   "metadata": {},
   "source": [
    "#### break Keyword"
   ]
  },
  {
   "cell_type": "code",
   "execution_count": 27,
   "id": "da5ca616-dd6d-4a00-8cb4-776eb929717a",
   "metadata": {},
   "outputs": [
    {
     "name": "stdout",
     "output_type": "stream",
     "text": [
      "0\n",
      "254\n",
      "2\n",
      "Negative number detected!\n"
     ]
    }
   ],
   "source": [
    "numbers = [0, 254, 2, -1, 3]\n",
    " \n",
    "for num in numbers:\n",
    "    if (num < 0):\n",
    "        print(\"Negative number detected!\")\n",
    "        break\n",
    "    print(num)\n",
    "    \n",
    "# 0\n",
    "# 254\n",
    "# 2\n",
    "# Negative number detected!"
   ]
  },
  {
   "cell_type": "markdown",
   "id": "00423895-0510-435c-a2fc-090b0d3faa9f",
   "metadata": {},
   "source": [
    "#### continue Keyword"
   ]
  },
  {
   "cell_type": "code",
   "execution_count": 28,
   "id": "307c9cff-626d-4d01-93aa-2172213fb0cf",
   "metadata": {},
   "outputs": [
    {
     "name": "stdout",
     "output_type": "stream",
     "text": [
      "1\n",
      "2\n",
      "4\n",
      "5\n",
      "2\n"
     ]
    }
   ],
   "source": [
    "big_number_list = [1, 2, -1, 4, -5, 5, 2, -9]\n",
    " \n",
    "# Print only positive numbers:\n",
    "for i in big_number_list:\n",
    "    if i < 0:\n",
    "        continue\n",
    "    print(i)"
   ]
  },
  {
   "cell_type": "markdown",
   "id": "fd7b2630-d817-492b-ab76-c4e45e2108fd",
   "metadata": {},
   "source": [
    "#### Python List Comprehension"
   ]
  },
  {
   "cell_type": "code",
   "execution_count": 29,
   "id": "e3aa1ad4-3059-4ba7-8615-7f71f22ce9d4",
   "metadata": {},
   "outputs": [
    {
     "name": "stdout",
     "output_type": "stream",
     "text": [
      "[0, 4, 16, 36, 64]\n"
     ]
    }
   ],
   "source": [
    "# List comprehension for the squares of all even numbers between 0 and 9\n",
    "result = [x**2 for x in range(10) if x % 2 == 0]\n",
    " \n",
    "print(result)\n",
    "# [0, 4, 16, 36, 64]"
   ]
  },
  {
   "cell_type": "markdown",
   "id": "54a0b20b-568d-469e-805f-c689209a49db",
   "metadata": {},
   "source": [
    "#### Python For Loop"
   ]
  },
  {
   "cell_type": "markdown",
   "id": "ddd67e17",
   "metadata": {},
   "source": [
    "A `for` loop is used to \"iterate\", or do something repeatedly, over an **iterable**. \n",
    "\n",
    "An **iterable** is an object that can return one of its elements at a time. This can include sequence types, such as strings, lists, and tuples, as well as non-sequence types, such as dictionaries and files.\n"
   ]
  },
  {
   "cell_type": "code",
   "execution_count": 3,
   "id": "5561f60c",
   "metadata": {},
   "outputs": [
    {
     "name": "stdout",
     "output_type": "stream",
     "text": [
      "['New York City', 'Mountain View', 'Chicago', 'Los Angeles']\n"
     ]
    }
   ],
   "source": [
    "# loop through and capitalize each city\n",
    "cities = ['new york city', 'mountain view', 'chicago', 'los angeles']\n",
    "\n",
    "capitalized_cities = []\n",
    "\n",
    "for city in cities:\n",
    "    capitalized_cities.append(city.title())\n",
    "print(capitalized_cities)"
   ]
  },
  {
   "cell_type": "code",
   "execution_count": 30,
   "id": "7f4e7eaf-4f48-4f38-9a64-b5c937fa62aa",
   "metadata": {},
   "outputs": [
    {
     "name": "stdout",
     "output_type": "stream",
     "text": [
      "1\n",
      "2\n",
      "3\n",
      "4\n",
      "5\n"
     ]
    }
   ],
   "source": [
    "#for <temporary variable> in <list variable>:\n",
    "#  <action statement>\n",
    "#  <action statement>\n",
    " \n",
    "# each num in nums will be printed below\n",
    "nums = [1,2,3,4,5]\n",
    "for num in nums: \n",
    "    print(num)"
   ]
  },
  {
   "cell_type": "markdown",
   "id": "95af9164-5af0-496f-bb5a-e6adf4a1162c",
   "metadata": {},
   "source": [
    "#### Python Loops with `range()`"
   ]
  },
  {
   "cell_type": "markdown",
   "id": "33dc48a8",
   "metadata": {},
   "source": [
    "`range()` is a built-in function used to create an iterable sequence of numbers. \n",
    "\n",
    "`range(start=0, stop, step=1)`\n",
    "- The 'start' argument is the first number of the sequence. If unspecified, 'start' defaults to 0.\n",
    "- The 'stop' argument is 1 more than the last number of the sequence. This argument must be specified.\n",
    "- The 'step' argument is the difference between each number in the sequence. If unspecified, 'step' defaults to 1."
   ]
  },
  {
   "cell_type": "code",
   "execution_count": 19,
   "id": "74d754a6",
   "metadata": {},
   "outputs": [
    {
     "data": {
      "image/jpeg": "[encoded data removed]",
      "text/plain": [
       "<IPython.core.display.Image object>"
      ]
     },
     "execution_count": 19,
     "metadata": {},
     "output_type": "execute_result"
    }
   ],
   "source": [
    "from IPython import display\n",
    "display.Image('C:/Users/hotty/Documents/Cheat Sheet for AI, ML, Data Science, Python and R/Image/for_loop.JPG')"
   ]
  },
  {
   "cell_type": "code",
   "execution_count": 22,
   "id": "d5b30c2d",
   "metadata": {},
   "outputs": [
    {
     "name": "stdout",
     "output_type": "stream",
     "text": [
      "['joey_tribbiani', 'monica_geller', 'chandler_bing', 'phoebe_buffay']\n"
     ]
    }
   ],
   "source": [
    "# Modify Usernames with Range\n",
    "usernames = [\"Joey Tribbiani\", \"Monica Geller\", \"Chandler Bing\", \"Phoebe Buffay\"]\n",
    "\n",
    "# write your for loop here\n",
    "usernames = [usernames[x].lower().replace(' ', '_') for x in range(len(usernames))]\n",
    "\n",
    "print(usernames)"
   ]
  },
  {
   "cell_type": "code",
   "execution_count": 31,
   "id": "425bb3e4-5b44-4e09-a682-ea1379a28b27",
   "metadata": {},
   "outputs": [
    {
     "name": "stdout",
     "output_type": "stream",
     "text": [
      "0\n",
      "1\n",
      "2\n",
      "WARNING\n",
      "WARNING\n",
      "WARNING\n"
     ]
    }
   ],
   "source": [
    "# Print the numbers 0, 1, 2:\n",
    "for i in range(3):\n",
    "    print(i)\n",
    "\n",
    "    # Print \"WARNING\" 3 times:\n",
    "for i in range(3):\n",
    "    print(\"WARNING\")"
   ]
  },
  {
   "cell_type": "markdown",
   "id": "7471a2ba-c8f1-45d2-9c13-6a5b00681fe8",
   "metadata": {},
   "source": [
    "#### Python while Loops"
   ]
  },
  {
   "cell_type": "code",
   "execution_count": 32,
   "id": "db13b5a3-8791-4901-b351-5a0c3c94cc2a",
   "metadata": {},
   "outputs": [
    {
     "name": "stdout",
     "output_type": "stream",
     "text": [
      "Time to eat!\n",
      "1\n",
      "2\n",
      "3\n",
      "4\n",
      "5\n"
     ]
    }
   ],
   "source": [
    "# This loop will only run 1 time\n",
    "hungry = True\n",
    "while hungry:\n",
    "    print(\"Time to eat!\")\n",
    "    hungry = False\n",
    "\n",
    "# This loop will run 5 times\n",
    "i = 1\n",
    "while i < 6:\n",
    "    print(i)\n",
    "    i = i + 1"
   ]
  },
  {
   "cell_type": "markdown",
   "id": "a78fa039-8ba3-4641-bc50-d0d3310785f2",
   "metadata": {},
   "source": [
    "#### Python Nested Loops"
   ]
  },
  {
   "cell_type": "code",
   "execution_count": 33,
   "id": "38c82ef2-0c6f-4d86-91b3-c83103378d41",
   "metadata": {},
   "outputs": [
    {
     "name": "stdout",
     "output_type": "stream",
     "text": [
      "Jobs\n",
      "Gates\n",
      "Newton\n",
      "Euclid\n",
      "Einstein\n",
      "Feynman\n"
     ]
    }
   ],
   "source": [
    "groups = [[\"Jobs\", \"Gates\"], [\"Newton\", \"Euclid\"], [\"Einstein\", \"Feynman\"]]\n",
    " \n",
    "# This outer loop will iterate over each list in the groups list\n",
    "for group in groups:\n",
    "  # This inner loop will go through each name in each list\n",
    "  for name in group:\n",
    "    print(name)"
   ]
  },
  {
   "cell_type": "markdown",
   "id": "ff2a2a7e-d85d-4242-b9da-67bbac6b1a86",
   "metadata": {},
   "source": [
    "## Function"
   ]
  },
  {
   "cell_type": "markdown",
   "id": "b29e7e47-4e63-46ac-8c09-a469685bbd5b",
   "metadata": {},
   "source": [
    "#### Function Parameters"
   ]
  },
  {
   "cell_type": "code",
   "execution_count": 34,
   "id": "bf08817f-5300-47c0-955a-7e5393bed88c",
   "metadata": {},
   "outputs": [],
   "source": [
    "def write_a_book(character, setting, special_skill):\n",
    "    print(character + \" is in \" + \n",
    "        setting + \" practicing her \" + \n",
    "        special_skill)"
   ]
  },
  {
   "cell_type": "markdown",
   "id": "ef04ddfe-1764-484a-8fcc-aa7ec43dafd6",
   "metadata": {},
   "source": [
    "#### Multiple Parameters"
   ]
  },
  {
   "cell_type": "code",
   "execution_count": 35,
   "id": "947d5d53-689b-4e6e-b166-791f6fdde1c1",
   "metadata": {},
   "outputs": [],
   "source": [
    "def ready_for_school(backpack, pencil_case):\n",
    "    if (backpack == 'full' and pencil_case == 'full'):\n",
    "        print (\"I'm ready for school!\")"
   ]
  },
  {
   "cell_type": "markdown",
   "id": "1c1b8acd-4e3d-4351-a2e8-faa5f52c7002",
   "metadata": {},
   "source": [
    "#### Returning Value from Function"
   ]
  },
  {
   "cell_type": "code",
   "execution_count": 36,
   "id": "15b45384-2c9a-4771-8ed7-3feea775822b",
   "metadata": {},
   "outputs": [
    {
     "name": "stdout",
     "output_type": "stream",
     "text": [
      "2018 is not a leap year.\n"
     ]
    }
   ],
   "source": [
    "def check_leap_year(year): \n",
    "    if year % 4 == 0:\n",
    "        return str(year) + \" is a leap year.\"\n",
    "    else:\n",
    "        return str(year) + \" is not a leap year.\"\n",
    "\n",
    "year_to_check = 2018\n",
    "returned_value = check_leap_year(year_to_check)\n",
    "print(returned_value) # 2018 is not a leap year."
   ]
  },
  {
   "cell_type": "code",
   "execution_count": null,
   "id": "8387b893-f1c0-43b6-86a8-a596a058f627",
   "metadata": {},
   "outputs": [],
   "source": []
  },
  {
   "cell_type": "markdown",
   "id": "ccd83be0-32e6-468d-bb16-41ab5dfbcf7b",
   "metadata": {},
   "source": [
    "## String"
   ]
  },
  {
   "cell_type": "markdown",
   "id": "32be2bb6-1b5d-4448-8114-ccf28cdcc950",
   "metadata": {},
   "source": [
    "Sequence of character contained within a pair or `'single quotes'` or `\"double quotes\"`."
   ]
  },
  {
   "cell_type": "markdown",
   "id": "c5dce76f-a4f5-43e5-8901-815e1a37f9e0",
   "metadata": {},
   "source": [
    "#### Escaping Characters"
   ]
  },
  {
   "cell_type": "code",
   "execution_count": 37,
   "id": "dcf3cf4f-892c-4db7-8c1c-b1bcecd06a9c",
   "metadata": {},
   "outputs": [
    {
     "name": "stdout",
     "output_type": "stream",
     "text": [
      "She said \"Never let go\".\n"
     ]
    }
   ],
   "source": [
    "# escaping characters\n",
    "txt = \"She said \\\"Never let go\\\".\"\n",
    "print(txt) # She said \"Never let go\"."
   ]
  },
  {
   "cell_type": "markdown",
   "id": "f44d6748-cfc7-4e6b-a520-86a8e3ad16e0",
   "metadata": {
    "tags": []
   },
   "source": [
    "#### The `in` Syntax"
   ]
  },
  {
   "cell_type": "markdown",
   "id": "00bc0a5c-f827-4681-8513-9395b76f3815",
   "metadata": {},
   "source": [
    "Used to determine if a letter or a substring is in a string"
   ]
  },
  {
   "cell_type": "code",
   "execution_count": 38,
   "id": "2b0e6bb4-e4fb-4f56-b5d5-e8668b0f7395",
   "metadata": {},
   "outputs": [
    {
     "name": "stdout",
     "output_type": "stream",
     "text": [
      "True\n",
      "False\n"
     ]
    }
   ],
   "source": [
    "game = \"Popular Nintendo Game: Mario Kart\"\n",
    " \n",
    "print(\"l\" in game) # Prints: True\n",
    "print(\"x\" in game) # Prints: False"
   ]
  },
  {
   "cell_type": "code",
   "execution_count": 39,
   "id": "f8b5fa7f-8b3b-4ba6-a35d-0429fa67b36a",
   "metadata": {},
   "outputs": [
    {
     "name": "stdout",
     "output_type": "stream",
     "text": [
      "i\n",
      "a\n"
     ]
    }
   ],
   "source": [
    "vowels = ['a', 'e', 'i', 'o', 'u']\n",
    "word = \"Milliways\"\n",
    "found = []\n",
    "for letter in word:\n",
    "    if letter in vowels:\n",
    "        if letter not in found:\n",
    "            found.append(letter)\n",
    "for vowel in found:\n",
    "    print(vowel)"
   ]
  },
  {
   "cell_type": "markdown",
   "id": "198aef1d-df3c-4ced-9173-d6ff1c39ebf9",
   "metadata": {},
   "source": [
    "#### Indexing and Slicing Strings"
   ]
  },
  {
   "cell_type": "code",
   "execution_count": 40,
   "id": "b4aff8e6-4449-424a-aafa-0ee426edf106",
   "metadata": {},
   "outputs": [
    {
     "data": {
      "text/plain": [
       "'lla'"
      ]
     },
     "execution_count": 40,
     "metadata": {},
     "output_type": "execute_result"
    }
   ],
   "source": [
    "str = 'umbrella'\n",
    "str[1]     # => 'm'\n",
    "str[-1]    # => 'a'\n",
    "str[4:6]   # => 'el'\n",
    "str[:4]    # => 'umbr'\n",
    "str[-3:]   # => 'lla'"
   ]
  },
  {
   "cell_type": "markdown",
   "id": "410e43e8-c727-429d-aeee-960742343204",
   "metadata": {},
   "source": [
    "#### Iterate String"
   ]
  },
  {
   "cell_type": "code",
   "execution_count": 41,
   "id": "75e4c86b-fd12-4ddd-93f2-965f837cfd29",
   "metadata": {},
   "outputs": [
    {
     "name": "stdout",
     "output_type": "stream",
     "text": [
      "u\n",
      "p\n",
      "d\n",
      "a\n",
      "t\n",
      "e\n"
     ]
    }
   ],
   "source": [
    "string = 'update'\n",
    "for alphabet in string:\n",
    "    print(alphabet)"
   ]
  },
  {
   "cell_type": "markdown",
   "id": "c0746246-aa13-4286-9f34-c3567bba848f",
   "metadata": {},
   "source": [
    "#### Built-in Function len()"
   ]
  },
  {
   "cell_type": "code",
   "execution_count": 42,
   "id": "4238c1b5-e393-4e7f-9358-9a32c37f6e2f",
   "metadata": {},
   "outputs": [
    {
     "name": "stdout",
     "output_type": "stream",
     "text": [
      "5\n",
      "3\n"
     ]
    }
   ],
   "source": [
    "length = len(\"Hello\")\n",
    "print(length)\n",
    "# Output: 5\n",
    " \n",
    "colors = ['red', 'yellow', 'green']\n",
    "print(len(colors))\n",
    "# Output: 3"
   ]
  },
  {
   "cell_type": "markdown",
   "id": "d3c17446-00a3-45cb-be1f-1e044edf9ad5",
   "metadata": {},
   "source": [
    "#### String Concatenation"
   ]
  },
  {
   "cell_type": "code",
   "execution_count": 43,
   "id": "4a043abc-0e3c-4509-afdc-7e08e25c94fa",
   "metadata": {},
   "outputs": [
    {
     "name": "stdout",
     "output_type": "stream",
     "text": [
      "JulBle\n"
     ]
    }
   ],
   "source": [
    "first_name = \"Julie\"\n",
    "last_name = \"Blevins\"\n",
    "\n",
    "def account_generator(first_name, last_name):\n",
    "    account_name = first_name[0:3] + last_name[0:3]\n",
    "    return account_name\n",
    "\n",
    "new_account = account_generator('Julie', 'Blevins')\n",
    "print(new_account)"
   ]
  },
  {
   "cell_type": "markdown",
   "id": "691a9bd1-4eb6-4659-886e-9da983fe6e3c",
   "metadata": {},
   "source": [
    "### String Methods"
   ]
  },
  {
   "cell_type": "markdown",
   "id": "0c8bc3a5-9eba-421c-a20d-6bdd49a8b082",
   "metadata": {},
   "source": [
    "The syntax for string methods is: `string_name.string_method(arguments)`. Unlike `len()` which is called with an argument, a string method is called at the end of a string with its own specific arguments."
   ]
  },
  {
   "cell_type": "markdown",
   "id": "c916f697-9425-4cc4-a84e-add83d4512c5",
   "metadata": {},
   "source": [
    "#### Formatting methods\n",
    " - ##### .lower()"
   ]
  },
  {
   "cell_type": "code",
   "execution_count": 44,
   "id": "290ff1bb-d75a-4a19-bb0a-c0c00f797995",
   "metadata": {},
   "outputs": [
    {
     "name": "stdout",
     "output_type": "stream",
     "text": [
      "smooth\n"
     ]
    }
   ],
   "source": [
    "favorite_song = 'SmOoTH'\n",
    "favorite_song_lowercase = favorite_song.lower()\n",
    "print(favorite_song_lowercase)"
   ]
  },
  {
   "cell_type": "markdown",
   "id": "2620b1a6-f7eb-467f-b9b1-3f2237844a25",
   "metadata": {},
   "source": [
    " - ##### .upper()"
   ]
  },
  {
   "cell_type": "code",
   "execution_count": 45,
   "id": "111b4a76-d308-4337-9733-0086074df3e4",
   "metadata": {},
   "outputs": [
    {
     "name": "stdout",
     "output_type": "stream",
     "text": [
      "T-REX\n"
     ]
    }
   ],
   "source": [
    "dinosaur = \"T-Rex\"\n",
    " \n",
    "print(dinosaur.upper()) \n",
    "# Prints: T-REX"
   ]
  },
  {
   "cell_type": "markdown",
   "id": "4b56aa17-ce78-42d3-a5c0-5c87fa57bb96",
   "metadata": {},
   "source": [
    "- #### .title()"
   ]
  },
  {
   "cell_type": "code",
   "execution_count": 46,
   "id": "b8777301-bcf0-4200-9299-6bebefa11381",
   "metadata": {},
   "outputs": [
    {
     "name": "stdout",
     "output_type": "stream",
     "text": [
      "Dark Knight\n"
     ]
    }
   ],
   "source": [
    "my_var = \"dark knight\"\n",
    "print(my_var.title()) \n",
    " \n",
    "# Prints: Dark Knight"
   ]
  },
  {
   "cell_type": "markdown",
   "id": "9444c03a-b4af-4bd8-b6e5-09c5d60fdd3e",
   "metadata": {},
   "source": [
    "- #### .format()"
   ]
  },
  {
   "cell_type": "code",
   "execution_count": 47,
   "id": "94dc2188-6879-4fc0-9bdb-61ba4df51a7a",
   "metadata": {},
   "outputs": [
    {
     "data": {
      "text/plain": [
       "'Fred tickled a fluffy hamster.'"
      ]
     },
     "execution_count": 47,
     "metadata": {},
     "output_type": "execute_result"
    }
   ],
   "source": [
    "msg1 = 'Fred scored {} out of {} points.'\n",
    "msg1.format(3, 10)\n",
    "# => 'Fred scored 3 out of 10 points.'\n",
    " \n",
    "msg2 = 'Fred {verb} a {adjective} {noun}.'\n",
    "msg2.format(adjective='fluffy', verb='tickled', noun='hamster')\n",
    "# => 'Fred tickled a fluffy hamster.'"
   ]
  },
  {
   "cell_type": "markdown",
   "id": "c8739e81-a683-47b3-b634-581a86dbd92f",
   "metadata": {},
   "source": [
    "- #### .strip()"
   ]
  },
  {
   "cell_type": "code",
   "execution_count": 48,
   "id": "78058239-31ff-4ae5-9209-5f90c3dc211a",
   "metadata": {},
   "outputs": [
    {
     "data": {
      "text/plain": [
       "'lemons and limes'"
      ]
     },
     "execution_count": 48,
     "metadata": {},
     "output_type": "execute_result"
    }
   ],
   "source": [
    "text1 = '   apples and oranges   '\n",
    "text1.strip()       # => 'apples and oranges'\n",
    " \n",
    "text2 = '...+...lemons and limes...-...'\n",
    " \n",
    "# Here we strip just the \".\" characters\n",
    "text2.strip('.')    # => '+...lemons and limes...-'\n",
    " \n",
    "# Here we strip both \".\" and \"+\" characters\n",
    "text2.strip('.+')   # => 'lemons and limes...-'\n",
    " \n",
    "# Here we strip \".\", \"+\", and \"-\" characters\n",
    "text2.strip('.+-')  # => 'lemons and limes'"
   ]
  },
  {
   "cell_type": "markdown",
   "id": "eec01111-837d-49c2-84ef-ef89a61d1e4f",
   "metadata": {},
   "source": [
    "- #### .replace()"
   ]
  },
  {
   "cell_type": "code",
   "execution_count": 49,
   "id": "7b706e55-8161-4ff5-9935-7f223468ddf4",
   "metadata": {},
   "outputs": [
    {
     "name": "stdout",
     "output_type": "stream",
     "text": [
      "StRawbeRRy\n"
     ]
    }
   ],
   "source": [
    "fruit = \"Strawberry\"\n",
    "print(fruit.replace('r', 'R'))\n",
    " \n",
    "# StRawbeRRy"
   ]
  },
  {
   "cell_type": "markdown",
   "id": "ac6ca80d-edf3-4d0a-8604-a4b446d2ece7",
   "metadata": {},
   "source": [
    "#### Splitting Strings"
   ]
  },
  {
   "cell_type": "code",
   "execution_count": 50,
   "id": "2328ea08-3240-47c6-ad16-bec69bed5216",
   "metadata": {},
   "outputs": [
    {
     "name": "stdout",
     "output_type": "stream",
     "text": [
      "['Silicon', 'Valley']\n",
      "['S', 'l', 'con Valley']\n"
     ]
    }
   ],
   "source": [
    "text = \"Silicon Valley\"\n",
    " \n",
    "print(text.split())     \n",
    "# Prints: ['Silicon', 'Valley']\n",
    " \n",
    "print(text.split('i'))  \n",
    "# Prints: ['S', 'l', 'con Valley']"
   ]
  },
  {
   "cell_type": "code",
   "execution_count": 51,
   "id": "6cd8d708-8455-4d47-9307-9dc6ada775fe",
   "metadata": {},
   "outputs": [
    {
     "name": "stdout",
     "output_type": "stream",
     "text": [
      "['Audre Lorde', 'Gabriela Mistral', 'Jean Toomer', 'An Qi', 'Walt Whitman', 'Shel Silverstein', 'Carmen Boullosa', 'Kamala Suraiyya', 'Langston Hughes', 'Adrienne Rich', 'Nikki Giovanni']\n",
      "['Lorde', 'Mistral', 'Toomer', 'Qi', 'Whitman', 'Silverstein', 'Boullosa', 'Suraiyya', 'Hughes', 'Rich', 'Giovanni']\n"
     ]
    }
   ],
   "source": [
    "authors = \"Audre Lorde,Gabriela Mistral,Jean Toomer,An Qi,Walt Whitman,Shel Silverstein,Carmen Boullosa,Kamala Suraiyya,Langston Hughes,Adrienne Rich,Nikki Giovanni\"\n",
    "\n",
    "author_names = authors.split(',')\n",
    "\n",
    "print(author_names)\n",
    "\n",
    "author_last_names = []\n",
    "for name in author_names:\n",
    "    author_last_names.append(name.split()[-1])\n",
    "print(author_last_names)"
   ]
  },
  {
   "cell_type": "markdown",
   "id": "1e9e876c-1aa0-4f67-a10d-b471f96b9d0c",
   "metadata": {},
   "source": [
    "#### Joining Strings\n",
    "The syntax of `.join()` is `'delimiter'.join(list_you_want_to_join)`"
   ]
  },
  {
   "cell_type": "code",
   "execution_count": 52,
   "id": "920fa933-e651-44fa-85d1-d0a1ed69624e",
   "metadata": {},
   "outputs": [
    {
     "name": "stdout",
     "output_type": "stream",
     "text": [
      "Black reapers with the sound of steel on stones\n"
     ]
    }
   ],
   "source": [
    "reapers_line_one_words = [\"Black\", \"reapers\", \"with\", \"the\", \"sound\", \"of\", \"steel\", \"on\", \"stones\"]\n",
    "\n",
    "reapers_line_one = ' '.join(reapers_line_one_words)\n",
    "print(reapers_line_one)"
   ]
  },
  {
   "cell_type": "code",
   "execution_count": null,
   "id": "5476f106-1929-45e1-914b-5e9977de3968",
   "metadata": {},
   "outputs": [],
   "source": []
  },
  {
   "cell_type": "markdown",
   "id": "53d1861a-9475-4845-ab7f-abc1758541c3",
   "metadata": {},
   "source": [
    "## Modules"
   ]
  },
  {
   "cell_type": "markdown",
   "id": "7dbcc0ae-1562-4f39-b83c-00b2a903092c",
   "metadata": {},
   "source": [
    "A module is a collection of Python declarations intended broadly to be used as a tool. Modules are also often referred to as “libraries” or “packages” — a package is really a directory that holds a collection of modules."
   ]
  },
  {
   "cell_type": "markdown",
   "id": "986a6487-f819-4cf7-b0c9-3661b9226f7e",
   "metadata": {},
   "source": [
    "#### Date and Time in Python"
   ]
  },
  {
   "cell_type": "code",
   "execution_count": 53,
   "id": "6576aba4-5131-4eb3-ba0a-560e821181d8",
   "metadata": {},
   "outputs": [
    {
     "name": "stdout",
     "output_type": "stream",
     "text": [
      "2019-02-16\n",
      "13:48:05\n",
      "2019-02-16 13:48:05\n"
     ]
    }
   ],
   "source": [
    "import datetime\n",
    "feb_16_2019 = datetime.date(year=2019, month=2, day=16)\n",
    "feb_16_2019 = datetime.date(2019, 2, 16)\n",
    "print(feb_16_2019) #2019-02-16\n",
    " \n",
    "time_13_48min_5sec = datetime.time(hour=13, minute=48, second=5)\n",
    "time_13_48min_5sec = datetime.time(13, 48, 5)\n",
    "print(time_13_48min_5sec) #13:48:05\n",
    " \n",
    "timestamp= datetime.datetime(year=2019, month=2, day=16, hour=13, minute=48, second=5)\n",
    "timestamp = datetime.datetime(2019, 2, 16, 13, 48, 5)\n",
    "print (timestamp) #2019-01-02 13:48:05"
   ]
  },
  {
   "cell_type": "markdown",
   "id": "6856f7e2-7f78-482d-873d-ad45252f84e6",
   "metadata": {},
   "source": [
    "#### Aliasing with ‘as’ keyword"
   ]
  },
  {
   "cell_type": "code",
   "execution_count": 54,
   "id": "d78a7e37-f0ae-44c3-aaca-7852860362c6",
   "metadata": {},
   "outputs": [
    {
     "name": "stdout",
     "output_type": "stream",
     "text": [
      "January\n"
     ]
    },
    {
     "data": {
      "image/png": "[encoded data removed]",
      "text/plain": [
       "<Figure size 432x288 with 1 Axes>"
      ]
     },
     "metadata": {
      "needs_background": "light"
     },
     "output_type": "display_data"
    }
   ],
   "source": [
    "x = [0, 1, 2, 3, 4]\n",
    "y = [2, 4, 6, 8, 10]\n",
    "\n",
    "# Aliasing matplotlib.pyplot as plt\n",
    "from matplotlib import pyplot as plt\n",
    "plt.plot(x, y)\n",
    " \n",
    "# Aliasing calendar as c\n",
    "import calendar as c\n",
    "print(c.month_name[1])"
   ]
  },
  {
   "cell_type": "markdown",
   "id": "b42f3451-4acd-47e3-b009-01c54ab6255b",
   "metadata": {},
   "source": [
    "#### Import Python Modules"
   ]
  },
  {
   "cell_type": "markdown",
   "id": "7d67d6db-001f-433a-b33e-33ae27737cf7",
   "metadata": {},
   "source": [
    "##### Three different ways to import modules:\n",
    "- First way\n",
    "```python\n",
    "import module\n",
    "module.function()\n",
    "```\n",
    "___\n",
    " \n",
    "- Second way\n",
    "```python\n",
    "from module import function\n",
    "function()\n",
    "```\n",
    "___\n",
    "- Third way\n",
    "```python\n",
    "from module import *\n",
    "function()\n",
    "```"
   ]
  },
  {
   "cell_type": "markdown",
   "id": "9203689d-fefc-4c86-93d7-890a1a23dd4d",
   "metadata": {},
   "source": [
    "#### random.randint() and random.choice()"
   ]
  },
  {
   "cell_type": "code",
   "execution_count": 55,
   "id": "8d86dc52-76d8-4d01-883d-45875ae859a0",
   "metadata": {},
   "outputs": [
    {
     "name": "stdout",
     "output_type": "stream",
     "text": [
      "1\n",
      "b\n"
     ]
    }
   ],
   "source": [
    "# Returns a random integer N in a given range, such that start <= N <= end\n",
    "# random.randint(start, end)\n",
    "import random\n",
    "r1 = random.randint(0, 10)  \n",
    "print(r1) # Random integer where 0 <= r1 <= 10\n",
    " \n",
    "# Prints a random element from a sequence\n",
    "seq = [\"a\", \"b\", \"c\", \"d\", \"e\"]\n",
    "r2 = random.choice(seq)\n",
    "print(r2) # Random element in the sequence"
   ]
  },
  {
   "cell_type": "markdown",
   "id": "53fdcc72-2395-496a-bdb3-36195ddad5b4",
   "metadata": {},
   "source": [
    "#### Module importing"
   ]
  },
  {
   "cell_type": "code",
   "execution_count": 56,
   "id": "c8da61da-e984-4edb-8d66-73cad20144e7",
   "metadata": {},
   "outputs": [
    {
     "data": {
      "text/plain": [
       "'Hello World'"
      ]
     },
     "execution_count": 56,
     "metadata": {},
     "output_type": "execute_result"
    }
   ],
   "source": [
    "# file1 content\n",
    "def f1_function():\n",
    "    pass\n",
    "    return \"Hello World\"\n",
    " \n",
    "# file2\n",
    "import pandas\n",
    " \n",
    "# Now we can use f1_function, because we imported file1\n",
    "f1_function()"
   ]
  },
  {
   "cell_type": "code",
   "execution_count": null,
   "id": "be63ce64-9971-4d35-a872-655431d88571",
   "metadata": {},
   "outputs": [],
   "source": []
  },
  {
   "cell_type": "markdown",
   "id": "70e0adae-e285-4d2b-ba48-b9be3f274c81",
   "metadata": {},
   "source": [
    "## Dictionaries"
   ]
  },
  {
   "cell_type": "markdown",
   "id": "cac6adbe-48c5-43a0-a62f-a05055fc536f",
   "metadata": {},
   "source": [
    "#### Accessing and writing data in a Python dictionary"
   ]
  },
  {
   "cell_type": "code",
   "execution_count": 57,
   "id": "8a4997c6-74ca-47a3-9a29-baad7e20c5bc",
   "metadata": {},
   "outputs": [
    {
     "name": "stdout",
     "output_type": "stream",
     "text": [
      "Estranged\n"
     ]
    }
   ],
   "source": [
    "my_dictionary = {\"song\": \"Estranged\", \"artist\": \"Guns N' Roses\"}\n",
    "print(my_dictionary[\"song\"])\n",
    "my_dictionary[\"song\"] = \"Paradise City\""
   ]
  },
  {
   "cell_type": "markdown",
   "id": "24bd4263-8418-4a6d-9d1e-c3c0a617c02c",
   "metadata": {},
   "source": [
    "#### Syntax of the Python dictionary"
   ]
  },
  {
   "cell_type": "code",
   "execution_count": 58,
   "id": "2fcbbf06-e3ff-40cc-b46c-b0d188e1a083",
   "metadata": {},
   "outputs": [],
   "source": [
    "roaster = {\"q1\": \"Ashley\", \"q2\": \"Dolly\"}"
   ]
  },
  {
   "cell_type": "markdown",
   "id": "c3c879d3-f13e-422e-9b47-eba34cfd80e5",
   "metadata": {},
   "source": [
    "#### Merging dictionaries with the .update() method in Python"
   ]
  },
  {
   "cell_type": "code",
   "execution_count": 59,
   "id": "742eeab6-4f51-4cab-8c03-771a2f922154",
   "metadata": {},
   "outputs": [],
   "source": [
    "dict1 = {'color': 'blue', 'shape': 'circle'}\n",
    "dict2 = {'color': 'red', 'number': 42}\n",
    " \n",
    "dict1.update(dict2)\n",
    " \n",
    "# dict1 is now {'color': 'red', 'shape': 'circle', 'number': 42}"
   ]
  },
  {
   "cell_type": "markdown",
   "id": "ce13b6ab-2ba9-4768-80b7-f81fdf3de65f",
   "metadata": {},
   "source": [
    "#### Dictionary value types"
   ]
  },
  {
   "cell_type": "code",
   "execution_count": 60,
   "id": "ba1e1bb8-945b-48d0-ab78-4ffb96c0cac0",
   "metadata": {},
   "outputs": [],
   "source": [
    "dictionary = {\n",
    "  1: 'hello', \n",
    "  'two': True, \n",
    "  '3': [1, 2, 3], \n",
    "  'Four': {'fun': 'addition'}, \n",
    "  5.0: 5.5\n",
    "}"
   ]
  },
  {
   "cell_type": "markdown",
   "id": "307dfbd2-0398-445f-b0e4-552bdc7c0878",
   "metadata": {},
   "source": [
    "#### Python dictionaries"
   ]
  },
  {
   "cell_type": "code",
   "execution_count": 61,
   "id": "99953d1a-da18-41ce-bb9c-64972cfe87de",
   "metadata": {},
   "outputs": [],
   "source": [
    "my_dictionary = {1: \"L.A. Lakers\", 2: \"Houston Rockets\"}"
   ]
  },
  {
   "cell_type": "markdown",
   "id": "b9bdb0af-b1e8-4265-ad56-a9ae4ea72e76",
   "metadata": {},
   "source": [
    "#### Dictionary Key-Value Methods"
   ]
  },
  {
   "cell_type": "code",
   "execution_count": 62,
   "id": "4167a8bb-c732-4fd8-8011-53d12cbec5ce",
   "metadata": {},
   "outputs": [
    {
     "data": {
      "text/plain": [
       "dict_items([('a', 'anteater'), ('b', 'bumblebee'), ('c', 'cheetah')])"
      ]
     },
     "execution_count": 62,
     "metadata": {},
     "output_type": "execute_result"
    }
   ],
   "source": [
    "ex_dict = {\"a\": \"anteater\", \"b\": \"bumblebee\", \"c\": \"cheetah\"}\n",
    " \n",
    "ex_dict.keys()\n",
    "# dict_keys([\"a\",\"b\",\"c\"])\n",
    " \n",
    "ex_dict.values()\n",
    "# dict_values([\"anteater\", \"bumblebee\", \"cheetah\"])\n",
    " \n",
    "ex_dict.items()\n",
    "# dict_items([(\"a\",\"anteater\"),(\"b\",\"bumblebee\"),(\"c\",\"cheetah\")])"
   ]
  },
  {
   "cell_type": "markdown",
   "id": "64a0a305-a98b-4dc9-957b-207aef7a586a",
   "metadata": {},
   "source": [
    "#### get() Method for Dictionary"
   ]
  },
  {
   "cell_type": "code",
   "execution_count": 63,
   "id": "94ef83df-a665-4241-a6df-5def85a05b49",
   "metadata": {},
   "outputs": [
    {
     "data": {
      "text/plain": [
       "'nickname is not a key'"
      ]
     },
     "execution_count": 63,
     "metadata": {},
     "output_type": "execute_result"
    }
   ],
   "source": [
    "# without default\n",
    "{\"name\": \"Victor\"}.get(\"name\")\n",
    "# returns \"Victor\"\n",
    " \n",
    "{\"name\": \"Victor\"}.get(\"nickname\")\n",
    "# returns None\n",
    " \n",
    "# with default\n",
    "{\"name\": \"Victor\"}.get(\"nickname\", \"nickname is not a key\")\n",
    "# returns \"nickname is not a key\""
   ]
  },
  {
   "cell_type": "markdown",
   "id": "ef6c05dc-8129-452d-a392-7ef1e67c963a",
   "metadata": {},
   "source": [
    "#### The .pop() Method for Dictionaries in Python"
   ]
  },
  {
   "cell_type": "code",
   "execution_count": 64,
   "id": "cc49cf17-c929-4913-8844-53952da192ab",
   "metadata": {},
   "outputs": [
    {
     "name": "stdout",
     "output_type": "stream",
     "text": [
      "{'Washington': 'Smithsonian Institution', 'Paris': 'Le Louvre'}\n"
     ]
    }
   ],
   "source": [
    "famous_museums = {'Washington': 'Smithsonian Institution', 'Paris': 'Le Louvre', 'Athens': 'The Acropolis Museum'}\n",
    "famous_museums.pop('Athens')\n",
    "print(famous_museums) # {'Washington': 'Smithsonian Institution', 'Paris': 'Le Louvre'}"
   ]
  },
  {
   "cell_type": "code",
   "execution_count": null,
   "id": "ffa12eb8-13b5-4471-ad36-a6dad0dd9128",
   "metadata": {},
   "outputs": [],
   "source": []
  },
  {
   "cell_type": "markdown",
   "id": "6d21c2e4-4db4-498a-9ca3-5c7318265eb6",
   "metadata": {},
   "source": [
    "## Files"
   ]
  },
  {
   "cell_type": "markdown",
   "id": "c92f4ac7-913f-4d5d-9690-d357f39ed16b",
   "metadata": {},
   "source": [
    "#### Python Readline Method"
   ]
  },
  {
   "cell_type": "markdown",
   "id": "0cddd5f3-86e1-433e-b343-059f9e73af51",
   "metadata": {},
   "source": [
    "To read only one line instead of multiple lines in a Python file, use the method `.readline()` on a file object that is returned from the `open()` function.\n",
    "\n",
    "```python\n",
    "with open('story.txt') as story_object:\n",
    "    print(story_object.readline())\n",
    "```"
   ]
  },
  {
   "cell_type": "markdown",
   "id": "0a4dc550-b81b-46cd-9fcd-67c14a9eb294",
   "metadata": {},
   "source": [
    "#### Parsing JSON files to dictionary"
   ]
  },
  {
   "cell_type": "markdown",
   "id": "4ab82aea-033d-4c0d-8e52-5b3c25a6857f",
   "metadata": {},
   "source": [
    "Use json.load with an opened file object to read the contents into a Python dictionary.\n",
    " \n",
    "Contents of file.json\n",
    "{ 'userId': 10 }\n",
    "```python \n",
    "import json\n",
    "with open('file.json') as json_file:\n",
    "    python_dict = json.load(json_file)\n",
    "\n",
    "print(python_dict.get('userId'))\n",
    "# Prints 10\n",
    "```"
   ]
  },
  {
   "cell_type": "markdown",
   "id": "9df74303-ad22-45f5-b29e-61bedc5d3843",
   "metadata": {},
   "source": [
    "#### Python Append To File"
   ]
  },
  {
   "cell_type": "markdown",
   "id": "653a9364-2fd9-49ad-b630-3571f46de8e9",
   "metadata": {},
   "source": [
    "```python\n",
    "with open('shopping.txt', 'a') as shop:\n",
    "    shop.write('Tomatoes, cucumbers, celery\\n')\n",
    "```"
   ]
  },
  {
   "cell_type": "markdown",
   "id": "672c2837-8f41-4e5e-912e-9977e6441bf2",
   "metadata": {},
   "source": [
    "#### Python Write To File"
   ]
  },
  {
   "cell_type": "markdown",
   "id": "a0b6c0dc-8c1b-4e6d-b52c-1179b0e122bd",
   "metadata": {},
   "source": [
    "```python\n",
    "with open('diary.txt','w') as diary:\n",
    "    diary.write('Special events for today')\n",
    "```"
   ]
  },
  {
   "cell_type": "markdown",
   "id": "46c434a1-4115-4231-9185-41c75605c7b8",
   "metadata": {},
   "source": [
    "#### Python Readlines Method"
   ]
  },
  {
   "cell_type": "markdown",
   "id": "ac6a5b11-674e-46e1-bd56-07c9029e403d",
   "metadata": {},
   "source": [
    "```python\n",
    "with open('lines.txt') as file_object:\n",
    "    file_data = file_object.readlines()\n",
    "print(file_data)\n",
    "```"
   ]
  },
  {
   "cell_type": "markdown",
   "id": "1acd615c-6aa8-4165-9dfd-c13cd7428f05",
   "metadata": {},
   "source": [
    "#### Class csv.DictWriter"
   ]
  },
  {
   "cell_type": "markdown",
   "id": "d7f3275e-ad31-4fac-8feb-620e904cc135",
   "metadata": {},
   "source": [
    "```python\n",
    "# An example of csv.DictWriter\n",
    "import csv\n",
    " \n",
    "with open('companies.csv', 'w') as csvfile:\n",
    "  fieldnames = ['name', 'type']\n",
    "  writer = csv.DictWriter(csvfile, fieldnames=fieldnames)\n",
    "  writer.writeheader()\n",
    "  writer.writerow({'name': 'Codecademy', 'type': 'Learning'})\n",
    "  writer.writerow({'name': 'Google', 'type': 'Search'})\n",
    " \n",
    "\"\"\"\n",
    "After running the above code, companies.csv will contain the following information:\n",
    " \n",
    "name,type\n",
    "Codecademy,Learning\n",
    "Google,Search\n",
    "\"\"\"\n",
    "```"
   ]
  },
  {
   "cell_type": "markdown",
   "id": "d1ee84fa-ff3c-401a-905e-ce2800abfa63",
   "metadata": {},
   "source": [
    "#### Python Read Method"
   ]
  },
  {
   "cell_type": "markdown",
   "id": "320d44fa-18f9-4896-bc03-18b98d82efef",
   "metadata": {},
   "source": [
    "```python\n",
    "with open('mystery.txt') as text_file:\n",
    "    text_data = text_file.read()\n",
    "print(text_data)\n",
    "```"
   ]
  },
  {
   "cell_type": "code",
   "execution_count": null,
   "id": "8e9c9ee5-6d8b-4a1f-b00f-002a3ae34946",
   "metadata": {},
   "outputs": [],
   "source": []
  },
  {
   "cell_type": "markdown",
   "id": "27b517df-b595-4770-98b3-fab585520664",
   "metadata": {},
   "source": [
    "# Object Oriented Programming"
   ]
  },
  {
   "cell_type": "markdown",
   "id": "29a1c1d7-3eb8-4662-b5fd-ca5427e1ab17",
   "metadata": {},
   "source": [
    "## Classes"
   ]
  },
  {
   "cell_type": "markdown",
   "id": "da5e3631-c146-4702-9eb8-c61becdf8b9d",
   "metadata": {},
   "source": [
    "#### Python repr method"
   ]
  },
  {
   "cell_type": "markdown",
   "id": "235b45cc-6181-4c3a-8698-18e86f3a2959",
   "metadata": {},
   "source": [
    "The Python `__repr__()` method is used to tell Python what the *string representation* of the class should be. It can only have one parameter, `self`, and it should return a string.\n",
    "```python\n",
    "class Employee:\n",
    "  def __init__(self, name):\n",
    "    self.name = name\n",
    " \n",
    "  def __repr__(self):\n",
    "    return self.name\n",
    " \n",
    "john = Employee('John')\n",
    "print(john) # John\n",
    "```"
   ]
  },
  {
   "cell_type": "markdown",
   "id": "859e12da-ad0d-4bab-9ed2-dec1183e7d70",
   "metadata": {},
   "source": [
    "#### Python class methods"
   ]
  },
  {
   "cell_type": "markdown",
   "id": "536f1e52-9993-4bfa-bf08-59493f0fba3b",
   "metadata": {},
   "source": [
    "In Python, *methods* are functions that are defined as part of a class. It is common practice that the first argument of any method that is part of a class is the actual object calling the method. This argument is usually called `self`.\n",
    "```python\n",
    "# Dog class\n",
    "class Dog:\n",
    "  # Method of the class\n",
    "  def bark(self):\n",
    "    print(\"Ham-Ham\")\n",
    "    \n",
    "# Create a new instance\n",
    "charlie = Dog()\n",
    " \n",
    "# Call the method\n",
    "charlie.bark()\n",
    "# This will output \"Ham-Ham\"\n",
    "```"
   ]
  },
  {
   "cell_type": "markdown",
   "id": "e3579ea2-dfc3-4d38-b5e9-396ee30a6f97",
   "metadata": {},
   "source": [
    "#### Instantiate Python Class"
   ]
  },
  {
   "cell_type": "markdown",
   "id": "f05b6e81-3a1b-4930-b4a8-617ecc6400a5",
   "metadata": {},
   "source": [
    "In Python, a class needs to be instantiated before use. As an analogy, a class can be thought of as a blueprint (Car), and an instance is an actual implementation of the blueprint (Ferrari).\n",
    "```python\n",
    "class Car:\n",
    "  \"This is an empty class\"\n",
    "  pass\n",
    " \n",
    "# Class Instantiation\n",
    "ferrari = Car()\n",
    "```"
   ]
  },
  {
   "cell_type": "markdown",
   "id": "fe48dc61-749a-4e1f-bb88-db7e6ce565a2",
   "metadata": {},
   "source": [
    "#### Python Class Variables"
   ]
  },
  {
   "cell_type": "markdown",
   "id": "cdd16edf-dc3d-4536-bfbe-b0fe27e3ae52",
   "metadata": {},
   "source": [
    "#### Python init method\n",
    "In Python, the `.__init__()` method is used to initialize a newly created object. It is called every time the class is instantiated.\n",
    "```python\n",
    "class Animal:\n",
    "    def __init__(self, voice):\n",
    "        self.voice = voice\n",
    " \n",
    "# When a class instance is created, the instance variable\n",
    "# 'voice' is created and set to the input value.\n",
    "cat = Animal('Meow')\n",
    "print(cat.voice) # Output: Meow\n",
    " \n",
    "dog = Animal('Woof') \n",
    "print(dog.voice) # Output: Woof\n",
    "```"
   ]
  },
  {
   "cell_type": "markdown",
   "id": "79b21de4-f5d3-4d95-b423-4da07712ec71",
   "metadata": {},
   "source": [
    "#### Python type() function\n",
    "The Python `type()` function returns the data type of the argument passed to it.\n",
    "```python\n",
    "a = 1\n",
    "print(type(a)) # <class 'int'>\n",
    " \n",
    "a = 1.1\n",
    "print(type(a)) # <class 'float'>\n",
    " \n",
    "a = 'b'\n",
    "print(type(a)) # <class 'str'>\n",
    " \n",
    "a = None\n",
    "print(type(a)) # <class 'NoneType'>\n",
    "```"
   ]
  },
  {
   "cell_type": "markdown",
   "id": "fd7511f2-d01b-4d98-9a60-32ae310ba5b3",
   "metadata": {},
   "source": [
    "#### Python class\n",
    "In Python, a class is a template for a data type. A class can be defined using the `class` keyword.\n",
    "\n",
    "```python\n",
    "# Defining a class\n",
    "class Animal:\n",
    "    def __init__(self, name, number_of_legs):\n",
    "        self.name = name\n",
    "        self.number_of_legs = number_of_legs\n",
    "```"
   ]
  },
  {
   "cell_type": "markdown",
   "id": "0f92f87e-9687-4d65-b375-ffd17064c813",
   "metadata": {},
   "source": [
    "#### Python dir() function\n",
    "In Python, the built-in `dir()` function, without any argument, returns a list of all the attributes in the current scope. With an object as argument, `dir()` tries to return all valid object attributes.\n",
    "```python\n",
    "class Employee:\n",
    "  def __init__(self, name):\n",
    "    self.name = name\n",
    " \n",
    "  def print_name(self):\n",
    "    print(\"Hi, I'm \" + self.name)\n",
    " \n",
    " \n",
    "print(dir())\n",
    "# ['Employee', '__builtins__', '__doc__', '__file__', '__name__', '__package__', 'new_employee']\n",
    " \n",
    "print(dir(Employee))\n",
    "# ['__doc__', '__init__', '__module__', 'print_name']\n",
    "```"
   ]
  },
  {
   "cell_type": "markdown",
   "id": "6e219560-e98d-4f37-9962-04e065346320",
   "metadata": {},
   "source": [
    "#### `__main__` in Python\n",
    "In Python, `__main__` is an identifier used to reference the current file context. When a module is read from standard input, a script, or from an interactive prompt, its `__name__` is set equal to `__main__`."
   ]
  }
 ],
 "metadata": {
  "kernelspec": {
   "display_name": "Python 3.10.5 64-bit",
   "language": "python",
   "name": "python3"
  },
  "language_info": {
   "codemirror_mode": {
    "name": "ipython",
    "version": 3
   },
   "file_extension": ".py",
   "mimetype": "text/x-python",
   "name": "python",
   "nbconvert_exporter": "python",
   "pygments_lexer": "ipython3",
   "version": "3.10.5"
  },
  "vscode": {
   "interpreter": {
    "hash": "cb04027a75e8ad62ae5c9de6360fef5897d4eeff837cdd88b44a9f87bf03cb75"
   }
  }
 },
 "nbformat": 4,
 "nbformat_minor": 5
}
