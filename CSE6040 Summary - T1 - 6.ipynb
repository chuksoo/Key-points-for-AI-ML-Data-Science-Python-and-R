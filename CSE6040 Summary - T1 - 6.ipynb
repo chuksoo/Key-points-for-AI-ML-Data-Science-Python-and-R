{
 "cells": [
  {
   "cell_type": "markdown",
   "id": "ac6a094c-1912-4069-9975-098fe229d11d",
   "metadata": {},
   "source": [
    "### Topic 1: Python Bootcamp review"
   ]
  },
  {
   "cell_type": "markdown",
   "id": "f2a35ec5-131c-45ba-a808-d796a76b8891",
   "metadata": {},
   "source": [
    "#### Given a list of strings, L[:], returns the concatenation of the strings in reverse order."
   ]
  },
  {
   "cell_type": "code",
   "execution_count": 1,
   "id": "4978d4b3-6ec7-48f5-8df3-853b30e033b6",
   "metadata": {},
   "outputs": [
    {
     "name": "stdout",
     "output_type": "stream",
     "text": [
      "ponhmrrbiqkyvsmvnf\n"
     ]
    }
   ],
   "source": [
    "def strcat_list(L):\n",
    "    assert type(L) is list\n",
    "    rev = ''\n",
    "    for i in range(len(L)-1, -1, -1):\n",
    "        rev += L[i]\n",
    "    return rev\n",
    "    \n",
    "    # alternative one-line solution\n",
    "    #return ''.join(reversed(L))\n",
    "\n",
    "# test\n",
    "L = ['vnf', 'vsm', 'qky', 'rbi', 'hmr', 'pon']\n",
    "print(strcat_list(L))"
   ]
  },
  {
   "cell_type": "markdown",
   "id": "e044a37d-6c73-4e2b-947a-34514d6c1af1",
   "metadata": {},
   "source": [
    "#### Floor fraction"
   ]
  },
  {
   "cell_type": "code",
   "execution_count": 2,
   "id": "b9e077e5-4250-4e9d-b8ad-9f7d101bd46b",
   "metadata": {},
   "outputs": [
    {
     "name": "stdout",
     "output_type": "stream",
     "text": [
      "2\n"
     ]
    }
   ],
   "source": [
    "import math as mt\n",
    "def is_number(x):\n",
    "    \"\"\"Returns `True` if `x` is a number-like type, e.g., `int`, `float`, `Decimal()`, ...\"\"\"\n",
    "    from numbers import Number\n",
    "    return isinstance(x, Number)\n",
    "    \n",
    "def floor_fraction(a, b):\n",
    "    assert is_number(a) and a >= 0\n",
    "    assert is_number(b) and b > 0\n",
    "    \n",
    "    return mt.floor(a / b)\n",
    "\n",
    "# test \n",
    "a = 5\n",
    "b = 2\n",
    "print(floor_fraction(a, b))"
   ]
  },
  {
   "cell_type": "markdown",
   "id": "d1428965-ed05-48d2-8237-e2ed71167b1d",
   "metadata": {},
   "source": [
    "#### Given a string consisting of words separated by spaces, returns a list containing the length of each word."
   ]
  },
  {
   "cell_type": "code",
   "execution_count": 3,
   "id": "7aa1c369-b01b-43b3-bfad-aeb3d999bf55",
   "metadata": {},
   "outputs": [
    {
     "name": "stdout",
     "output_type": "stream",
     "text": [
      "[3, 5, 5, 3, 6, 4, 3, 4, 3]\n"
     ]
    }
   ],
   "source": [
    "def count_word_lengths(s):\n",
    "    assert all([x.isalpha() or x == ' ' for x in s])\n",
    "    assert type(s) is str\n",
    "   \n",
    "    word_list = []\n",
    "    for word in s.split():\n",
    "        word_list.append(len(word))\n",
    "    return word_list\n",
    "        \n",
    "s = 'the quick  brown   fox jumped over     the lazy  dog'\n",
    "print(count_word_lengths(s))"
   ]
  },
  {
   "cell_type": "markdown",
   "id": "b1c87a00-1edc-458f-8b06-24eff1e628b7",
   "metadata": {},
   "source": [
    "#### Returns a dictionary d with two keys, d['inds'] and d['vals'], indicating the position and value of all the non-zero entries of x"
   ]
  },
  {
   "cell_type": "code",
   "execution_count": 4,
   "id": "250cc6bb-995e-48d7-82fc-edb2145395b1",
   "metadata": {},
   "outputs": [
    {
     "name": "stdout",
     "output_type": "stream",
     "text": [
      "{'inds': [1, 5, 6, 9], 'vals': [0.87, 0.32, 0.46, 0.1]}\n",
      "\n"
     ]
    }
   ],
   "source": [
    "def compress_vector(x):\n",
    "    assert type(x) is list\n",
    "    d = {'inds': [], 'vals': []}\n",
    "    ###\n",
    "    ### YOUR CODE HERE\n",
    "    ###\n",
    "    new_list = x.copy()\n",
    "    inds = []\n",
    "    vals = []\n",
    "    for i in range(len(new_list)):\n",
    "        if i <= len(new_list):\n",
    "            if new_list[i] == 0.0:\n",
    "                pass\n",
    "            else:\n",
    "                inds.append(i)\n",
    "                vals.append(new_list[i])\n",
    "    d['inds'] = inds\n",
    "    d['vals'] = vals\n",
    "    return d\n",
    "\n",
    "# test case \n",
    "x = [0.0, 0.87, 0.0, 0.0, 0.0, 0.32, 0.46, 0.0, 0.0, 0.10, 0.0, 0.0]\n",
    "print(compress_vector(x))\n",
    "print()"
   ]
  },
  {
   "cell_type": "markdown",
   "id": "b4ae7c2d-a94c-4053-80da-d25b64ea116d",
   "metadata": {},
   "source": [
    "#### Returns the corresponding full vector compressed vector d, which is a dictionary with keys for the indices (inds) and values (vals)"
   ]
  },
  {
   "cell_type": "code",
   "execution_count": 5,
   "id": "b9d7152a-2834-40e3-b71c-4e918029eef7",
   "metadata": {},
   "outputs": [
    {
     "name": "stdout",
     "output_type": "stream",
     "text": [
      "[0.0, 0.87, 0.0, 0.0, 0.0, 0.32, 0.46, 0.0, 0.0, 0.1]\n"
     ]
    }
   ],
   "source": [
    "def decompress_vector(d, n=None):\n",
    "    # Checks the input\n",
    "    assert type(d) is dict and 'inds' in d and 'vals' in d, \"Not a dictionary or missing keys\"\n",
    "    assert type(d['inds']) is list and type(d['vals']) is list, \"Not a list\"\n",
    "    assert len(d['inds']) == len(d['vals']), \"Length mismatch\"\n",
    "    \n",
    "    # Determine length of the full vector\n",
    "    i_max = max(d['inds']) if d['inds'] else -1\n",
    "    if n is None:\n",
    "        n = i_max+1\n",
    "    else:\n",
    "        assert n > i_max, \"Bad value for full vector length\"\n",
    "        \n",
    "    ###\n",
    "    ### YOUR CODE HERE\n",
    "    ###\n",
    "    return_list = []\n",
    "    for i in range(n):\n",
    "        indices = []\n",
    "        for index, value in enumerate(d['inds']):\n",
    "            if value == i:\n",
    "                indices.append(index)\n",
    "        if len(indices) > 0:\n",
    "            return_list.append(sum(map(d['vals'].__getitem__, indices)))\n",
    "        else:\n",
    "            return_list.append(0.0)\n",
    "    return return_list\n",
    "\n",
    "d = compress_vector(x)\n",
    "print(decompress_vector(d, n=None))"
   ]
  },
  {
   "cell_type": "markdown",
   "id": "34ba2c7d-df2e-4a9c-9d88-fb19f6711d3e",
   "metadata": {},
   "source": [
    "#### Find common indices"
   ]
  },
  {
   "cell_type": "code",
   "execution_count": 6,
   "id": "4722cc7c-9da2-42e4-ab42-3b9f710073a0",
   "metadata": {},
   "outputs": [
    {
     "name": "stdout",
     "output_type": "stream",
     "text": [
      "[9, 1]\n"
     ]
    }
   ],
   "source": [
    "def find_common_inds(d1, d2):\n",
    "    assert type(d1) is dict and 'inds' in d1 and 'vals' in d1\n",
    "    assert type(d2) is dict and 'inds' in d2 and 'vals' in d2\n",
    "    ###\n",
    "    ### YOUR CODE HERE\n",
    "    ###\n",
    "    common_list = []\n",
    "    for v in d1['inds']:\n",
    "        if v in d2['inds'] and v not in common_list:\n",
    "            common_list.append(v)\n",
    "    #return common_list\n",
    "\n",
    "# alternative method\n",
    "    indices1 = set(d1['inds'])\n",
    "    indices2 = set(d2['inds'])\n",
    "    common_indices = list(indices1.intersection(indices2))\n",
    "    return common_indices\n",
    "        \n",
    "# test code\n",
    "d1 = {'inds': [9, 9, 1, 9, 8, 1], 'vals': [0.28, 0.84, 0.71, 0.03, 0.04, 0.75]}\n",
    "d2 = {'inds': [0, 9, 9, 1, 3, 3, 9], 'vals': [0.26, 0.06, 0.46, 0.58, 0.42, 0.21, 0.53, 0.76]}    \n",
    "print(find_common_inds(d1, d2))"
   ]
  },
  {
   "cell_type": "markdown",
   "id": "a566b3c0-937c-410c-971c-2f7713b5b25e",
   "metadata": {},
   "source": [
    "#### Nested list of lists"
   ]
  },
  {
   "cell_type": "code",
   "execution_count": 7,
   "id": "af7c50a8-3b8c-4a19-91fe-49a3248744b3",
   "metadata": {},
   "outputs": [
    {
     "name": "stdout",
     "output_type": "stream",
     "text": [
      "['Thorny', 'Mac', 'Farva', 'Rabbit', 'Ursula', 'Foster']\n"
     ]
    }
   ],
   "source": [
    "grades = [\n",
    "    # First line is descriptive header. Subsequent lines hold data\n",
    "    ['Student', 'Exam 1', 'Exam 2', 'Exam 3'],\n",
    "    ['Thorny', '100', '90', '80'],\n",
    "    ['Mac', '88', '99', '111'],\n",
    "    ['Farva', '45', '56', '67'],\n",
    "    ['Rabbit', '59', '61', '67'],\n",
    "    ['Ursula', '73', '79', '83'],\n",
    "    ['Foster', '89', '97', '101']\n",
    "]\n",
    "\n",
    "grades\n",
    "\n",
    "# return list containing names of students\n",
    "def get_students(grades):\n",
    "    # get student names    \n",
    "    student = []\n",
    "    for name in grades[1:]:\n",
    "        student.append(name[0])\n",
    "    return student\n",
    "            \n",
    "print(get_students(grades))"
   ]
  },
  {
   "cell_type": "code",
   "execution_count": 8,
   "id": "4dbc61c4-38fc-46ed-b061-d6cd6d094173",
   "metadata": {},
   "outputs": [
    {
     "name": "stdout",
     "output_type": "stream",
     "text": [
      "['Exam 1', 'Exam 2', 'Exam 3']\n"
     ]
    }
   ],
   "source": [
    "# return new list assignments which holds the names of the class assignments\n",
    "def get_assignments(grades):\n",
    "    # get assignment\n",
    "    assignment = []\n",
    "    for exam in grades[0][1:]:\n",
    "        assignment.append(exam)\n",
    "    return assignment\n",
    "        \n",
    "# test code\n",
    "print(get_assignments(grades))"
   ]
  },
  {
   "cell_type": "code",
   "execution_count": 9,
   "id": "7b90edd6-788e-4ccb-9ab9-45a21783fd55",
   "metadata": {},
   "outputs": [
    {
     "name": "stdout",
     "output_type": "stream",
     "text": [
      "{'Thorny': [100, 90, 80], 'Mac': [88, 99, 111], 'Farva': [45, 56, 67], 'Rabbit': [59, 61, 67], 'Ursula': [73, 79, 83], 'Foster': [89, 97, 101]}\n"
     ]
    }
   ],
   "source": [
    "# Maps names of students to lists of their exam grades\n",
    "def build_grade_lists(grades):\n",
    "    # zip student list and individual_grades list to dictionary\n",
    "    new_students = get_students(grades)\n",
    "    individual_grades = []\n",
    "    for grade_list in grades[1:]:\n",
    "        grade_list = [int(x) for x in grade_list[1:]]\n",
    "        individual_grades.append(grade_list)\n",
    "    return dict(zip(new_students, individual_grades))\n",
    "        \n",
    "# test code\n",
    "print(build_grade_lists(grades))"
   ]
  },
  {
   "cell_type": "code",
   "execution_count": 10,
   "id": "8098cbeb-0f1e-4e1e-b5b3-7b37c087003d",
   "metadata": {},
   "outputs": [
    {
     "name": "stdout",
     "output_type": "stream",
     "text": [
      "{'Thorny': {'Exam 1': 100, 'Exam 2': 90, 'Exam 3': 80}, 'Mac': {'Exam 1': 88, 'Exam 2': 99, 'Exam 3': 111}, 'Farva': {'Exam 1': 45, 'Exam 2': 56, 'Exam 3': 67}, 'Rabbit': {'Exam 1': 59, 'Exam 2': 61, 'Exam 3': 67}, 'Ursula': {'Exam 1': 73, 'Exam 2': 79, 'Exam 3': 83}, 'Foster': {'Exam 1': 89, 'Exam 2': 97, 'Exam 3': 101}}\n"
     ]
    }
   ],
   "source": [
    "# Maps names of students to dictionaries containing their scores\n",
    "def build_grade_dicts(grades):\n",
    "    # call in student names and assignment as list\n",
    "    student_names = get_students(grades)\n",
    "    student_assignments = get_assignments(grades)\n",
    "\n",
    "    grade_dict = {}\n",
    "    for name, grade_list in zip(student_names, grades[1:]):\n",
    "        grade_list = [int(x) for x in grade_list[1:]]\n",
    "        exam_dict = dict(zip(student_assignments, grade_list)) \n",
    "        grade_dict[name] = exam_dict\n",
    "    return grade_dict\n",
    "\n",
    "# test code    \n",
    "print(build_grade_dicts(grades))"
   ]
  },
  {
   "cell_type": "code",
   "execution_count": 11,
   "id": "4aac2919-523b-44b0-8f39-788e60200d88",
   "metadata": {},
   "outputs": [
    {
     "name": "stdout",
     "output_type": "stream",
     "text": [
      "{'Thorny': 90.0, 'Mac': 99.33333333333333, 'Farva': 56.0, 'Rabbit': 62.333333333333336, 'Ursula': 78.33333333333333, 'Foster': 95.66666666666667}\n"
     ]
    }
   ],
   "source": [
    "# Create a dict mapping names to grade averages.\n",
    "def build_avg_by_student(grades):\n",
    "    # get grade list dictionary\n",
    "    grade_lists_dict = build_grade_lists(grades)\n",
    "    avg_grade_dict = {}\n",
    "    # loop through dictionary items\n",
    "    for k, v in grade_lists_dict.items():\n",
    "        # find average grade\n",
    "        avg_grade = sum(v)/len(v)\n",
    "        # update average grade dictionary with average grade\n",
    "        avg_grade_dict[k] = avg_grade\n",
    "    return avg_grade_dict\n",
    "\n",
    "# test code\n",
    "print(build_avg_by_student(grades))"
   ]
  },
  {
   "cell_type": "code",
   "execution_count": 12,
   "id": "f9c60c33-b976-4d28-b2e1-303fd8d46c63",
   "metadata": {},
   "outputs": [
    {
     "name": "stdout",
     "output_type": "stream",
     "text": [
      "{'Exam 1': [100, 88, 45, 59, 73, 89], 'Exam 2': [90, 99, 56, 61, 79, 97], 'Exam 3': [80, 111, 67, 67, 83, 101]}\n"
     ]
    }
   ],
   "source": [
    "# Return build_grade_by_asn, which takes grades as a parameter and returns a dictionary \n",
    "# named grade_by_asn, whose keys are assignment (exam) names and whose values are \n",
    "# lists of scores over all students on that assignment\n",
    "def build_grade_by_asn(grades):\n",
    "    # get assignment list and grade list\n",
    "    exam_lists = get_assignments(grades)\n",
    "    \n",
    "    grade_by_asn = {}\n",
    "    grade_list_by_exam = []\n",
    "    for i in range(0, len(exam_lists)):\n",
    "        # get grade list\n",
    "        grade_list = []\n",
    "        for j in range(1, len(grades)):\n",
    "            grade_list.append(int(grades[j][i + 1]))\n",
    "        # get grade list by exam\n",
    "        grade_list_by_exam.append(grade_list)\n",
    "    grade_by_asn = dict(zip(exam_lists, grade_list_by_exam))\n",
    "    return grade_by_asn\n",
    "\n",
    "print(build_grade_by_asn(grades))"
   ]
  },
  {
   "cell_type": "code",
   "execution_count": 13,
   "id": "9c6790b0-784a-4ed6-899e-4df2a0e364ff",
   "metadata": {},
   "outputs": [
    {
     "name": "stdout",
     "output_type": "stream",
     "text": [
      "{'Exam 1': 75.66666666666667, 'Exam 2': 80.33333333333333, 'Exam 3': 84.83333333333333}\n"
     ]
    }
   ],
   "source": [
    "# Create a dict mapping items to average for that item across all students.\n",
    "def build_avg_by_asn(grades):\n",
    "    # get grade by asn\n",
    "    grade_by_asn = build_grade_by_asn(grades)\n",
    "    avg_by_asn = {}\n",
    "    for k, v in grade_by_asn.items():\n",
    "        avg_grades_by_asn = sum(v) / len(v)\n",
    "        avg_by_asn[k] = avg_grades_by_asn\n",
    "    return avg_by_asn\n",
    "\n",
    "# test code\n",
    "print(build_avg_by_asn(grades))"
   ]
  },
  {
   "cell_type": "code",
   "execution_count": 14,
   "id": "f987e551-81e0-45d4-94f5-d99b717c25c2",
   "metadata": {},
   "outputs": [
    {
     "name": "stdout",
     "output_type": "stream",
     "text": [
      "['Mac', 'Foster', 'Thorny', 'Ursula', 'Rabbit', 'Farva']\n"
     ]
    }
   ],
   "source": [
    "def get_ranked_students(grades):\n",
    "    # get average grade by student\n",
    "    avg_grades_by_students = build_avg_by_student(grades)\n",
    "    # sort dictionary by value\n",
    "    sorted_names_grades = dict(sorted(avg_grades_by_students.items(), key = lambda item: item[1], reverse = True))\n",
    "    # return sorted list of names\n",
    "    sorted_names = [k for k in sorted_names_grades.keys()]\n",
    "    return sorted_names\n",
    "\n",
    "# test code\n",
    "print(get_ranked_students(grades))"
   ]
  },
  {
   "cell_type": "markdown",
   "id": "c7589643-a981-488a-848c-32b946af2745",
   "metadata": {},
   "source": [
    "#### Flatten a Nested List using Recursion"
   ]
  },
  {
   "cell_type": "code",
   "execution_count": 15,
   "id": "72ed6fc8-e348-41e0-b3ea-635181b5c7ae",
   "metadata": {},
   "outputs": [
    {
     "name": "stdout",
     "output_type": "stream",
     "text": [
      "['a', 'cat', 2, 3, 'dog', 4, 5]\n"
     ]
    }
   ],
   "source": [
    "def flatten(L):\n",
    "    assert type(L) is list\n",
    "    flatList = []\n",
    "    for item in L:\n",
    "        if type(item) is not list:\n",
    "            flatList += [item]\n",
    "        else:\n",
    "            flatList += flatten(item)\n",
    "    return flatList\n",
    "    \n",
    "L = [['a', ['cat'], 2],[[[3]], 'dog'], 4, 5]\n",
    "print(flatten(L))"
   ]
  },
  {
   "cell_type": "markdown",
   "id": "eef5c35c-3448-4285-ae5c-3bcafa64b6e5",
   "metadata": {},
   "source": [
    "#### Get unique items in a list"
   ]
  },
  {
   "cell_type": "code",
   "execution_count": 16,
   "id": "cb70d491-e025-4839-906d-47a2aab5919a",
   "metadata": {},
   "outputs": [
    {
     "name": "stdout",
     "output_type": "stream",
     "text": [
      "['cat', 'dog', 'sheep']\n"
     ]
    }
   ],
   "source": [
    "# time = 620 µs ± 24 µs per loop (mean ± std. dev. of 7 runs, 1000 loops each)\n",
    "def remove_dups(S):\n",
    "    return list(set(S))\n",
    "\n",
    "print(remove_dups(['cat', 'dog', 'sheep', 'dog']))"
   ]
  },
  {
   "cell_type": "markdown",
   "id": "172b3ec9-7477-488c-a7ec-d914704837c7",
   "metadata": {},
   "source": [
    "#### Get count of unique character and digit in a string as a tuple"
   ]
  },
  {
   "cell_type": "code",
   "execution_count": 17,
   "id": "e264bec8-1d31-40d6-81cd-405f69c02ec8",
   "metadata": {},
   "outputs": [
    {
     "name": "stdout",
     "output_type": "stream",
     "text": [
      "(6, 4)\n"
     ]
    }
   ],
   "source": [
    "def UniqueCharacters(s):\n",
    "    string_list = []\n",
    "    digit_list = []\n",
    "    for i in s:\n",
    "        if i.isalpha():\n",
    "            string_list.append(i)\n",
    "        if i.isdigit():\n",
    "            digit_list.append(i)\n",
    "    return (len(set(string_list)), len(set(digit_list)))\n",
    "\n",
    "s = 'ewwwffioj122434'\n",
    "print(UniqueCharacters(s))"
   ]
  },
  {
   "cell_type": "markdown",
   "id": "219a0ee2-c95b-438e-b942-2fd05678d5f3",
   "metadata": {},
   "source": [
    "#### Get pairs that can be formed from a given list"
   ]
  },
  {
   "cell_type": "code",
   "execution_count": 18,
   "id": "06cc8f6d-9c64-47c3-bfd9-8ef9f7c89ffc",
   "metadata": {},
   "outputs": [
    {
     "name": "stdout",
     "output_type": "stream",
     "text": [
      "[(1, 2), (1, 3), (1, 4), (1, 10), (2, 3), (2, 4), (2, 10), (3, 4), (3, 10), (4, 10)]\n"
     ]
    }
   ],
   "source": [
    "def get_pairs(L):\n",
    "    assert type(L)==list\n",
    "    \n",
    "    import itertools\n",
    "    result = list(itertools.combinations(L, 2))\n",
    "    return result\n",
    "\n",
    "L = [1,2,3,4,10]\n",
    "print(get_pairs(L))"
   ]
  },
  {
   "cell_type": "markdown",
   "id": "c982ebe9-2978-4b45-9011-18b1dee3f530",
   "metadata": {},
   "source": [
    "#### Find pairs that are consecutive from a list of integers"
   ]
  },
  {
   "cell_type": "code",
   "execution_count": 19,
   "id": "f047e262-8ad1-436d-96f5-e8541e675899",
   "metadata": {},
   "outputs": [
    {
     "name": "stdout",
     "output_type": "stream",
     "text": [
      "3\n"
     ]
    }
   ],
   "source": [
    "#import numpy as np\n",
    "#import CPSol as cp\n",
    "\n",
    "def count_pairs(L):\n",
    "    assert type(L)==list\n",
    "    \n",
    "    from collections import Counter\n",
    "    counts = Counter(L)\n",
    "    unique_items = sorted(counts.keys())\n",
    "    unique_pairs = zip(unique_items[1:], unique_items[:-1])\n",
    "    unit_diff_combos = [counts[b]*counts[a] for b, a in unique_pairs if (b-a) == 1]\n",
    "    return sum(unit_diff_combos)   \n",
    "\n",
    "L = [1,2,3,4,10]\n",
    "print(count_pairs(L))"
   ]
  },
  {
   "cell_type": "markdown",
   "id": "f3671877-8916-4001-a197-34f90b4d5bde",
   "metadata": {},
   "source": [
    "#### Return list of any anagram that appear in common words list"
   ]
  },
  {
   "cell_type": "code",
   "execution_count": 20,
   "id": "bf22da6a-fb87-42e6-8ce1-a33dec9610bc",
   "metadata": {},
   "outputs": [],
   "source": [
    "commonwordslist = ['aa', 'aaa', 'aaron', 'ab', 'abandoned', 'abc', 'aberdeen', 'abilities', 'ability', 'able', 'aboriginal', 'abortion', 'about', 'above', 'abraham', 'abroad', 'abs', 'absence', 'absent', 'absolute', 'absolutely', 'absorption', 'abstract', 'abstracts', 'abu', 'abuse', 'ac', 'academic', 'academics', 'academy', 'acc', 'accent', 'accept', 'acceptable', 'acceptance', 'accepted', 'accepting', 'accepts', 'access', 'accessed', 'accessibility', 'accessible', 'accessing', 'accessories', 'accessory', 'accident', 'accidents', 'accommodate', 'accommodation', 'accommodations', 'accompanied', 'accompanying', 'accomplish', 'accomplished', 'accordance', 'according', 'accordingly', 'account', 'accountability', 'accounting', 'accounts', 'accreditation', 'accredited', 'accuracy', 'accurate', 'accurately', 'accused', 'acdbentity', 'ace', 'acer', 'achieve', 'achieved', 'achievement', 'achievements', 'achieving', 'acid', 'acids', 'acknowledge', 'acknowledged', 'acm', 'acne', 'acoustic', 'acquire', 'acquired', 'acquisition', 'acquisitions', 'acre', 'acres', 'acrobat', 'across', 'acrylic', 'act', 'acting', 'action', 'actions', 'activated', 'activation', 'active', 'actively', 'activists', 'activities', 'activity', 'actor', 'actors', 'actress', 'acts', 'actual', 'actually', 'acute', 'ad', 'ada', 'adam', 'adams', 'adaptation', 'adapted', 'adapter', 'adapters', 'adaptive', 'adaptor', 'add', 'added', 'addiction', 'adding', 'addition', 'additional', 'additionally', 'additions', 'address', 'addressed', 'addresses', 'addressing', 'adds', 'adelaide', 'adequate', 'adidas', 'adipex', 'adjacent', 'adjust', 'adjustable', 'adjusted', 'adjustment', 'adjustments', 'admin', 'administered', 'administration', 'administrative', 'administrator', 'administrators', 'admission', 'admissions', 'admit', 'admitted', 'adobe', 'adolescent', 'adopt', 'adopted', 'adoption', 'adrian', 'ads', 'adsl', 'adult', 'adults', 'advance', 'advanced', 'advancement', 'advances', 'advantage', 'advantages', 'adventure', 'adventures', 'adverse', 'advert', 'advertise', 'advertisement', 'advertisements', 'advertiser', 'advertisers', 'advertising', 'advice', 'advise', 'advised', 'advisor', 'advisors', 'advisory', 'advocacy', 'advocate', 'adware', 'ae', 'aerial', 'aerospace', 'af', 'affair', 'affairs', 'affect', 'affected', 'affecting', 'affects', 'affiliate', 'affiliated', 'affiliates', 'affiliation', 'afford', 'affordable', 'afghanistan', 'afraid', 'africa', 'african', 'after', 'afternoon', 'afterwards', 'ag', 'again', 'against', 'age', 'aged', 'agencies', 'agency', 'agenda', 'agent', 'agents', 'ages', 'aggregate', 'aggressive', 'aging', 'ago', 'agree', 'agreed', 'agreement', 'agreements', 'agrees', 'agricultural', 'agriculture', 'ah', 'ahead', 'ai', 'aid', 'aids', 'aim', 'aimed', 'aims', 'air', 'aircraft', 'airfare', 'airline', 'airlines', 'airplane', 'airport', 'airports', 'aj', 'ak', 'aka', 'al', 'ala', 'alabama', 'alan', 'alarm', 'alaska', 'albania', 'albany', 'albert', 'alberta', 'album', 'albums', 'albuquerque', 'alcohol', 'alert', 'alerts', 'alex', 'alexander', 'alexandria', 'alfred', 'algebra', 'algeria', 'algorithm', 'algorithms', 'ali', 'alias', 'alice', 'alien', 'align', 'alignment', 'alike', 'alive', 'all', 'allah', 'allan', 'alleged', 'allen', 'allergy', 'alliance', 'allied', 'allocated', 'allocation', 'allow', 'allowance', 'allowed', 'allowing', 'allows', 'alloy', 'almost', 'alone', 'along', 'alot', 'alpha', 'alphabetical', 'alpine', 'already', 'also', 'alt', 'alter', 'altered', 'alternate', 'alternative', 'alternatively', 'alternatives', 'although', 'alto', 'aluminium', 'aluminum', 'alumni', 'always', 'am', 'amanda', 'amateur', 'amazing', 'amazon', 'amazoncom', 'amazoncouk', 'ambassador', 'amber', 'ambien', 'ambient', 'amd', 'amend', 'amended', 'amendment', 'amendments', 'amenities', 'america', 'american', 'americans', 'americas', 'amino', 'among', 'amongst', 'amount', 'amounts', 'amp', 'ampland', 'amplifier', 'amsterdam', 'amy', 'an', 'ana', 'anaheim', 'anal', 'analog', 'analyses', 'analysis', 'analyst', 'analysts', 'analytical', 'analyze', 'analyzed', 'anatomy', 'anchor', 'ancient', 'and', 'andale', 'anderson', 'andorra', 'andrea', 'andreas', 'andrew', 'andrews', 'andy', 'angel', 'angela', 'angeles', 'angels', 'anger', 'angle', 'angola', 'angry', 'animal', 'animals', 'animated', 'animation', 'anime', 'ann', 'anna', 'anne', 'annex', 'annie', 'anniversary', 'annotated', 'annotation', 'announce', 'announced', 'announcement', 'announcements', 'announces', 'annoying', 'annual', 'annually', 'anonymous', 'another', 'answer', 'answered', 'answering', 'answers', 'ant', 'antarctica', 'antenna', 'anthony', 'anthropology', 'anti', 'antibodies', 'antibody', 'anticipated', 'antigua', 'antique', 'antiques', 'antivirus', 'antonio', 'anxiety', 'any', 'anybody', 'anymore', 'anyone', 'anything', 'anytime', 'anyway', 'anywhere', 'aol', 'ap', 'apache', 'apart', 'apartment', 'apartments', 'api', 'apnic', 'apollo', 'app', 'apparatus', 'apparel', 'apparent', 'apparently', 'appeal', 'appeals', 'appear', 'appearance', 'appeared', 'appearing', 'appears', 'appendix', 'apple', 'appliance', 'appliances', 'applicable', 'applicant', 'applicants', 'application', 'applications', 'applied', 'applies', 'apply', 'applying', 'appointed', 'appointment', 'appointments', 'appraisal', 'appreciate', 'appreciated', 'appreciation', 'approach', 'approaches', 'appropriate', 'appropriations', 'approval', 'approve', 'approved', 'approx', 'approximate', 'approximately', 'apps', 'apr', 'april', 'apt', 'aqua', 'aquarium', 'aquatic', 'ar', 'arab', 'arabia', 'arabic', 'arbitrary', 'arbitration', 'arc', 'arcade', 'arch', 'architect', 'architects', 'architectural', 'architecture', 'archive', 'archived', 'archives', 'arctic', 'are', 'area', 'areas', 'arena', 'arg', 'argentina', 'argue', 'argued', 'argument', 'arguments', 'arise', 'arising', 'arizona', 'arkansas', 'arlington', 'arm', 'armed', 'armenia', 'armor', 'arms', 'armstrong', 'army', 'arnold', 'around', 'arrange', 'arranged', 'arrangement', 'arrangements', 'array', 'arrest', 'arrested', 'arrival', 'arrivals', 'arrive', 'arrived', 'arrives', 'arrow', 'art', 'arthritis', 'arthur', 'article', 'articles', 'artificial', 'artist', 'artistic', 'artists', 'arts', 'artwork', 'aruba', 'as', 'asbestos', 'ascii', 'ash', 'ashley', 'asia', 'asian', 'aside', 'asin', 'ask', 'asked', 'asking', 'asks', 'asn', 'asp', 'aspect', 'aspects', 'aspnet', 'ass', 'assault', 'assembled', 'assembly', 'assess', 'assessed', 'assessing', 'assessment', 'assessments', 'asset', 'assets', 'assign', 'assigned', 'assignment', 'assignments', 'assist', 'assistance', 'assistant', 'assisted', 'assists', 'associate', 'associated', 'associates', 'association', 'associations', 'assume', 'assumed', 'assumes', 'assuming', 'assumption', 'assumptions', 'assurance', 'assure', 'assured', 'asthma', 'astrology', 'astronomy', 'asus', 'at', 'ata', 'ate', 'athens', 'athletes', 'athletic', 'athletics', 'ati', 'atlanta', 'atlantic', 'atlas', 'atm', 'atmosphere', 'atmospheric', 'atom', 'atomic', 'attach', 'attached', 'attachment', 'attachments', 'attack', 'attacked', 'attacks', 'attempt', 'attempted', 'attempting', 'attempts', 'attend', 'attendance', 'attended', 'attending', 'attention', 'attitude', 'attitudes', 'attorney', 'attorneys', 'attract', 'attraction', 'attractions', 'attractive', 'attribute', 'attributes', 'au', 'auburn', 'auckland', 'auction', 'auctions', 'aud', 'audi', 'audience', 'audio', 'audit', 'auditor', 'aug', 'august', 'aurora', 'aus', 'austin', 'australia', 'australian', 'austria', 'authentic', 'authentication', 'author', 'authorities', 'authority', 'authorization', 'authorized', 'authors', 'auto', 'automated', 'automatic', 'automatically', 'automation', 'automobile', 'automobiles', 'automotive', 'autos', 'autumn', 'av', 'availability', 'available', 'avatar', 'ave', 'avenue', 'average', 'avg', 'avi', 'aviation', 'avoid', 'avoiding', 'avon', 'aw', 'award', 'awarded', 'awards', 'aware', 'awareness', 'away', 'awesome', 'awful', 'axis', 'aye', 'az', 'azerbaijan', 'b', 'ba', 'babe', 'babes', 'babies', 'baby', 'bachelor', 'back', 'backed', 'background', 'backgrounds', 'backing', 'backup', 'bacon', 'bacteria', 'bacterial', 'bad', 'badge', 'badly', 'bag', 'baghdad', 'bags', 'bahamas', 'bahrain', 'bailey', 'baker', 'baking', 'balance', 'balanced', 'bald', 'bali', 'ball', 'ballet', 'balloon', 'ballot', 'balls', 'baltimore', 'ban', 'banana', 'band', 'bands', 'bandwidth', 'bang', 'bangbus', 'bangkok', 'bangladesh', 'bank', 'banking', 'bankruptcy', 'banks', 'banned', 'banner', 'banners', 'baptist', 'bar', 'barbados', 'barbara', 'barbie', 'barcelona', 'bare', 'barely', 'bargain', 'bargains', 'barn', 'barnes', 'barrel', 'barrier', 'barriers', 'barry', 'bars', 'base', 'baseball', 'based', 'baseline', 'basement', 'basename', 'bases', 'basic', 'basically', 'basics', 'basin', 'basis', 'basket', 'basketball', 'baskets', 'bass', 'bat', 'batch', 'bath', 'bathroom', 'bathrooms', 'baths', 'batman', 'batteries', 'battery', 'battle', 'battlefield', 'bay', 'bb', 'bbc', 'bbs', 'bbw', 'bc', 'bd', 'bdsm', 'be', 'beach', 'beaches', 'beads', 'beam', 'bean', 'beans', 'bear', 'bearing', 'bears', 'beast', 'beastality', 'beastiality', 'beat', 'beatles', 'beats', 'beautiful', 'beautifully', 'beauty', 'beaver', 'became', 'because', 'become', 'becomes', 'becoming', 'bed', 'bedding', 'bedford', 'bedroom', 'bedrooms', 'beds', 'bee', 'beef', 'been', 'beer', 'before', 'began', 'begin', 'beginner', 'beginners', 'beginning', 'begins', 'begun', 'behalf', 'behavior', 'behavioral', 'behaviour', 'behind', 'beijing', 'being', 'beings', 'belarus', 'belfast', 'belgium', 'belief', 'beliefs', 'believe', 'believed', 'believes', 'belize', 'belkin', 'bell', 'belle', 'belly', 'belong', 'belongs', 'below', 'belt', 'belts', 'ben', 'bench', 'benchmark', 'bend', 'beneath', 'beneficial', 'benefit', 'benefits', 'benjamin', 'bennett', 'benz', 'berkeley', 'berlin', 'bermuda', 'bernard', 'berry', 'beside', 'besides', 'best', 'bestiality', 'bestsellers', 'bet', 'beta', 'beth', 'better', 'betting', 'betty', 'between', 'beverage', 'beverages', 'beverly', 'beyond', 'bg', 'bhutan', 'bi', 'bias', 'bible', 'biblical', 'bibliographic', 'bibliography', 'bicycle', 'bid', 'bidder', 'bidding', 'bids', 'big', 'bigger', 'biggest', 'bike', 'bikes', 'bikini', 'bill', 'billing', 'billion', 'bills', 'billy', 'bin', 'binary', 'bind', 'binding', 'bingo', 'bio', 'biodiversity', 'biographies', 'biography', 'biol', 'biological', 'biology', 'bios', 'biotechnology', 'bird', 'birds', 'birmingham', 'birth', 'birthday', 'bishop', 'bit', 'bitch', 'bite', 'bits', 'biz', 'bizarre', 'bizrate', 'bk', 'bl', 'black', 'blackberry', 'blackjack', 'blacks', 'blade', 'blades', 'blah', 'blair', 'blake', 'blame', 'blank', 'blanket', 'blast', 'bleeding', 'blend', 'bless', 'blessed', 'blind', 'blink', 'block', 'blocked', 'blocking', 'blocks', 'blog', 'blogger', 'bloggers', 'blogging', 'blogs', 'blond', 'blonde', 'blood', 'bloody', 'bloom', 'bloomberg', 'blow', 'blowing', 'blowjob', 'blowjobs', 'blue', 'blues', 'bluetooth', 'blvd', 'bm', 'bmw', 'bo', 'board', 'boards', 'boat', 'boating', 'boats', 'bob', 'bobby', 'boc', 'bodies', 'body', 'bold', 'bolivia', 'bolt', 'bomb', 'bon', 'bond', 'bondage', 'bonds', 'bone', 'bones', 'bonus', 'boob', 'boobs', 'book', 'booking', 'bookings', 'bookmark', 'bookmarks', 'books', 'bookstore', 'bool', 'boolean', 'boom', 'boost', 'boot', 'booth', 'boots', 'booty', 'border', 'borders', 'bored', 'boring', 'born', 'borough', 'bosnia', 'boss', 'boston', 'both', 'bother', 'botswana', 'bottle', 'bottles', 'bottom', 'bought', 'boulder', 'boulevard', 'bound', 'boundaries', 'boundary', 'bouquet', 'boutique', 'bow', 'bowl', 'bowling', 'box', 'boxed', 'boxes', 'boxing', 'boy', 'boys', 'bp', 'br', 'bra', 'bracelet', 'bracelets', 'bracket', 'brad', 'bradford', 'bradley', 'brain', 'brake', 'brakes', 'branch', 'branches', 'brand', 'brandon', 'brands', 'bras', 'brass', 'brave', 'brazil', 'brazilian', 'breach', 'bread', 'break', 'breakdown', 'breakfast', 'breaking', 'breaks', 'breast', 'breasts', 'breath', 'breathing', 'breed', 'breeding', 'breeds', 'brian', 'brick', 'bridal', 'bride', 'bridge', 'bridges', 'brief', 'briefing', 'briefly', 'briefs', 'bright', 'brighton', 'brilliant', 'bring', 'bringing', 'brings', 'brisbane', 'bristol', 'britain', 'britannica', 'british', 'britney', 'broad', 'broadband', 'broadcast', 'broadcasting', 'broader', 'broadway', 'brochure', 'brochures', 'broke', 'broken', 'broker', 'brokers', 'bronze', 'brook', 'brooklyn', 'brooks', 'bros', 'brother', 'brothers', 'brought', 'brown', 'browse', 'browser', 'browsers', 'browsing', 'bruce', 'brunei', 'brunette', 'brunswick', 'brush', 'brussels', 'brutal', 'bryan', 'bryant', 'bs', 'bt', 'bubble', 'buck', 'bucks', 'budapest', 'buddy', 'budget', 'budgets', 'buf', 'buffalo', 'buffer', 'bufing', 'bug', 'bugs', 'build', 'builder', 'builders', 'building', 'buildings', 'builds', 'built', 'bukkake', 'bulgaria', 'bulgarian', 'bulk', 'bull', 'bullet', 'bulletin', 'bumper', 'bunch', 'bundle', 'bunny', 'burden', 'bureau', 'buried', 'burke', 'burlington', 'burn', 'burner', 'burning', 'burns', 'burst', 'burton', 'bus', 'buses', 'bush', 'business', 'businesses', 'busty', 'busy', 'but', 'butler', 'butt', 'butter', 'butterfly', 'button', 'buttons', 'butts', 'buy', 'buyer', 'buyers', 'buying', 'buys', 'buzz', 'bw', 'by', 'bye', 'byte', 'bytes', 'c', 'ca', 'cab', 'cabin', 'cabinet', 'cabinets', 'cable', 'cables', 'cache', 'cached', 'cad', 'cadillac', 'cafe', 'cage', 'cake', 'cakes', 'cal', 'calcium', 'calculate', 'calculated', 'calculation', 'calculations', 'calculator', 'calculators', 'calendar', 'calendars', 'calgary', 'calibration', 'calif', 'california', 'call', 'called', 'calling', 'calls', 'calm', 'calvin', 'cam', 'cambodia', 'cambridge', 'camcorder', 'camcorders', 'came', 'camel', 'camera', 'cameras', 'cameron', 'cameroon', 'camp', 'campaign', 'campaigns', 'campbell', 'camping', 'camps', 'campus', 'cams', 'can', 'canada', 'canadian', 'canal', 'canberra', 'cancel', 'cancellation', 'cancelled', 'cancer', 'candidate', 'candidates', 'candle', 'candles', 'candy', 'cannon', 'canon', 'cant', 'canvas', 'canyon', 'cap', 'capabilities', 'capability', 'capable', 'capacity', 'cape', 'capital', 'capitol', 'caps', 'captain', 'capture', 'captured', 'car', 'carb', 'carbon', 'card', 'cardiac', 'cardiff', 'cardiovascular', 'cards', 'care', 'career', 'careers', 'careful', 'carefully', 'carey', 'cargo', 'caribbean', 'caring', 'carl', 'carlo', 'carlos', 'carmen', 'carnival', 'carol', 'carolina', 'caroline', 'carpet', 'carried', 'carrier', 'carriers', 'carries', 'carroll', 'carry', 'carrying', 'cars', 'cart', 'carter', 'cartoon', 'cartoons', 'cartridge', 'cartridges', 'cas', 'casa', 'case', 'cases', 'casey', 'cash', 'cashiers', 'casino', 'casinos', 'casio', 'cassette', 'cast', 'casting', 'castle', 'casual', 'cat', 'catalog', 'catalogs', 'catalogue', 'catalyst', 'catch', 'categories', 'category', 'catering', 'cathedral', 'catherine', 'catholic', 'cats', 'cattle', 'caught', 'cause', 'caused', 'causes', 'causing', 'caution', 'cave', 'cayman', 'cb', 'cbs', 'cc', 'ccd', 'cd', 'cdna', 'cds', 'cdt', 'ce', 'cedar', 'ceiling', 'celebrate', 'celebration', 'celebrities', 'celebrity', 'celebs', 'cell', 'cells', 'cellular', 'celtic', 'cement', 'cemetery', 'census', 'cent', 'center', 'centered', 'centers', 'central', 'centre', 'centres', 'cents', 'centuries', 'century', 'ceo', 'ceramic', 'ceremony', 'certain', 'certainly', 'certificate', 'certificates', 'certification', 'certified', 'cest', 'cet', 'cf', 'cfr', 'cg', 'cgi', 'ch', 'chad', 'chain', 'chains', 'chair', 'chairman', 'chairs', 'challenge', 'challenged', 'challenges', 'challenging', 'chamber', 'chambers', 'champagne', 'champion', 'champions', 'championship', 'championships', 'chan', 'chance', 'chancellor', 'chances', 'change', 'changed', 'changelog', 'changes', 'changing', 'channel', 'channels', 'chaos', 'chapel', 'chapter', 'chapters', 'char', 'character', 'characteristic', 'characteristics', 'characterization', 'characterized', 'characters', 'charge', 'charged', 'charger', 'chargers', 'charges', 'charging', 'charitable', 'charity', 'charles', 'charleston', 'charlie', 'charlotte', 'charm', 'charming', 'charms', 'chart', 'charter', 'charts', 'chase', 'chassis', 'chat', 'cheap', 'cheaper', 'cheapest', 'cheat', 'cheats', 'check', 'checked', 'checking', 'checklist', 'checkout', 'checks', 'cheers', 'cheese', 'chef', 'chelsea', 'chem', 'chemical', 'chemicals', 'chemistry', 'chen', 'cheque', 'cherry', 'chess', 'chest', 'chester', 'chevrolet', 'chevy', 'chi', 'chicago', 'chick', 'chicken', 'chicks', 'chief', 'child', 'childhood', 'children', 'childrens', 'chile', 'china', 'chinese', 'chip', 'chips', 'cho', 'chocolate', 'choice', 'choices', 'choir', 'cholesterol', 'choose', 'choosing', 'chorus', 'chose', 'chosen', 'chris', 'christ', 'christian', 'christianity', 'christians', 'christina', 'christine', 'christmas', 'christopher', 'chrome', 'chronic', 'chronicle', 'chronicles', 'chrysler', 'chubby', 'chuck', 'church', 'churches', 'ci', 'cia', 'cialis', 'ciao', 'cigarette', 'cigarettes', 'cincinnati', 'cindy', 'cinema', 'cingular', 'cio', 'cir', 'circle', 'circles', 'circuit', 'circuits', 'circular', 'circulation', 'circumstances', 'circus', 'cisco', 'citation', 'citations', 'cite', 'cited', 'cities', 'citizen', 'citizens', 'citizenship', 'city', 'citysearch', 'civic', 'civil', 'civilian', 'civilization', 'cj', 'cl', 'claim', 'claimed', 'claims', 'claire', 'clan', 'clara', 'clarity', 'clark', 'clarke', 'class', 'classes', 'classic', 'classical', 'classics', 'classification', 'classified', 'classifieds', 'classroom', 'clause', 'clay', 'clean', 'cleaner', 'cleaners', 'cleaning', 'cleanup', 'clear', 'clearance', 'cleared', 'clearing', 'clearly', 'clerk', 'cleveland', 'click', 'clicking', 'clicks', 'client', 'clients', 'cliff', 'climate', 'climb', 'climbing', 'clinic', 'clinical', 'clinics', 'clinton', 'clip', 'clips', 'clock', 'clocks', 'clone', 'close', 'closed', 'closely', 'closer', 'closes', 'closest', 'closing', 'closure', 'cloth', 'clothes', 'clothing', 'cloud', 'clouds', 'cloudy', 'club', 'clubs', 'cluster', 'clusters', 'cm', 'cms', 'cn', 'cnet', 'cnetcom', 'cnn', 'co', 'coach', 'coaches', 'coaching', 'coal', 'coalition', 'coast', 'coastal', 'coat', 'coated', 'coating', 'cock', 'cocks', 'cod', 'code', 'codes', 'coding', 'coffee', 'cognitive', 'cohen', 'coin', 'coins', 'col', 'cold', 'cole', 'coleman', 'colin', 'collaboration', 'collaborative', 'collapse', 'collar', 'colleague', 'colleagues', 'collect', 'collectables', 'collected', 'collectible', 'collectibles', 'collecting', 'collection', 'collections', 'collective', 'collector', 'collectors', 'college', 'colleges', 'collins', 'cologne', 'colombia', 'colon', 'colonial', 'colony', 'color', 'colorado', 'colored', 'colors', 'colour', 'colours', 'columbia', 'columbus', 'column', 'columnists', 'columns', 'com', 'combat', 'combination', 'combinations', 'combine', 'combined', 'combines', 'combining', 'combo', 'come', 'comedy', 'comes', 'comfort', 'comfortable', 'comic', 'comics', 'coming', 'comm', 'command', 'commander', 'commands', 'comment', 'commentary', 'commented', 'comments', 'commerce', 'commercial', 'commission', 'commissioner', 'commissioners', 'commissions', 'commit', 'commitment', 'commitments', 'committed', 'committee', 'committees', 'commodities', 'commodity', 'common', 'commonly', 'commons', 'commonwealth', 'communicate', 'communication', 'communications', 'communist', 'communities', 'community', 'comp', 'compact', 'companies', 'companion', 'company', 'compaq', 'comparable', 'comparative', 'compare', 'compared', 'comparing', 'comparison', 'comparisons', 'compatibility', 'compatible', 'compensation', 'compete', 'competent', 'competing', 'competition', 'competitions', 'competitive', 'competitors', 'compilation', 'compile', 'compiled', 'compiler', 'complaint', 'complaints', 'complement', 'complete', 'completed', 'completely', 'completing', 'completion', 'complex', 'complexity', 'compliance', 'compliant', 'complicated', 'complications', 'complimentary', 'comply', 'component', 'components', 'composed', 'composer', 'composite', 'composition', 'compound', 'compounds', 'comprehensive', 'compressed', 'compression', 'compromise', 'computation', 'computational', 'compute', 'computed', 'computer', 'computers', 'computing', 'con', 'concentrate', 'concentration', 'concentrations', 'concept', 'concepts', 'conceptual', 'concern', 'concerned', 'concerning', 'concerns', 'concert', 'concerts', 'conclude', 'concluded', 'conclusion', 'conclusions', 'concord', 'concrete', 'condition', 'conditional', 'conditioning', 'conditions', 'condo', 'condos', 'conduct', 'conducted', 'conducting', 'conf', 'conference', 'conferences', 'conferencing', 'confidence', 'confident', 'confidential', 'confidentiality', 'config', 'configuration', 'configure', 'configured', 'configuring', 'confirm', 'confirmation', 'confirmed', 'conflict', 'conflicts', 'confused', 'confusion', 'congo', 'congratulations', 'congress', 'congressional', 'conjunction', 'connect', 'connected', 'connecticut', 'connecting', 'connection', 'connections', 'connectivity', 'connector', 'connectors', 'cons', 'conscious', 'consciousness', 'consecutive', 'consensus', 'consent', 'consequence', 'consequences', 'consequently', 'conservation', 'conservative', 'consider', 'considerable', 'consideration', 'considerations', 'considered', 'considering', 'considers', 'consist', 'consistency', 'consistent', 'consistently', 'consisting', 'consists', 'console', 'consoles', 'consolidated', 'consolidation', 'consortium', 'conspiracy', 'const', 'constant', 'constantly', 'constitute', 'constitutes', 'constitution', 'constitutional', 'constraint', 'constraints', 'construct', 'constructed', 'construction', 'consult', 'consultancy', 'consultant', 'consultants', 'consultation', 'consulting', 'consumer', 'consumers', 'consumption', 'contact', 'contacted', 'contacting', 'contacts', 'contain', 'contained', 'container', 'containers', 'containing', 'contains', 'contamination', 'contemporary', 'content', 'contents', 'contest', 'contests', 'context', 'continent', 'continental', 'continually', 'continue', 'continued', 'continues', 'continuing', 'continuity', 'continuous', 'continuously', 'contract', 'contracting', 'contractor', 'contractors', 'contracts', 'contrary', 'contrast', 'contribute', 'contributed', 'contributing', 'contribution', 'contributions', 'contributor', 'contributors', 'control', 'controlled', 'controller', 'controllers', 'controlling', 'controls', 'controversial', 'controversy', 'convenience', 'convenient', 'convention', 'conventional', 'conventions', 'convergence', 'conversation', 'conversations', 'conversion', 'convert', 'converted', 'converter', 'convertible', 'convicted', 'conviction', 'convinced', 'cook', 'cookbook', 'cooked', 'cookie', 'cookies', 'cooking', 'cool', 'cooler', 'cooling', 'cooper', 'cooperation', 'cooperative', 'coordinate', 'coordinated', 'coordinates', 'coordination', 'coordinator', 'cop', 'cope', 'copied', 'copies', 'copper', 'copy', 'copying', 'copyright', 'copyrighted', 'copyrights', 'coral', 'cord', 'cordless', 'core', 'cork', 'corn', 'cornell', 'corner', 'corners', 'cornwall', 'corp', 'corporate', 'corporation', 'corporations', 'corps', 'corpus', 'correct', 'corrected', 'correction', 'corrections', 'correctly', 'correlation', 'correspondence', 'corresponding', 'corruption', 'cos', 'cosmetic', 'cosmetics', 'cost', 'costa', 'costs', 'costume', 'costumes', 'cottage', 'cottages', 'cotton', 'could', 'council', 'councils', 'counsel', 'counseling', 'count', 'counted', 'counter', 'counters', 'counties', 'counting', 'countries', 'country', 'counts', 'county', 'couple', 'coupled', 'couples', 'coupon', 'coupons', 'courage', 'courier', 'course', 'courses', 'court', 'courtesy', 'courts', 'cove', 'cover', 'coverage', 'covered', 'covering', 'covers', 'cow', 'cowboy', 'cox', 'cp', 'cpu', 'cr', 'crack', 'cradle', 'craft', 'crafts', 'craig', 'crap', 'craps', 'crash', 'crawford', 'crazy', 'cream', 'create', 'created', 'creates', 'creating', 'creation', 'creations', 'creative', 'creativity', 'creator', 'creature', 'creatures', 'credit', 'credits', 'creek', 'crest', 'crew', 'cricket', 'crime', 'crimes', 'criminal', 'crisis', 'criteria', 'criterion', 'critical', 'criticism', 'critics', 'crm', 'croatia', 'crop', 'crops', 'cross', 'crossing', 'crossword', 'crowd', 'crown', 'crucial', 'crude', 'cruise', 'cruises', 'cruz', 'cry', 'crystal', 'cs', 'css', 'cst', 'ct', 'cu', 'cuba', 'cube', 'cubic', 'cuisine', 'cult', 'cultural', 'culture', 'cultures', 'cum', 'cumshot', 'cumshots', 'cumulative', 'cunt', 'cup', 'cups', 'cure', 'curious', 'currencies', 'currency', 'current', 'currently', 'curriculum', 'cursor', 'curtis', 'curve', 'curves', 'custody', 'custom', 'customer', 'customers', 'customise', 'customize', 'customized', 'customs', 'cut', 'cute', 'cuts', 'cutting', 'cv', 'cvs', 'cw', 'cyber', 'cycle', 'cycles', 'cycling', 'cylinder', 'cyprus', 'cz', 'czech', 'd', 'da', 'dad', 'daddy', 'daily', 'dairy', 'daisy', 'dakota', 'dale', 'dallas', 'dam', 'damage', 'damaged', 'damages', 'dame', 'damn', 'dan', 'dana', 'dance', 'dancing', 'danger', 'dangerous', 'daniel', 'danish', 'danny', 'dans', 'dare', 'dark', 'darkness', 'darwin', 'das', 'dash', 'dat', 'data', 'database', 'databases', 'date', 'dated', 'dates', 'dating', 'daughter', 'daughters', 'dave', 'david', 'davidson', 'davis', 'dawn', 'day', 'days', 'dayton', 'db', 'dc', 'dd', 'ddr', 'de', 'dead', 'deadline', 'deadly', 'deaf', 'deal', 'dealer', 'dealers', 'dealing', 'deals', 'dealt', 'dealtime', 'dean', 'dear', 'death', 'deaths', 'debate', 'debian', 'deborah', 'debt', 'debug', 'debut', 'dec', 'decade', 'decades', 'december', 'decent', 'decide', 'decided', 'decimal', 'decision', 'decisions', 'deck', 'declaration', 'declare', 'declared', 'decline', 'declined', 'decor', 'decorating', 'decorative', 'decrease', 'decreased', 'dedicated', 'dee', 'deemed', 'deep', 'deeper', 'deeply', 'deer', 'def', 'default', 'defeat', 'defects', 'defence', 'defend', 'defendant', 'defense', 'defensive', 'deferred', 'deficit', 'define', 'defined', 'defines', 'defining', 'definitely', 'definition', 'definitions', 'degree', 'degrees', 'del', 'delaware', 'delay', 'delayed', 'delays', 'delegation', 'delete', 'deleted', 'delhi', 'delicious', 'delight', 'deliver', 'delivered', 'delivering', 'delivers', 'delivery', 'dell', 'delta', 'deluxe', 'dem', 'demand', 'demanding', 'demands', 'demo', 'democracy', 'democrat', 'democratic', 'democrats', 'demographic', 'demonstrate', 'demonstrated', 'demonstrates', 'demonstration', 'den', 'denial', 'denied', 'denmark', 'dennis', 'dense', 'density', 'dental', 'dentists', 'denver', 'deny', 'department', 'departmental', 'departments', 'departure', 'depend', 'dependence', 'dependent', 'depending', 'depends', 'deployment', 'deposit', 'deposits', 'depot', 'depression', 'dept', 'depth', 'deputy', 'der', 'derby', 'derek', 'derived', 'des', 'descending', 'describe', 'described', 'describes', 'describing', 'description', 'descriptions', 'desert', 'deserve', 'design', 'designated', 'designation', 'designed', 'designer', 'designers', 'designing', 'designs', 'desirable', 'desire', 'desired', 'desk', 'desktop', 'desktops', 'desperate', 'despite', 'destination', 'destinations', 'destiny', 'destroy', 'destroyed', 'destruction', 'detail', 'detailed', 'details', 'detect', 'detected', 'detection', 'detective', 'detector', 'determination', 'determine', 'determined', 'determines', 'determining', 'detroit', 'deutsch', 'deutsche', 'deutschland', 'dev', 'devel', 'develop', 'developed', 'developer', 'developers', 'developing', 'development', 'developmental', 'developments', 'develops', 'deviant', 'deviation', 'device', 'devices', 'devil', 'devon', 'devoted', 'df', 'dg', 'dh', 'di', 'diabetes', 'diagnosis', 'diagnostic', 'diagram', 'dial', 'dialog', 'dialogue', 'diameter', 'diamond', 'diamonds', 'diana', 'diane', 'diary', 'dice', 'dick', 'dicke', 'dicks', 'dictionaries', 'dictionary', 'did', 'die', 'died', 'diego', 'dies', 'diesel', 'diet', 'dietary', 'diff', 'differ', 'difference', 'differences', 'different', 'differential', 'differently', 'difficult', 'difficulties', 'difficulty', 'diffs', 'dig', 'digest', 'digit', 'digital', 'dildo', 'dildos', 'dim', 'dimension', 'dimensional', 'dimensions', 'dining', 'dinner', 'dip', 'diploma', 'dir', 'direct', 'directed', 'direction', 'directions', 'directive', 'directly', 'director', 'directories', 'directors', 'directory', 'dirt', 'dirty', 'dis', 'disabilities', 'disability', 'disable', 'disabled', 'disagree', 'disappointed', 'disaster', 'disc', 'discharge', 'disciplinary', 'discipline', 'disciplines', 'disclaimer', 'disclaimers', 'disclose', 'disclosure', 'disco', 'discount', 'discounted', 'discounts', 'discover', 'discovered', 'discovery', 'discrete', 'discretion', 'discrimination', 'discs', 'discuss', 'discussed', 'discusses', 'discussing', 'discussion', 'discussions', 'disease', 'diseases', 'dish', 'dishes', 'disk', 'disks', 'disney', 'disorder', 'disorders', 'dispatch', 'dispatched', 'display', 'displayed', 'displaying', 'displays', 'disposal', 'disposition', 'dispute', 'disputes', 'dist', 'distance', 'distances', 'distant', 'distinct', 'distinction', 'distinguished', 'distribute', 'distributed', 'distribution', 'distributions', 'distributor', 'distributors', 'district', 'districts', 'disturbed', 'div', 'dive', 'diverse', 'diversity', 'divide', 'divided', 'dividend', 'divine', 'diving', 'division', 'divisions', 'divorce', 'divx', 'diy', 'dj', 'dk', 'dl', 'dm', 'dna', 'dns', 'do', 'doc', 'dock', 'docs', 'doctor', 'doctors', 'doctrine', 'document', 'documentary', 'documentation', 'documentcreatetextnode', 'documented', 'documents', 'dod', 'dodge', 'doe', 'does', 'dog', 'dogs', 'doing', 'doll', 'dollar', 'dollars', 'dolls', 'dom', 'domain', 'domains', 'dome', 'domestic', 'dominant', 'dominican', 'don', 'donald', 'donate', 'donated', 'donation', 'donations', 'done', 'donna', 'donor', 'donors', 'dont', 'doom', 'door', 'doors', 'dos', 'dosage', 'dose', 'dot', 'double', 'doubt', 'doug', 'douglas', 'dover', 'dow', 'down', 'download', 'downloadable', 'downloadcom', 'downloaded', 'downloading', 'downloads', 'downtown', 'dozen', 'dozens', 'dp', 'dpi', 'dr', 'draft', 'drag', 'dragon', 'drain', 'drainage', 'drama', 'dramatic', 'dramatically', 'draw', 'drawing', 'drawings', 'drawn', 'draws', 'dream', 'dreams', 'dress', 'dressed', 'dresses', 'dressing', 'drew', 'dried', 'drill', 'drilling', 'drink', 'drinking', 'drinks', 'drive', 'driven', 'driver', 'drivers', 'drives', 'driving', 'drop', 'dropped', 'drops', 'drove', 'drug', 'drugs', 'drum', 'drums', 'drunk', 'dry', 'dryer', 'ds', 'dsc', 'dsl', 'dt', 'dts', 'du', 'dual', 'dubai', 'dublin', 'duck', 'dude', 'due', 'dui', 'duke', 'dumb', 'dump', 'duncan', 'duo', 'duplicate', 'durable', 'duration', 'durham', 'during', 'dust', 'dutch', 'duties', 'duty', 'dv', 'dvd', 'dvds', 'dx', 'dying', 'dylan', 'dynamic', 'dynamics', 'e', 'ea', 'each', 'eagle', 'eagles', 'ear', 'earl', 'earlier', 'earliest', 'early', 'earn', 'earned', 'earning', 'earnings', 'earrings', 'ears', 'earth', 'earthquake', 'ease', 'easier', 'easily', 'east', 'easter', 'eastern', 'easy', 'eat', 'eating', 'eau', 'ebay', 'ebony', 'ebook', 'ebooks', 'ec', 'echo', 'eclipse', 'eco', 'ecological', 'ecology', 'ecommerce', 'economic', 'economics', 'economies', 'economy', 'ecuador', 'ed', 'eddie', 'eden', 'edgar', 'edge', 'edges', 'edinburgh', 'edit', 'edited', 'editing', 'edition', 'editions', 'editor', 'editorial', 'editorials', 'editors', 'edmonton', 'eds', 'edt', 'educated', 'education', 'educational', 'educators', 'edward', 'edwards', 'ee', 'ef', 'effect', 'effective', 'effectively', 'effectiveness', 'effects', 'efficiency', 'efficient', 'efficiently', 'effort', 'efforts', 'eg', 'egg', 'eggs', 'egypt', 'egyptian', 'eh', 'eight', 'either', 'ejaculation', 'el', 'elder', 'elderly', 'elect', 'elected', 'election', 'elections', 'electoral', 'electric', 'electrical', 'electricity', 'electro', 'electron', 'electronic', 'electronics', 'elegant', 'element', 'elementary', 'elements', 'elephant', 'elevation', 'eleven', 'eligibility', 'eligible', 'eliminate', 'elimination', 'elite', 'elizabeth', 'ellen', 'elliott', 'ellis', 'else', 'elsewhere', 'elvis', 'em', 'emacs', 'email', 'emails', 'embassy', 'embedded', 'emerald', 'emergency', 'emerging', 'emily', 'eminem', 'emirates', 'emission', 'emissions', 'emma', 'emotional', 'emotions', 'emperor', 'emphasis', 'empire', 'empirical', 'employ', 'employed', 'employee', 'employees', 'employer', 'employers', 'employment', 'empty', 'en', 'enable', 'enabled', 'enables', 'enabling', 'enb', 'enclosed', 'enclosure', 'encoding', 'encounter', 'encountered', 'encourage', 'encouraged', 'encourages', 'encouraging', 'encryption', 'encyclopedia', 'end', 'endangered', 'ended', 'endif', 'ending', 'endless', 'endorsed', 'endorsement', 'ends', 'enemies', 'enemy', 'energy', 'enforcement', 'eng', 'engage', 'engaged', 'engagement', 'engaging', 'engine', 'engineer', 'engineering', 'engineers', 'engines', 'england', 'english', 'enhance', 'enhanced', 'enhancement', 'enhancements', 'enhancing', 'enjoy', 'enjoyed', 'enjoying', 'enlarge', 'enlargement', 'enormous', 'enough', 'enquiries', 'enquiry', 'enrolled', 'enrollment', 'ensemble', 'ensure', 'ensures', 'ensuring', 'ent', 'enter', 'entered', 'entering', 'enterprise', 'enterprises', 'enters', 'entertaining', 'entertainment', 'entire', 'entirely', 'entities', 'entitled', 'entity', 'entrance', 'entrepreneur', 'entrepreneurs', 'entries', 'entry', 'envelope', 'environment', 'environmental', 'environments', 'enzyme', 'eos', 'ep', 'epa', 'epic', 'epinions', 'epinionscom', 'episode', 'episodes', 'epson', 'eq', 'equal', 'equality', 'equally', 'equation', 'equations', 'equilibrium', 'equipment', 'equipped', 'equity', 'equivalent', 'er', 'era', 'eric', 'ericsson', 'erik', 'erotic', 'erotica', 'erp', 'error', 'errors', 'es', 'escape', 'escort', 'escorts', 'especially', 'espn', 'essay', 'essays', 'essence', 'essential', 'essentially', 'essentials', 'essex', 'est', 'establish', 'established', 'establishing', 'establishment', 'estate', 'estates', 'estimate', 'estimated', 'estimates', 'estimation', 'estonia', 'et', 'etc', 'eternal', 'ethernet', 'ethical', 'ethics', 'ethiopia', 'ethnic', 'eu', 'eugene', 'eur', 'euro', 'europe', 'european', 'euros', 'ev', 'eva', 'eval', 'evaluate', 'evaluated', 'evaluating', 'evaluation', 'evaluations', 'evanescence', 'evans', 'eve', 'even', 'evening', 'event', 'events', 'eventually', 'ever', 'every', 'everybody', 'everyday', 'everyone', 'everything', 'everywhere', 'evidence', 'evident', 'evil', 'evolution', 'ex', 'exact', 'exactly', 'exam', 'examination', 'examinations', 'examine', 'examined', 'examines', 'examining', 'example', 'examples', 'exams', 'exceed', 'excel', 'excellence', 'excellent', 'except', 'exception', 'exceptional', 'exceptions', 'excerpt', 'excess', 'excessive', 'exchange', 'exchanges', 'excited', 'excitement', 'exciting', 'exclude', 'excluded', 'excluding', 'exclusion', 'exclusive', 'exclusively', 'excuse', 'exec', 'execute', 'executed', 'execution', 'executive', 'executives', 'exempt', 'exemption', 'exercise', 'exercises', 'exhaust', 'exhibit', 'exhibition', 'exhibitions', 'exhibits', 'exist', 'existed', 'existence', 'existing', 'exists', 'exit', 'exotic', 'exp', 'expand', 'expanded', 'expanding', 'expansion', 'expansys', 'expect', 'expectations', 'expected', 'expects', 'expedia', 'expenditure', 'expenditures', 'expense', 'expenses', 'expensive', 'experience', 'experienced', 'experiences', 'experiencing', 'experiment', 'experimental', 'experiments', 'expert', 'expertise', 'experts', 'expiration', 'expired', 'expires', 'explain', 'explained', 'explaining', 'explains', 'explanation', 'explicit', 'explicitly', 'exploration', 'explore', 'explorer', 'exploring', 'explosion', 'expo', 'export', 'exports', 'exposed', 'exposure', 'express', 'expressed', 'expression', 'expressions', 'ext', 'extend', 'extended', 'extending', 'extends', 'extension', 'extensions', 'extensive', 'extent', 'exterior', 'external', 'extra', 'extract', 'extraction', 'extraordinary', 'extras', 'extreme', 'extremely', 'eye', 'eyed', 'eyes', 'ez', 'f', 'fa', 'fabric', 'fabrics', 'fabulous', 'face', 'faced', 'faces', 'facial', 'facilitate', 'facilities', 'facility', 'facing', 'fact', 'factor', 'factors', 'factory', 'facts', 'faculty', 'fail', 'failed', 'failing', 'fails', 'failure', 'failures', 'fair', 'fairfield', 'fairly', 'fairy', 'faith', 'fake', 'fall', 'fallen', 'falling', 'falls', 'false', 'fame', 'familiar', 'families', 'family', 'famous', 'fan', 'fancy', 'fans', 'fantastic', 'fantasy', 'faq', 'faqs', 'far', 'fare', 'fares', 'farm', 'farmer', 'farmers', 'farming', 'farms', 'fascinating', 'fashion', 'fast', 'faster', 'fastest', 'fat', 'fatal', 'fate', 'father', 'fathers', 'fatty', 'fault', 'favor', 'favorite', 'favorites', 'favors', 'favour', 'favourite', 'favourites', 'fax', 'fbi', 'fc', 'fcc', 'fd', 'fda', 'fe', 'fear', 'fears', 'feat', 'feature', 'featured', 'features', 'featuring', 'feb', 'february', 'fed', 'federal', 'federation', 'fee', 'feed', 'feedback', 'feeding', 'feeds', 'feel', 'feeling', 'feelings', 'feels', 'fees', 'feet', 'fell', 'fellow', 'fellowship', 'felt', 'female', 'females', 'fence', 'feof', 'ferrari', 'ferry', 'festival', 'festivals', 'fetish', 'fever', 'few', 'fewer', 'ff', 'fg', 'fi', 'fiber', 'fibre', 'fiction', 'field', 'fields', 'fifteen', 'fifth', 'fifty', 'fig', 'fight', 'fighter', 'fighters', 'fighting', 'figure', 'figured', 'figures', 'fiji', 'file', 'filed', 'filename', 'files', 'filing', 'fill', 'filled', 'filling', 'film', 'filme', 'films', 'filter', 'filtering', 'filters', 'fin', 'final', 'finally', 'finals', 'finance', 'finances', 'financial', 'financing', 'find', 'findarticles', 'finder', 'finding', 'findings', 'findlaw', 'finds', 'fine', 'finest', 'finger', 'fingering', 'fingers', 'finish', 'finished', 'finishing', 'finite', 'finland', 'finnish', 'fioricet', 'fire', 'fired', 'firefox', 'fireplace', 'fires', 'firewall', 'firewire', 'firm', 'firms', 'firmware', 'first', 'fiscal', 'fish', 'fisher', 'fisheries', 'fishing', 'fist', 'fisting', 'fit', 'fitness', 'fits', 'fitted', 'fitting', 'five', 'fix', 'fixed', 'fixes', 'fixtures', 'fl', 'fla', 'flag', 'flags', 'flame', 'flash', 'flashers', 'flashing', 'flat', 'flavor', 'fleece', 'fleet', 'flesh', 'flex', 'flexibility', 'flexible', 'flickr', 'flight', 'flights', 'flip', 'float', 'floating', 'flood', 'floor', 'flooring', 'floors', 'floppy', 'floral', 'florence', 'florida', 'florist', 'florists', 'flour', 'flow', 'flower', 'flowers', 'flows', 'floyd', 'flu', 'fluid', 'flush', 'flux', 'fly', 'flyer', 'flying', 'fm', 'fo', 'foam', 'focal', 'focus', 'focused', 'focuses', 'focusing', 'fog', 'fold', 'folder', 'folders', 'folding', 'folk', 'folks', 'follow', 'followed', 'following', 'follows', 'font', 'fonts', 'foo', 'food', 'foods', 'fool', 'foot', 'footage', 'football', 'footwear', 'for', 'forbes', 'forbidden', 'force', 'forced', 'forces', 'ford', 'forecast', 'forecasts', 'foreign', 'forest', 'forestry', 'forests', 'forever', 'forge', 'forget', 'forgot', 'forgotten', 'fork', 'form', 'formal', 'format', 'formation', 'formats', 'formatting', 'formed', 'former', 'formerly', 'forming', 'forms', 'formula', 'fort', 'forth', 'fortune', 'forty', 'forum', 'forums', 'forward', 'forwarding', 'fossil', 'foster', 'foto', 'fotos', 'fought', 'foul', 'found', 'foundation', 'foundations', 'founded', 'founder', 'fountain', 'four', 'fourth', 'fox', 'fp', 'fr', 'fraction', 'fragrance', 'fragrances', 'frame', 'framed', 'frames', 'framework', 'framing', 'france', 'franchise', 'francis', 'francisco', 'frank', 'frankfurt', 'franklin', 'fraser', 'fraud', 'fred', 'frederick', 'free', 'freebsd', 'freedom', 'freelance', 'freely', 'freeware', 'freeze', 'freight', 'french', 'frequencies', 'frequency', 'frequent', 'frequently', 'fresh', 'fri', 'friday', 'fridge', 'friend', 'friendly', 'friends', 'friendship', 'frog', 'from', 'front', 'frontier', 'frontpage', 'frost', 'frozen', 'fruit', 'fruits', 'fs', 'ft', 'ftp', 'fu', 'fuck', 'fucked', 'fucking', 'fuel', 'fuji', 'fujitsu', 'full', 'fully', 'fun', 'function', 'functional', 'functionality', 'functioning', 'functions', 'fund', 'fundamental', 'fundamentals', 'funded', 'funding', 'fundraising', 'funds', 'funeral', 'funk', 'funky', 'funny', 'fur', 'furnished', 'furnishings', 'furniture', 'further', 'furthermore', 'fusion', 'future', 'futures', 'fuzzy', 'fw', 'fwd', 'fx', 'fy', 'g', 'ga', 'gabriel', 'gadgets', 'gage', 'gain', 'gained', 'gains', 'galaxy', 'gale', 'galleries', 'gallery', 'gambling', 'game', 'gamecube', 'games', 'gamespot', 'gaming', 'gamma', 'gang', 'gangbang', 'gap', 'gaps', 'garage', 'garbage', 'garcia', 'garden', 'gardening', 'gardens', 'garlic', 'garmin', 'gary', 'gas', 'gasoline', 'gate', 'gates', 'gateway', 'gather', 'gathered', 'gathering', 'gauge', 'gave', 'gay', 'gays', 'gazette', 'gb', 'gba', 'gbp', 'gc', 'gcc', 'gd', 'gdp', 'ge', 'gear', 'geek', 'gel', 'gem', 'gen', 'gender', 'gene', 'genealogy', 'general', 'generally', 'generate', 'generated', 'generates', 'generating', 'generation', 'generations', 'generator', 'generators', 'generic', 'generous', 'genes', 'genesis', 'genetic', 'genetics', 'geneva', 'genius', 'genome', 'genre', 'genres', 'gentle', 'gentleman', 'gently', 'genuine', 'geo', 'geographic', 'geographical', 'geography', 'geological', 'geology', 'geometry', 'george', 'georgia', 'gerald', 'german', 'germany', 'get', 'gets', 'getting', 'gg', 'ghana', 'ghost', 'ghz', 'gi', 'giant', 'giants', 'gibraltar', 'gibson', 'gif', 'gift', 'gifts', 'gig', 'gilbert', 'girl', 'girlfriend', 'girls', 'gis', 'give', 'given', 'gives', 'giving', 'gl', 'glad', 'glance', 'glasgow', 'glass', 'glasses', 'glen', 'glenn', 'global', 'globe', 'glory', 'glossary', 'gloves', 'glow', 'glucose', 'gm', 'gmbh', 'gmc', 'gmt', 'gnome', 'gnu', 'go', 'goal', 'goals', 'goat', 'god', 'gods', 'goes', 'going', 'gold', 'golden', 'golf', 'gone', 'gonna', 'good', 'goods', 'google', 'gordon', 'gore', 'gorgeous', 'gospel', 'gossip', 'got', 'gothic', 'goto', 'gotta', 'gotten', 'gourmet', 'gov', 'governance', 'governing', 'government', 'governmental', 'governments', 'governor', 'govt', 'gp', 'gpl', 'gps', 'gr', 'grab', 'grace', 'grad', 'grade', 'grades', 'gradually', 'graduate', 'graduated', 'graduates', 'graduation', 'graham', 'grain', 'grammar', 'grams', 'grand', 'grande', 'granny', 'grant', 'granted', 'grants', 'graph', 'graphic', 'graphical', 'graphics', 'graphs', 'gras', 'grass', 'grateful', 'gratis', 'gratuit', 'grave', 'gravity', 'gray', 'great', 'greater', 'greatest', 'greatly', 'greece', 'greek', 'green', 'greene', 'greenhouse', 'greensboro', 'greeting', 'greetings', 'greg', 'gregory', 'grenada', 'grew', 'grey', 'grid', 'griffin', 'grill', 'grip', 'grocery', 'groove', 'gross', 'ground', 'grounds', 'groundwater', 'group', 'groups', 'grove', 'grow', 'growing', 'grown', 'grows', 'growth', 'gs', 'gsm', 'gst', 'gt', 'gtk', 'guam', 'guarantee', 'guaranteed', 'guarantees', 'guard', 'guardian', 'guards', 'guatemala', 'guess', 'guest', 'guestbook', 'guests', 'gui', 'guidance', 'guide', 'guided', 'guidelines', 'guides', 'guild', 'guilty', 'guinea', 'guitar', 'guitars', 'gulf', 'gun', 'guns', 'guru', 'guy', 'guyana', 'guys', 'gym', 'gzip', 'h', 'ha', 'habitat', 'habits', 'hack', 'hacker', 'had', 'hair', 'hairy', 'haiti', 'half', 'halfcom', 'halifax', 'hall', 'halloween', 'halo', 'ham', 'hamburg', 'hamilton', 'hammer', 'hampshire', 'hampton', 'hand', 'handbags', 'handbook', 'handed', 'handheld', 'handhelds', 'handjob', 'handjobs', 'handle', 'handled', 'handles', 'handling', 'handmade', 'hands', 'handy', 'hang', 'hanging', 'hans', 'hansen', 'happen', 'happened', 'happening', 'happens', 'happiness', 'happy', 'harassment', 'harbor', 'harbour', 'hard', 'hardcore', 'hardcover', 'harder', 'hardly', 'hardware', 'hardwood', 'harley', 'harm', 'harmful', 'harmony', 'harold', 'harper', 'harris', 'harrison', 'harry', 'hart', 'hartford', 'harvard', 'harvest', 'harvey', 'has', 'hash', 'hat', 'hate', 'hats', 'have', 'haven', 'having', 'hawaii', 'hawaiian', 'hawk', 'hay', 'hayes', 'hazard', 'hazardous', 'hazards', 'hb', 'hc', 'hd', 'hdtv', 'he', 'head', 'headed', 'header', 'headers', 'heading', 'headline', 'headlines', 'headphones', 'headquarters', 'heads', 'headset', 'healing', 'health', 'healthcare', 'healthy', 'hear', 'heard', 'hearing', 'hearings', 'heart', 'hearts', 'heat', 'heated', 'heater', 'heath', 'heather', 'heating', 'heaven', 'heavily', 'heavy', 'hebrew', 'heel', 'height', 'heights', 'held', 'helen', 'helena', 'helicopter', 'hell', 'hello', 'helmet', 'help', 'helped', 'helpful', 'helping', 'helps', 'hence', 'henderson', 'henry', 'hentai', 'hepatitis', 'her', 'herald', 'herb', 'herbal', 'herbs', 'here', 'hereby', 'herein', 'heritage', 'hero', 'heroes', 'herself', 'hewlett', 'hey', 'hh', 'hi', 'hidden', 'hide', 'hierarchy', 'high', 'higher', 'highest', 'highland', 'highlight', 'highlighted', 'highlights', 'highly', 'highs', 'highway', 'highways', 'hiking', 'hill', 'hills', 'hilton', 'him', 'himself', 'hindu', 'hint', 'hints', 'hip', 'hire', 'hired', 'hiring', 'his', 'hispanic', 'hist', 'historic', 'historical', 'history', 'hit', 'hitachi', 'hits', 'hitting', 'hiv', 'hk', 'hl', 'ho', 'hobbies', 'hobby', 'hockey', 'hold', 'holdem', 'holder', 'holders', 'holding', 'holdings', 'holds', 'hole', 'holes', 'holiday', 'holidays', 'holland', 'hollow', 'holly', 'hollywood', 'holmes', 'holocaust', 'holy', 'home', 'homeland', 'homeless', 'homepage', 'homes', 'hometown', 'homework', 'hon', 'honda', 'honduras', 'honest', 'honey', 'hong', 'honolulu', 'honor', 'honors', 'hood', 'hook', 'hop', 'hope', 'hoped', 'hopefully', 'hopes', 'hoping', 'hopkins', 'horizon', 'horizontal', 'hormone', 'horn', 'horny', 'horrible', 'horror', 'horse', 'horses', 'hose', 'hospital', 'hospitality', 'hospitals', 'host', 'hosted', 'hostel', 'hostels', 'hosting', 'hosts', 'hot', 'hotel', 'hotels', 'hotelscom', 'hotmail', 'hottest', 'hour', 'hourly', 'hours', 'house', 'household', 'households', 'houses', 'housewares', 'housewives', 'housing', 'houston', 'how', 'howard', 'however', 'howto', 'hp', 'hq', 'hr', 'href', 'hrs', 'hs', 'ht', 'html', 'http', 'hu', 'hub', 'hudson', 'huge', 'hugh', 'hughes', 'hugo', 'hull', 'human', 'humanitarian', 'humanities', 'humanity', 'humans', 'humidity', 'humor', 'hundred', 'hundreds', 'hung', 'hungarian', 'hungary', 'hunger', 'hungry', 'hunt', 'hunter', 'hunting', 'huntington', 'hurricane', 'hurt', 'husband', 'hwy', 'hybrid', 'hydraulic', 'hydrocodone', 'hydrogen', 'hygiene', 'hypothesis', 'hypothetical', 'hyundai', 'hz', 'i', 'ia', 'ian', 'ibm', 'ic', 'ice', 'iceland', 'icon', 'icons', 'icq', 'ict', 'id', 'idaho', 'ide', 'idea', 'ideal', 'ideas', 'identical', 'identification', 'identified', 'identifier', 'identifies', 'identify', 'identifying', 'identity', 'idle', 'idol', 'ids', 'ie', 'ieee', 'if', 'ignore', 'ignored', 'ii', 'iii', 'il', 'ill', 'illegal', 'illinois', 'illness', 'illustrated', 'illustration', 'illustrations', 'im', 'ima', 'image', 'images', 'imagination', 'imagine', 'imaging', 'img', 'immediate', 'immediately', 'immigrants', 'immigration', 'immune', 'immunology', 'impact', 'impacts', 'impaired', 'imperial', 'implement', 'implementation', 'implemented', 'implementing', 'implications', 'implied', 'implies', 'import', 'importance', 'important', 'importantly', 'imported', 'imports', 'impose', 'imposed', 'impossible', 'impressed', 'impression', 'impressive', 'improve', 'improved', 'improvement', 'improvements', 'improving', 'in', 'inappropriate', 'inbox', 'inc', 'incentive', 'incentives', 'incest', 'inch', 'inches', 'incidence', 'incident', 'incidents', 'incl', 'include', 'included', 'includes', 'including', 'inclusion', 'inclusive', 'income', 'incoming', 'incomplete', 'incorporate', 'incorporated', 'incorrect', 'increase', 'increased', 'increases', 'increasing', 'increasingly', 'incredible', 'incurred', 'ind', 'indeed', 'independence', 'independent', 'independently', 'index', 'indexed', 'indexes', 'india', 'indian', 'indiana', 'indianapolis', 'indians', 'indicate', 'indicated', 'indicates', 'indicating', 'indication', 'indicator', 'indicators', 'indices', 'indie', 'indigenous', 'indirect', 'individual', 'individually', 'individuals', 'indonesia', 'indonesian', 'indoor', 'induced', 'induction', 'industrial', 'industries', 'industry', 'inexpensive', 'inf', 'infant', 'infants', 'infected', 'infection', 'infections', 'infectious', 'infinite', 'inflation', 'influence', 'influenced', 'influences', 'info', 'inform', 'informal', 'information', 'informational', 'informative', 'informed', 'infrared', 'infrastructure', 'ing', 'ingredients', 'inherited', 'initial', 'initially', 'initiated', 'initiative', 'initiatives', 'injection', 'injured', 'injuries', 'injury', 'ink', 'inkjet', 'inline', 'inn', 'inner', 'innocent', 'innovation', 'innovations', 'innovative', 'inns', 'input', 'inputs', 'inquire', 'inquiries', 'inquiry', 'ins', 'insects', 'insert', 'inserted', 'insertion', 'inside', 'insider', 'insight', 'insights', 'inspection', 'inspections', 'inspector', 'inspiration', 'inspired', 'install', 'installation', 'installations', 'installed', 'installing', 'instance', 'instances', 'instant', 'instantly', 'instead', 'institute', 'institutes', 'institution', 'institutional', 'institutions', 'instruction', 'instructional', 'instructions', 'instructor', 'instructors', 'instrument', 'instrumental', 'instrumentation', 'instruments', 'insulin', 'insurance', 'insured', 'int', 'intake', 'integer', 'integral', 'integrate', 'integrated', 'integrating', 'integration', 'integrity', 'intel', 'intellectual', 'intelligence', 'intelligent', 'intend', 'intended', 'intense', 'intensity', 'intensive', 'intent', 'intention', 'inter', 'interact', 'interaction', 'interactions', 'interactive', 'interest', 'interested', 'interesting', 'interests', 'interface', 'interfaces', 'interference', 'interim', 'interior', 'intermediate', 'internal', 'international', 'internationally', 'internet', 'internship', 'interpretation', 'interpreted', 'interracial', 'intersection', 'interstate', 'interval', 'intervals', 'intervention', 'interventions', 'interview', 'interviews', 'intimate', 'intl', 'into', 'intranet', 'intro', 'introduce', 'introduced', 'introduces', 'introducing', 'introduction', 'introductory', 'invalid', 'invasion', 'invention', 'inventory', 'invest', 'investigate', 'investigated', 'investigation', 'investigations', 'investigator', 'investigators', 'investing', 'investment', 'investments', 'investor', 'investors', 'invisible', 'invision', 'invitation', 'invitations', 'invite', 'invited', 'invoice', 'involve', 'involved', 'involvement', 'involves', 'involving', 'io', 'ion', 'iowa', 'ip', 'ipaq', 'ipod', 'ips', 'ir', 'ira', 'iran', 'iraq', 'iraqi', 'irc', 'ireland', 'irish', 'iron', 'irrigation', 'irs', 'is', 'isa', 'isaac', 'isbn', 'islam', 'islamic', 'island', 'islands', 'isle', 'iso', 'isolated', 'isolation', 'isp', 'israel', 'israeli', 'issn', 'issue', 'issued', 'issues', 'ist', 'istanbul', 'it', 'italia', 'italian', 'italiano', 'italic', 'italy', 'item', 'items', 'its', 'itsa', 'itself', 'itunes', 'iv', 'ivory', 'ix', 'j', 'ja', 'jack', 'jacket', 'jackets', 'jackie', 'jackson', 'jacksonville', 'jacob', 'jade', 'jaguar', 'jail', 'jake', 'jam', 'jamaica', 'james', 'jamie', 'jan', 'jane', 'janet', 'january', 'japan', 'japanese', 'jar', 'jason', 'java', 'javascript', 'jay', 'jazz', 'jc', 'jd', 'je', 'jean', 'jeans', 'jeep', 'jeff', 'jefferson', 'jeffrey', 'jelsoft', 'jennifer', 'jenny', 'jeremy', 'jerry', 'jersey', 'jerusalem', 'jesse', 'jessica', 'jesus', 'jet', 'jets', 'jewel', 'jewellery', 'jewelry', 'jewish', 'jews', 'jill', 'jim', 'jimmy', 'jj', 'jm', 'jo', 'joan', 'job', 'jobs', 'joe', 'joel', 'john', 'johnny', 'johns', 'johnson', 'johnston', 'join', 'joined', 'joining', 'joins', 'joint', 'joke', 'jokes', 'jon', 'jonathan', 'jones', 'jordan', 'jose', 'joseph', 'josh', 'joshua', 'journal', 'journalism', 'journalist', 'journalists', 'journals', 'journey', 'joy', 'joyce', 'jp', 'jpeg', 'jpg', 'jr', 'js', 'juan', 'judge', 'judges', 'judgment', 'judicial', 'judy', 'juice', 'jul', 'julia', 'julian', 'julie', 'july', 'jump', 'jumping', 'jun', 'junction', 'june', 'jungle', 'junior', 'junk', 'jurisdiction', 'jury', 'just', 'justice', 'justify', 'justin', 'juvenile', 'jvc', 'k', 'ka', 'kai', 'kansas', 'karaoke', 'karen', 'karl', 'karma', 'kate', 'kathy', 'katie', 'katrina', 'kay', 'kazakhstan', 'kb', 'kde', 'keen', 'keep', 'keeping', 'keeps', 'keith', 'kelkoo', 'kelly', 'ken', 'kennedy', 'kenneth', 'kenny', 'keno', 'kent', 'kentucky', 'kenya', 'kept', 'kernel', 'kerry', 'kevin', 'key', 'keyboard', 'keyboards', 'keys', 'keyword', 'keywords', 'kg', 'kick', 'kid', 'kidney', 'kids', 'kijiji', 'kill', 'killed', 'killer', 'killing', 'kills', 'kilometers', 'kim', 'kinase', 'kind', 'kinda', 'kinds', 'king', 'kingdom', 'kings', 'kingston', 'kirk', 'kiss', 'kissing', 'kit', 'kitchen', 'kits', 'kitty', 'klein', 'km', 'knee', 'knew', 'knife', 'knight', 'knights', 'knit', 'knitting', 'knives', 'knock', 'know', 'knowing', 'knowledge', 'knowledgestorm', 'known', 'knows', 'ko', 'kodak', 'kong', 'korea', 'korean', 'kruger', 'ks', 'kurt', 'kuwait', 'kw', 'ky', 'kyle', 'l', 'la', 'lab', 'label', 'labeled', 'labels', 'labor', 'laboratories', 'laboratory', 'labour', 'labs', 'lace', 'lack', 'ladder', 'laden', 'ladies', 'lady', 'lafayette', 'laid', 'lake', 'lakes', 'lamb', 'lambda', 'lamp', 'lamps', 'lan', 'lancaster', 'lance', 'land', 'landing', 'lands', 'landscape', 'landscapes', 'lane', 'lanes', 'lang', 'language', 'languages', 'lanka', 'lap', 'laptop', 'laptops', 'large', 'largely', 'larger', 'largest', 'larry', 'las', 'laser', 'last', 'lasting', 'lat', 'late', 'lately', 'later', 'latest', 'latex', 'latin', 'latina', 'latinas', 'latino', 'latitude', 'latter', 'latvia', 'lauderdale', 'laugh', 'laughing', 'launch', 'launched', 'launches', 'laundry', 'laura', 'lauren', 'law', 'lawn', 'lawrence', 'laws', 'lawsuit', 'lawyer', 'lawyers', 'lay', 'layer', 'layers', 'layout', 'lazy', 'lb', 'lbs', 'lc', 'lcd', 'ld', 'le', 'lead', 'leader', 'leaders', 'leadership', 'leading', 'leads', 'leaf', 'league', 'lean', 'learn', 'learned', 'learners', 'learning', 'lease', 'leasing', 'least', 'leather', 'leave', 'leaves', 'leaving', 'lebanon', 'lecture', 'lectures', 'led', 'lee', 'leeds', 'left', 'leg', 'legacy', 'legal', 'legally', 'legend', 'legendary', 'legends', 'legislation', 'legislative', 'legislature', 'legitimate', 'legs', 'leisure', 'lemon', 'len', 'lender', 'lenders', 'lending', 'length', 'lens', 'lenses', 'leo', 'leon', 'leonard', 'leone', 'les', 'lesbian', 'lesbians', 'leslie', 'less', 'lesser', 'lesson', 'lessons', 'let', 'lets', 'letter', 'letters', 'letting', 'leu', 'level', 'levels', 'levitra', 'levy', 'lewis', 'lexington', 'lexmark', 'lexus', 'lf', 'lg', 'li', 'liabilities', 'liability', 'liable', 'lib', 'liberal', 'liberia', 'liberty', 'librarian', 'libraries', 'library', 'libs', 'licence', 'license', 'licensed', 'licenses', 'licensing', 'licking', 'lid', 'lie', 'liechtenstein', 'lies', 'life', 'lifestyle', 'lifetime', 'lift', 'light', 'lighter', 'lighting', 'lightning', 'lights', 'lightweight', 'like', 'liked', 'likelihood', 'likely', 'likes', 'likewise', 'lil', 'lime', 'limit', 'limitation', 'limitations', 'limited', 'limiting', 'limits', 'limousines', 'lincoln', 'linda', 'lindsay', 'line', 'linear', 'lined', 'lines', 'lingerie', 'link', 'linked', 'linking', 'links', 'linux', 'lion', 'lions', 'lip', 'lips', 'liquid', 'lisa', 'list', 'listed', 'listen', 'listening', 'listing', 'listings', 'listprice', 'lists', 'lit', 'lite', 'literacy', 'literally', 'literary', 'literature', 'lithuania', 'litigation', 'little', 'live', 'livecam', 'lived', 'liver', 'liverpool', 'lives', 'livesex', 'livestock', 'living', 'liz', 'll', 'llc', 'lloyd', 'llp', 'lm', 'ln', 'lo', 'load', 'loaded', 'loading', 'loads', 'loan', 'loans', 'lobby', 'loc', 'local', 'locale', 'locally', 'locate', 'located', 'location', 'locations', 'locator', 'lock', 'locked', 'locking', 'locks', 'lodge', 'lodging', 'log', 'logan', 'logged', 'logging', 'logic', 'logical', 'login', 'logistics', 'logitech', 'logo', 'logos', 'logs', 'lol', 'lolita', 'london', 'lone', 'lonely', 'long', 'longer', 'longest', 'longitude', 'look', 'looked', 'looking', 'looks', 'looksmart', 'lookup', 'loop', 'loops', 'loose', 'lopez', 'lord', 'los', 'lose', 'losing', 'loss', 'losses', 'lost', 'lot', 'lots', 'lottery', 'lotus', 'lou', 'loud', 'louis', 'louise', 'louisiana', 'louisville', 'lounge', 'love', 'loved', 'lovely', 'lover', 'lovers', 'loves', 'loving', 'low', 'lower', 'lowest', 'lows', 'lp', 'ls', 'lt', 'ltd', 'lu', 'lucas', 'lucia', 'luck', 'lucky', 'lucy', 'luggage', 'luis', 'luke', 'lunch', 'lung', 'luther', 'luxembourg', 'luxury', 'lycos', 'lying', 'lynn', 'lyric', 'lyrics', 'm', 'ma', 'mac', 'macedonia', 'machine', 'machinery', 'machines', 'macintosh', 'macro', 'macromedia', 'mad', 'madagascar', 'made', 'madison', 'madness', 'madonna', 'madrid', 'mae', 'mag', 'magazine', 'magazines', 'magic', 'magical', 'magnet', 'magnetic', 'magnificent', 'magnitude', 'mai', 'maiden', 'mail', 'mailed', 'mailing', 'mailman', 'mails', 'mailto', 'main', 'maine', 'mainland', 'mainly', 'mainstream', 'maintain', 'maintained', 'maintaining', 'maintains', 'maintenance', 'major', 'majority', 'make', 'maker', 'makers', 'makes', 'makeup', 'making', 'malawi', 'malaysia', 'maldives', 'male', 'males', 'mali', 'mall', 'malpractice', 'malta', 'mambo', 'man', 'manage', 'managed', 'management', 'manager', 'managers', 'managing', 'manchester', 'mandate', 'mandatory', 'manga', 'manhattan', 'manitoba', 'manner', 'manor', 'manual', 'manually', 'manuals', 'manufacture', 'manufactured', 'manufacturer', 'manufacturers', 'manufacturing', 'many', 'map', 'maple', 'mapping', 'maps', 'mar', 'marathon', 'marble', 'marc', 'march', 'marco', 'marcus', 'mardi', 'margaret', 'margin', 'maria', 'mariah', 'marie', 'marijuana', 'marilyn', 'marina', 'marine', 'mario', 'marion', 'maritime', 'mark', 'marked', 'marker', 'markers', 'market', 'marketing', 'marketplace', 'markets', 'marking', 'marks', 'marriage', 'married', 'marriott', 'mars', 'marshall', 'mart', 'martha', 'martial', 'martin', 'marvel', 'mary', 'maryland', 'mas', 'mask', 'mason', 'mass', 'massachusetts', 'massage', 'massive', 'master', 'mastercard', 'masters', 'masturbating', 'masturbation', 'mat', 'match', 'matched', 'matches', 'matching', 'mate', 'material', 'materials', 'maternity', 'math', 'mathematical', 'mathematics', 'mating', 'matrix', 'mats', 'matt', 'matter', 'matters', 'matthew', 'mattress', 'mature', 'maui', 'mauritius', 'max', 'maximize', 'maximum', 'may', 'maybe', 'mayor', 'mazda', 'mb', 'mba', 'mc', 'mcdonald', 'md', 'me', 'meal', 'meals', 'mean', 'meaning', 'meaningful', 'means', 'meant', 'meanwhile', 'measure', 'measured', 'measurement', 'measurements', 'measures', 'measuring', 'meat', 'mechanical', 'mechanics', 'mechanism', 'mechanisms', 'med', 'medal', 'media', 'median', 'medicaid', 'medical', 'medicare', 'medication', 'medications', 'medicine', 'medicines', 'medieval', 'meditation', 'mediterranean', 'medium', 'medline', 'meet', 'meeting', 'meetings', 'meets', 'meetup', 'mega', 'mel', 'melbourne', 'melissa', 'mem', 'member', 'members', 'membership', 'membrane', 'memo', 'memorabilia', 'memorial', 'memories', 'memory', 'memphis', 'men', 'mens', 'ment', 'mental', 'mention', 'mentioned', 'mentor', 'menu', 'menus', 'mercedes', 'merchandise', 'merchant', 'merchants', 'mercury', 'mercy', 'mere', 'merely', 'merge', 'merger', 'merit', 'merry', 'mesa', 'mesh', 'mess', 'message', 'messages', 'messaging', 'messenger', 'met', 'meta', 'metabolism', 'metadata', 'metal', 'metallic', 'metallica', 'metals', 'meter', 'meters', 'method', 'methodology', 'methods', 'metres', 'metric', 'metro', 'metropolitan', 'mexican', 'mexico', 'meyer', 'mf', 'mfg', 'mg', 'mh', 'mhz', 'mi', 'mia', 'miami', 'mic', 'mice', 'michael', 'michel', 'michelle', 'michigan', 'micro', 'microphone', 'microsoft', 'microwave', 'mid', 'middle', 'midi', 'midlands', 'midnight', 'midwest', 'might', 'mighty', 'migration', 'mike', 'mil', 'milan', 'mild', 'mile', 'mileage', 'miles', 'milf', 'milfhunter', 'milfs', 'military', 'milk', 'mill', 'millennium', 'miller', 'million', 'millions', 'mills', 'milton', 'milwaukee', 'mime', 'min', 'mind', 'minds', 'mine', 'mineral', 'minerals', 'mines', 'mini', 'miniature', 'minimal', 'minimize', 'minimum', 'mining', 'minister', 'ministers', 'ministries', 'ministry', 'minneapolis', 'minnesota', 'minolta', 'minor', 'minority', 'mins', 'mint', 'minus', 'minute', 'minutes', 'miracle', 'mirror', 'mirrors', 'misc', 'miscellaneous', 'miss', 'missed', 'missile', 'missing', 'mission', 'missions', 'mississippi', 'missouri', 'mistake', 'mistakes', 'mistress', 'mit', 'mitchell', 'mitsubishi', 'mix', 'mixed', 'mixer', 'mixing', 'mixture', 'mj', 'ml', 'mlb', 'mls', 'mm', 'mn', 'mo', 'mobile', 'mobiles', 'mobility', 'mod', 'mode', 'model', 'modeling', 'modelling', 'models', 'modem', 'modems', 'moderate', 'moderator', 'moderators', 'modern', 'modes', 'modification', 'modifications', 'modified', 'modify', 'mods', 'modular', 'module', 'modules', 'moisture', 'mold', 'moldova', 'molecular', 'molecules', 'mom', 'moment', 'moments', 'momentum', 'moms', 'mon', 'monaco', 'monday', 'monetary', 'money', 'mongolia', 'monica', 'monitor', 'monitored', 'monitoring', 'monitors', 'monkey', 'mono', 'monroe', 'monster', 'montana', 'monte', 'montgomery', 'month', 'monthly', 'months', 'montreal', 'mood', 'moon', 'moore', 'moral', 'more', 'moreover', 'morgan', 'morning', 'morocco', 'morris', 'morrison', 'mortality', 'mortgage', 'mortgages', 'moscow', 'moses', 'moss', 'most', 'mostly', 'motel', 'motels', 'mother', 'motherboard', 'mothers', 'motion', 'motivated', 'motivation', 'motor', 'motorcycle', 'motorcycles', 'motorola', 'motors', 'mount', 'mountain', 'mountains', 'mounted', 'mounting', 'mounts', 'mouse', 'mouth', 'move', 'moved', 'movement', 'movements', 'movers', 'moves', 'movie', 'movies', 'moving', 'mozambique', 'mozilla', 'mp', 'mpeg', 'mpegs', 'mpg', 'mph', 'mr', 'mrna', 'mrs', 'ms', 'msg', 'msgid', 'msgstr', 'msie', 'msn', 'mt', 'mtv', 'mu', 'much', 'mud', 'mug', 'multi', 'multimedia', 'multiple', 'mumbai', 'munich', 'municipal', 'municipality', 'murder', 'murphy', 'murray', 'muscle', 'muscles', 'museum', 'museums', 'music', 'musical', 'musician', 'musicians', 'muslim', 'muslims', 'must', 'mustang', 'mutual', 'muze', 'mv', 'mw', 'mx', 'my', 'myanmar', 'myers', 'myrtle', 'myself', 'mysimon', 'myspace', 'mysql', 'mysterious', 'mystery', 'myth', 'n', 'na', 'nail', 'nails', 'naked', 'nam', 'name', 'named', 'namely', 'names', 'namespace', 'namibia', 'nancy', 'nano', 'naples', 'narrative', 'narrow', 'nasa', 'nascar', 'nasdaq', 'nashville', 'nasty', 'nat', 'nathan', 'nation', 'national', 'nationally', 'nations', 'nationwide', 'native', 'nato', 'natural', 'naturally', 'naturals', 'nature', 'naughty', 'nav', 'naval', 'navigate', 'navigation', 'navigator', 'navy', 'nb', 'nba', 'nbc', 'nc', 'ncaa', 'nd', 'ne', 'near', 'nearby', 'nearest', 'nearly', 'nebraska', 'nec', 'necessarily', 'necessary', 'necessity', 'neck', 'necklace', 'need', 'needed', 'needle', 'needs', 'negative', 'negotiation', 'negotiations', 'neighbor', 'neighborhood', 'neighbors', 'neil', 'neither', 'nelson', 'neo', 'neon', 'nepal', 'nerve', 'nervous', 'nest', 'nested', 'net', 'netherlands', 'netscape', 'network', 'networking', 'networks', 'neural', 'neutral', 'nevada', 'never', 'nevertheless', 'new', 'newark', 'newbie', 'newcastle', 'newer', 'newest', 'newfoundland', 'newly', 'newport', 'news', 'newscom', 'newsletter', 'newsletters', 'newspaper', 'newspapers', 'newton', 'next', 'nextel', 'nfl', 'ng', 'nh', 'nhl', 'nhs', 'ni', 'niagara', 'nicaragua', 'nice', 'nicholas', 'nick', 'nickel', 'nickname', 'nicole', 'niger', 'nigeria', 'night', 'nightlife', 'nightmare', 'nights', 'nike', 'nikon', 'nil', 'nine', 'nintendo', 'nipple', 'nipples', 'nirvana', 'nissan', 'nitrogen', 'nj', 'nl', 'nm', 'nn', 'no', 'noble', 'nobody', 'node', 'nodes', 'noise', 'nokia', 'nominated', 'nomination', 'nominations', 'non', 'none', 'nonprofit', 'noon', 'nor', 'norfolk', 'norm', 'normal', 'normally', 'norman', 'north', 'northeast', 'northern', 'northwest', 'norton', 'norway', 'norwegian', 'nos', 'nose', 'not', 'note', 'notebook', 'notebooks', 'noted', 'notes', 'nothing', 'notice', 'noticed', 'notices', 'notification', 'notifications', 'notified', 'notify', 'notion', 'notre', 'nottingham', 'nov', 'nova', 'novel', 'novels', 'novelty', 'november', 'now', 'nowhere', 'np', 'nr', 'ns', 'nsw', 'nt', 'ntsc', 'nu', 'nuclear', 'nude', 'nudist', 'nudity', 'nuke', 'null', 'number', 'numbers', 'numeric', 'numerical', 'numerous', 'nurse', 'nursery', 'nurses', 'nursing', 'nut', 'nutrition', 'nutritional', 'nuts', 'nutten', 'nv', 'nvidia', 'nw', 'ny', 'nyc', 'nylon', 'nz', 'o', 'oak', 'oakland', 'oaks', 'oasis', 'ob', 'obesity', 'obituaries', 'obj', 'object', 'objective', 'objectives', 'objects', 'obligation', 'obligations', 'observation', 'observations', 'observe', 'observed', 'observer', 'obtain', 'obtained', 'obtaining', 'obvious', 'obviously', 'oc', 'occasion', 'occasional', 'occasionally', 'occasions', 'occupation', 'occupational', 'occupations', 'occupied', 'occur', 'occurred', 'occurrence', 'occurring', 'occurs', 'ocean', 'oclc', 'oct', 'october', 'odd', 'odds', 'oe', 'oecd', 'oem', 'of', 'off', 'offense', 'offensive', 'offer', 'offered', 'offering', 'offerings', 'offers', 'office', 'officer', 'officers', 'offices', 'official', 'officially', 'officials', 'offline', 'offset', 'offshore', 'often', 'og', 'oh', 'ohio', 'oil', 'oils', 'ok', 'okay', 'oklahoma', 'ol', 'old', 'older', 'oldest', 'olive', 'oliver', 'olympic', 'olympics', 'olympus', 'om', 'omaha', 'oman', 'omega', 'omissions', 'on', 'once', 'one', 'ones', 'ongoing', 'onion', 'online', 'only', 'ons', 'ontario', 'onto', 'oo', 'ooo', 'oops', 'op', 'open', 'opened', 'opening', 'openings', 'opens', 'opera', 'operate', 'operated', 'operates', 'operating', 'operation', 'operational', 'operations', 'operator', 'operators', 'opinion', 'opinions', 'opponent', 'opponents', 'opportunities', 'opportunity', 'opposed', 'opposite', 'opposition', 'opt', 'optical', 'optics', 'optimal', 'optimization', 'optimize', 'optimum', 'option', 'optional', 'options', 'or', 'oracle', 'oral', 'orange', 'orbit', 'orchestra', 'order', 'ordered', 'ordering', 'orders', 'ordinance', 'ordinary', 'oregon', 'org', 'organ', 'organic', 'organisation', 'organisations', 'organised', 'organisms', 'organization', 'organizational', 'organizations', 'organize', 'organized', 'organizer', 'organizing', 'orgasm', 'orgy', 'oriental', 'orientation', 'oriented', 'origin', 'original', 'originally', 'origins', 'orlando', 'orleans', 'os', 'oscar', 'ot', 'other', 'others', 'otherwise', 'ottawa', 'ou', 'ought', 'our', 'ours', 'ourselves', 'out', 'outcome', 'outcomes', 'outdoor', 'outdoors', 'outer', 'outlet', 'outline', 'outlined', 'outlook', 'output', 'outputs', 'outreach', 'outside', 'outsourcing', 'outstanding', 'oval', 'oven', 'over', 'overall', 'overcome', 'overhead', 'overnight', 'overseas', 'overview', 'owen', 'own', 'owned', 'owner', 'owners', 'ownership', 'owns', 'oxford', 'oxide', 'oxygen', 'oz', 'ozone', 'p', 'pa', 'pac', 'pace', 'pacific', 'pack', 'package', 'packages', 'packaging', 'packard', 'packed', 'packet', 'packets', 'packing', 'packs', 'pad', 'pads', 'page', 'pages', 'paid', 'pain', 'painful', 'paint', 'paintball', 'painted', 'painting', 'paintings', 'pair', 'pairs', 'pakistan', 'pal', 'palace', 'pale', 'palestine', 'palestinian', 'palm', 'palmer', 'pam', 'pamela', 'pan', 'panama', 'panasonic', 'panel', 'panels', 'panic', 'panties', 'pants', 'pantyhose', 'paper', 'paperback', 'paperbacks', 'papers', 'papua', 'par', 'para', 'parade', 'paradise', 'paragraph', 'paragraphs', 'paraguay', 'parallel', 'parameter', 'parameters', 'parcel', 'parent', 'parental', 'parenting', 'parents', 'paris', 'parish', 'park', 'parker', 'parking', 'parks', 'parliament', 'parliamentary', 'part', 'partial', 'partially', 'participant', 'participants', 'participate', 'participated', 'participating', 'participation', 'particle', 'particles', 'particular', 'particularly', 'parties', 'partition', 'partly', 'partner', 'partners', 'partnership', 'partnerships', 'parts', 'party', 'pas', 'paso', 'pass', 'passage', 'passed', 'passenger', 'passengers', 'passes', 'passing', 'passion', 'passive', 'passport', 'password', 'passwords', 'past', 'pasta', 'paste', 'pastor', 'pat', 'patch', 'patches', 'patent', 'patents', 'path', 'pathology', 'paths', 'patient', 'patients', 'patio', 'patricia', 'patrick', 'patrol', 'pattern', 'patterns', 'paul', 'pavilion', 'paxil', 'pay', 'payable', 'payday', 'paying', 'payment', 'payments', 'paypal', 'payroll', 'pays', 'pb', 'pc', 'pci', 'pcs', 'pct', 'pd', 'pda', 'pdas', 'pdf', 'pdt', 'pe', 'peace', 'peaceful', 'peak', 'pearl', 'peas', 'pediatric', 'pee', 'peeing', 'peer', 'peers', 'pen', 'penalties', 'penalty', 'pencil', 'pendant', 'pending', 'penetration', 'penguin', 'peninsula', 'penis', 'penn', 'pennsylvania', 'penny', 'pens', 'pension', 'pensions', 'pentium', 'people', 'peoples', 'pepper', 'per', 'perceived', 'percent', 'percentage', 'perception', 'perfect', 'perfectly', 'perform', 'performance', 'performances', 'performed', 'performer', 'performing', 'performs', 'perfume', 'perhaps', 'period', 'periodic', 'periodically', 'periods', 'peripheral', 'peripherals', 'perl', 'permalink', 'permanent', 'permission', 'permissions', 'permit', 'permits', 'permitted', 'perry', 'persian', 'persistent', 'person', 'personal', 'personality', 'personalized', 'personally', 'personals', 'personnel', 'persons', 'perspective', 'perspectives', 'perth', 'peru', 'pest', 'pet', 'pete', 'peter', 'petersburg', 'peterson', 'petite', 'petition', 'petroleum', 'pets', 'pf', 'pg', 'pgp', 'ph', 'phantom', 'pharmaceutical', 'pharmaceuticals', 'pharmacies', 'pharmacology', 'pharmacy', 'phase', 'phases', 'phd', 'phenomenon', 'phentermine', 'phi', 'phil', 'philadelphia', 'philip', 'philippines', 'philips', 'phillips', 'philosophy', 'phoenix', 'phone', 'phones', 'photo', 'photograph', 'photographer', 'photographers', 'photographic', 'photographs', 'photography', 'photos', 'photoshop', 'php', 'phpbb', 'phrase', 'phrases', 'phys', 'physical', 'physically', 'physician', 'physicians', 'physics', 'physiology', 'pi', 'piano', 'pic', 'pichunter', 'pick', 'picked', 'picking', 'picks', 'pickup', 'picnic', 'pics', 'picture', 'pictures', 'pie', 'piece', 'pieces', 'pierce', 'pierre', 'pig', 'pike', 'pill', 'pillow', 'pills', 'pilot', 'pin', 'pine', 'ping', 'pink', 'pins', 'pioneer', 'pipe', 'pipeline', 'pipes', 'pirates', 'piss', 'pissing', 'pit', 'pitch', 'pittsburgh', 'pix', 'pixel', 'pixels', 'pizza', 'pj', 'pk', 'pl', 'place', 'placed', 'placement', 'places', 'placing', 'plain', 'plains', 'plaintiff', 'plan', 'plane', 'planes', 'planet', 'planets', 'planned', 'planner', 'planners', 'planning', 'plans', 'plant', 'plants', 'plasma', 'plastic', 'plastics', 'plate', 'plates', 'platform', 'platforms', 'platinum', 'play', 'playback', 'playboy', 'played', 'player', 'players', 'playing', 'playlist', 'plays', 'playstation', 'plaza', 'plc', 'pleasant', 'please', 'pleased', 'pleasure', 'pledge', 'plenty', 'plot', 'plots', 'plug', 'plugin', 'plugins', 'plumbing', 'plus', 'plymouth', 'pm', 'pmc', 'pmid', 'pn', 'po', 'pocket', 'pockets', 'pod', 'podcast', 'podcasts', 'poem', 'poems', 'poet', 'poetry', 'point', 'pointed', 'pointer', 'pointing', 'points', 'pokemon', 'poker', 'poland', 'polar', 'pole', 'police', 'policies', 'policy', 'polish', 'polished', 'political', 'politicians', 'politics', 'poll', 'polls', 'pollution', 'polo', 'poly', 'polyester', 'polymer', 'polyphonic', 'pond', 'pontiac', 'pool', 'pools', 'poor', 'pop', 'pope', 'popular', 'popularity', 'population', 'populations', 'por', 'porcelain', 'pork', 'porn', 'porno', 'porsche', 'port', 'portable', 'portal', 'porter', 'portfolio', 'portion', 'portions', 'portland', 'portrait', 'portraits', 'ports', 'portsmouth', 'portugal', 'portuguese', 'pos', 'pose', 'posing', 'position', 'positioning', 'positions', 'positive', 'possess', 'possession', 'possibilities', 'possibility', 'possible', 'possibly', 'post', 'postage', 'postal', 'postcard', 'postcards', 'posted', 'poster', 'posters', 'posting', 'postings', 'postposted', 'posts', 'pot', 'potato', 'potatoes', 'potential', 'potentially', 'potter', 'pottery', 'poultry', 'pound', 'pounds', 'pour', 'poverty', 'powder', 'powell', 'power', 'powered', 'powerful', 'powerpoint', 'powers', 'powerseller', 'pp', 'ppc', 'ppm', 'pr', 'practical', 'practice', 'practices', 'practitioner', 'practitioners', 'prague', 'prairie', 'praise', 'pray', 'prayer', 'prayers', 'pre', 'preceding', 'precious', 'precipitation', 'precise', 'precisely', 'precision', 'predict', 'predicted', 'prediction', 'predictions', 'prefer', 'preference', 'preferences', 'preferred', 'prefers', 'prefix', 'pregnancy', 'pregnant', 'preliminary', 'premier', 'premiere', 'premises', 'premium', 'prep', 'prepaid', 'preparation', 'prepare', 'prepared', 'preparing', 'prerequisite', 'prescribed', 'prescription', 'presence', 'present', 'presentation', 'presentations', 'presented', 'presenting', 'presently', 'presents', 'preservation', 'preserve', 'president', 'presidential', 'press', 'pressed', 'pressing', 'pressure', 'preston', 'pretty', 'prev', 'prevent', 'preventing', 'prevention', 'preview', 'previews', 'previous', 'previously', 'price', 'priced', 'prices', 'pricing', 'pride', 'priest', 'primarily', 'primary', 'prime', 'prince', 'princess', 'princeton', 'principal', 'principle', 'principles', 'print', 'printable', 'printed', 'printer', 'printers', 'printing', 'prints', 'prior', 'priorities', 'priority', 'prison', 'prisoner', 'prisoners', 'privacy', 'private', 'privilege', 'privileges', 'prix', 'prize', 'prizes', 'pro', 'probability', 'probably', 'probe', 'problem', 'problems', 'proc', 'procedure', 'procedures', 'proceed', 'proceeding', 'proceedings', 'proceeds', 'process', 'processed', 'processes', 'processing', 'processor', 'processors', 'procurement', 'produce', 'produced', 'producer', 'producers', 'produces', 'producing', 'product', 'production', 'productions', 'productive', 'productivity', 'products', 'prof', 'profession', 'professional', 'professionals', 'professor', 'profile', 'profiles', 'profit', 'profits', 'program', 'programme', 'programmer', 'programmers', 'programmes', 'programming', 'programs', 'progress', 'progressive', 'prohibited', 'project', 'projected', 'projection', 'projector', 'projectors', 'projects', 'prominent', 'promise', 'promised', 'promises', 'promising', 'promo', 'promote', 'promoted', 'promotes', 'promoting', 'promotion', 'promotional', 'promotions', 'prompt', 'promptly', 'proof', 'propecia', 'proper', 'properly', 'properties', 'property', 'prophet', 'proportion', 'proposal', 'proposals', 'propose', 'proposed', 'proposition', 'proprietary', 'pros', 'prospect', 'prospective', 'prospects', 'prostate', 'prostores', 'prot', 'protect', 'protected', 'protecting', 'protection', 'protective', 'protein', 'proteins', 'protest', 'protocol', 'protocols', 'prototype', 'proud', 'proudly', 'prove', 'proved', 'proven', 'provide', 'provided', 'providence', 'provider', 'providers', 'provides', 'providing', 'province', 'provinces', 'provincial', 'provision', 'provisions', 'proxy', 'prozac', 'ps', 'psi', 'psp', 'pst', 'psychiatry', 'psychological', 'psychology', 'pt', 'pts', 'pty', 'pub', 'public', 'publication', 'publications', 'publicity', 'publicly', 'publish', 'published', 'publisher', 'publishers', 'publishing', 'pubmed', 'pubs', 'puerto', 'pull', 'pulled', 'pulling', 'pulse', 'pump', 'pumps', 'punch', 'punishment', 'punk', 'pupils', 'puppy', 'purchase', 'purchased', 'purchases', 'purchasing', 'pure', 'purple', 'purpose', 'purposes', 'purse', 'pursuant', 'pursue', 'pursuit', 'push', 'pushed', 'pushing', 'pussy', 'put', 'puts', 'putting', 'puzzle', 'puzzles', 'pvc', 'python', 'q', 'qatar', 'qc', 'qld', 'qt', 'qty', 'quad', 'qualification', 'qualifications', 'qualified', 'qualify', 'qualifying', 'qualities', 'quality', 'quantitative', 'quantities', 'quantity', 'quantum', 'quarter', 'quarterly', 'quarters', 'que', 'quebec', 'queen', 'queens', 'queensland', 'queries', 'query', 'quest', 'question', 'questionnaire', 'questions', 'queue', 'qui', 'quick', 'quickly', 'quiet', 'quilt', 'quit', 'quite', 'quiz', 'quizzes', 'quotations', 'quote', 'quoted', 'quotes', 'r', 'ra', 'rabbit', 'race', 'races', 'rachel', 'racial', 'racing', 'rack', 'racks', 'radar', 'radiation', 'radical', 'radio', 'radios', 'radius', 'rage', 'raid', 'rail', 'railroad', 'railway', 'rain', 'rainbow', 'raise', 'raised', 'raises', 'raising', 'raleigh', 'rally', 'ralph', 'ram', 'ran', 'ranch', 'rand', 'random', 'randy', 'range', 'rangers', 'ranges', 'ranging', 'rank', 'ranked', 'ranking', 'rankings', 'ranks', 'rap', 'rape', 'rapid', 'rapidly', 'rapids', 'rare', 'rarely', 'rat', 'rate', 'rated', 'rates', 'rather', 'rating', 'ratings', 'ratio', 'rational', 'ratios', 'rats', 'raw', 'ray', 'raymond', 'rays', 'rb', 'rc', 'rca', 'rd', 're', 'reach', 'reached', 'reaches', 'reaching', 'reaction', 'reactions', 'read', 'reader', 'readers', 'readily', 'reading', 'readings', 'reads', 'ready', 'real', 'realistic', 'reality', 'realize', 'realized', 'really', 'realm', 'realtor', 'realtors', 'realty', 'rear', 'reason', 'reasonable', 'reasonably', 'reasoning', 'reasons', 'rebate', 'rebates', 'rebecca', 'rebel', 'rebound', 'rec', 'recall', 'receipt', 'receive', 'received', 'receiver', 'receivers', 'receives', 'receiving', 'recent', 'recently', 'reception', 'receptor', 'receptors', 'recipe', 'recipes', 'recipient', 'recipients', 'recognised', 'recognition', 'recognize', 'recognized', 'recommend', 'recommendation', 'recommendations', 'recommended', 'recommends', 'reconstruction', 'record', 'recorded', 'recorder', 'recorders', 'recording', 'recordings', 'records', 'recover', 'recovered', 'recovery', 'recreation', 'recreational', 'recruiting', 'recruitment', 'recycling', 'red', 'redeem', 'redhead', 'reduce', 'reduced', 'reduces', 'reducing', 'reduction', 'reductions', 'reed', 'reef', 'reel', 'ref', 'refer', 'reference', 'referenced', 'references', 'referral', 'referrals', 'referred', 'referring', 'refers', 'refinance', 'refine', 'refined', 'reflect', 'reflected', 'reflection', 'reflections', 'reflects', 'reform', 'reforms', 'refresh', 'refrigerator', 'refugees', 'refund', 'refurbished', 'refuse', 'refused', 'reg', 'regard', 'regarded', 'regarding', 'regardless', 'regards', 'reggae', 'regime', 'region', 'regional', 'regions', 'register', 'registered', 'registrar', 'registration', 'registry', 'regression', 'regular', 'regularly', 'regulated', 'regulation', 'regulations', 'regulatory', 'rehab', 'rehabilitation', 'reid', 'reject', 'rejected', 'rel', 'relate', 'related', 'relates', 'relating', 'relation', 'relations', 'relationship', 'relationships', 'relative', 'relatively', 'relatives', 'relax', 'relaxation', 'relay', 'release', 'released', 'releases', 'relevance', 'relevant', 'reliability', 'reliable', 'reliance', 'relief', 'religion', 'religions', 'religious', 'reload', 'relocation', 'rely', 'relying', 'remain', 'remainder', 'remained', 'remaining', 'remains', 'remark', 'remarkable', 'remarks', 'remedies', 'remedy', 'remember', 'remembered', 'remind', 'reminder', 'remix', 'remote', 'removable', 'removal', 'remove', 'removed', 'removing', 'renaissance', 'render', 'rendered', 'rendering', 'renew', 'renewable', 'renewal', 'reno', 'rent', 'rental', 'rentals', 'rentcom', 'rep', 'repair', 'repairs', 'repeat', 'repeated', 'replace', 'replaced', 'replacement', 'replacing', 'replica', 'replication', 'replied', 'replies', 'reply', 'report', 'reported', 'reporter', 'reporters', 'reporting', 'reports', 'repository', 'represent', 'representation', 'representations', 'representative', 'representatives', 'represented', 'representing', 'represents', 'reprint', 'reprints', 'reproduce', 'reproduced', 'reproduction', 'reproductive', 'republic', 'republican', 'republicans', 'reputation', 'request', 'requested', 'requesting', 'requests', 'require', 'required', 'requirement', 'requirements', 'requires', 'requiring', 'res', 'rescue', 'research', 'researcher', 'researchers', 'reseller', 'reservation', 'reservations', 'reserve', 'reserved', 'reserves', 'reservoir', 'reset', 'residence', 'resident', 'residential', 'residents', 'resist', 'resistance', 'resistant', 'resolution', 'resolutions', 'resolve', 'resolved', 'resort', 'resorts', 'resource', 'resources', 'respect', 'respected', 'respective', 'respectively', 'respiratory', 'respond', 'responded', 'respondent', 'respondents', 'responding', 'response', 'responses', 'responsibilities', 'responsibility', 'responsible', 'rest', 'restaurant', 'restaurants', 'restoration', 'restore', 'restored', 'restrict', 'restricted', 'restriction', 'restrictions', 'restructuring', 'result', 'resulted', 'resulting', 'results', 'resume', 'resumes', 'retail', 'retailer', 'retailers', 'retain', 'retained', 'retention', 'retired', 'retirement', 'retreat', 'retrieval', 'retrieve', 'retrieved', 'retro', 'return', 'returned', 'returning', 'returns', 'reunion', 'reuters', 'rev', 'reveal', 'revealed', 'reveals', 'revelation', 'revenge', 'revenue', 'revenues', 'reverse', 'review', 'reviewed', 'reviewer', 'reviewing', 'reviews', 'revised', 'revision', 'revisions', 'revolution', 'revolutionary', 'reward', 'rewards', 'reynolds', 'rf', 'rfc', 'rg', 'rh', 'rhode', 'rhythm', 'ri', 'ribbon', 'rica', 'rice', 'rich', 'richard', 'richards', 'richardson', 'richmond', 'rick', 'rico', 'rid', 'ride', 'rider', 'riders', 'rides', 'ridge', 'riding', 'right', 'rights', 'rim', 'ring', 'rings', 'ringtone', 'ringtones', 'rio', 'rip', 'ripe', 'rise', 'rising', 'risk', 'risks', 'river', 'rivers', 'riverside', 'rj', 'rl', 'rm', 'rn', 'rna', 'ro', 'road', 'roads', 'rob', 'robert', 'roberts', 'robertson', 'robin', 'robinson', 'robot', 'robots', 'robust', 'rochester', 'rock', 'rocket', 'rocks', 'rocky', 'rod', 'roger', 'rogers', 'roland', 'role', 'roles', 'roll', 'rolled', 'roller', 'rolling', 'rolls', 'rom', 'roman', 'romance', 'romania', 'romantic', 'rome', 'ron', 'ronald', 'roof', 'room', 'roommate', 'roommates', 'rooms', 'root', 'roots', 'rope', 'rosa', 'rose', 'roses', 'ross', 'roster', 'rotary', 'rotation', 'rouge', 'rough', 'roughly', 'roulette', 'round', 'rounds', 'route', 'router', 'routers', 'routes', 'routine', 'routines', 'routing', 'rover', 'row', 'rows', 'roy', 'royal', 'royalty', 'rp', 'rpg', 'rpm', 'rr', 'rrp', 'rs', 'rss', 'rt', 'ru', 'rubber', 'ruby', 'rug', 'rugby', 'rugs', 'rule', 'ruled', 'rules', 'ruling', 'run', 'runner', 'running', 'runs', 'runtime', 'rural', 'rush', 'russell', 'russia', 'russian', 'ruth', 'rv', 'rw', 'rwanda', 'rx', 'ryan', 's', 'sa', 'sacramento', 'sacred', 'sacrifice', 'sad', 'saddam', 'safari', 'safe', 'safely', 'safer', 'safety', 'sage', 'sagem', 'said', 'sail', 'sailing', 'saint', 'saints', 'sake', 'salad', 'salaries', 'salary', 'sale', 'salem', 'sales', 'sally', 'salmon', 'salon', 'salt', 'salvador', 'salvation', 'sam', 'samba', 'same', 'samoa', 'sample', 'samples', 'sampling', 'samsung', 'samuel', 'san', 'sand', 'sandra', 'sandwich', 'sandy', 'sans', 'santa', 'sanyo', 'sao', 'sap', 'sapphire', 'sara', 'sarah', 'sas', 'saskatchewan', 'sat', 'satellite', 'satin', 'satisfaction', 'satisfactory', 'satisfied', 'satisfy', 'saturday', 'saturn', 'sauce', 'saudi', 'savage', 'savannah', 'save', 'saved', 'saver', 'saves', 'saving', 'savings', 'saw', 'say', 'saying', 'says', 'sb', 'sbjct', 'sc', 'scale', 'scales', 'scan', 'scanned', 'scanner', 'scanners', 'scanning', 'scary', 'scenario', 'scenarios', 'scene', 'scenes', 'scenic', 'schedule', 'scheduled', 'schedules', 'scheduling', 'schema', 'scheme', 'schemes', 'scholar', 'scholars', 'scholarship', 'scholarships', 'school', 'schools', 'sci', 'science', 'sciences', 'scientific', 'scientist', 'scientists', 'scoop', 'scope', 'score', 'scored', 'scores', 'scoring', 'scotia', 'scotland', 'scott', 'scottish', 'scout', 'scratch', 'screen', 'screening', 'screens', 'screensaver', 'screensavers', 'screenshot', 'screenshots', 'screw', 'script', 'scripting', 'scripts', 'scroll', 'scsi', 'scuba', 'sculpture', 'sd', 'se', 'sea', 'seafood', 'seal', 'sealed', 'sean', 'search', 'searchcom', 'searched', 'searches', 'searching', 'seas', 'season', 'seasonal', 'seasons', 'seat', 'seating', 'seats', 'seattle', 'sec', 'second', 'secondary', 'seconds', 'secret', 'secretariat', 'secretary', 'secrets', 'section', 'sections', 'sector', 'sectors', 'secure', 'secured', 'securely', 'securities', 'security', 'see', 'seed', 'seeds', 'seeing', 'seek', 'seeker', 'seekers', 'seeking', 'seeks', 'seem', 'seemed', 'seems', 'seen', 'sees', 'sega', 'segment', 'segments', 'select', 'selected', 'selecting', 'selection', 'selections', 'selective', 'self', 'sell', 'seller', 'sellers', 'selling', 'sells', 'semester', 'semi', 'semiconductor', 'seminar', 'seminars', 'sen', 'senate', 'senator', 'senators', 'send', 'sender', 'sending', 'sends', 'senegal', 'senior', 'seniors', 'sense', 'sensitive', 'sensitivity', 'sensor', 'sensors', 'sent', 'sentence', 'sentences', 'seo', 'sep', 'separate', 'separated', 'separately', 'separation', 'sept', 'september', 'seq', 'sequence', 'sequences', 'ser', 'serbia', 'serial', 'series', 'serious', 'seriously', 'serum', 'serve', 'served', 'server', 'servers', 'serves', 'service', 'services', 'serving', 'session', 'sessions', 'set', 'sets', 'setting', 'settings', 'settle', 'settled', 'settlement', 'setup', 'seven', 'seventh', 'several', 'severe', 'sewing', 'sex', 'sexcam', 'sexo', 'sexual', 'sexuality', 'sexually', 'sexy', 'sf', 'sg', 'sh', 'shade', 'shades', 'shadow', 'shadows', 'shaft', 'shake', 'shakespeare', 'shakira', 'shall', 'shame', 'shanghai', 'shannon', 'shape', 'shaped', 'shapes', 'share', 'shared', 'shareholders', 'shares', 'shareware', 'sharing', 'shark', 'sharon', 'sharp', 'shaved', 'shaw', 'she', 'shed', 'sheep', 'sheer', 'sheet', 'sheets', 'sheffield', 'shelf', 'shell', 'shelter', 'shemale', 'shemales', 'shepherd', 'sheriff', 'sherman', 'shield', 'shift', 'shine', 'ship', 'shipment', 'shipments', 'shipped', 'shipping', 'ships', 'shirt', 'shirts', 'shit', 'shock', 'shoe', 'shoes', 'shoot', 'shooting', 'shop', 'shopper', 'shoppercom', 'shoppers', 'shopping', 'shoppingcom', 'shops', 'shopzilla', 'shore', 'short', 'shortcuts', 'shorter', 'shortly', 'shorts', 'shot', 'shots', 'should', 'shoulder', 'show', 'showcase', 'showed', 'shower', 'showers', 'showing', 'shown', 'shows', 'showtimes', 'shut', 'shuttle', 'si', 'sic', 'sick', 'side', 'sides', 'sie', 'siemens', 'sierra', 'sig', 'sight', 'sigma', 'sign', 'signal', 'signals', 'signature', 'signatures', 'signed', 'significance', 'significant', 'significantly', 'signing', 'signs', 'signup', 'silence', 'silent', 'silicon', 'silk', 'silly', 'silver', 'sim', 'similar', 'similarly', 'simon', 'simple', 'simplified', 'simply', 'simpson', 'simpsons', 'sims', 'simulation', 'simulations', 'simultaneously', 'sin', 'since', 'sing', 'singapore', 'singer', 'singh', 'singing', 'single', 'singles', 'sink', 'sip', 'sir', 'sister', 'sisters', 'sit', 'site', 'sitemap', 'sites', 'sitting', 'situated', 'situation', 'situations', 'six', 'sixth', 'size', 'sized', 'sizes', 'sk', 'skating', 'ski', 'skiing', 'skill', 'skilled', 'skills', 'skin', 'skins', 'skip', 'skirt', 'skirts', 'sku', 'sky', 'skype', 'sl', 'slave', 'sleep', 'sleeping', 'sleeps', 'sleeve', 'slide', 'slides', 'slideshow', 'slight', 'slightly', 'slim', 'slip', 'slope', 'slot', 'slots', 'slovak', 'slovakia', 'slovenia', 'slow', 'slowly', 'slut', 'sluts', 'sm', 'small', 'smaller', 'smart', 'smell', 'smile', 'smilies', 'smith', 'smithsonian', 'smoke', 'smoking', 'smooth', 'sms', 'smtp', 'sn', 'snake', 'snap', 'snapshot', 'snow', 'snowboard', 'so', 'soa', 'soap', 'soc', 'soccer', 'social', 'societies', 'society', 'sociology', 'socket', 'socks', 'sodium', 'sofa', 'soft', 'softball', 'software', 'soil', 'sol', 'solar', 'solaris', 'sold', 'soldier', 'soldiers', 'sole', 'solely', 'solid', 'solo', 'solomon', 'solution', 'solutions', 'solve', 'solved', 'solving', 'soma', 'somalia', 'some', 'somebody', 'somehow', 'someone', 'somerset', 'something', 'sometimes', 'somewhat', 'somewhere', 'son', 'song', 'songs', 'sonic', 'sons', 'sony', 'soon', 'soonest', 'sophisticated', 'sorry', 'sort', 'sorted', 'sorts', 'sought', 'soul', 'souls', 'sound', 'sounds', 'soundtrack', 'soup', 'source', 'sources', 'south', 'southampton', 'southeast', 'southern', 'southwest', 'soviet', 'sox', 'sp', 'spa', 'space', 'spaces', 'spain', 'spam', 'span', 'spanish', 'spank', 'spanking', 'sparc', 'spare', 'spas', 'spatial', 'speak', 'speaker', 'speakers', 'speaking', 'speaks', 'spears', 'spec', 'special', 'specialist', 'specialists', 'specialized', 'specializing', 'specially', 'specials', 'specialties', 'specialty', 'species', 'specific', 'specifically', 'specification', 'specifications', 'specifics', 'specified', 'specifies', 'specify', 'specs', 'spectacular', 'spectrum', 'speech', 'speeches', 'speed', 'speeds', 'spell', 'spelling', 'spencer', 'spend', 'spending', 'spent', 'sperm', 'sphere', 'spice', 'spider', 'spies', 'spin', 'spine', 'spirit', 'spirits', 'spiritual', 'spirituality', 'split', 'spoke', 'spoken', 'spokesman', 'sponsor', 'sponsored', 'sponsors', 'sponsorship', 'sport', 'sporting', 'sports', 'spot', 'spotlight', 'spots', 'spouse', 'spray', 'spread', 'spreading', 'spring', 'springer', 'springfield', 'springs', 'sprint', 'spy', 'spyware', 'sq', 'sql', 'squad', 'square', 'squirt', 'squirting', 'sr', 'src', 'sri', 'ss', 'ssl', 'st', 'stability', 'stable', 'stack', 'stadium', 'staff', 'staffing', 'stage', 'stages', 'stainless', 'stakeholders', 'stamp', 'stamps', 'stan', 'stand', 'standard', 'standards', 'standing', 'standings', 'stands', 'stanford', 'stanley', 'star', 'starring', 'stars', 'starsmerchant', 'start', 'started', 'starter', 'starting', 'starts', 'startup', 'stat', 'state', 'stated', 'statement', 'statements', 'states', 'statewide', 'static', 'stating', 'station', 'stationery', 'stations', 'statistical', 'statistics', 'stats', 'status', 'statute', 'statutes', 'statutory', 'stay', 'stayed', 'staying', 'stays', 'std', 'ste', 'steady', 'steal', 'steam', 'steel', 'steering', 'stem', 'step', 'stephanie', 'stephen', 'steps', 'stereo', 'sterling', 'steve', 'steven', 'stevens', 'stewart', 'stick', 'sticker', 'stickers', 'sticks', 'sticky', 'still', 'stock', 'stockholm', 'stockings', 'stocks', 'stolen', 'stomach', 'stone', 'stones', 'stood', 'stop', 'stopped', 'stopping', 'stops', 'storage', 'store', 'stored', 'stores', 'stories', 'storm', 'story', 'str', 'straight', 'strain', 'strand', 'strange', 'stranger', 'strap', 'strategic', 'strategies', 'strategy', 'stream', 'streaming', 'streams', 'street', 'streets', 'strength', 'strengthen', 'strengthening', 'strengths', 'stress', 'stretch', 'strict', 'strictly', 'strike', 'strikes', 'striking', 'string', 'strings', 'strip', 'stripes', 'strips', 'stroke', 'strong', 'stronger', 'strongly', 'struck', 'struct', 'structural', 'structure', 'structured', 'structures', 'struggle', 'stuart', 'stuck', 'stud', 'student', 'students', 'studied', 'studies', 'studio', 'studios', 'study', 'studying', 'stuff', 'stuffed', 'stunning', 'stupid', 'style', 'styles', 'stylish', 'stylus', 'su', 'sub', 'subaru', 'subcommittee', 'subdivision', 'subject', 'subjects', 'sublime', 'sublimedirectory', 'submission', 'submissions', 'submit', 'submitted', 'submitting', 'subscribe', 'subscriber', 'subscribers', 'subscription', 'subscriptions', 'subsection', 'subsequent', 'subsequently', 'subsidiaries', 'subsidiary', 'substance', 'substances', 'substantial', 'substantially', 'substitute', 'subtle', 'suburban', 'succeed', 'success', 'successful', 'successfully', 'such', 'suck', 'sucking', 'sucks', 'sudan', 'sudden', 'suddenly', 'sue', 'suffer', 'suffered', 'suffering', 'sufficient', 'sufficiently', 'sugar', 'suggest', 'suggested', 'suggesting', 'suggestion', 'suggestions', 'suggests', 'suicide', 'suit', 'suitable', 'suite', 'suited', 'suites', 'suits', 'sullivan', 'sum', 'summaries', 'summary', 'summer', 'summit', 'sun', 'sunday', 'sunglasses', 'sunny', 'sunrise', 'sunset', 'sunshine', 'super', 'superb', 'superintendent', 'superior', 'supervision', 'supervisor', 'supervisors', 'supplement', 'supplemental', 'supplements', 'supplied', 'supplier', 'suppliers', 'supplies', 'supply', 'support', 'supported', 'supporters', 'supporting', 'supports', 'suppose', 'supposed', 'supreme', 'sur', 'sure', 'surely', 'surf', 'surface', 'surfaces', 'surfing', 'surge', 'surgeon', 'surgeons', 'surgery', 'surgical', 'surname', 'surplus', 'surprise', 'surprised', 'surprising', 'surrey', 'surround', 'surrounded', 'surrounding', 'surveillance', 'survey', 'surveys', 'survival', 'survive', 'survivor', 'survivors', 'susan', 'suse', 'suspect', 'suspected', 'suspended', 'suspension', 'sussex', 'sustainability', 'sustainable', 'sustained', 'suzuki', 'sv', 'sw', 'swap', 'sweden', 'swedish', 'sweet', 'swift', 'swim', 'swimming', 'swing', 'swingers', 'swiss', 'switch', 'switched', 'switches', 'switching', 'switzerland', 'sword', 'sydney', 'symantec', 'symbol', 'symbols', 'sympathy', 'symphony', 'symposium', 'symptoms', 'sync', 'syndicate', 'syndication', 'syndrome', 'synopsis', 'syntax', 'synthesis', 'synthetic', 'syracuse', 'syria', 'sys', 'system', 'systematic', 'systems', 't', 'ta', 'tab', 'table', 'tables', 'tablet', 'tablets', 'tabs', 'tackle', 'tactics', 'tag', 'tagged', 'tags', 'tahoe', 'tail', 'taiwan', 'take', 'taken', 'takes', 'taking', 'tale', 'talent', 'talented', 'tales', 'talk', 'talked', 'talking', 'talks', 'tall', 'tamil', 'tampa', 'tan', 'tank', 'tanks', 'tanzania', 'tap', 'tape', 'tapes', 'tar', 'target', 'targeted', 'targets', 'tariff', 'task', 'tasks', 'taste', 'tattoo', 'taught', 'tax', 'taxation', 'taxes', 'taxi', 'taylor', 'tb', 'tba', 'tc', 'tcp', 'td', 'te', 'tea', 'teach', 'teacher', 'teachers', 'teaches', 'teaching', 'team', 'teams', 'tear', 'tears', 'tech', 'technical', 'technician', 'technique', 'techniques', 'techno', 'technological', 'technologies', 'technology', 'techrepublic', 'ted', 'teddy', 'tee', 'teen', 'teenage', 'teens', 'teeth', 'tel', 'telecharger', 'telecom', 'telecommunications', 'telephone', 'telephony', 'telescope', 'television', 'televisions', 'tell', 'telling', 'tells', 'temp', 'temperature', 'temperatures', 'template', 'templates', 'temple', 'temporal', 'temporarily', 'temporary', 'ten', 'tenant', 'tend', 'tender', 'tennessee', 'tennis', 'tension', 'tent', 'term', 'terminal', 'terminals', 'termination', 'terminology', 'terms', 'terrace', 'terrain', 'terrible', 'territories', 'territory', 'terror', 'terrorism', 'terrorist', 'terrorists', 'terry', 'test', 'testament', 'tested', 'testimonials', 'testimony', 'testing', 'tests', 'tex', 'texas', 'text', 'textbook', 'textbooks', 'textile', 'textiles', 'texts', 'texture', 'tf', 'tft', 'tgp', 'th', 'thai', 'thailand', 'than', 'thank', 'thanks', 'thanksgiving', 'that', 'thats', 'the', 'theater', 'theaters', 'theatre', 'thee', 'theft', 'thehun', 'their', 'them', 'theme', 'themes', 'themselves', 'then', 'theology', 'theorem', 'theoretical', 'theories', 'theory', 'therapeutic', 'therapist', 'therapy', 'there', 'thereafter', 'thereby', 'therefore', 'thereof', 'thermal', 'thesaurus', 'these', 'thesis', 'they', 'thick', 'thickness', 'thin', 'thing', 'things', 'think', 'thinking', 'thinkpad', 'thinks', 'third', 'thirty', 'this', 'thomas', 'thompson', 'thomson', 'thong', 'thongs', 'thorough', 'thoroughly', 'those', 'thou', 'though', 'thought', 'thoughts', 'thousand', 'thousands', 'thread', 'threaded', 'threads', 'threat', 'threatened', 'threatening', 'threats', 'three', 'threesome', 'threshold', 'thriller', 'throat', 'through', 'throughout', 'throw', 'throwing', 'thrown', 'throws', 'thru', 'thu', 'thumb', 'thumbnail', 'thumbnails', 'thumbs', 'thumbzilla', 'thunder', 'thursday', 'thus', 'thy', 'ti', 'ticket', 'tickets', 'tide', 'tie', 'tied', 'tier', 'ties', 'tiffany', 'tiger', 'tigers', 'tight', 'til', 'tile', 'tiles', 'till', 'tim', 'timber', 'time', 'timeline', 'timely', 'timer', 'times', 'timing', 'timothy', 'tin', 'tiny', 'tion', 'tions', 'tip', 'tips', 'tire', 'tired', 'tires', 'tissue', 'tit', 'titanium', 'titans', 'title', 'titled', 'titles', 'tits', 'titten', 'tm', 'tmp', 'tn', 'to', 'tobacco', 'tobago', 'today', 'todd', 'toddler', 'toe', 'together', 'toilet', 'token', 'tokyo', 'told', 'tolerance', 'toll', 'tom', 'tomato', 'tomatoes', 'tommy', 'tomorrow', 'ton', 'tone', 'toner', 'tones', 'tongue', 'tonight', 'tons', 'tony', 'too', 'took', 'tool', 'toolbar', 'toolbox', 'toolkit', 'tools', 'tooth', 'top', 'topic', 'topics', 'topless', 'tops', 'toronto', 'torture', 'toshiba', 'total', 'totally', 'totals', 'touch', 'touched', 'tough', 'tour', 'touring', 'tourism', 'tourist', 'tournament', 'tournaments', 'tours', 'toward', 'towards', 'tower', 'towers', 'town', 'towns', 'township', 'toxic', 'toy', 'toyota', 'toys', 'tp', 'tr', 'trace', 'track', 'trackback', 'trackbacks', 'tracked', 'tracker', 'tracking', 'tracks', 'tract', 'tractor', 'tracy', 'trade', 'trademark', 'trademarks', 'trader', 'trades', 'trading', 'tradition', 'traditional', 'traditions', 'traffic', 'tragedy', 'trail', 'trailer', 'trailers', 'trails', 'train', 'trained', 'trainer', 'trainers', 'training', 'trains', 'tramadol', 'trance', 'tranny', 'trans', 'transaction', 'transactions', 'transcript', 'transcription', 'transcripts', 'transexual', 'transexuales', 'transfer', 'transferred', 'transfers', 'transform', 'transformation', 'transit', 'transition', 'translate', 'translated', 'translation', 'translations', 'translator', 'transmission', 'transmit', 'transmitted', 'transparency', 'transparent', 'transport', 'transportation', 'transsexual', 'trap', 'trash', 'trauma', 'travel', 'traveler', 'travelers', 'traveling', 'traveller', 'travelling', 'travels', 'travesti', 'travis', 'tray', 'treasure', 'treasurer', 'treasures', 'treasury', 'treat', 'treated', 'treating', 'treatment', 'treatments', 'treaty', 'tree', 'trees', 'trek', 'trembl', 'tremendous', 'trend', 'trends', 'treo', 'tri', 'trial', 'trials', 'triangle', 'tribal', 'tribe', 'tribes', 'tribunal', 'tribune', 'tribute', 'trick', 'tricks', 'tried', 'tries', 'trigger', 'trim', 'trinidad', 'trinity', 'trio', 'trip', 'tripadvisor', 'triple', 'trips', 'triumph', 'trivia', 'troops', 'tropical', 'trouble', 'troubleshooting', 'trout', 'troy', 'truck', 'trucks', 'true', 'truly', 'trunk', 'trust', 'trusted', 'trustee', 'trustees', 'trusts', 'truth', 'try', 'trying', 'ts', 'tsunami', 'tt', 'tu', 'tub', 'tube', 'tubes', 'tucson', 'tue', 'tuesday', 'tuition', 'tulsa', 'tumor', 'tune', 'tuner', 'tunes', 'tuning', 'tunisia', 'tunnel', 'turbo', 'turkey', 'turkish', 'turn', 'turned', 'turner', 'turning', 'turns', 'turtle', 'tutorial', 'tutorials', 'tv', 'tvcom', 'tvs', 'twelve', 'twenty', 'twice', 'twiki', 'twin', 'twinks', 'twins', 'twist', 'twisted', 'two', 'tx', 'ty', 'tyler', 'type', 'types', 'typical', 'typically', 'typing', 'u', 'uc', 'uganda', 'ugly', 'uh', 'ui', 'uk', 'ukraine', 'ul', 'ultimate', 'ultimately', 'ultra', 'ultram', 'um', 'un', 'una', 'unable', 'unauthorized', 'unavailable', 'uncertainty', 'uncle', 'und', 'undefined', 'under', 'undergraduate', 'underground', 'underlying', 'understand', 'understanding', 'understood', 'undertake', 'undertaken', 'underwear', 'undo', 'une', 'unemployment', 'unexpected', 'unfortunately', 'uni', 'unified', 'uniform', 'union', 'unions', 'uniprotkb', 'unique', 'unit', 'united', 'units', 'unity', 'univ', 'universal', 'universe', 'universities', 'university', 'unix', 'unknown', 'unless', 'unlike', 'unlikely', 'unlimited', 'unlock', 'unnecessary', 'unsigned', 'unsubscribe', 'until', 'untitled', 'unto', 'unusual', 'unwrap', 'up', 'upc', 'upcoming', 'update', 'updated', 'updates', 'updating', 'upgrade', 'upgrades', 'upgrading', 'upload', 'uploaded', 'upon', 'upper', 'ups', 'upset', 'upskirt', 'upskirts', 'ur', 'urban', 'urge', 'urgent', 'uri', 'url', 'urls', 'uruguay', 'urw', 'us', 'usa', 'usage', 'usb', 'usc', 'usd', 'usda', 'use', 'used', 'useful', 'user', 'username', 'users', 'uses', 'usgs', 'using', 'usps', 'usr', 'usual', 'usually', 'ut', 'utah', 'utc', 'utilities', 'utility', 'utilization', 'utilize', 'utils', 'uv', 'uw', 'uzbekistan', 'v', 'va', 'vacancies', 'vacation', 'vacations', 'vaccine', 'vacuum', 'vagina', 'val', 'valentine', 'valid', 'validation', 'validity', 'valium', 'valley', 'valuable', 'valuation', 'value', 'valued', 'values', 'valve', 'valves', 'vampire', 'van', 'vancouver', 'vanilla', 'var', 'variable', 'variables', 'variance', 'variation', 'variations', 'varied', 'varies', 'variety', 'various', 'vary', 'varying', 'vast', 'vat', 'vatican', 'vault', 'vb', 'vbulletin', 'vc', 'vcr', 've', 'vector', 'vegas', 'vegetable', 'vegetables', 'vegetarian', 'vegetation', 'vehicle', 'vehicles', 'velocity', 'velvet', 'vendor', 'vendors', 'venezuela', 'venice', 'venture', 'ventures', 'venue', 'venues', 'ver', 'verbal', 'verde', 'verification', 'verified', 'verify', 'verizon', 'vermont', 'vernon', 'verse', 'version', 'versions', 'versus', 'vertex', 'vertical', 'very', 'verzeichnis', 'vessel', 'vessels', 'veteran', 'veterans', 'veterinary', 'vg', 'vhs', 'vi', 'via', 'viagra', 'vibrator', 'vibrators', 'vic', 'vice', 'victim', 'victims', 'victor', 'victoria', 'victorian', 'victory', 'vid', 'video', 'videos', 'vids', 'vienna', 'vietnam', 'vietnamese', 'view', 'viewed', 'viewer', 'viewers', 'viewing', 'viewpicture', 'views', 'vii', 'viii', 'viking', 'villa', 'village', 'villages', 'villas', 'vincent', 'vintage', 'vinyl', 'violation', 'violations', 'violence', 'violent', 'violin', 'vip', 'viral', 'virgin', 'virginia', 'virtual', 'virtually', 'virtue', 'virus', 'viruses', 'visa', 'visibility', 'visible', 'vision', 'visit', 'visited', 'visiting', 'visitor', 'visitors', 'visits', 'vista', 'visual', 'vital', 'vitamin', 'vitamins', 'vocabulary', 'vocal', 'vocals', 'vocational', 'voice', 'voices', 'void', 'voip', 'vol', 'volkswagen', 'volleyball', 'volt', 'voltage', 'volume', 'volumes', 'voluntary', 'volunteer', 'volunteers', 'volvo', 'von', 'vote', 'voted', 'voters', 'votes', 'voting', 'voyeur', 'voyeurweb', 'voyuer', 'vp', 'vpn', 'vs', 'vsnet', 'vt', 'vulnerability', 'vulnerable', 'w', 'wa', 'wage', 'wages', 'wagner', 'wagon', 'wait', 'waiting', 'waiver', 'wake', 'wal', 'wales', 'walk', 'walked', 'walker', 'walking', 'walks', 'wall', 'wallace', 'wallet', 'wallpaper', 'wallpapers', 'walls', 'walnut', 'walt', 'walter', 'wan', 'wang', 'wanna', 'want', 'wanted', 'wanting', 'wants', 'war', 'warcraft', 'ward', 'ware', 'warehouse', 'warm', 'warming', 'warned', 'warner', 'warning', 'warnings', 'warrant', 'warranties', 'warranty', 'warren', 'warrior', 'warriors', 'wars', 'was', 'wash', 'washer', 'washing', 'washington', 'waste', 'watch', 'watched', 'watches', 'watching', 'water', 'waterproof', 'waters', 'watershed', 'watson', 'watt', 'watts', 'wav', 'wave', 'waves', 'wax', 'way', 'wayne', 'ways', 'wb', 'wc', 'we', 'weak', 'wealth', 'weapon', 'weapons', 'wear', 'wearing', 'weather', 'web', 'webcam', 'webcams', 'webcast', 'weblog', 'weblogs', 'webmaster', 'webmasters', 'webpage', 'webshots', 'website', 'websites', 'webster', 'wed', 'wedding', 'weddings', 'wednesday', 'weed', 'week', 'weekend', 'weekends', 'weekly', 'weeks', 'weight', 'weighted', 'weights', 'weird', 'welcome', 'welding', 'welfare', 'well', 'wellington', 'wellness', 'wells', 'welsh', 'wendy', 'went', 'were', 'wesley', 'west', 'western', 'westminster', 'wet', 'whale', 'what', 'whatever', 'whats', 'wheat', 'wheel', 'wheels', 'when', 'whenever', 'where', 'whereas', 'wherever', 'whether', 'which', 'while', 'whilst', 'white', 'who', 'whole', 'wholesale', 'whom', 'whore', 'whose', 'why', 'wi', 'wichita', 'wicked', 'wide', 'widely', 'wider', 'widescreen', 'widespread', 'width', 'wife', 'wifi', 'wiki', 'wikipedia', 'wild', 'wilderness', 'wildlife', 'wiley', 'will', 'william', 'williams', 'willing', 'willow', 'wilson', 'win', 'wind', 'window', 'windows', 'winds', 'windsor', 'wine', 'wines', 'wing', 'wings', 'winner', 'winners', 'winning', 'wins', 'winston', 'winter', 'wire', 'wired', 'wireless', 'wires', 'wiring', 'wisconsin', 'wisdom', 'wise', 'wish', 'wishes', 'wishlist', 'wit', 'witch', 'with', 'withdrawal', 'within', 'without', 'witness', 'witnesses', 'wives', 'wizard', 'wm', 'wma', 'wn', 'wolf', 'woman', 'women', 'womens', 'won', 'wonder', 'wonderful', 'wondering', 'wood', 'wooden', 'woods', 'wool', 'worcester', 'word', 'wordpress', 'words', 'work', 'worked', 'worker', 'workers', 'workflow', 'workforce', 'working', 'workout', 'workplace', 'works', 'workshop', 'workshops', 'workstation', 'world', 'worldcat', 'worlds', 'worldsex', 'worldwide', 'worm', 'worn', 'worried', 'worry', 'worse', 'worship', 'worst', 'worth', 'worthy', 'would', 'wound', 'wow', 'wp', 'wr', 'wrap', 'wrapped', 'wrapping', 'wrestling', 'wright', 'wrist', 'write', 'writer', 'writers', 'writes', 'writing', 'writings', 'written', 'wrong', 'wrote', 'ws', 'wt', 'wto', 'wu', 'wv', 'ww', 'www', 'wx', 'wy', 'wyoming', 'x', 'xanax', 'xbox', 'xerox', 'xhtml', 'xi', 'xl', 'xml', 'xnxx', 'xp', 'xx', 'xxx', 'y', 'ya', 'yacht', 'yahoo', 'yale', 'yamaha', 'yang', 'yard', 'yards', 'yarn', 'ye', 'yea', 'yeah', 'year', 'yearly', 'years', 'yeast', 'yellow', 'yemen', 'yen', 'yes', 'yesterday', 'yet', 'yield', 'yields', 'yn', 'yo', 'yoga', 'york', 'yorkshire', 'you', 'young', 'younger', 'your', 'yours', 'yourself', 'youth', 'yr', 'yrs', 'yu', 'yugoslavia', 'yukon', 'z', 'za', 'zambia', 'zdnet', 'zealand', 'zen', 'zero', 'zimbabwe', 'zinc', 'zip', 'zoloft', 'zone', 'zones', 'zoning', 'zoo', 'zoom', 'zoophilia', 'zope', 'zshops', 'zu', 'zum', 'zus', \"'\"]"
   ]
  },
  {
   "cell_type": "code",
   "execution_count": 21,
   "id": "b91db2bf-d48a-4daf-abdd-d1058fe9f60d",
   "metadata": {},
   "outputs": [
    {
     "name": "stdout",
     "output_type": "stream",
     "text": [
      "['wired', 'weird', 'wider']\n"
     ]
    }
   ],
   "source": [
    "from collections import Counter, defaultdict\n",
    "\n",
    "def anagram_check(word):\n",
    "    assert type(word) is str\n",
    "    \n",
    "    words = set(word.strip().lower() for word in commonwordslist)\n",
    "    anagrams = []\n",
    "    for w in words:\n",
    "        if sorted(w) == sorted(word):\n",
    "            anagrams.append(w)\n",
    "    return anagrams\n",
    "\n",
    "print(anagram_check('weird'))\n",
    "    "
   ]
  },
  {
   "cell_type": "markdown",
   "id": "eb939cb8-3c26-4cb8-a781-88706cba17ad",
   "metadata": {},
   "source": [
    "#### Letter frequencies"
   ]
  },
  {
   "cell_type": "code",
   "execution_count": 22,
   "id": "f08106e7-1cec-482b-8575-af1c0359ac2e",
   "metadata": {},
   "outputs": [
    {
     "name": "stdout",
     "output_type": "stream",
     "text": [
      "wearecodingletterfrequencyyay\n"
     ]
    }
   ],
   "source": [
    "# preprocess string and remove non-alphabetic characters\n",
    "def preprocess(S):\n",
    "    # preprocess string\n",
    "    words = S.replace(\" \", '').lower()\n",
    "    new_words = ''\n",
    "    for a_string in words:\n",
    "        if a_string.isalpha():\n",
    "            new_words += a_string\n",
    "    return new_words\n",
    "\n",
    "S = \"We are coding letter Frequency! Yay!\"\n",
    "print(preprocess(S))"
   ]
  },
  {
   "cell_type": "code",
   "execution_count": 23,
   "id": "2fec8e1b-8ff3-4096-a92f-e6e651c1e6b9",
   "metadata": {},
   "outputs": [
    {
     "name": "stdout",
     "output_type": "stream",
     "text": [
      "Counter({'e': 6, ' ': 5, 'r': 3, 'a': 2, 'c': 2, 'n': 2, 't': 2, 'y': 2, '!': 2, 'W': 1, 'o': 1, 'd': 1, 'i': 1, 'g': 1, 'l': 1, 'F': 1, 'q': 1, 'u': 1, 'Y': 1})\n"
     ]
    }
   ],
   "source": [
    "# count the number of occurrences of each letter in the alphabet\n",
    "from collections import Counter\n",
    "\n",
    "def count_letters(S):\n",
    "    # dictionary of letter counts\n",
    "    return Counter(S)\n",
    "    \n",
    "print(count_letters(S))"
   ]
  },
  {
   "cell_type": "code",
   "execution_count": 24,
   "id": "57e74f03-b64e-4fc5-865d-cbf28ce221a2",
   "metadata": {},
   "outputs": [
    {
     "name": "stdout",
     "output_type": "stream",
     "text": [
      "b\n"
     ]
    }
   ],
   "source": [
    "# find the first key in the sorted dictionary\n",
    "def find_top_letter(d):\n",
    "    # sorting a dictionary\n",
    "    sortdict = dict(sorted(d.items(), key=lambda x:x[1], reverse = True))\n",
    "    return list(sortdict.keys())[0]\n",
    "\n",
    "d = {'a': 4, 'b': 16, 'c': 8, 'd': 4, 'e': 15, 'f': 10, 'g': 0, 'h': 6, 'i': 16, 'j': 0, 'k': 7, 'l': 14, 'm': 2, 'n': 8, 'o': 1, 'p': 11, 'q': 7, 'r': 7, 's': 15, 't': 0, 'u': 3, 'v': 13, 'w': 1, 'x': 1, 'y': 9, 'z': 14}\n",
    "print(find_top_letter(d))"
   ]
  },
  {
   "cell_type": "markdown",
   "id": "2e00aac9-ad9f-485b-8453-2644f5d95df6",
   "metadata": {},
   "source": [
    "#### Invert dictionaries"
   ]
  },
  {
   "cell_type": "code",
   "execution_count": 25,
   "id": "bb611757-b2b9-44c8-83df-ec5998eed287",
   "metadata": {},
   "outputs": [
    {
     "name": "stdout",
     "output_type": "stream",
     "text": [
      "{'Jeh': ['Monday', 'Thursday', 'Sunday'], 'Ben': ['Monday', 'Thursday', 'Friday'], 'Chinmay': ['Monday', 'Wednesday', 'Saturday', 'Sunday'], 'Rachel': ['Monday', 'Tuesday', 'Friday', 'Sunday'], 'Samuel': ['Tuesday', 'Wednesday', 'Friday', 'Saturday'], 'Evan': ['Tuesday', 'Wednesday', 'Thursday', 'Sunday'], 'Raghav': ['Tuesday'], 'Michael': ['Wednesday', 'Thursday', 'Saturday'], 'Shishir': ['Friday'], 'Yandi': ['Saturday']}\n"
     ]
    }
   ],
   "source": [
    "assignments = {\"Monday\" : [\"Jeh\", \"Ben\", \"Chinmay\", \"Rachel\"],\n",
    "               \"Tuesday\" : [\"Rachel\", \"Samuel\", \"Evan\", \"Raghav\"],\n",
    "               \"Wednesday\" : [\"Evan\", \"Samuel\", \"Michael\", \"Chinmay\"],\n",
    "               \"Thursday\" : [\"Jeh\", \"Michael\", \"Ben\", \"Evan\"],\n",
    "               \"Friday\" : [\"Rachel\", \"Shishir\", \"Samuel\", \"Ben\"],\n",
    "               \"Saturday\" : [\"Yandi\", \"Michael\", \"Chinmay\", \"Samuel\"],\n",
    "               \"Sunday\" : [\"Evan\", \"Chinmay\", \"Jeh\", \"Rachel\"]\n",
    "               }\n",
    "\n",
    "# returns an inverted dictionary \n",
    "from collections import defaultdict\n",
    "\n",
    "def invert_dict(d): \n",
    "    inverse = dict() \n",
    "    for key in d: \n",
    "        # Go through the list that is saved in the dict:\n",
    "        for item in d[key]:\n",
    "            # Check if in the inverted dict the key exists\n",
    "            if item not in inverse: \n",
    "                # If not create a new list\n",
    "                inverse[item] = [key] \n",
    "            else: \n",
    "                inverse[item].append(key) \n",
    "    return inverse\n",
    "\n",
    "print(invert_dict(assignments))"
   ]
  },
  {
   "cell_type": "code",
   "execution_count": 26,
   "id": "068ee56f-d474-46b3-982a-ff5d1a25f60f",
   "metadata": {},
   "outputs": [
    {
     "name": "stdout",
     "output_type": "stream",
     "text": [
      "SFO\n"
     ]
    }
   ],
   "source": [
    "segments = [(\"JFK\", \"DEN\"), (\"LAX\", \"ORD\"), (\"DEN\", \"SFO\"), (\"LAS\", \"LAX\"), (\"ORD\", \"ATL\"), (\"ATL\", \"JFK\"), (\"SFO\", \"LAS\")]\n",
    "\n",
    "# Returns the next destination of the pilot given one port of origin and an unordered list of flight segments\n",
    "def find_dest(segs, origin):\n",
    "    assert type(origin) is str\n",
    "    assert type(segs) is list\n",
    "    \n",
    "    # convert list of tuple to dictionary items\n",
    "    segments_dict = dict((key, value) for key, value in segments)\n",
    "    \n",
    "    for k, v in segments_dict.items():\n",
    "        if origin == k:\n",
    "            return v     \n",
    "\n",
    "print(find_dest(segments, \"DEN\"))"
   ]
  },
  {
   "cell_type": "code",
   "execution_count": 27,
   "id": "948bacaf-ead6-41f8-b072-6e8c7ff61863",
   "metadata": {},
   "outputs": [
    {
     "name": "stdout",
     "output_type": "stream",
     "text": [
      "['JFK', 'DEN', 'SFO', 'LAS', 'LAX', 'ORD', 'ATL']\n"
     ]
    }
   ],
   "source": [
    "# Trace the complete itinerary of the pilot, given her first port of origin\n",
    "def get_route(path, origin):\n",
    "    \n",
    "    new_route = [origin]\n",
    "    next_dest = find_dest(path, origin)\n",
    "    while next_dest != origin:\n",
    "        new_route.append(next_dest)\n",
    "        next_dest = find_dest(path, next_dest)\n",
    "    return new_route \n",
    "        \n",
    "print(get_route(segments, 'JFK'))"
   ]
  },
  {
   "cell_type": "code",
   "execution_count": 28,
   "id": "67d92a4d-e285-4247-8802-effe4e999712",
   "metadata": {},
   "outputs": [
    {
     "name": "stdout",
     "output_type": "stream",
     "text": [
      "[8, 2, 3, 5, 4, 3, 1]\n"
     ]
    }
   ],
   "source": [
    "# Returns the digits of n as the integer elements of a list in reversed order\n",
    "def digitize(n):\n",
    "    assert n > 0, '`n` is not a positive number'\n",
    "    assert type(n) is int, '`n` must be an `int`'\n",
    "    \n",
    "    return list(map(int, reversed(str(n))))\n",
    "\n",
    "print(digitize(1345328))"
   ]
  },
  {
   "cell_type": "code",
   "execution_count": 29,
   "id": "59877edf-89c3-4cf3-9c08-ea93f83ebebd",
   "metadata": {},
   "outputs": [
    {
     "name": "stdout",
     "output_type": "stream",
     "text": [
      "[('Albert', 'one'), ('Chris', 'two'), ('Jen', 'three')]\n"
     ]
    }
   ],
   "source": [
    "# zip two list togehther\n",
    "seq1 = ['Albert', 'Chris', 'Jen']\n",
    "seq2 = ['one', 'two', 'three']\n",
    "\n",
    "# create the zip list directly\n",
    "zip_list2 = list(zip(seq1, seq2))\n",
    "print(zip_list2)"
   ]
  },
  {
   "cell_type": "code",
   "execution_count": 30,
   "id": "e1c9a0af-e4e2-4cad-973e-695a78474619",
   "metadata": {},
   "outputs": [
    {
     "name": "stdout",
     "output_type": "stream",
     "text": [
      "{'Albert': 'one', 'Chris': 'two', 'Jen': 'three'}\n",
      "{'one': 'Albert', 'two': 'Chris', 'three': 'Jen'}\n"
     ]
    }
   ],
   "source": [
    "# create dictionary from two list\n",
    "from collections import defaultdict\n",
    "\n",
    "zip_dict = defaultdict()\n",
    "zip_dict = {name: number for name, number in zip(seq1, seq2)}\n",
    "print(zip_dict)\n",
    "\n",
    "# reverse a dictionary from zipped list\n",
    "zip_dict_reversed = defaultdict()\n",
    "zip_dict_reversed = {number: name for name, number in zip(seq1, seq2)}\n",
    "print(zip_dict_reversed)"
   ]
  },
  {
   "cell_type": "markdown",
   "id": "7ac0aad7-ecf3-483c-8750-866561e26ae0",
   "metadata": {},
   "source": [
    "#### Nested data structure"
   ]
  },
  {
   "cell_type": "code",
   "execution_count": 31,
   "id": "febd7116-45e0-4ee0-b213-c082dafbad73",
   "metadata": {},
   "outputs": [],
   "source": [
    "my_family = [\n",
    "  { \"family_name\": \"Tunnicliffe\",\n",
    "    \"num_people\": 4,\n",
    "    \"local\": True,\n",
    "    \"city\": \"Bethpage, NY\",\n",
    "    \"date_established\": 2014,\n",
    "    \"names\": [\"Diane\", \"Steve\", \"Dylan\", \"Landon\"],\n",
    "    \"number_of_children\": 2,\n",
    "    \"children\": [\n",
    "      {\n",
    "        \"name\": \"Dylan\",\n",
    "        \"age\": 5,\n",
    "        \"favorite_color\": \"black\",\n",
    "        \"nickname\": \"Dillybeans\",\n",
    "        \"loves\": \"Super Mario\",\n",
    "      },\n",
    "      {\n",
    "        \"name\": \"Landon\",\n",
    "        \"age\": 2,\n",
    "        \"favorite_color\": \"blue\",\n",
    "        \"nickname\": \"Landybean\",\n",
    "        \"loves\": \"trucks\",\n",
    "      }\n",
    "    ]\n",
    "  },\n",
    "  { \"family_name\": \"Agulnick\",\n",
    "    \"num_people\": 5,\n",
    "    \"local\": False,\n",
    "    \"city\": \"Newton, MA\",\n",
    "    \"date_established\": 1987,\n",
    "    \"names\": [\"Ellen\", \"Mark\", \"Diane\", \"Joshua\", \"Allison\"],\n",
    "    \"number_of_children\": 3,\n",
    "    \"children\": [\n",
    "      {\n",
    "        \"name\": \"Diane\",\n",
    "        \"age\": 31,\n",
    "        \"favorite_color\": \"pink\",\n",
    "        \"nickname\": \"Dini\",\n",
    "        \"loves\": \"unicorns\",\n",
    "      },\n",
    "      {\n",
    "        \"name\": \"Joshua\",\n",
    "        \"age\": 28,\n",
    "        \"favorite_color\": \"red\",\n",
    "        \"nickname\": \"Joshie\",\n",
    "        \"loves\": \"trains\",\n",
    "      },\n",
    "      {\n",
    "        \"name\": \"Allison\",\n",
    "        \"age\": 26,\n",
    "        \"favorite_color\": \"purple\",\n",
    "        \"nickname\": \"Alli\",\n",
    "        \"loves\": \"candy\",\n",
    "      }\n",
    "    ]\n",
    "  }\n",
    "]"
   ]
  },
  {
   "cell_type": "code",
   "execution_count": 32,
   "id": "a8d99677-520d-438e-a297-23dcaecad96f",
   "metadata": {},
   "outputs": [
    {
     "name": "stdout",
     "output_type": "stream",
     "text": [
      "{'family_name': 'Tunnicliffe', 'num_people': 4, 'local': True, 'city': 'Bethpage, NY', 'date_established': 2014, 'names': ['Diane', 'Steve', 'Dylan', 'Landon'], 'number_of_children': 2, 'children': [{'name': 'Dylan', 'age': 5, 'favorite_color': 'black', 'nickname': 'Dillybeans', 'loves': 'Super Mario'}, {'name': 'Landon', 'age': 2, 'favorite_color': 'blue', 'nickname': 'Landybean', 'loves': 'trucks'}]}\n",
      "{'family_name': 'Agulnick', 'num_people': 5, 'local': False, 'city': 'Newton, MA', 'date_established': 1987, 'names': ['Ellen', 'Mark', 'Diane', 'Joshua', 'Allison'], 'number_of_children': 3, 'children': [{'name': 'Diane', 'age': 31, 'favorite_color': 'pink', 'nickname': 'Dini', 'loves': 'unicorns'}, {'name': 'Joshua', 'age': 28, 'favorite_color': 'red', 'nickname': 'Joshie', 'loves': 'trains'}, {'name': 'Allison', 'age': 26, 'favorite_color': 'purple', 'nickname': 'Alli', 'loves': 'candy'}]}\n"
     ]
    }
   ],
   "source": [
    "for item in my_family:\n",
    "    print(item)"
   ]
  },
  {
   "cell_type": "code",
   "execution_count": 33,
   "id": "f39c68b4-ddd0-4f88-9284-752e215b14c3",
   "metadata": {},
   "outputs": [
    {
     "name": "stdout",
     "output_type": "stream",
     "text": [
      "['Dylan', 'Landon', 'Diane', 'Joshua', 'Allison']\n"
     ]
    }
   ],
   "source": [
    "# put names of all children in list\n",
    "children_names = []\n",
    "for item in my_family:\n",
    "    for child in item['children']:\n",
    "        children_names.append(child['name'])\n",
    "print(children_names)"
   ]
  },
  {
   "cell_type": "code",
   "execution_count": 34,
   "id": "8e4d056a-e6c1-4d9c-8280-5fc519d5b61d",
   "metadata": {},
   "outputs": [
    {
     "name": "stdout",
     "output_type": "stream",
     "text": [
      "['Dillybeans', 'Landybean', 'Dini', 'Joshie', 'Alli']\n"
     ]
    }
   ],
   "source": [
    "# put nicknames of all children in list\n",
    "children_names = []\n",
    "for item in my_family:\n",
    "    for child in item['children']:\n",
    "        children_names.append(child['nickname'])\n",
    "print(children_names)"
   ]
  },
  {
   "cell_type": "code",
   "execution_count": 35,
   "id": "a2dca44d-d30a-4e9f-b700-c1d75e2b569e",
   "metadata": {},
   "outputs": [
    {
     "name": "stdout",
     "output_type": "stream",
     "text": [
      "[('Diane', 31), ('Joshua', 28), ('Allison', 26)]\n"
     ]
    }
   ],
   "source": [
    "# Find names and ages of children in the non-local family unit and put into a list\n",
    "names_and_ages = []\n",
    "for item in my_family:\n",
    "    if item['local'] == False:\n",
    "        for child in item['children']:\n",
    "            names_ages = child['name'], child['age']\n",
    "            names_and_ages.append(names_ages)\n",
    "print(names_and_ages)"
   ]
  },
  {
   "cell_type": "code",
   "execution_count": 36,
   "id": "e8e554cc-80cf-4633-997f-804a08e4ba82",
   "metadata": {},
   "outputs": [
    {
     "name": "stdout",
     "output_type": "stream",
     "text": [
      "Dylan\n"
     ]
    }
   ],
   "source": [
    "# Which child loves Super Mario?\n",
    "for item in my_family:\n",
    "    for child in item['children']:\n",
    "        if child['loves'] == 'Super Mario':\n",
    "            print(child['name'])"
   ]
  },
  {
   "cell_type": "code",
   "execution_count": 37,
   "id": "3fa6a2bc-73b7-4dfa-878a-93c725e62817",
   "metadata": {},
   "outputs": [
    {
     "name": "stdout",
     "output_type": "stream",
     "text": [
      "Joshua is still very much into trains, even at the age of 28.\n"
     ]
    }
   ],
   "source": [
    "# Who is into trains, and at what age?\n",
    "for item in my_family:\n",
    "    for child in item['children']:\n",
    "        if child['loves'] == 'trains':\n",
    "            loves_trains = child['name']\n",
    "            loves_trains_age = child['age']\n",
    "print (f\"{loves_trains} is still very much into trains, even at the age of {loves_trains_age}.\")"
   ]
  },
  {
   "cell_type": "code",
   "execution_count": 38,
   "id": "c573407d-c992-4fc6-b3b4-8ce7b38f0cb5",
   "metadata": {},
   "outputs": [
    {
     "name": "stdout",
     "output_type": "stream",
     "text": [
      "Landon's favorite color is blue.\n"
     ]
    }
   ],
   "source": [
    "# Who likes blue color\n",
    "for item in my_family:\n",
    "    for child in item['children']:\n",
    "        if child['favorite_color'] == 'blue':\n",
    "            loves_blue = child['name']\n",
    "print(\"{}'s favorite color is blue.\".format(loves_blue))"
   ]
  },
  {
   "cell_type": "code",
   "execution_count": 39,
   "id": "f813428a-9673-4d26-ba3b-b5d8c6209adb",
   "metadata": {},
   "outputs": [
    {
     "name": "stdout",
     "output_type": "stream",
     "text": [
      "[('Diane', 31), ('Joshua', 28), ('Allison', 26), ('Dylan', 5), ('Landon', 2)]\n",
      "Diane is the oldest at 31 years\n",
      "Landon is the youngest at 2 years\n"
     ]
    }
   ],
   "source": [
    "# Oldest and Youngest child\n",
    "children_ages = []\n",
    "children_names = []\n",
    "for item in my_family:\n",
    "    for child in item['children']:\n",
    "        children_ages.append(child['age'])\n",
    "        children_names.append(child['name'])\n",
    "name_age_list = sorted(list(name_ages for name_ages in zip(children_names, children_ages)), key=lambda x:x[1], reverse = True)\n",
    "print(name_age_list)\n",
    "print(\"{} is the oldest at {} years\".format(name_age_list[0][0], name_age_list[0][1]))\n",
    "print(\"{} is the youngest at {} years\".format(name_age_list[-1][0], name_age_list[-1][1]))\n",
    "   "
   ]
  },
  {
   "cell_type": "markdown",
   "id": "bc531063-ffce-4dfa-a507-df2cd14ecfdc",
   "metadata": {},
   "source": [
    "### Topic 2: Pairwise Association Mining"
   ]
  },
  {
   "cell_type": "code",
   "execution_count": 40,
   "id": "eb08d73d-2e95-45b7-a249-791b6dc42508",
   "metadata": {},
   "outputs": [
    {
     "name": "stdout",
     "output_type": "stream",
     "text": [
      "First 100 characters:\n",
      "  \n",
      "Sed ut perspiciatis, unde omnis iste natus error sit voluptatem accusantium doloremque laudantium,  ...\n"
     ]
    }
   ],
   "source": [
    "latin_text = \"\"\"\n",
    "Sed ut perspiciatis, unde omnis iste natus error sit voluptatem accusantium doloremque laudantium, totam\n",
    "rem aperiam eaque ipsa, quae ab illo inventore veritatis et quasi architecto beatae vitae dicta\n",
    "sunt, explicabo. Nemo enim ipsam voluptatem, quia voluptas sit, aspernatur aut odit aut fugit, sed\n",
    "quia consequuntur magni dolores eos, qui ratione voluptatem sequi nesciunt, neque porro quisquam est,\n",
    "qui dolorem ipsum, quia dolor sit amet consectetur adipisci[ng] velit, sed quia non numquam [do] eius\n",
    "modi tempora inci[di]dunt, ut labore et dolore magnam aliquam quaerat voluptatem. Ut enim ad minima\n",
    "veniam, quis nostrum exercitationem ullam corporis suscipit laboriosam, nisi ut aliquid ex ea commodi\n",
    "consequatur? Quis autem vel eum iure reprehenderit, qui in ea voluptate velit esse, quam nihil molestiae\n",
    "consequatur, vel illum, qui dolorem eum fugiat, quo voluptas nulla pariatur?\n",
    "\n",
    "At vero eos et accusamus et iusto odio dignissimos ducimus, qui blanditiis praesentium voluptatum\n",
    "deleniti atque corrupti, quos dolores et quas molestias excepturi sint, obcaecati cupiditate non\n",
    "provident, similique sunt in culpa, qui officia deserunt mollitia animi, id est laborum et dolorum\n",
    "fuga. Et harum quidem rerum facilis est et expedita distinctio. Nam libero tempore, cum soluta nobis est\n",
    "eligendi optio, cumque nihil impedit, quo minus id, quod maxime placeat, facere possimus, omnis voluptas\n",
    "assumenda est, omnis dolor repellendus. Temporibus autem quibusdam et aut officiis debitis aut rerum\n",
    "necessitatibus saepe eveniet, ut et voluptates repudiandae sint et molestiae non recusandae. Itaque\n",
    "earum rerum hic tenetur a sapiente delectus, ut aut reiciendis voluptatibus maiores alias consequatur\n",
    "aut perferendis doloribus asperiores repellat. \"\"\"\n",
    "\n",
    "print(\"First 100 characters:\\n  {} ...\".format(latin_text[:100]))"
   ]
  },
  {
   "cell_type": "code",
   "execution_count": 41,
   "id": "86abee22-3b57-466f-a464-763438582cfd",
   "metadata": {},
   "outputs": [
    {
     "name": "stdout",
     "output_type": "stream",
     "text": [
      "\n",
      "Sed ut perspiciatis, unde omnis iste natus error sit voluptatem accusantium doloremque laudantium,  ...\n",
      "=> \n",
      "sed ut perspiciatis unde omnis iste natus error sit voluptatem accusantium doloremque laudantium  ...\n"
     ]
    }
   ],
   "source": [
    "# convert to lowercase and remove all non-alphabetic, non-whitespace characters\n",
    "def normalize_string(s):\n",
    "    assert type (s) is str\n",
    "    # remove non-alphabetic characters and convert to lowercase\n",
    "    return ''.join([c for c in s.lower() if c.isalpha() or c.isspace()])\n",
    "\n",
    "# Demo:\n",
    "print(latin_text[:100], \"...\\n=>\", normalize_string(latin_text[:100]), \"...\")"
   ]
  },
  {
   "cell_type": "code",
   "execution_count": 42,
   "id": "2326e35d-5d9b-4b0f-b688-34fcf33b84a7",
   "metadata": {},
   "outputs": [
    {
     "name": "stdout",
     "output_type": "stream",
     "text": [
      "First five words:\n",
      "['sed', 'ut', 'perspiciatis', 'unde', 'omnis']\n"
     ]
    }
   ],
   "source": [
    "# return list of words from normalize string\n",
    "def get_normalized_words (s):\n",
    "    assert type(s) is str\n",
    "    # normalize string and return list\n",
    "    normalized_string = normalize_string(s)\n",
    "    return normalized_string.split()\n",
    "\n",
    "# Demo:\n",
    "print(\"First five words:\\n{}\".format(get_normalized_words(latin_text)[:5]))"
   ]
  },
  {
   "cell_type": "code",
   "execution_count": 43,
   "id": "edf9e2c7-5e66-4a46-9eab-3ad4f2c9fb84",
   "metadata": {},
   "outputs": [
    {
     "data": {
      "text/plain": [
       "[{'d', 'e', 's'},\n",
       " {'t', 'u'},\n",
       " {'a', 'c', 'e', 'i', 'p', 'r', 's', 't'},\n",
       " {'d', 'e', 'n', 'u'},\n",
       " {'i', 'm', 'n', 'o', 's'}]"
      ]
     },
     "execution_count": 43,
     "metadata": {},
     "output_type": "execute_result"
    }
   ],
   "source": [
    "# characters of each string into an itemset and then return the list of all itemsets\n",
    "def make_itemsets(words):\n",
    "    # convert characters in list to itemset\n",
    "    return [set(a) for a in words]\n",
    "    \n",
    "make_itemsets(['sed', 'ut', 'perspiciatis', 'unde', 'omnis'])"
   ]
  },
  {
   "cell_type": "code",
   "execution_count": 44,
   "id": "58181f14-5902-46ed-b1e0-e0590d6c5f3e",
   "metadata": {},
   "outputs": [
    {
     "name": "stdout",
     "output_type": "stream",
     "text": [
      "defaultdict(<class 'int'>, {('r', 'o'): 1, ('o', 'r'): 1, ('r', 'e'): 1, ('e', 'r'): 1, ('o', 'e'): 1, ('e', 'o'): 1})\n"
     ]
    }
   ],
   "source": [
    "# enumerates all item-pairs within an itemset and updates, \n",
    "# in-place, a table that tracks the counts of those item-pairs.\n",
    "from collections import defaultdict\n",
    "from itertools import combinations # Hint!\n",
    "\n",
    "def update_pair_counts (pair_counts, itemset):\n",
    "    \"\"\"\n",
    "    Updates a dictionary of pair counts for\n",
    "    all pairs of items in a given itemset.\n",
    "    \"\"\"\n",
    "    assert type (pair_counts) is defaultdict\n",
    "\n",
    "    # default dictionary and counting\n",
    "    for a, b in combinations(itemset, 2):\n",
    "        pair_counts[(a, b)] += 1\n",
    "        pair_counts[(b, a)] += 1\n",
    "    return pair_counts\n",
    "        \n",
    "itemset_1 = set(\"error\")\n",
    "itemset_2 = set(\"dolor\")\n",
    "pair_counts = defaultdict(int)\n",
    "print(update_pair_counts(pair_counts, itemset_1))"
   ]
  },
  {
   "cell_type": "code",
   "execution_count": 48,
   "id": "f6aebe11-4c08-4876-b049-840dd1c2035a",
   "metadata": {},
   "outputs": [
    {
     "name": "stdout",
     "output_type": "stream",
     "text": [
      "defaultdict(<class 'int'>, {'d': 1, 'r': 1, 'o': 1, 'l': 1})\n"
     ]
    }
   ],
   "source": [
    "# given an itemset, updates a table to track counts of each item\n",
    "def update_item_counts(item_counts, itemset):\n",
    "    # count of each item in an itemset\n",
    "    for i in itemset:\n",
    "        item_counts[i] += 1\n",
    "    return item_counts\n",
    "\n",
    "item_counts = defaultdict(int)\n",
    "print(update_item_counts(item_counts, itemset_2))"
   ]
  },
  {
   "cell_type": "code",
   "execution_count": 50,
   "id": "dddd962f-19f7-4430-b9c0-502255d57e5f",
   "metadata": {},
   "outputs": [
    {
     "name": "stdout",
     "output_type": "stream",
     "text": [
      "Found these rules: {('man', 'woman'): 0.7142857142857143, ('red fish', 'blue fish'): 0.6363636363636364, ('one fish', 'two fish'): 0.5, ('two fish', 'one fish'): 0.5}\n"
     ]
    }
   ],
   "source": [
    "# `filter_rules_by_conf_test`: Test cell\n",
    "pair_counts = {('man', 'woman'): 5,\n",
    "               ('bird', 'bee'): 3,\n",
    "               ('red fish', 'blue fish'): 7,\n",
    "               ('one fish', 'two fish'): 1,\n",
    "               ('woman', 'man'): 5,\n",
    "               ('bee', 'bird'): 3,\n",
    "               ('blue fish', 'red fish'): 7,\n",
    "               ('two fish', 'one fish'): 1}\n",
    "item_counts = {'man': 7,\n",
    "               'bird': 9,\n",
    "               'red fish': 11,\n",
    "               'one fish': 2,\n",
    "               'woman': 120,\n",
    "               'bee': 110,\n",
    "               'blue fish': 95,\n",
    "               'two fish': 2}\n",
    "\n",
    "def filter_rules_by_conf (pair_counts, item_counts, threshold):\n",
    "    rules = {} # (item_a, item_b) -> conf (item_a => item_b)\n",
    "    # \n",
    "    for (a, b) in pair_counts:\n",
    "        assert a in item_counts\n",
    "        conf_ab = pair_counts[(a, b)] / item_counts[a]\n",
    "        if conf_ab >= threshold:\n",
    "            rules[(a, b)] = conf_ab\n",
    "    return rules\n",
    "\n",
    "rules = filter_rules_by_conf(pair_counts, item_counts, 0.5)\n",
    "print(\"Found these rules:\", rules)"
   ]
  },
  {
   "cell_type": "code",
   "execution_count": 51,
   "id": "86cfffeb-0dc7-4503-bdbc-f91d7c6e718b",
   "metadata": {},
   "outputs": [
    {
     "name": "stdout",
     "output_type": "stream",
     "text": [
      "{('c', 'a'): 1.0, ('a', 'c'): 0.6666666666666666, ('c', 'b'): 0.5, ('b', 'c'): 1.0, ('b', 'a'): 1.0}\n"
     ]
    }
   ],
   "source": [
    "def find_assoc_rules(receipts, threshold):\n",
    "    # create empty tables using default dictionaries\n",
    "    pair_counts = defaultdict(int)\n",
    "    item_counts = defaultdict(int)\n",
    "    # loop over receipts\n",
    "    for itemset in receipts:\n",
    "        # for each receipt, update count\n",
    "        update_pair_counts(pair_counts, itemset)\n",
    "        update_item_counts(item_counts, itemset)\n",
    "    # filter by confidence\n",
    "    rules = filter_rules_by_conf(pair_counts, item_counts, threshold)\n",
    "    return rules\n",
    "\n",
    "receipts = [set('abbc'), set('ac'), set('a')]\n",
    "rules = find_assoc_rules(receipts, 0.5)\n",
    "print(rules)"
   ]
  },
  {
   "cell_type": "markdown",
   "id": "1a462945-d864-42c9-83f1-03240bc36b67",
   "metadata": {},
   "source": [
    "#### Count items in a string as key-value pairs"
   ]
  },
  {
   "cell_type": "code",
   "execution_count": 46,
   "id": "5f4d8438-64dc-47f4-abbb-9e9a948db0c7",
   "metadata": {},
   "outputs": [
    {
     "name": "stdout",
     "output_type": "stream",
     "text": [
      "(1, Counter({'r': 3, 'e': 1, 'o': 1}))\n"
     ]
    }
   ],
   "source": [
    "# count items in a string as key-value pairs\n",
    "from collections import Counter\n",
    "def count_pairs(items):\n",
    "    frequency = Counter(items)\n",
    "    num_pairs = 0\n",
    "    for key in frequency:\n",
    "        num_pairs += frequency[key] // 2\n",
    "    return num_pairs, frequency\n",
    "\n",
    "print(count_pairs('error'))"
   ]
  },
  {
   "cell_type": "markdown",
   "id": "78062c19-21a6-4eae-911d-6138cf38c8b8",
   "metadata": {},
   "source": [
    "#### Find possible pairs in a list"
   ]
  },
  {
   "cell_type": "code",
   "execution_count": 47,
   "id": "0faafc37-e3c0-4075-a725-3b59993a848b",
   "metadata": {},
   "outputs": [
    {
     "name": "stdout",
     "output_type": "stream",
     "text": [
      "[('d', 'r'), ('d', 'o'), ('d', 'l'), ('r', 'o'), ('r', 'l'), ('o', 'l')]\n"
     ]
    }
   ],
   "source": [
    "# find all possible pairs in a list\n",
    "from itertools import combinations\n",
    "item = set('dolor')\n",
    "result = list(combinations(item, 2))\n",
    "print(result)"
   ]
  },
  {
   "cell_type": "markdown",
   "id": "29be281a-39d4-433f-8bea-b8c6880eda79",
   "metadata": {},
   "source": [
    "#### Intersection of two dictionary keys"
   ]
  },
  {
   "cell_type": "code",
   "execution_count": 56,
   "id": "6f9d40aa-cfa3-4d00-beb2-993a33b15a6d",
   "metadata": {},
   "outputs": [
    {
     "name": "stdout",
     "output_type": "stream",
     "text": [
      "{'gorilla'}\n"
     ]
    }
   ],
   "source": [
    "def intersect_keys(d1, d2):\n",
    "    assert type(d1) is dict or type(d1) is defaultdict\n",
    "    assert type(d2) is dict or type(d2) is defaultdict\n",
    "    \n",
    "    # intersection of two keys in a dictionary\n",
    "    return d1.keys() & d2.keys()\n",
    "\n",
    "d1 = {'ape': 'baboon', 'bonobo': 'chimp', 'gorilla': 'monkey'}\n",
    "d2 = {'gorilla': 'monkey', 'cat': 'dog'}\n",
    "print(intersect_keys(d1, d2))"
   ]
  },
  {
   "cell_type": "markdown",
   "id": "d16d73cf-80c7-4391-b191-69144c318c0e",
   "metadata": {},
   "source": [
    "#### Regular Expression"
   ]
  },
  {
   "cell_type": "code",
   "execution_count": 59,
   "id": "b28f401a-833c-4aa6-85d3-4583de0dbfab",
   "metadata": {},
   "outputs": [
    {
     "name": "stdout",
     "output_type": "stream",
     "text": [
      "\n",
      "False\n"
     ]
    }
   ],
   "source": [
    "# check for valid number or SSN\n",
    "def is_ssn(s):\n",
    "    for c in s:\n",
    "        if c.isalpha():\n",
    "            return False\n",
    "    if '-' not in s:\n",
    "        return False\n",
    "    item_split = s.split('-')\n",
    "    first_part = item_split[0]\n",
    "    second_part = item_split[1]\n",
    "    third_part = item_split[2]\n",
    "    if len(first_part) == 3 and len(second_part) == 2 and len(third_part) == 4:\n",
    "        return True\n",
    "    else:\n",
    "        return False\n",
    "    \n",
    "    \n",
    "\n",
    "s = '8323-8-1847'\n",
    "#print(len(item[2]))\n",
    "print()\n",
    "print(is_ssn(s))"
   ]
  },
  {
   "cell_type": "code",
   "execution_count": 57,
   "id": "e7e620b1-5816-41ad-8440-3fa09cb1cb35",
   "metadata": {},
   "outputs": [],
   "source": [
    "# parse email\n",
    "def parse_email (s):\n",
    "    \"\"\"Parses a string as an email address, returning an (id, domain) pair.\"\"\"\n",
    "    # parse email\n",
    "    re_parse = re.compile(r'''^                          # Beginning of string\n",
    "                                (?P<email>[a-zA-Z._+-]*) # email address\n",
    "                                ([\\@{1}])                \n",
    "                                (?P<domain>\\w.+[^0-9\\s]) # domain\n",
    "                                $                        # End of string\n",
    "                                ''',\n",
    "                        re.VERBOSE)\n",
    "        \n",
    "    a = re_parse.match(s)\n",
    "\n",
    "    try:\n",
    "        return (a.group('email'), a.group('domain'))\n",
    "    except AttributeError:\n",
    "        raise ValueError"
   ]
  },
  {
   "cell_type": "code",
   "execution_count": 58,
   "id": "00c69aed-97f9-4178-b445-27237a9ad6bb",
   "metadata": {},
   "outputs": [],
   "source": [
    "# parse phone number\n",
    "def parse_phone1 (s):\n",
    "    # parse phone number\n",
    "    re_parse = re.compile(r'''\\s*\\((?P<area_code>\\d{3})\\)\\s*(?P<first_three>\\d{3})\\-(?P<last_four>\\d{4})''', re.VERBOSE)\n",
    "    a = re_parse.match(s)\n",
    "    \n",
    "    try:\n",
    "        return (a.group('area_code'), a.group('first_three'), a.group('last_four'))\n",
    "    except AttributeError:\n",
    "        raise ValueError\n",
    "        \n",
    "# parse phone number with spaces inbetween\n",
    "def parse_phone2 (s):\n",
    "    s = s.lstrip().rstrip()\n",
    "    # parse phone number\n",
    "    if s[0] == '(':\n",
    "        re_phone = re.compile('\\s*\\((?P<area_code>\\d{3})\\)\\-*\\s*(?P<first_three>\\d{3})\\-*(?P<last_four>\\d{4})\\s*')\n",
    "    elif s.count(' ') > 1:\n",
    "        raise ValueError\n",
    "    elif s[-5] == '-' and s[3] == ' ':\n",
    "        raise ValueError\n",
    "    else:\n",
    "        re_phone = re.compile('\\s*\\(*(?P<area_code>\\d{3})\\)*\\-*\\s*(?P<first_three>\\d{3})\\-*(?P<last_four>\\d{4})\\s*')\n",
    "    \n",
    "    result = re_phone.match(s)\n",
    "    \n",
    "    try:\n",
    "        return result.groups()\n",
    "    except AttributeError:\n",
    "        raise ValueError"
   ]
  },
  {
   "cell_type": "markdown",
   "id": "d64643b0-a768-46f8-8530-c2d0057aa1e5",
   "metadata": {},
   "source": [
    "#### Counting words in a dictionary"
   ]
  },
  {
   "cell_type": "code",
   "execution_count": 61,
   "id": "86277436-8ec4-4355-86e1-d9ff099a6773",
   "metadata": {},
   "outputs": [
    {
     "name": "stdout",
     "output_type": "stream",
     "text": [
      "{'amazing': 3, 'is': 1, 'this': 1, 'beautiful': 1, 'world': 1}\n"
     ]
    }
   ],
   "source": [
    "def count_words(text):\n",
    "    list_words = text.lower().split(' ')\n",
    "    list_words_ = [w for w in list_words if w != '']\n",
    "    word_dictionary = {}\n",
    "    for word in list_words_:\n",
    "        if word not in word_dictionary:\n",
    "            word_dictionary[word] = 1\n",
    "        else:\n",
    "            word_dictionary[word] += 1\n",
    "    return(word_dictionary)\n",
    "    \n",
    "debug_text = 'Amazing amazing IS this amazing beautiful   world'\n",
    "print(count_words(debug_text))"
   ]
  },
  {
   "cell_type": "code",
   "execution_count": null,
   "id": "efec9b3e-f5e7-4e23-bfc7-33a889df6f53",
   "metadata": {},
   "outputs": [],
   "source": []
  },
  {
   "cell_type": "code",
   "execution_count": null,
   "id": "a6521c6f-859b-4711-8962-ed16a2b4db5c",
   "metadata": {},
   "outputs": [],
   "source": []
  },
  {
   "cell_type": "code",
   "execution_count": null,
   "id": "62b24786-e2f9-4c35-96e7-623c46b2f84e",
   "metadata": {},
   "outputs": [],
   "source": []
  }
 ],
 "metadata": {
  "kernelspec": {
   "display_name": "Python 3 (ipykernel)",
   "language": "python",
   "name": "python3"
  },
  "language_info": {
   "codemirror_mode": {
    "name": "ipython",
    "version": 3
   },
   "file_extension": ".py",
   "mimetype": "text/x-python",
   "name": "python",
   "nbconvert_exporter": "python",
   "pygments_lexer": "ipython3",
   "version": "3.8.13"
  }
 },
 "nbformat": 4,
 "nbformat_minor": 5
}
