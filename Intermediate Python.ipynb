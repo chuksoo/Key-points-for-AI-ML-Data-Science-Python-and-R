{
 "cells": [
  {
   "cell_type": "markdown",
   "id": "a9b12140-c776-4c0b-a008-a83f4df74d37",
   "metadata": {},
   "source": [
    "# Intermediate Python"
   ]
  },
  {
   "cell_type": "markdown",
   "id": "f2b5b6d5-de96-4a43-9bdc-417d84886f86",
   "metadata": {},
   "source": [
    "## Function Arguments"
   ]
  },
  {
   "cell_type": "markdown",
   "id": "816ed7cc-8696-467c-963a-e5dab9922820",
   "metadata": {},
   "source": [
    "### Mutable Default Arguments"
   ]
  },
  {
   "cell_type": "code",
   "execution_count": 4,
   "id": "a1ca0655-63db-4610-acd4-56cac01875ef",
   "metadata": {},
   "outputs": [
    {
     "name": "stdout",
     "output_type": "stream",
     "text": [
      "[5]\n",
      "[5, 7]\n",
      "[5, 7, 2]\n"
     ]
    },
    {
     "data": {
      "text/plain": [
       "[5, 7, 2]"
      ]
     },
     "execution_count": 4,
     "metadata": {},
     "output_type": "execute_result"
    }
   ],
   "source": [
    "\n",
    "# Here, an empty list is used as a default argument of the function.\n",
    "def append(number, number_list=[]):\n",
    "    number_list.append(number)\n",
    "    print(number_list)\n",
    "    return number_list\n",
    " \n",
    "# Below are 3 calls to the `append` function and their expected and actual outputs:\n",
    "append(5) # expecting: [5], actual: [5]\n",
    "append(7) # expecting: [7], actual: [5, 7]\n",
    "append(2) # expecting: [2], actual: [5, 7, 2]"
   ]
  },
  {
   "cell_type": "markdown",
   "id": "78c83e9f-8a33-4fcb-86aa-f7e4a0b275fd",
   "metadata": {},
   "source": [
    "### Working with *args"
   ]
  },
  {
   "cell_type": "code",
   "execution_count": 1,
   "id": "b2a4f2ef-2c84-4116-a58c-db92e5e2772e",
   "metadata": {},
   "outputs": [
    {
     "name": "stdout",
     "output_type": "stream",
     "text": [
      "Length = 1\n",
      "Width = 2\n",
      "Depth = 3\n",
      "Length = 5\n",
      "Width = 4\n",
      "Depth = 2\n",
      "Length = 2\n",
      "Width = 4\n",
      "Depth = 3\n"
     ]
    },
    {
     "data": {
      "text/plain": [
       "24"
      ]
     },
     "execution_count": 1,
     "metadata": {},
     "output_type": "execute_result"
    }
   ],
   "source": [
    "def findvolume(length=1, width=1, depth=1):\n",
    "    print(\"Length = \" + str(length))\n",
    "    print(\"Width = \" + str(width))\n",
    "    print(\"Depth = \" + str(depth))\n",
    "    return length * width * depth;\n",
    " \n",
    "findvolume(1, 2, 3)\n",
    "findvolume(length=5, depth=2, width=4)\n",
    "findvolume(2, depth=3, width=4)"
   ]
  },
  {
   "cell_type": "markdown",
   "id": "0b2e1018-f877-4343-83dc-f35e4ecd1cd9",
   "metadata": {},
   "source": [
    "### Default argument"
   ]
  },
  {
   "cell_type": "code",
   "execution_count": 2,
   "id": "1437720f-3582-42b4-a8c9-9e828bf6e634",
   "metadata": {},
   "outputs": [
    {
     "name": "stdout",
     "output_type": "stream",
     "text": [
      "Hello  Ankit, How do you do?\n",
      "Hello  Ankit, How do you do?\n"
     ]
    },
    {
     "data": {
      "text/plain": [
       "'\\nthis code will print the following for both the calls -\\n`Hello  Ankit, How do you do?`\\n'"
      ]
     },
     "execution_count": 2,
     "metadata": {},
     "output_type": "execute_result"
    }
   ],
   "source": [
    "def greet(name, msg=\"How do you do?\"):\n",
    "    print(\"Hello \", name + ', ' + msg)\n",
    "\n",
    "greet(\"Ankit\")\n",
    "greet(\"Ankit\", \"How do you do?\")\n",
    " \n",
    "\"\"\"\n",
    "this code will print the following for both the calls -\n",
    "`Hello  Ankit, How do you do?`\n",
    "\"\"\""
   ]
  },
  {
   "cell_type": "code",
   "execution_count": null,
   "id": "0c72e5f6-8fac-4569-b375-5b49bb8266e0",
   "metadata": {},
   "outputs": [],
   "source": []
  },
  {
   "cell_type": "code",
   "execution_count": null,
   "id": "3a6f493a-5a29-460c-a50f-de61943f9a8a",
   "metadata": {},
   "outputs": [],
   "source": []
  },
  {
   "cell_type": "code",
   "execution_count": null,
   "id": "498be0d9-298a-4cc4-b298-1101368efd4f",
   "metadata": {},
   "outputs": [],
   "source": []
  },
  {
   "cell_type": "code",
   "execution_count": null,
   "id": "c842392e-a0a8-4c85-880b-5f0affd58f31",
   "metadata": {},
   "outputs": [],
   "source": []
  },
  {
   "cell_type": "code",
   "execution_count": null,
   "id": "14eca4b8-4d3a-4d0c-87f3-2582341836b0",
   "metadata": {},
   "outputs": [],
   "source": []
  }
 ],
 "metadata": {
  "kernelspec": {
   "display_name": "Python 3 (ipykernel)",
   "language": "python",
   "name": "python3"
  },
  "language_info": {
   "codemirror_mode": {
    "name": "ipython",
    "version": 3
   },
   "file_extension": ".py",
   "mimetype": "text/x-python",
   "name": "python",
   "nbconvert_exporter": "python",
   "pygments_lexer": "ipython3",
   "version": "3.8.13"
  }
 },
 "nbformat": 4,
 "nbformat_minor": 5
}
