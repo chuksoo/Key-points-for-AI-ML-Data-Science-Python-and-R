{
 "cells": [
  {
   "cell_type": "markdown",
   "id": "a9b12140-c776-4c0b-a008-a83f4df74d37",
   "metadata": {},
   "source": [
    "## Intermediate Python"
   ]
  },
  {
   "cell_type": "code",
   "execution_count": null,
   "id": "8aa29672-016f-4b79-9128-deba68a166e1",
   "metadata": {},
   "outputs": [],
   "source": []
  },
  {
   "cell_type": "code",
   "execution_count": null,
   "id": "b2a4f2ef-2c84-4116-a58c-db92e5e2772e",
   "metadata": {},
   "outputs": [],
   "source": []
  },
  {
   "cell_type": "code",
   "execution_count": null,
   "id": "19513eb2-f4f5-460b-98fc-db46460918d6",
   "metadata": {},
   "outputs": [],
   "source": []
  },
  {
   "cell_type": "code",
   "execution_count": null,
   "id": "559b84ab-7d03-4ca2-9622-72cd6b8bbec3",
   "metadata": {},
   "outputs": [],
   "source": []
  },
  {
   "cell_type": "code",
   "execution_count": null,
   "id": "1437720f-3582-42b4-a8c9-9e828bf6e634",
   "metadata": {},
   "outputs": [],
   "source": []
  },
  {
   "cell_type": "code",
   "execution_count": null,
   "id": "0c72e5f6-8fac-4569-b375-5b49bb8266e0",
   "metadata": {},
   "outputs": [],
   "source": []
  },
  {
   "cell_type": "code",
   "execution_count": null,
   "id": "3a6f493a-5a29-460c-a50f-de61943f9a8a",
   "metadata": {},
   "outputs": [],
   "source": []
  },
  {
   "cell_type": "code",
   "execution_count": null,
   "id": "498be0d9-298a-4cc4-b298-1101368efd4f",
   "metadata": {},
   "outputs": [],
   "source": []
  },
  {
   "cell_type": "code",
   "execution_count": null,
   "id": "c842392e-a0a8-4c85-880b-5f0affd58f31",
   "metadata": {},
   "outputs": [],
   "source": []
  },
  {
   "cell_type": "code",
   "execution_count": null,
   "id": "14eca4b8-4d3a-4d0c-87f3-2582341836b0",
   "metadata": {},
   "outputs": [],
   "source": []
  }
 ],
 "metadata": {
  "kernelspec": {
   "display_name": "Python 3 (ipykernel)",
   "language": "python",
   "name": "python3"
  },
  "language_info": {
   "codemirror_mode": {
    "name": "ipython",
    "version": 3
   },
   "file_extension": ".py",
   "mimetype": "text/x-python",
   "name": "python",
   "nbconvert_exporter": "python",
   "pygments_lexer": "ipython3",
   "version": "3.8.13"
  }
 },
 "nbformat": 4,
 "nbformat_minor": 5
}
