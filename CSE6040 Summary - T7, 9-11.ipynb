{
 "cells": [
  {
   "cell_type": "markdown",
   "id": "ac6a094c-1912-4069-9975-098fe229d11d",
   "metadata": {},
   "source": [
    "### Topic 7: Tidying Data"
   ]
  },
  {
   "cell_type": "markdown",
   "id": "f2a35ec5-131c-45ba-a808-d796a76b8891",
   "metadata": {},
   "source": [
    "#### Merging data frames: join operations"
   ]
  },
  {
   "cell_type": "code",
   "execution_count": 1,
   "id": "4978d4b3-6ec7-48f5-8df3-853b30e033b6",
   "metadata": {},
   "outputs": [
    {
     "name": "stdout",
     "output_type": "stream",
     "text": [
      "=== A ===\n"
     ]
    },
    {
     "data": {
      "text/html": [
       "<div>\n",
       "<style scoped>\n",
       "    .dataframe tbody tr th:only-of-type {\n",
       "        vertical-align: middle;\n",
       "    }\n",
       "\n",
       "    .dataframe tbody tr th {\n",
       "        vertical-align: top;\n",
       "    }\n",
       "\n",
       "    .dataframe thead th {\n",
       "        text-align: right;\n",
       "    }\n",
       "</style>\n",
       "<table border=\"1\" class=\"dataframe\">\n",
       "  <thead>\n",
       "    <tr style=\"text-align: right;\">\n",
       "      <th></th>\n",
       "      <th>country</th>\n",
       "      <th>year</th>\n",
       "      <th>cases</th>\n",
       "    </tr>\n",
       "  </thead>\n",
       "  <tbody>\n",
       "    <tr>\n",
       "      <th>0</th>\n",
       "      <td>Afghanistan</td>\n",
       "      <td>1999</td>\n",
       "      <td>745</td>\n",
       "    </tr>\n",
       "    <tr>\n",
       "      <th>1</th>\n",
       "      <td>Brazil</td>\n",
       "      <td>1999</td>\n",
       "      <td>37737</td>\n",
       "    </tr>\n",
       "    <tr>\n",
       "      <th>2</th>\n",
       "      <td>China</td>\n",
       "      <td>1999</td>\n",
       "      <td>212258</td>\n",
       "    </tr>\n",
       "    <tr>\n",
       "      <th>3</th>\n",
       "      <td>Afghanistan</td>\n",
       "      <td>2000</td>\n",
       "      <td>2666</td>\n",
       "    </tr>\n",
       "    <tr>\n",
       "      <th>4</th>\n",
       "      <td>Brazil</td>\n",
       "      <td>2000</td>\n",
       "      <td>80488</td>\n",
       "    </tr>\n",
       "    <tr>\n",
       "      <th>5</th>\n",
       "      <td>China</td>\n",
       "      <td>2000</td>\n",
       "      <td>213766</td>\n",
       "    </tr>\n",
       "  </tbody>\n",
       "</table>\n",
       "</div>"
      ],
      "text/plain": [
       "       country  year   cases\n",
       "0  Afghanistan  1999     745\n",
       "1       Brazil  1999   37737\n",
       "2        China  1999  212258\n",
       "3  Afghanistan  2000    2666\n",
       "4       Brazil  2000   80488\n",
       "5        China  2000  213766"
      ]
     },
     "metadata": {},
     "output_type": "display_data"
    },
    {
     "name": "stdout",
     "output_type": "stream",
     "text": [
      "\n",
      "=== B ===\n"
     ]
    },
    {
     "data": {
      "text/html": [
       "<div>\n",
       "<style scoped>\n",
       "    .dataframe tbody tr th:only-of-type {\n",
       "        vertical-align: middle;\n",
       "    }\n",
       "\n",
       "    .dataframe tbody tr th {\n",
       "        vertical-align: top;\n",
       "    }\n",
       "\n",
       "    .dataframe thead th {\n",
       "        text-align: right;\n",
       "    }\n",
       "</style>\n",
       "<table border=\"1\" class=\"dataframe\">\n",
       "  <thead>\n",
       "    <tr style=\"text-align: right;\">\n",
       "      <th></th>\n",
       "      <th>country</th>\n",
       "      <th>year</th>\n",
       "      <th>population</th>\n",
       "    </tr>\n",
       "  </thead>\n",
       "  <tbody>\n",
       "    <tr>\n",
       "      <th>0</th>\n",
       "      <td>Afghanistan</td>\n",
       "      <td>1999</td>\n",
       "      <td>19987071</td>\n",
       "    </tr>\n",
       "    <tr>\n",
       "      <th>1</th>\n",
       "      <td>Brazil</td>\n",
       "      <td>1999</td>\n",
       "      <td>172006362</td>\n",
       "    </tr>\n",
       "    <tr>\n",
       "      <th>2</th>\n",
       "      <td>China</td>\n",
       "      <td>1999</td>\n",
       "      <td>1272915272</td>\n",
       "    </tr>\n",
       "    <tr>\n",
       "      <th>3</th>\n",
       "      <td>Afghanistan</td>\n",
       "      <td>2000</td>\n",
       "      <td>20595360</td>\n",
       "    </tr>\n",
       "    <tr>\n",
       "      <th>4</th>\n",
       "      <td>Brazil</td>\n",
       "      <td>2000</td>\n",
       "      <td>174504898</td>\n",
       "    </tr>\n",
       "    <tr>\n",
       "      <th>5</th>\n",
       "      <td>China</td>\n",
       "      <td>2000</td>\n",
       "      <td>1280428583</td>\n",
       "    </tr>\n",
       "  </tbody>\n",
       "</table>\n",
       "</div>"
      ],
      "text/plain": [
       "       country  year  population\n",
       "0  Afghanistan  1999    19987071\n",
       "1       Brazil  1999   172006362\n",
       "2        China  1999  1272915272\n",
       "3  Afghanistan  2000    20595360\n",
       "4       Brazil  2000   174504898\n",
       "5        China  2000  1280428583"
      ]
     },
     "metadata": {},
     "output_type": "display_data"
    },
    {
     "name": "stdout",
     "output_type": "stream",
     "text": [
      "\n",
      "=== C = merge(A, B) ===\n"
     ]
    },
    {
     "data": {
      "text/html": [
       "<div>\n",
       "<style scoped>\n",
       "    .dataframe tbody tr th:only-of-type {\n",
       "        vertical-align: middle;\n",
       "    }\n",
       "\n",
       "    .dataframe tbody tr th {\n",
       "        vertical-align: top;\n",
       "    }\n",
       "\n",
       "    .dataframe thead th {\n",
       "        text-align: right;\n",
       "    }\n",
       "</style>\n",
       "<table border=\"1\" class=\"dataframe\">\n",
       "  <thead>\n",
       "    <tr style=\"text-align: right;\">\n",
       "      <th></th>\n",
       "      <th>country</th>\n",
       "      <th>year</th>\n",
       "      <th>cases</th>\n",
       "      <th>population</th>\n",
       "    </tr>\n",
       "  </thead>\n",
       "  <tbody>\n",
       "    <tr>\n",
       "      <th>0</th>\n",
       "      <td>Afghanistan</td>\n",
       "      <td>1999</td>\n",
       "      <td>745</td>\n",
       "      <td>19987071</td>\n",
       "    </tr>\n",
       "    <tr>\n",
       "      <th>1</th>\n",
       "      <td>Brazil</td>\n",
       "      <td>1999</td>\n",
       "      <td>37737</td>\n",
       "      <td>172006362</td>\n",
       "    </tr>\n",
       "    <tr>\n",
       "      <th>2</th>\n",
       "      <td>China</td>\n",
       "      <td>1999</td>\n",
       "      <td>212258</td>\n",
       "      <td>1272915272</td>\n",
       "    </tr>\n",
       "    <tr>\n",
       "      <th>3</th>\n",
       "      <td>Afghanistan</td>\n",
       "      <td>2000</td>\n",
       "      <td>2666</td>\n",
       "      <td>20595360</td>\n",
       "    </tr>\n",
       "    <tr>\n",
       "      <th>4</th>\n",
       "      <td>Brazil</td>\n",
       "      <td>2000</td>\n",
       "      <td>80488</td>\n",
       "      <td>174504898</td>\n",
       "    </tr>\n",
       "    <tr>\n",
       "      <th>5</th>\n",
       "      <td>China</td>\n",
       "      <td>2000</td>\n",
       "      <td>213766</td>\n",
       "      <td>1280428583</td>\n",
       "    </tr>\n",
       "  </tbody>\n",
       "</table>\n",
       "</div>"
      ],
      "text/plain": [
       "       country  year   cases  population\n",
       "0  Afghanistan  1999     745    19987071\n",
       "1       Brazil  1999   37737   172006362\n",
       "2        China  1999  212258  1272915272\n",
       "3  Afghanistan  2000    2666    20595360\n",
       "4       Brazil  2000   80488   174504898\n",
       "5        China  2000  213766  1280428583"
      ]
     },
     "metadata": {},
     "output_type": "display_data"
    }
   ],
   "source": [
    "import pandas as pd\n",
    "from io import StringIO\n",
    "from IPython.display import display\n",
    "\n",
    "A_csv = \"\"\"country,year,cases\n",
    "Afghanistan,1999,745\n",
    "Brazil,1999,37737\n",
    "China,1999,212258\n",
    "Afghanistan,2000,2666\n",
    "Brazil,2000,80488\n",
    "China,2000,213766\"\"\"\n",
    "\n",
    "B_csv = \"\"\"country,year,population\n",
    "Afghanistan,1999,19987071\n",
    "Brazil,1999,172006362\n",
    "China,1999,1272915272\n",
    "Afghanistan,2000,20595360\n",
    "Brazil,2000,174504898\n",
    "China,2000,1280428583\"\"\"\n",
    "\n",
    "with StringIO(A_csv) as fp:\n",
    "    A = pd.read_csv(fp)\n",
    "print(\"=== A ===\")\n",
    "display(A)\n",
    "\n",
    "with StringIO(B_csv) as fp:\n",
    "    B = pd.read_csv(fp)\n",
    "print(\"\\n=== B ===\")\n",
    "display(B)\n",
    "\n",
    "# pandas merging two dataframes\n",
    "C = A.merge(B, on=['country', 'year'])\n",
    "print(\"\\n=== C = merge(A, B) ===\")\n",
    "display(C)"
   ]
  },
  {
   "cell_type": "markdown",
   "id": "e044a37d-6c73-4e2b-947a-34514d6c1af1",
   "metadata": {},
   "source": [
    "#### Apply function\n",
    "- Used to apply a function to a dataframe or series"
   ]
  },
  {
   "cell_type": "code",
   "execution_count": 2,
   "id": "b9e077e5-4250-4e9d-b8ad-9f7d101bd46b",
   "metadata": {},
   "outputs": [
    {
     "data": {
      "text/html": [
       "<div>\n",
       "<style scoped>\n",
       "    .dataframe tbody tr th:only-of-type {\n",
       "        vertical-align: middle;\n",
       "    }\n",
       "\n",
       "    .dataframe tbody tr th {\n",
       "        vertical-align: top;\n",
       "    }\n",
       "\n",
       "    .dataframe thead th {\n",
       "        text-align: right;\n",
       "    }\n",
       "</style>\n",
       "<table border=\"1\" class=\"dataframe\">\n",
       "  <thead>\n",
       "    <tr style=\"text-align: right;\">\n",
       "      <th></th>\n",
       "      <th>country</th>\n",
       "      <th>year</th>\n",
       "      <th>cases</th>\n",
       "      <th>population</th>\n",
       "    </tr>\n",
       "  </thead>\n",
       "  <tbody>\n",
       "    <tr>\n",
       "      <th>0</th>\n",
       "      <td>Afghanistan</td>\n",
       "      <td>'99</td>\n",
       "      <td>745</td>\n",
       "      <td>19987071</td>\n",
       "    </tr>\n",
       "    <tr>\n",
       "      <th>1</th>\n",
       "      <td>Brazil</td>\n",
       "      <td>'99</td>\n",
       "      <td>37737</td>\n",
       "      <td>172006362</td>\n",
       "    </tr>\n",
       "    <tr>\n",
       "      <th>2</th>\n",
       "      <td>China</td>\n",
       "      <td>'99</td>\n",
       "      <td>212258</td>\n",
       "      <td>1272915272</td>\n",
       "    </tr>\n",
       "    <tr>\n",
       "      <th>3</th>\n",
       "      <td>Afghanistan</td>\n",
       "      <td>'00</td>\n",
       "      <td>2666</td>\n",
       "      <td>20595360</td>\n",
       "    </tr>\n",
       "    <tr>\n",
       "      <th>4</th>\n",
       "      <td>Brazil</td>\n",
       "      <td>'00</td>\n",
       "      <td>80488</td>\n",
       "      <td>174504898</td>\n",
       "    </tr>\n",
       "    <tr>\n",
       "      <th>5</th>\n",
       "      <td>China</td>\n",
       "      <td>'00</td>\n",
       "      <td>213766</td>\n",
       "      <td>1280428583</td>\n",
       "    </tr>\n",
       "  </tbody>\n",
       "</table>\n",
       "</div>"
      ],
      "text/plain": [
       "       country year   cases  population\n",
       "0  Afghanistan  '99     745    19987071\n",
       "1       Brazil  '99   37737   172006362\n",
       "2        China  '99  212258  1272915272\n",
       "3  Afghanistan  '00    2666    20595360\n",
       "4       Brazil  '00   80488   174504898\n",
       "5        China  '00  213766  1280428583"
      ]
     },
     "metadata": {},
     "output_type": "display_data"
    }
   ],
   "source": [
    "# convert the year column in C into an abbrievated two-digit form\n",
    "G = C.copy() # If you do not use copy function the original data frame is modified\n",
    "G['year'] = G['year'].apply(lambda x: \"'{:02d}\".format(x % 100))\n",
    "display(G)"
   ]
  },
  {
   "cell_type": "code",
   "execution_count": 3,
   "id": "58606fe3-c38d-4998-8fdf-26adb93812a7",
   "metadata": {},
   "outputs": [
    {
     "data": {
      "text/html": [
       "<div>\n",
       "<style scoped>\n",
       "    .dataframe tbody tr th:only-of-type {\n",
       "        vertical-align: middle;\n",
       "    }\n",
       "\n",
       "    .dataframe tbody tr th {\n",
       "        vertical-align: top;\n",
       "    }\n",
       "\n",
       "    .dataframe thead th {\n",
       "        text-align: right;\n",
       "    }\n",
       "</style>\n",
       "<table border=\"1\" class=\"dataframe\">\n",
       "  <thead>\n",
       "    <tr style=\"text-align: right;\">\n",
       "      <th></th>\n",
       "      <th>country</th>\n",
       "      <th>year</th>\n",
       "      <th>cases</th>\n",
       "      <th>population</th>\n",
       "      <th>prevalence</th>\n",
       "    </tr>\n",
       "  </thead>\n",
       "  <tbody>\n",
       "    <tr>\n",
       "      <th>0</th>\n",
       "      <td>Afghanistan</td>\n",
       "      <td>'99</td>\n",
       "      <td>745</td>\n",
       "      <td>19987071</td>\n",
       "      <td>0.000037</td>\n",
       "    </tr>\n",
       "    <tr>\n",
       "      <th>1</th>\n",
       "      <td>Brazil</td>\n",
       "      <td>'99</td>\n",
       "      <td>37737</td>\n",
       "      <td>172006362</td>\n",
       "      <td>0.000219</td>\n",
       "    </tr>\n",
       "    <tr>\n",
       "      <th>2</th>\n",
       "      <td>China</td>\n",
       "      <td>'99</td>\n",
       "      <td>212258</td>\n",
       "      <td>1272915272</td>\n",
       "      <td>0.000167</td>\n",
       "    </tr>\n",
       "    <tr>\n",
       "      <th>3</th>\n",
       "      <td>Afghanistan</td>\n",
       "      <td>'00</td>\n",
       "      <td>2666</td>\n",
       "      <td>20595360</td>\n",
       "      <td>0.000129</td>\n",
       "    </tr>\n",
       "    <tr>\n",
       "      <th>4</th>\n",
       "      <td>Brazil</td>\n",
       "      <td>'00</td>\n",
       "      <td>80488</td>\n",
       "      <td>174504898</td>\n",
       "      <td>0.000461</td>\n",
       "    </tr>\n",
       "    <tr>\n",
       "      <th>5</th>\n",
       "      <td>China</td>\n",
       "      <td>'00</td>\n",
       "      <td>213766</td>\n",
       "      <td>1280428583</td>\n",
       "      <td>0.000167</td>\n",
       "    </tr>\n",
       "  </tbody>\n",
       "</table>\n",
       "</div>"
      ],
      "text/plain": [
       "       country year   cases  population  prevalence\n",
       "0  Afghanistan  '99     745    19987071    0.000037\n",
       "1       Brazil  '99   37737   172006362    0.000219\n",
       "2        China  '99  212258  1272915272    0.000167\n",
       "3  Afghanistan  '00    2666    20595360    0.000129\n",
       "4       Brazil  '00   80488   174504898    0.000461\n",
       "5        China  '00  213766  1280428583    0.000167"
      ]
     },
     "metadata": {},
     "output_type": "display_data"
    }
   ],
   "source": [
    "H = G.copy()\n",
    "H['prevalence'] = H.apply(lambda x: x['cases'] / x['population'], axis = 1)\n",
    "display(H)"
   ]
  },
  {
   "cell_type": "markdown",
   "id": "d1428965-ed05-48d2-8237-e2ed71167b1d",
   "metadata": {},
   "source": [
    "#### Canonicalize a tibble"
   ]
  },
  {
   "cell_type": "code",
   "execution_count": 4,
   "id": "7aa1c369-b01b-43b3-bfad-aeb3d999bf55",
   "metadata": {},
   "outputs": [
    {
     "name": "stdout",
     "output_type": "stream",
     "text": [
      "   a  b    c\n",
      "0  x  1  hat\n",
      "1  x  2  bat\n",
      "2  x  2  cat\n",
      "3  y  4  rat\n"
     ]
    }
   ],
   "source": [
    "def canonicalize_tibble(X):\n",
    "    # Sort variables by name, ascending from left to right\n",
    "    var_names = sorted(X.columns)\n",
    "    Y = X[var_names].copy()\n",
    "\n",
    "    # Sort rows by variables from top to bottom\n",
    "    Y.sort_values(by=var_names, inplace=True)\n",
    "    Y.set_index([list(range(0, len(Y)))], inplace = True)\n",
    "    return Y\n",
    "\n",
    "# Test: `canonicalize_tibble_test`\n",
    "data = {'': [2, 0, 3, 1],\n",
    "        'c': ['hat', 'rat', 'cat', 'bat'],\n",
    "        'a': ['x', 'y', 'x', 'x'],\n",
    "        'b': [1, 4, 2, 2]}\n",
    "X = pd.DataFrame(data, columns = ['c','a','b'])\n",
    "print(canonicalize_tibble(X))"
   ]
  },
  {
   "cell_type": "markdown",
   "id": "b1c87a00-1edc-458f-8b06-24eff1e628b7",
   "metadata": {},
   "source": [
    "#### Determine if two tibbles are equivalent\n",
    "- First canonicalize the two tibbles before checking"
   ]
  },
  {
   "cell_type": "code",
   "execution_count": 5,
   "id": "250cc6bb-995e-48d7-82fc-edb2145395b1",
   "metadata": {},
   "outputs": [],
   "source": [
    "def tibbles_are_equivalent(A, B):\n",
    "    \"\"\"Given two tidy tables ('tibbles'), returns True iff they are\n",
    "    equivalent.\n",
    "    \"\"\"\n",
    "    A_copy = canonicalize_tibble(A)\n",
    "    B_copy = canonicalize_tibble(B)\n",
    "    return A_copy.equals(B_copy)"
   ]
  },
  {
   "cell_type": "markdown",
   "id": "b4ae7c2d-a94c-4053-80da-d25b64ea116d",
   "metadata": {},
   "source": [
    "#### Melting - turn columns into rows"
   ]
  },
  {
   "cell_type": "code",
   "execution_count": 6,
   "id": "b9d7152a-2834-40e3-b71c-4e918029eef7",
   "metadata": {},
   "outputs": [
    {
     "data": {
      "text/html": [
       "<div>\n",
       "<style scoped>\n",
       "    .dataframe tbody tr th:only-of-type {\n",
       "        vertical-align: middle;\n",
       "    }\n",
       "\n",
       "    .dataframe tbody tr th {\n",
       "        vertical-align: top;\n",
       "    }\n",
       "\n",
       "    .dataframe thead th {\n",
       "        text-align: right;\n",
       "    }\n",
       "</style>\n",
       "<table border=\"1\" class=\"dataframe\">\n",
       "  <thead>\n",
       "    <tr style=\"text-align: right;\">\n",
       "      <th></th>\n",
       "      <th>country</th>\n",
       "      <th>1999</th>\n",
       "      <th>2000</th>\n",
       "    </tr>\n",
       "  </thead>\n",
       "  <tbody>\n",
       "    <tr>\n",
       "      <th>0</th>\n",
       "      <td>Afghanistan</td>\n",
       "      <td>745</td>\n",
       "      <td>2666</td>\n",
       "    </tr>\n",
       "    <tr>\n",
       "      <th>1</th>\n",
       "      <td>Brazil</td>\n",
       "      <td>37737</td>\n",
       "      <td>80488</td>\n",
       "    </tr>\n",
       "    <tr>\n",
       "      <th>2</th>\n",
       "      <td>China</td>\n",
       "      <td>212258</td>\n",
       "      <td>213766</td>\n",
       "    </tr>\n",
       "  </tbody>\n",
       "</table>\n",
       "</div>"
      ],
      "text/plain": [
       "       country    1999    2000\n",
       "0  Afghanistan     745    2666\n",
       "1       Brazil   37737   80488\n",
       "2        China  212258  213766"
      ]
     },
     "metadata": {},
     "output_type": "display_data"
    }
   ],
   "source": [
    "def melt(df, col_vals, key, value):\n",
    "    assert type(df) is pd.DataFrame\n",
    "    keep_vars = df.columns.difference(col_vals)\n",
    "    melted_sections = []\n",
    "    for c in col_vals:\n",
    "        melted_c = df[keep_vars].copy()\n",
    "        melted_c[key] = c\n",
    "        melted_c[value] = df[c]\n",
    "        melted_sections.append(melted_c)\n",
    "    melted = pd.concat(melted_sections)\n",
    "    return melted\n",
    "\n",
    "# table to melt\n",
    "table_data = {'': [0, 1, 2],\n",
    "              'country': ['Afghanistan', 'Brazil', 'China'], \n",
    "              '1999': [745, 37737, 212258],\n",
    "              '2000': [2666, 80488, 213766]\n",
    "             }\n",
    "table_data = pd.DataFrame(table_data, columns = ['country', '1999', '2000'])                                        \n",
    "display(table_data)"
   ]
  },
  {
   "cell_type": "code",
   "execution_count": 7,
   "id": "abb8f179-58fa-43f8-ac02-00646e99e806",
   "metadata": {},
   "outputs": [
    {
     "data": {
      "text/html": [
       "<div>\n",
       "<style scoped>\n",
       "    .dataframe tbody tr th:only-of-type {\n",
       "        vertical-align: middle;\n",
       "    }\n",
       "\n",
       "    .dataframe tbody tr th {\n",
       "        vertical-align: top;\n",
       "    }\n",
       "\n",
       "    .dataframe thead th {\n",
       "        text-align: right;\n",
       "    }\n",
       "</style>\n",
       "<table border=\"1\" class=\"dataframe\">\n",
       "  <thead>\n",
       "    <tr style=\"text-align: right;\">\n",
       "      <th></th>\n",
       "      <th>country</th>\n",
       "      <th>year</th>\n",
       "      <th>cases</th>\n",
       "    </tr>\n",
       "  </thead>\n",
       "  <tbody>\n",
       "    <tr>\n",
       "      <th>0</th>\n",
       "      <td>Afghanistan</td>\n",
       "      <td>1999</td>\n",
       "      <td>745</td>\n",
       "    </tr>\n",
       "    <tr>\n",
       "      <th>1</th>\n",
       "      <td>Brazil</td>\n",
       "      <td>1999</td>\n",
       "      <td>37737</td>\n",
       "    </tr>\n",
       "    <tr>\n",
       "      <th>2</th>\n",
       "      <td>China</td>\n",
       "      <td>1999</td>\n",
       "      <td>212258</td>\n",
       "    </tr>\n",
       "    <tr>\n",
       "      <th>0</th>\n",
       "      <td>Afghanistan</td>\n",
       "      <td>2000</td>\n",
       "      <td>2666</td>\n",
       "    </tr>\n",
       "    <tr>\n",
       "      <th>1</th>\n",
       "      <td>Brazil</td>\n",
       "      <td>2000</td>\n",
       "      <td>80488</td>\n",
       "    </tr>\n",
       "    <tr>\n",
       "      <th>2</th>\n",
       "      <td>China</td>\n",
       "      <td>2000</td>\n",
       "      <td>213766</td>\n",
       "    </tr>\n",
       "  </tbody>\n",
       "</table>\n",
       "</div>"
      ],
      "text/plain": [
       "       country  year   cases\n",
       "0  Afghanistan  1999     745\n",
       "1       Brazil  1999   37737\n",
       "2        China  1999  212258\n",
       "0  Afghanistan  2000    2666\n",
       "1       Brazil  2000   80488\n",
       "2        China  2000  213766"
      ]
     },
     "metadata": {},
     "output_type": "display_data"
    }
   ],
   "source": [
    "# test melt\n",
    "melted_table = melt(table_data, col_vals = ['1999', '2000'], key = 'year', value = 'cases')\n",
    "display(melted_table)"
   ]
  },
  {
   "cell_type": "markdown",
   "id": "34ba2c7d-df2e-4a9c-9d88-fb19f6711d3e",
   "metadata": {},
   "source": [
    "#### Casting - turn a long tibble into wide format "
   ]
  },
  {
   "cell_type": "code",
   "execution_count": 8,
   "id": "4722cc7c-9da2-42e4-ab42-3b9f710073a0",
   "metadata": {},
   "outputs": [],
   "source": [
    "def cast(df, key, value, join_how='outer'):\n",
    "    \"\"\"Casts the input data frame into a tibble,\n",
    "    given the key column and value column.\n",
    "    \"\"\"\n",
    "    assert type(df) is pd.DataFrame\n",
    "    assert key in df.columns and value in df.columns\n",
    "    assert join_how in ['outer', 'inner']\n",
    "    \n",
    "    fixed_vars = df.columns.difference([key, value])\n",
    "    tibble = pd.DataFrame(columns=fixed_vars) # empty frame\n",
    "    \n",
    "    new_vars = df[key].unique()\n",
    "    for v in new_vars:\n",
    "        df_v = df[df[key] == v]\n",
    "        del df_v[key]\n",
    "        df_v = df_v.rename(columns = {value: v})\n",
    "        tibble = tibble.merge(df_v, on = list(fixed_vars), how=join_how)    \n",
    "    return tibble"
   ]
  },
  {
   "cell_type": "markdown",
   "id": "1c98e408-9a9f-4cc9-bbef-87dc0d5d5025",
   "metadata": {},
   "source": [
    "```python\n",
    "\n",
    "# Data Manipulation with Pandas\n",
    "pd.Series(data, index=index) # constructing series object\n",
    "\n",
    "# initial exploration and data clean up\n",
    "data = pd.read_csv('csv_file_name') # load csv file\n",
    "data.head() # check data head         \n",
    "data.info() # check info\n",
    "data.sample(5) # get data sample\n",
    "\n",
    "# get a list of the unique candidates in column named 'cand_name'\n",
    "unique_candidate = data['cand_name'].unique()\n",
    "\n",
    "# get list of top occupation\n",
    "data['contrb_occupation'].value_counts()\n",
    "\n",
    "# determine top 7 largest donors\n",
    "largest_donors = data['contb_receipt_amt'].nlargest(7)\n",
    "```"
   ]
  },
  {
   "cell_type": "markdown",
   "id": "977bc51d-4571-4bf6-a9c6-428846b91c70",
   "metadata": {},
   "source": [
    "```python\n",
    "\n",
    "# pandas functions\n",
    "cafes6 = cafes4.reset_index(drop=True) # reset the index from the string names to integers\n",
    "pd.concat([cafes_cheap, cafes_pricey], join='outer') # concatenate two df along rows, default to 'outer' join\n",
    "pd.merge(left_df, right_df, how='inner', on=None, left_on=None, right_on=None) # merge using SQL flavor type join \n",
    "\n",
    "# handling missing values\n",
    "data.isnull() # check for missing values\n",
    "data.dropna() # dropping missing values, axis = 0 for rows, axis = 1 for columns\n",
    "data.fillna(0) # fill missing values with 0\n",
    "```"
   ]
  },
  {
   "cell_type": "markdown",
   "id": "a566b3c0-937c-410c-971c-2f7713b5b25e",
   "metadata": {},
   "source": [
    "#### Series as a specialized dictionary"
   ]
  },
  {
   "cell_type": "code",
   "execution_count": 9,
   "id": "af7c50a8-3b8c-4a19-91fe-49a3248744b3",
   "metadata": {},
   "outputs": [
    {
     "data": {
      "text/plain": [
       "California    38332521\n",
       "Texas         26448193\n",
       "New York      19651127\n",
       "Florida       19552860\n",
       "Illinois      12882135\n",
       "dtype: int64"
      ]
     },
     "metadata": {},
     "output_type": "display_data"
    },
    {
     "name": "stdout",
     "output_type": "stream",
     "text": [
      "\n"
     ]
    },
    {
     "data": {
      "text/plain": [
       "California    423967\n",
       "Texas         695662\n",
       "New York      141297\n",
       "Florida       170312\n",
       "Illinois      149995\n",
       "dtype: int64"
      ]
     },
     "metadata": {},
     "output_type": "display_data"
    }
   ],
   "source": [
    "# constructing new series\n",
    "population_dict = {'California': 38332521,\n",
    "                   'Texas': 26448193,\n",
    "                   'New York': 19651127,\n",
    "                   'Florida': 19552860,\n",
    "                   'Illinois': 12882135}\n",
    "population = pd.Series(population_dict)\n",
    "display(population)\n",
    "print()\n",
    "\n",
    "area_dict = {'California': 423967, 'Texas': 695662, 'New York': 141297,\n",
    "             'Florida': 170312, 'Illinois': 149995}\n",
    "area = pd.Series(area_dict)\n",
    "display(area)"
   ]
  },
  {
   "cell_type": "code",
   "execution_count": 10,
   "id": "4dbc61c4-38fc-46ed-b061-d6cd6d094173",
   "metadata": {},
   "outputs": [
    {
     "data": {
      "text/html": [
       "<div>\n",
       "<style scoped>\n",
       "    .dataframe tbody tr th:only-of-type {\n",
       "        vertical-align: middle;\n",
       "    }\n",
       "\n",
       "    .dataframe tbody tr th {\n",
       "        vertical-align: top;\n",
       "    }\n",
       "\n",
       "    .dataframe thead th {\n",
       "        text-align: right;\n",
       "    }\n",
       "</style>\n",
       "<table border=\"1\" class=\"dataframe\">\n",
       "  <thead>\n",
       "    <tr style=\"text-align: right;\">\n",
       "      <th></th>\n",
       "      <th>population</th>\n",
       "      <th>area</th>\n",
       "    </tr>\n",
       "  </thead>\n",
       "  <tbody>\n",
       "    <tr>\n",
       "      <th>California</th>\n",
       "      <td>38332521</td>\n",
       "      <td>423967</td>\n",
       "    </tr>\n",
       "    <tr>\n",
       "      <th>Texas</th>\n",
       "      <td>26448193</td>\n",
       "      <td>695662</td>\n",
       "    </tr>\n",
       "    <tr>\n",
       "      <th>New York</th>\n",
       "      <td>19651127</td>\n",
       "      <td>141297</td>\n",
       "    </tr>\n",
       "    <tr>\n",
       "      <th>Florida</th>\n",
       "      <td>19552860</td>\n",
       "      <td>170312</td>\n",
       "    </tr>\n",
       "    <tr>\n",
       "      <th>Illinois</th>\n",
       "      <td>12882135</td>\n",
       "      <td>149995</td>\n",
       "    </tr>\n",
       "  </tbody>\n",
       "</table>\n",
       "</div>"
      ],
      "text/plain": [
       "            population    area\n",
       "California    38332521  423967\n",
       "Texas         26448193  695662\n",
       "New York      19651127  141297\n",
       "Florida       19552860  170312\n",
       "Illinois      12882135  149995"
      ]
     },
     "execution_count": 10,
     "metadata": {},
     "output_type": "execute_result"
    }
   ],
   "source": [
    "# create dataframe from series\n",
    "states = pd.DataFrame({'population': population,\n",
    "                       'area': area})\n",
    "states"
   ]
  },
  {
   "cell_type": "markdown",
   "id": "c7589643-a981-488a-848c-32b946af2745",
   "metadata": {},
   "source": [
    "#### Data Selection in Series"
   ]
  },
  {
   "cell_type": "code",
   "execution_count": 11,
   "id": "7b90edd6-788e-4ccb-9ab9-45a21783fd55",
   "metadata": {},
   "outputs": [
    {
     "data": {
      "text/plain": [
       "a    0.25\n",
       "b    0.50\n",
       "c    0.75\n",
       "d    1.00\n",
       "dtype: float64"
      ]
     },
     "execution_count": 11,
     "metadata": {},
     "output_type": "execute_result"
    }
   ],
   "source": [
    "data = pd.Series([0.25, 0.5, 0.75, 1.0],\n",
    "                 index=['a', 'b', 'c', 'd'])\n",
    "data"
   ]
  },
  {
   "cell_type": "code",
   "execution_count": 12,
   "id": "8098cbeb-0f1e-4e1e-b5b3-7b37c087003d",
   "metadata": {},
   "outputs": [
    {
     "data": {
      "text/plain": [
       "a    0.25\n",
       "b    0.50\n",
       "c    0.75\n",
       "dtype: float64"
      ]
     },
     "execution_count": 12,
     "metadata": {},
     "output_type": "execute_result"
    }
   ],
   "source": [
    "# slicing by explicit index\n",
    "data['a':'c']"
   ]
  },
  {
   "cell_type": "code",
   "execution_count": 13,
   "id": "4aac2919-523b-44b0-8f39-788e60200d88",
   "metadata": {},
   "outputs": [
    {
     "data": {
      "text/plain": [
       "a    0.25\n",
       "b    0.50\n",
       "dtype: float64"
      ]
     },
     "execution_count": 13,
     "metadata": {},
     "output_type": "execute_result"
    }
   ],
   "source": [
    "# slicing by implicit integer index\n",
    "data[0:2]"
   ]
  },
  {
   "cell_type": "code",
   "execution_count": 14,
   "id": "f9c60c33-b976-4d28-b2e1-303fd8d46c63",
   "metadata": {},
   "outputs": [
    {
     "data": {
      "text/plain": [
       "b    0.50\n",
       "c    0.75\n",
       "dtype: float64"
      ]
     },
     "execution_count": 14,
     "metadata": {},
     "output_type": "execute_result"
    }
   ],
   "source": [
    "# masking\n",
    "data[(data > 0.3) & (data < 0.8)]"
   ]
  },
  {
   "cell_type": "code",
   "execution_count": 15,
   "id": "9c6790b0-784a-4ed6-899e-4df2a0e364ff",
   "metadata": {},
   "outputs": [
    {
     "data": {
      "text/plain": [
       "a    0.25\n",
       "d    1.00\n",
       "dtype: float64"
      ]
     },
     "execution_count": 15,
     "metadata": {},
     "output_type": "execute_result"
    }
   ],
   "source": [
    "# fancy indexing\n",
    "data[['a', 'd']]"
   ]
  },
  {
   "cell_type": "code",
   "execution_count": null,
   "id": "09fcb7e5-3e62-4c20-bd99-f1af1a0d20ed",
   "metadata": {},
   "outputs": [],
   "source": []
  },
  {
   "cell_type": "markdown",
   "id": "7ba757de-dd59-4f89-85f1-382466d24db6",
   "metadata": {},
   "source": [
    "### Topic 9: Relational Data"
   ]
  },
  {
   "cell_type": "markdown",
   "id": "81ff1f90-4869-44cf-b7e0-dc2345bc376a",
   "metadata": {},
   "source": [
    "#### What makes up an SQL query?\n",
    "\n",
    "**SQL query clauses -- Order of appearance in the query**\n",
    "\n",
    "There are 6 possible clauses in an SQL query.\n",
    "\n",
    "They must appear in the query in the following order:\n",
    "\n",
    "1. ***SELECT*** -- Which columns/data elements are to be included in the result set.\n",
    "\n",
    "\n",
    "2. ***FROM*** -- The tables which are the source of the data to be returned\n",
    "\n",
    "\n",
    "3. ***WHERE***\n",
    "    \n",
    "    a. The columns from different tables that are equivalent and define how the tables are joined together.\n",
    "    \n",
    "    b. Any filtering criteria for the query, to return a subset of the data. Note that this filtering is done PRIOR to any aggregations.\n",
    "\n",
    "\n",
    "4. ***GROUP BY*** -- If aggregating, these are the columns that the aggregations are based on.\n",
    "\n",
    "\n",
    "5. ***HAVING*** -- Filtering on data after aggregations have been performed.\n",
    "\n",
    "\n",
    "6. ***ORDER BY*** -- Sorting the data.\n",
    "\n",
    "\n",
    "There is a 7th clause, **which is not universal to all databases,** but it is available in SQLite. It is the **LIMIT** clause, which tells the database how many rows to return. It would be last in the order of the query, and would also execute last.\n",
    "\n",
    "#### Types of Joins\n",
    "- INNER join: return only rows that are in both tables\n",
    "- OUTER join (or Full Outer join or Full join): returns all the rows from both tables, whether or not there is a match. NULL values returned for non-matching columns\n",
    "- LEFT join: return all of the rows from the left table, and records that match from the right table. Non-matching records will return a NULL values\n",
    "- RIGHT join: return all of the rows from the right table, and records that match from the left table. Non-matching records will return a NULL values\n",
    "- CROSS join: matches every row of the left table with every row of the right table and returns their Cartesian product. It's also known as Cartesian JOIN.\n",
    "- SELF join: allows you to join a table to itself as if the tables were two different tables."
   ]
  },
  {
   "cell_type": "markdown",
   "id": "a400e698-d63d-4ee2-b28a-fe1ac5abde14",
   "metadata": {},
   "source": [
    "```python\n",
    "import sqlite3 as db\n",
    "\n",
    "# create connection to database\n",
    "conn = db.connect('name_of_database.db')\n",
    "\n",
    "# Create a 'cursor' for executing commands\n",
    "c = conn.cursor()\n",
    "\n",
    "# creating tables \"Students\"\n",
    "c.execute('DROP TABLE IF EXISTS Students')\n",
    "c.execute(\"CREATE TABLE Students (gtid INTEGER, name TEXT)\")\n",
    "\n",
    "# populate table\n",
    "c.execute(\"INSERT INTO Students VALUES (123, 'Vuduc')\")\n",
    "c.execute(\"INSERT INTO Students VALUES (456, 'Chau')\")\n",
    "\n",
    "# inserting many data into table\n",
    "more_students = [(723, 'Rozga'),\n",
    "                 (882, 'Zha'),\n",
    "                 (401, 'Park'),\n",
    "                 (377, 'Vetter'),\n",
    "                 (904, 'Brown')]\n",
    "\n",
    "# '?' question marks are placeholders for the two columns in Students table\n",
    "c.executemany('INSERT INTO Students VALUES (?, ?)', more_students)\n",
    "\n",
    "# save insertion into database\n",
    "conn.commit()\n",
    "```"
   ]
  },
  {
   "cell_type": "markdown",
   "id": "399613a0-86b9-4f81-8005-03993825118c",
   "metadata": {},
   "source": [
    "#### Select statement"
   ]
  },
  {
   "cell_type": "markdown",
   "id": "b1a9769c-a6bb-48dd-9d08-561703ab7520",
   "metadata": {},
   "source": [
    "```python\n",
    "# connect to database\n",
    "import sqlite3 as db\n",
    "disk_engine = db.connect('file:{}?mode=ro'.format(DB_FILENAME), uri=True)\n",
    "\n",
    "# query SQL with SQL reader built into pandas\n",
    "df = pd.read_sql_query('SELECT * FROM data', disk_engine)\n",
    "\n",
    "# find UNIQUE \"city\" values from \"data\" table\n",
    "query = 'SELECT DISTINCT City FROM data'\n",
    "df = pd.read_sql_query(query, disk_engine)\n",
    "\n",
    "# character-case conversion and GROUP BY\n",
    "query = '''\n",
    "  SELECT LOWER(ComplaintType), LOWER(Descriptor), LOWER(Agency)\n",
    "    FROM data\n",
    "    GROUP BY LOWER(ComplaintType)\n",
    "    LIMIT 10\n",
    "'''\n",
    "df = pd.read_sql_query(query, disk_engine)\n",
    "\n",
    "# HAVING clause\n",
    "query2 = '''\n",
    "    SELECT ComplaintType, COUNT(*)\n",
    "      FROM (SELECT DISTINCT ComplaintType FROM data)\n",
    "      GROUP BY LOWER(ComplaintType)\n",
    "      HAVING COUNT(*) >= 2\n",
    "'''\n",
    "df2 = pd.read_sql_query(query2, disk_engine)\n",
    "\n",
    "# IN operator\n",
    "query = '''\n",
    "    SELECT DISTINCT ComplaintType\n",
    "      FROM data\n",
    "      WHERE LOWER(ComplaintType) IN (\"plumbing\", \"elevator\")\n",
    "'''\n",
    "df = pd.read_sql_query(query, disk_engine)\n",
    "\n",
    "# ORDER BY clause\n",
    "query = '''\n",
    "  SELECT Agency, COUNT(*) AS NumComplaints\n",
    "    FROM data\n",
    "    GROUP BY UPPER(Agency)\n",
    "    ORDER BY NumComplaints DESC\n",
    "'''\n",
    "df = pd.read_sql_query(query, disk_engine)\n",
    "df.tail()\n",
    "\n",
    "# the LIKE operator\n",
    "query = '''\n",
    "  SELECT LOWER(ComplaintType) AS type, COUNT(*) AS freq\n",
    "    FROM data\n",
    "    WHERE LOWER(ComplaintType) LIKE '%noise%'\n",
    "    GROUP BY type\n",
    "    ORDER BY -freq\n",
    "'''\n",
    "df_noisy = pd.read_sql_query(query, disk_engine)\n",
    "\n",
    "# DATETIME in SQL\n",
    "query = '''\n",
    "        SELECT STRFTIME('%H', CreatedDate) AS hour, COUNT(ComplaintType) AS count\n",
    "        FROM data\n",
    "        WHERE LOWER(ComplaintType) LIKE '%noise%'\n",
    "        AND STRFTIME('%H:%M:%f', CreatedDate) <> '00:00:00.000'\n",
    "        GROUP BY hour\n",
    "'''\n",
    "\n",
    "df_noisy_by_hour = pd.read_sql_query (query, disk_engine)\n",
    "\n",
    "#Write an SQL query find the ten (10) teams that have the highest average away-scores since the year 2000. Your query should satisfy the following criteria:\n",
    "#It should return two columns: team: The name of the team, ave_goals: The team's average number of goals in \"away\" games. An \"away game\" is one in which the team's name appars in away_team and the game takes place at a \"non-neutral site\" (neutral value equals FALSE).\n",
    "#It should only include teams that have played at least 30 away matches.\n",
    "#It should round the average goals value (ave_goals) to three decimal places.\n",
    "#It should only return the top 10 teams in descending order by average away-goals.\n",
    "#It should only consider games played since 2000 (including the year 2000).\n",
    "query_top10_away = \"\"\"\n",
    "            SELECT away_team AS team, ROUND(AVG(away_score), 3) AS ave_goals\n",
    "            FROM soccer_results\n",
    "            WHERE STRFTIME('%Y', date) >= '2000' AND neutral = 'FALSE'\n",
    "            GROUP BY away_team\n",
    "            HAVING COUNT(*) >= 30\n",
    "            ORDER BY ave_goals DESC\n",
    "            LIMIT 10\n",
    "        \"\"\"\n",
    "\n",
    "# Suppose we are now interested in the top 10 teams having the best goal differential, between the years 2012 and 2018 (both inclusive). A team's goal differential is the difference between the total number of goals it scored and the total number it conceded across all games (in the requested years).\n",
    "# Complete the function, best_goal_differential(), below, so that it returns a pandas dataframe containing the top 10 teams by goal differential, sorted in descending order of differential. The dataframe should have two columns: team, which holds the team's name, and differential, which holds its overall goal differential.\n",
    "def best_goal_differential():\n",
    "    ###\n",
    "    ### YOUR CODE HERE\n",
    "    ###\n",
    "    sql_query = \"\"\"WITH home as (SELECT home_team, SUM((home_score-away_score)) as diff\n",
    "                         FROM soccer_results \n",
    "                         WHERE strftime('%Y', date) >= '2012' AND strftime('%Y', date) <= '2018' \n",
    "                         GROUP BY home_team),\n",
    "                away as (SELECT away_team, SUM((away_score-home_score)) as diff\n",
    "                        FROM soccer_results \n",
    "                        WHERE strftime('%Y', date) >= '2012' AND strftime('%Y', date) <= '2018' \n",
    "                        GROUP BY away_team)\n",
    "                SELECT away_team as team, (away.diff + home.diff) as differential\n",
    "                FROM away, home\n",
    "                WHERE away.away_team = home.home_team \n",
    "                GROUP BY away_team\n",
    "                ORDER BY differential DESC\n",
    "                LIMIT 10\"\"\"\n",
    "    df = pd.read_sql_query(sql_query, disk_engine)\n",
    "    return df\n",
    "```\n",
    "\n",
    "\n",
    "\n"
   ]
  },
  {
   "cell_type": "markdown",
   "id": "2afa1774-17aa-48aa-9d27-ffd7aa49fa4a",
   "metadata": {},
   "source": [
    "#### Join Queries"
   ]
  },
  {
   "cell_type": "markdown",
   "id": "01e69e76-b3f2-4299-9105-b3e43d9922f2",
   "metadata": {},
   "source": [
    "```python\n",
    "query = '''\n",
    "        SELECT Students.name, Takes.grade\n",
    "        FROM Students, Takes\n",
    "        WHERE Students.gtid = Takes.gtid\n",
    "        AND Takes.course = 'CSE 6040'\n",
    "        '''\n",
    "\n",
    "or \n",
    "\n",
    "query = '''\n",
    "        SELECT Students.name, Takes.grade\n",
    "        FROM Students\n",
    "        JOIN Takes\n",
    "        ON Students.gtid = Takes.gtid\n",
    "        '''\n",
    "\n",
    "\n",
    "c.execute(query)\n",
    "results = c.fetchall()\n",
    "results\n",
    "```"
   ]
  },
  {
   "cell_type": "markdown",
   "id": "172b3ec9-7477-488c-a7ec-d914704837c7",
   "metadata": {},
   "source": [
    "### Topic 10: Numerical Computing with Numpy/Scipy "
   ]
  },
  {
   "cell_type": "markdown",
   "id": "b9518552-68c9-4249-960c-260747fe09bf",
   "metadata": {},
   "source": [
    "#### Creating multidimensional arrays"
   ]
  },
  {
   "cell_type": "code",
   "execution_count": 16,
   "id": "e264bec8-1d31-40d6-81cd-405f69c02ec8",
   "metadata": {},
   "outputs": [
    {
     "data": {
      "text/plain": [
       "'1.21.5'"
      ]
     },
     "metadata": {},
     "output_type": "display_data"
    },
    {
     "name": "stdout",
     "output_type": "stream",
     "text": [
      "[[ 0  1  2  3]\n",
      " [ 4  5  6  7]\n",
      " [ 8  9 10 11]]\n",
      "\n",
      "Dimension of B: 2\n",
      "Size of B: 12\n",
      "Shape of B: (3, 4)\n",
      "Length of B: 3\n"
     ]
    }
   ],
   "source": [
    "import numpy as np\n",
    "display(np.__version__)\n",
    "\n",
    "# Create a two-dimensional array of size 3 rows x 4 columns:\n",
    "B = np.array([[0, 1, 2, 3],\n",
    "              [4, 5, 6, 7],\n",
    "              [8, 9, 10, 11]])\n",
    "\n",
    "print(B)\n",
    "print()\n",
    "print('Dimension of B:', B.ndim)\n",
    "print('Size of B:', B.size)\n",
    "print('Shape of B:', B.shape)\n",
    "print('Length of B:', len(B))"
   ]
  },
  {
   "cell_type": "markdown",
   "id": "219a0ee2-c95b-438e-b942-2fd05678d5f3",
   "metadata": {},
   "source": [
    "#### Index slicing"
   ]
  },
  {
   "cell_type": "markdown",
   "id": "21b5d261-b2a8-4d9e-92d9-098f33c5208b",
   "metadata": {},
   "source": [
    "Consider the following $6 \\times 6$ matrix, which has 4 different subsets highlighted.\n",
    "\n",
    "<img src=\"https://github.com/cse6040/labs-fa17/raw/master/lab10-numpy/slicing-exercise.png\" alt=\"Exercise: Extract these slices\" width=\"240\">\n",
    "\n",
    "For each subset illustrated above, write an indexing or slicing expression that extracts the subset. Store the result of each slice into `Z_green`, `Z_red`, `Z_orange`, and `Z_cyan`."
   ]
  },
  {
   "cell_type": "code",
   "execution_count": 17,
   "id": "0afd9e12-1f9f-441b-8076-1b00c6928f90",
   "metadata": {},
   "outputs": [
    {
     "name": "stdout",
     "output_type": "stream",
     "text": [
      "[ 2 12 22 32 42 52]\n"
     ]
    }
   ],
   "source": [
    "Z= np.array([[0,1,2,3,4,5],\n",
    "             [10,11,12,13,14,15],\n",
    "             [20,21,22,23,24,25],\n",
    "             [30,31,32,33,34,35],\n",
    "             [40,41,42,43,44,45],\n",
    "             [50,51,52,53,54,55]])\n",
    "\n",
    "# Construct `Z_green`, `Z_red`, `Z_orange`, and `Z_cyan`:\n",
    "###\n",
    "### YOUR CODE HERE\n",
    "###\n",
    "Z_green = Z[2::2, 0::2]\n",
    "Z_red = Z[:, 2]\n",
    "Z_orange = Z[0, 3:5]\n",
    "Z_cyan = Z[4::, 4::]\n",
    "print(Z_red)"
   ]
  },
  {
   "cell_type": "markdown",
   "id": "15de07b0-77fd-4bd1-a974-55900add2c1b",
   "metadata": {},
   "source": [
    "Complete the prime number sieve algorithm, which is illustrated below.\n",
    "\n",
    "<img src=\"https://github.com/cse6040/labs-fa17/raw/master/lab10-numpy/prime-sieve.png\" alt=\"Exercise: Extract these slices\" width=\"480\">\n",
    "\n",
    "That is, given a positive integer $n$, the algorithm iterates from $i \\in \\{2, 3, 4, \\ldots, \\left\\lfloor\\sqrt{n}\\right\\rfloor\\}$, repeatedly \"crossing out\" values that are strict multiples of $i$. \"Crossing out\" means maintaining an array of, say, booleans, and setting values that are multiples of $i$ to `False`."
   ]
  },
  {
   "cell_type": "code",
   "execution_count": 18,
   "id": "99d4da08-678e-4caf-bbb7-43fb020e3758",
   "metadata": {},
   "outputs": [
    {
     "name": "stdout",
     "output_type": "stream",
     "text": [
      "==> Primes through 20:\n",
      " [ 2  3  5  7 11 13 17 19]\n"
     ]
    }
   ],
   "source": [
    "import numpy as np\n",
    "from math import sqrt, floor\n",
    "\n",
    "def sieve(n):\n",
    "    \"\"\"\n",
    "    Returns the prime number 'sieve' shown above.\n",
    "    \n",
    "    That is, this function returns an array `X[0:n+1]`\n",
    "    such that `X[i]` is true if and only if `i` is prime.\n",
    "    \"\"\"\n",
    "    is_prime = np.empty(n+1, dtype=bool) # the \"sieve\"\n",
    "\n",
    "    # Initial values\n",
    "    is_prime[0:2] = False # {0, 1} are _not_ considered prime\n",
    "    is_prime[2:] = True # All other values might be prime\n",
    "\n",
    "    # Implement the sieving loop\n",
    "    ###\n",
    "    ### YOUR CODE HERE\n",
    "    ###\n",
    "        \n",
    "    # Implement the sieving loop\n",
    "    for i in range(2, int(sqrt(n))):\n",
    "        is_prime[2*i::i] = False\n",
    "    \n",
    "    return is_prime\n",
    "\n",
    "# Prints your primes\n",
    "print(\"==> Primes through 20:\\n\", np.nonzero(sieve(20))[0])"
   ]
  },
  {
   "cell_type": "markdown",
   "id": "c982ebe9-2978-4b45-9011-18b1dee3f530",
   "metadata": {},
   "source": [
    "#### Aggregation and functions in Numpy"
   ]
  },
  {
   "cell_type": "code",
   "execution_count": 19,
   "id": "f047e262-8ad1-436d-96f5-e8541e675899",
   "metadata": {},
   "outputs": [
    {
     "name": "stdout",
     "output_type": "stream",
     "text": [
      "[[ 5 -3 -8]\n",
      " [ 3  2 -1]\n",
      " [-8 -1  0]\n",
      " [ 8  7 -3]]\n",
      "np.max = [5 3 0 8] ; np.amax = 8\n",
      "np.min = -8 ; np.amin = -8\n",
      "np.sum = 1\n",
      "np.mean = 0.08333333333333333\n",
      "np.std = 4.990964057396349\n"
     ]
    }
   ],
   "source": [
    "from numpy.random import default_rng\n",
    "rng = default_rng()\n",
    "\n",
    "A = rng.integers(-10, 10, size=(4, 3)) # return random integers from -10 (inclusive) to 10 (exclusive)\n",
    "print(A)\n",
    "print(\"np.max =\", np.max(A, axis=1),\"; np.amax =\", np.amax(A)) # np.max() and np.amax() are synonyms\n",
    "print(\"np.min =\",np.min(A),\"; np.amin =\", np.amin(A)) # same\n",
    "print(\"np.sum =\",np.sum(A))\n",
    "print(\"np.mean =\",np.mean(A))\n",
    "print(\"np.std =\",np.std(A))"
   ]
  },
  {
   "cell_type": "code",
   "execution_count": 20,
   "id": "9e28dd7b-7c17-4b69-a829-0b30d1d676fd",
   "metadata": {},
   "outputs": [
    {
     "name": "stdout",
     "output_type": "stream",
     "text": [
      "Max in each column: [8 7 0]\n",
      "Max in each row: [5 3 0 8]\n"
     ]
    }
   ],
   "source": [
    "print(\"Max in each column:\", np.amax(A, axis=0)) # i.e., aggregate along axis 0, the rows, producing column maxes\n",
    "print(\"Max in each row:\", np.amax(A, axis=1)) # i.e., aggregate along axis 1, the columns, producing row maxes"
   ]
  },
  {
   "cell_type": "markdown",
   "id": "f3671877-8916-4001-a197-34f90b4d5bde",
   "metadata": {},
   "source": [
    "#### Elementwise product\n",
    "\n",
    "The elementwise product is an array `C` such that `C[i, j] = A[i, j] * B[i, j]`, which can be invoked via the `*` operator:"
   ]
  },
  {
   "cell_type": "code",
   "execution_count": 21,
   "id": "b91db2bf-d48a-4daf-abdd-d1058fe9f60d",
   "metadata": {},
   "outputs": [
    {
     "name": "stdout",
     "output_type": "stream",
     "text": [
      "[[ -9   2   3]\n",
      " [ -7 -10   1]\n",
      " [  4   3   8]\n",
      " [  7  -4   2]]\n"
     ]
    },
    {
     "data": {
      "text/plain": [
       "array([[-45,  -6, -24],\n",
       "       [-21, -20,  -1],\n",
       "       [-32,  -3,   0],\n",
       "       [ 56, -28,  -6]], dtype=int64)"
      ]
     },
     "execution_count": 21,
     "metadata": {},
     "output_type": "execute_result"
    }
   ],
   "source": [
    "B = rng.integers(-10, 10, size=A.shape)\n",
    "print(B)\n",
    "\n",
    "A * B"
   ]
  },
  {
   "cell_type": "markdown",
   "id": "eb939cb8-3c26-4cb8-a781-88706cba17ad",
   "metadata": {},
   "source": [
    "#### Matrix multiplication"
   ]
  },
  {
   "cell_type": "code",
   "execution_count": 22,
   "id": "f08106e7-1cec-482b-8575-af1c0359ac2e",
   "metadata": {},
   "outputs": [
    {
     "name": "stdout",
     "output_type": "stream",
     "text": [
      "B ==\n",
      "[[ 3 -3  2  9 -6]\n",
      " [ 3 -3 -9  8  9]\n",
      " [ 4 -1  5 -4  9]]\n",
      "[[ -26    2   -3   53 -129]\n",
      " [  11  -14  -17   47   -9]\n",
      " [ -27   27   -7  -80   39]\n",
      " [  33  -42  -62  140  -12]]\n"
     ]
    }
   ],
   "source": [
    "B = rng.integers(-10, 10, size=(A.shape[1], 5))\n",
    "print(f\"B ==\\n{B}\")\n",
    "\n",
    "C = A.dot(B)\n",
    "print(C)"
   ]
  },
  {
   "cell_type": "markdown",
   "id": "2e00aac9-ad9f-485b-8453-2644f5d95df6",
   "metadata": {},
   "source": [
    "#### Dense matrix storage: Column-major versus row-major layouts"
   ]
  },
  {
   "cell_type": "code",
   "execution_count": 23,
   "id": "57e74f03-b64e-4fc5-865d-cbf28ce221a2",
   "metadata": {},
   "outputs": [],
   "source": [
    "# Storing matrix in a 1-D array\n",
    "\n",
    "# scale the col index by the number of rows and \n",
    "# add row index for the col-major order\n",
    "def linearize_colmajor(i, j, m, n): # calculate `u`\n",
    "    \"\"\"\n",
    "    Returns the linear index for the `(i, j)` entry of\n",
    "    an `m`-by-`n` matrix stored in column-major order.\n",
    "    \"\"\"\n",
    "    return i + (j*m)\n",
    "\n",
    "# scale the row index by the number of columns and \n",
    "# add column index for the row-major order.\n",
    "def linearize_rowmajor(i, j, m, n): # calculate `v`\n",
    "    \"\"\"\n",
    "    Returns the linear index for the `(i, j)` entry of\n",
    "    an `m`-by-`n` matrix stored in row-major order.\n",
    "    \"\"\"\n",
    "    return i*n + j"
   ]
  },
  {
   "cell_type": "code",
   "execution_count": 24,
   "id": "2fec8e1b-8ff3-4096-a92f-e6e651c1e6b9",
   "metadata": {},
   "outputs": [],
   "source": [
    "# scales each column in matrix A,  A(:, j) by  j\n",
    "def scale_colwise(A):\n",
    "    \"\"\"Given a Numpy matrix `A`, visits each column `A[:, j]`\n",
    "    and scales it by `j`.\"\"\"\n",
    "    assert type(A) is np.ndarray\n",
    "    \n",
    "    n_cols = A.shape[1] # number of columns\n",
    "    ###\n",
    "    ### YOUR CODE HERE\n",
    "    ###\n",
    "    for j in range(n_cols):\n",
    "        A[:, j] *= j\n",
    "    return A"
   ]
  },
  {
   "cell_type": "code",
   "execution_count": 25,
   "id": "bb611757-b2b9-44c8-83df-ec5998eed287",
   "metadata": {},
   "outputs": [
    {
     "name": "stdout",
     "output_type": "stream",
     "text": [
      "[2.0871421375064965, -0.25541972743089897, 0.1416295567009787, 0.15729245300412714]\n",
      "[-0.5998696164659403, -1.3531482620992445]\n"
     ]
    }
   ],
   "source": [
    "# Generate random values, for use in populating the matrix and vector\n",
    "n = 2\n",
    "from random import gauss\n",
    "\n",
    "# Native Python, using lists\n",
    "A_py = [gauss(0, 1) for i in range(n*n)] # Assume: Column-major\n",
    "x_py = [gauss(0, 1) for i in range(n)]\n",
    "print(A_py)\n",
    "print(x_py)"
   ]
  },
  {
   "cell_type": "code",
   "execution_count": 26,
   "id": "068ee56f-d474-46b3-982a-ff5d1a25f60f",
   "metadata": {},
   "outputs": [
    {
     "name": "stdout",
     "output_type": "stream",
     "text": [
      "[[ 2.08714214 -0.25541973]\n",
      " [ 0.14162956  0.15729245]]\n",
      "\n",
      "[[ 2.08714214  0.14162956]\n",
      " [-0.25541973  0.15729245]]\n",
      "\n",
      "[[-0.59986962]\n",
      " [-1.35314826]]\n"
     ]
    }
   ],
   "source": [
    "# Convert values into Numpy arrays in column-major order\n",
    "A_np = np.reshape(A_py, (n, n), order='C') # row-major order\n",
    "B_np = np.reshape(A_py, (n, n), order='F') # column-major order\n",
    "x_np = np.reshape(x_py, (n, 1), order='F')\n",
    "print(A_np)\n",
    "print()\n",
    "print(B_np)\n",
    "print()\n",
    "print(x_np)"
   ]
  },
  {
   "cell_type": "code",
   "execution_count": 27,
   "id": "948bacaf-ead6-41f8-b072-6e8c7ff61863",
   "metadata": {},
   "outputs": [],
   "source": [
    "# Matrix-vector multiply\n",
    "mat_vec_multiply = A_np.dot(x_np)\n",
    "\n",
    "def matvec_py(m, n, A, x):\n",
    "    \"\"\"\n",
    "    Native Python-based matrix-vector multiply, using lists.\n",
    "    The dimensions of the matrix A are m-by-n, and x is a\n",
    "    vector of length n.\n",
    "    \"\"\"\n",
    "    assert type(A) is list and all([type(aij) is float for aij in A])\n",
    "    assert type(x) is list\n",
    "    assert len(x) >= n\n",
    "    assert len(A) >= (m*n)\n",
    "\n",
    "    y = [0.] * m\n",
    "    A_np = np.reshape(A, (m, n), order = 'F')\n",
    "    x_np = np.reshape(x, (n, 1), order = 'F')\n",
    "    y = A_np.dot(x_np)\n",
    "    return y"
   ]
  },
  {
   "cell_type": "code",
   "execution_count": null,
   "id": "efec9b3e-f5e7-4e23-bfc7-33a889df6f53",
   "metadata": {},
   "outputs": [],
   "source": []
  },
  {
   "cell_type": "code",
   "execution_count": null,
   "id": "a6521c6f-859b-4711-8962-ed16a2b4db5c",
   "metadata": {},
   "outputs": [],
   "source": []
  },
  {
   "cell_type": "code",
   "execution_count": null,
   "id": "62b24786-e2f9-4c35-96e7-623c46b2f84e",
   "metadata": {},
   "outputs": [],
   "source": []
  }
 ],
 "metadata": {
  "kernelspec": {
   "display_name": "Python 3 (ipykernel)",
   "language": "python",
   "name": "python3"
  },
  "language_info": {
   "codemirror_mode": {
    "name": "ipython",
    "version": 3
   },
   "file_extension": ".py",
   "mimetype": "text/x-python",
   "name": "python",
   "nbconvert_exporter": "python",
   "pygments_lexer": "ipython3",
   "version": "3.8.13"
  }
 },
 "nbformat": 4,
 "nbformat_minor": 5
}
