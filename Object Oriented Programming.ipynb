{
 "cells": [
  {
   "cell_type": "markdown",
   "id": "8aeff930-5bb8-44b0-9850-c9b3aa7c3558",
   "metadata": {},
   "source": [
    "# Object Oriented Programming Challenge"
   ]
  },
  {
   "cell_type": "markdown",
   "id": "c1cbe8d3-c39c-4a14-b9c2-4b5637baf797",
   "metadata": {},
   "source": [
    "You have decided to use your programming knowledge to create a new robotics company. Your idea for micro driving robots which are able to pick up and deliver objects was promising and now you want to start programming the logic."
   ]
  },
  {
   "cell_type": "markdown",
   "id": "302960b7-fe3c-4471-9e5a-1faea4b705e9",
   "metadata": {},
   "source": [
    "#### Setting Up our Robot\n",
    "Create a python class called DriveBot. Within this class, create instance variables for motor_speed, sensor_range, and direction. All of these should be initialized to 0 by default. After setting up the class, create an object from the class called robot_1. Set the motor_speed to 5, the direction to 90, and the sensor_range to 10. "
   ]
  },
  {
   "cell_type": "code",
   "execution_count": 1,
   "id": "61833661-92b0-4d06-8494-d6c342d320be",
   "metadata": {},
   "outputs": [
    {
     "name": "stdout",
     "output_type": "stream",
     "text": [
      "5\n",
      "90\n",
      "10\n"
     ]
    }
   ],
   "source": [
    "# Define the DriveBot class here!\n",
    "class DriveBot: # python class\n",
    "    def __init__(self): # instance variables\n",
    "        self.motor_speed = 0\n",
    "        self.sensor_range = 0\n",
    "        self.direction = 0\n",
    "\n",
    "robot_1 = DriveBot() # class object\n",
    "robot_1.motor_speed = 5\n",
    "robot_1.direction = 90\n",
    "robot_1.sensor_range = 10\n",
    "print(robot_1.motor_speed)\n",
    "print(robot_1.direction)\n",
    "print(robot_1.sensor_range)"
   ]
  },
  {
   "cell_type": "markdown",
   "id": "b16a3c36-4619-4a57-aa81-34feee917a23",
   "metadata": {},
   "source": [
    "#### Adding Robot Logic\n",
    "In the `DriveBot` class, add a method called `control_bot` which accepts parameters: `new_speed` and `new_direction`. These should replace the associated instance variables. Create another method called `adjust_sensor` which accepts a parameter called `new_sensor_range` which replaces the `sensor_range` instance variable. Afterwards, use these methods to rotate the robot `180` degrees at `10` miles per hour with a sensor range of `20` feet. "
   ]
  },
  {
   "cell_type": "code",
   "execution_count": 2,
   "id": "891369b0-0eba-44c6-95a8-5a1cb40c558f",
   "metadata": {},
   "outputs": [
    {
     "name": "stdout",
     "output_type": "stream",
     "text": [
      "10\n",
      "180\n",
      "20\n"
     ]
    }
   ],
   "source": [
    "class DriveBot:\n",
    "    def __init__(self):\n",
    "        self.motor_speed = 0\n",
    "        self.direction = 0\n",
    "        self.sensor_range = 0\n",
    "    \n",
    "    # Add the methods here!\n",
    "    def control_bot(self, new_speed, new_direction):\n",
    "        self.motor_speed =new_speed\n",
    "        self.direction = new_direction\n",
    "\n",
    "    def adjust_sensor(self, new_sensor_range):\n",
    "        self.sensor_range = new_sensor_range\n",
    "\n",
    "robot_1 = DriveBot() # class object*\n",
    "# Use the methods here!\n",
    "robot_1.motor_speed = 10\n",
    "robot_1.direction = 180\n",
    "robot_1.sensor_range = 20\n",
    "print(robot_1.motor_speed)\n",
    "print(robot_1.direction)\n",
    "print(robot_1.sensor_range)"
   ]
  },
  {
   "cell_type": "markdown",
   "id": "d8cbaa79-681a-4b34-98f6-95114771eb86",
   "metadata": {},
   "source": [
    "#### Enhanced Constructor\n",
    "Upgrade the constructor in the `DriveBot` class in order to accept three optional parameters. The constructor can accept `motor_speed` (which defaults to 0 if not provided), direction (which defaults to `180` if not provided, and `sensor_range` (which defaults to `10` if not provided). These parameters should replace the associated instance variables. Test out the upgraded constructor by initializing a new robot called `robot_2` with a speed of `35`, a direction of `75`, and a sensor range of 25."
   ]
  },
  {
   "cell_type": "code",
   "execution_count": 3,
   "id": "5cfdc40a-974e-4e69-8e44-0eaa99264912",
   "metadata": {},
   "outputs": [
    {
     "name": "stdout",
     "output_type": "stream",
     "text": [
      "35\n",
      "75\n",
      "25\n"
     ]
    }
   ],
   "source": [
    "class DriveBot:\n",
    "    # Update this constructor!\n",
    "    def __init__(self, motor_speed = 0, direction = 180, sensor_range =10):\n",
    "        self.motor_speed = motor_speed\n",
    "        self.direction = direction\n",
    "        self.sensor_range = sensor_range\n",
    "    \n",
    "    def control_bot(self, new_speed, new_direction):\n",
    "        self.motor_speed = new_speed\n",
    "        self.direction = new_direction\n",
    "\n",
    "    def adjust_sensor(self, new_sensor_range):\n",
    "        self.sensor_range = new_sensor_range\n",
    "\n",
    "robot_1 = DriveBot()\n",
    "robot_1.motor_speed = 5\n",
    "robot_1.direction = 90\n",
    "robot_1.sensor_range = 10\n",
    "\n",
    "# Create robot_2 here!\n",
    "robot_2 = DriveBot()\n",
    "robot_2.motor_speed = 35\n",
    "robot_2.direction = 75\n",
    "robot_2.sensor_range = 25\n",
    "print(robot_2.motor_speed)\n",
    "print(robot_2.direction)\n",
    "print(robot_2.sensor_range)"
   ]
  },
  {
   "cell_type": "markdown",
   "id": "03def395-6e36-42d0-bf77-602aa43ac788",
   "metadata": {},
   "source": [
    "#### Controlling Them All\n",
    "Create a class variable called `all_disabled` which is set to `False`. Next, create two more class variables called `latitude` and `longitude`. Set both of those variables to equal `-999999`. A third robot has been created below the first two robots. Set the latitude of all of the robots to -50.0 at once. Additionally, set the longitude of the robots to `50.0` and set `all_disabled` to `True`."
   ]
  },
  {
   "cell_type": "code",
   "execution_count": 4,
   "id": "205f763d-b6db-4de7-a4bb-1c19acf9ddc3",
   "metadata": {},
   "outputs": [
    {
     "name": "stdout",
     "output_type": "stream",
     "text": [
      "-50\n",
      "50\n",
      "True\n"
     ]
    }
   ],
   "source": [
    "class DriveBot:\n",
    "    # Create the class variables!\n",
    "    all_disabled = False\n",
    "    latitude = -999999\n",
    "    longitude = -999999\n",
    "  \n",
    "    def __init__(self, motor_speed = 0, direction = 180, sensor_range = 10):\n",
    "        self.motor_speed = motor_speed\n",
    "        self.direction = direction\n",
    "        self.sensor_range = sensor_range\n",
    "    \n",
    "    def control_bot(self, new_speed, new_direction):\n",
    "        self.motor_speed = new_speed\n",
    "        self.direction = new_direction\n",
    "\n",
    "    def adjust_sensor(self, new_sensor_range):\n",
    "        self.sensor_range = new_sensor_range\n",
    "\n",
    "robot_1 = DriveBot()\n",
    "robot_1.motor_speed = 5\n",
    "robot_1.direction = 90\n",
    "robot_1.sensor_range = 10\n",
    "\n",
    "robot_2 = DriveBot(35, 75, 25)\n",
    "robot_3 = DriveBot(20, 60, 10)\n",
    "\n",
    "# Change the latitude, longitude, and all_disabled values for all three robots using only three lines of code!\n",
    "DriveBot.all_disabled = True\n",
    "DriveBot.latitude =-50\n",
    "DriveBot.longitude =50\n",
    "print(robot_1.latitude)\n",
    "print(robot_2.longitude)\n",
    "print(robot_3.all_disabled)\n"
   ]
  },
  {
   "cell_type": "markdown",
   "id": "550fe87a-0148-4976-b873-d8d54ecf17e3",
   "metadata": {},
   "source": [
    "#### Identifying Robots\n",
    "Within the `DriveBot` class, create an instance variable called `id` which will be assigned to the robot when the object is created. Every time a robot is created, increment a counter (stored as a class variable) so that the next robot will have a different id. For example, if three robots were created: `first_robot`, `next_robot`, and `last_robot`; first_robot will have an `id` of `1` `next_robot` will have an `id` of `2` and `last_robot` will have an id of `3`."
   ]
  },
  {
   "cell_type": "code",
   "execution_count": 5,
   "id": "cdabf687-9d22-47ad-9fd0-9af6ca1ec7f2",
   "metadata": {},
   "outputs": [],
   "source": [
    "class DriveBot:\n",
    "    all_disabled = False\n",
    "    latitude = -999999\n",
    "    longitude = -999999\n",
    "    robot_count = 0\n",
    " \n",
    "    def __init__(self, motor_speed = 0, direction = 180, sensor_range = 10):\n",
    "        self.motor_speed = motor_speed\n",
    "        self.direction = direction\n",
    "        self.sensor_range = sensor_range\n",
    "        DriveBot.robot_count += 1\n",
    "        self.id = DriveBot.robot_count\n",
    " \n",
    "    def control_bot(self, new_speed, new_direction):\n",
    "        self.motor_speed = new_speed\n",
    "        self.direction = new_direction\n",
    " \n",
    "    def adjust_sensor(self, new_sensor_range):\n",
    "        self.sensor_range = new_sensor_range"
   ]
  }
 ],
 "metadata": {
  "kernelspec": {
   "display_name": "Python 3 (ipykernel)",
   "language": "python",
   "name": "python3"
  },
  "language_info": {
   "codemirror_mode": {
    "name": "ipython",
    "version": 3
   },
   "file_extension": ".py",
   "mimetype": "text/x-python",
   "name": "python",
   "nbconvert_exporter": "python",
   "pygments_lexer": "ipython3",
   "version": "3.8.13"
  }
 },
 "nbformat": 4,
 "nbformat_minor": 5
}
